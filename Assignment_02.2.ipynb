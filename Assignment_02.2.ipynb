{
    "metadata": {
        "kernelspec": {
            "name": "SQL",
            "display_name": "SQL",
            "language": "sql"
        },
        "language_info": {
            "name": "sql",
            "version": ""
        }
    },
    "nbformat_minor": 2,
    "nbformat": 4,
    "cells": [
        {
            "cell_type": "code",
            "source": [
                "create schema \"dsci_504\""
            ],
            "metadata": {
                "azdata_cell_guid": "306c92be-37ba-481a-ac87-d3a6168208a1",
                "language": "sql"
            },
            "outputs": [
                {
                    "output_type": "error",
                    "ename": "",
                    "evalue": "schema \"dsci_504\" already exists",
                    "traceback": []
                },
                {
                    "output_type": "display_data",
                    "data": {
                        "text/html": "Total execution time: 00:00:00"
                    },
                    "metadata": {}
                }
            ],
            "execution_count": 149
        },
        {
            "cell_type": "markdown",
            "source": [
                "# 2. Build database tables\r\n",
                ""
            ],
            "metadata": {
                "azdata_cell_guid": "59a336a9-fec6-4249-8873-9b078db20591"
            },
            "attachments": {}
        },
        {
            "cell_type": "code",
            "source": [
                "CREATE TABLE dsci_504.builds (\r\n",
                "    build_id SMALLINT PRIMARY KEY,\r\n",
                "    comp_hbar VARCHAR(50),\r\n",
                "    comp_brake VARCHAR(50),\r\n",
                "    comp_wheels VARCHAR(50),\r\n",
                "    comp_fork VARCHAR(50),\r\n",
                "    comp_shock VARCHAR(50),\r\n",
                "    comp_shifter VARCHAR(50),\r\n",
                "    comp_cassette VARCHAR(50),\r\n",
                "    comp_derail VARCHAR(50),\r\n",
                "    comp_dropper VARCHAR(50),\r\n",
                "    comp_crank VARCHAR(50),\r\n",
                "    comp_chain_ring VARCHAR(50),\r\n",
                "    build_name VARCHAR(25)\r\n",
                ");\r\n",
                ""
            ],
            "metadata": {
                "azdata_cell_guid": "f2f1736f-d82d-4584-8025-26548fa5bd6f",
                "language": "sql"
            },
            "outputs": [
                {
                    "output_type": "error",
                    "ename": "",
                    "evalue": "relation \"builds\" already exists",
                    "traceback": []
                },
                {
                    "output_type": "display_data",
                    "data": {
                        "text/html": "Total execution time: 00:00:00.001"
                    },
                    "metadata": {}
                }
            ],
            "execution_count": 21
        },
        {
            "cell_type": "code",
            "source": [
                "ALTER TABLE builds ADD PRIMARY KEY (build_id);\r\n",
                "\r\n",
                "-- Validate the primary key\r\n",
                "SELECT con.*\r\n",
                "FROM pg_catalog.pg_constraint con\r\n",
                "INNER JOIN pg_catalog.pg_class rel ON rel.oid = con.conrelid\r\n",
                "INNER JOIN pg_catalog.pg_namespace nsp ON nsp.oid = rel.relnamespace\r\n",
                "WHERE nsp.nspname = 'dsci_504' AND rel.relname = 'builds';\r\n",
                ""
            ],
            "metadata": {
                "language": "sql",
                "azdata_cell_guid": "8a760ec4-8156-400a-adaa-83d6fe1b5e7a"
            },
            "outputs": [
                {
                    "output_type": "error",
                    "ename": "",
                    "evalue": "multiple primary keys for table \"builds\" are not allowed",
                    "traceback": []
                },
                {
                    "output_type": "display_data",
                    "data": {
                        "text/html": "Total execution time: 00:00:00.001"
                    },
                    "metadata": {}
                }
            ],
            "execution_count": 23
        },
        {
            "cell_type": "code",
            "source": [
                "CREATE TABLE components (\r\n",
                "    comp_id INTEGER PRIMARY KEY,\r\n",
                "    comp_name VARCHAR(35),\r\n",
                "    comp_cost NUMERIC,\r\n",
                "    comp_supplier INTEGER,\r\n",
                "    comp_cat VARCHAR(25),\r\n",
                "    sup_id INTEGER\r\n",
                ");\r\n",
                ""
            ],
            "metadata": {
                "language": "sql",
                "azdata_cell_guid": "670d3237-57bc-4d38-af36-e7f99909d9b2"
            },
            "outputs": [
                {
                    "output_type": "error",
                    "ename": "",
                    "evalue": "relation \"components\" already exists",
                    "traceback": []
                },
                {
                    "output_type": "display_data",
                    "data": {
                        "text/html": "Total execution time: 00:00:00"
                    },
                    "metadata": {}
                }
            ],
            "execution_count": 24
        },
        {
            "cell_type": "code",
            "source": [
                "ALTER TABLE components ADD PRIMARY KEY (comp_id);\r\n",
                "\r\n",
                "-- Validate the primary key\r\n",
                "SELECT con.*\r\n",
                "FROM pg_catalog.pg_constraint con\r\n",
                "INNER JOIN pg_catalog.pg_class rel ON rel.oid = con.conrelid\r\n",
                "INNER JOIN pg_catalog.pg_namespace nsp ON nsp.oid = rel.relnamespace\r\n",
                "WHERE nsp.nspname = 'dsci_504' AND rel.relname = 'components';\r\n",
                ""
            ],
            "metadata": {
                "language": "sql",
                "azdata_cell_guid": "75307f7a-0364-4d66-b386-9c7d08d35e3f"
            },
            "outputs": [
                {
                    "output_type": "error",
                    "ename": "",
                    "evalue": "multiple primary keys for table \"components\" are not allowed",
                    "traceback": []
                },
                {
                    "output_type": "display_data",
                    "data": {
                        "text/html": "Total execution time: 00:00:00"
                    },
                    "metadata": {}
                }
            ],
            "execution_count": 25
        },
        {
            "cell_type": "code",
            "source": [
                "CREATE TABLE customers (\r\n",
                "    cus_id INTEGER PRIMARY KEY,\r\n",
                "    cus_num VARCHAR(25),\r\n",
                "    cus_last_name VARCHAR(50),\r\n",
                "    cus_first_name VARCHAR(50),\r\n",
                "    cus_add_num BIGINT,\r\n",
                "    cus_address VARCHAR(100),\r\n",
                "    cus_city VARCHAR(50),\r\n",
                "    cus_state SMALLINT,\r\n",
                "    cus_zip BIGINT,\r\n",
                "    cus_phone BIGINT,\r\n",
                "    cus_join_date DATE,\r\n",
                "    cus_app_cd SMALLINT,\r\n",
                "    cus_app_num VARCHAR(30),\r\n",
                "    tot_ord_qty SMALLINT,\r\n",
                "    tot_ord_value NUMERIC\r\n",
                ");\r\n",
                ""
            ],
            "metadata": {
                "language": "sql",
                "azdata_cell_guid": "4ce6e8d6-7de9-459c-8e04-214711cdb6b4"
            },
            "outputs": [
                {
                    "output_type": "error",
                    "ename": "",
                    "evalue": "relation \"customers\" already exists",
                    "traceback": []
                },
                {
                    "output_type": "display_data",
                    "data": {
                        "text/html": "Total execution time: 00:00:00"
                    },
                    "metadata": {}
                }
            ],
            "execution_count": 26
        },
        {
            "cell_type": "code",
            "source": [
                "ALTER TABLE customers ADD PRIMARY KEY (cus_id);\r\n",
                "\r\n",
                "-- Validate the primary key\r\n",
                "SELECT con.*\r\n",
                "FROM pg_catalog.pg_constraint con\r\n",
                "INNER JOIN pg_catalog.pg_class rel ON rel.oid = con.conrelid\r\n",
                "INNER JOIN pg_catalog.pg_namespace nsp ON nsp.oid = rel.relnamespace\r\n",
                "WHERE nsp.nspname = 'dsci_504' AND rel.relname = 'customers';\r\n",
                ""
            ],
            "metadata": {
                "language": "sql",
                "azdata_cell_guid": "62029c11-9be5-4753-94d0-46bdc5bf5b11"
            },
            "outputs": [
                {
                    "output_type": "error",
                    "ename": "",
                    "evalue": "multiple primary keys for table \"customers\" are not allowed",
                    "traceback": []
                },
                {
                    "output_type": "display_data",
                    "data": {
                        "text/html": "Total execution time: 00:00:00"
                    },
                    "metadata": {}
                }
            ],
            "execution_count": 27
        },
        {
            "cell_type": "code",
            "source": [
                "CREATE TABLE customerwarehouseorders (\r\n",
                "    cus_id INTEGER REFERENCES customers(cus_id),\r\n",
                "    warehouse_id INTEGER,\r\n",
                "    ord_id INTEGER,\r\n",
                "    PRIMARY KEY (cus_id, warehouse_id, ord_id)\r\n",
                ");\r\n",
                ""
            ],
            "metadata": {
                "language": "sql",
                "azdata_cell_guid": "ff19380c-b4e2-4be8-9ce8-9f1c7e7b5c30"
            },
            "outputs": [
                {
                    "output_type": "error",
                    "ename": "",
                    "evalue": "relation \"customerwarehouseorders\" already exists",
                    "traceback": []
                },
                {
                    "output_type": "display_data",
                    "data": {
                        "text/html": "Total execution time: 00:00:00"
                    },
                    "metadata": {}
                }
            ],
            "execution_count": 28
        },
        {
            "cell_type": "code",
            "source": [
                "-- Primary key for 'customerwarehouseorders' if needed (use appropriate columns)\r\n",
                "ALTER TABLE customerwarehouseorders ADD PRIMARY KEY (cus_id, warehouse_id, ord_id);\r\n",
                "\r\n",
                "-- Validate the primary key\r\n",
                "SELECT con.*\r\n",
                "FROM pg_catalog.pg_constraint con\r\n",
                "INNER JOIN pg_catalog.pg_class rel ON rel.oid = con.conrelid\r\n",
                "INNER JOIN pg_catalog.pg_namespace nsp ON nsp.oid = rel.relnamespace\r\n",
                "WHERE nsp.nspname = 'dsci_504' AND rel.relname = 'customerwarehouseorders';\r\n",
                ""
            ],
            "metadata": {
                "language": "sql",
                "azdata_cell_guid": "81c3e8cc-e044-4378-a028-0b52375c7e6e"
            },
            "outputs": [
                {
                    "output_type": "error",
                    "ename": "",
                    "evalue": "multiple primary keys for table \"customerwarehouseorders\" are not allowed",
                    "traceback": []
                },
                {
                    "output_type": "display_data",
                    "data": {
                        "text/html": "Total execution time: 00:00:00"
                    },
                    "metadata": {}
                }
            ],
            "execution_count": 29
        },
        {
            "cell_type": "code",
            "source": [
                "CREATE TABLE customerwarehousereturns (\r\n",
                "    cus_id INTEGER REFERENCES customers(cus_id),\r\n",
                "    warehouse_id INTEGER,\r\n",
                "    ord_id INTEGER,\r\n",
                "    rac_id INTEGER,\r\n",
                "    PRIMARY KEY (cus_id, warehouse_id, ord_id)\r\n",
                ");\r\n",
                ""
            ],
            "metadata": {
                "language": "sql",
                "azdata_cell_guid": "a17b0147-c93d-4db6-9848-b7bd0214f462"
            },
            "outputs": [
                {
                    "output_type": "error",
                    "ename": "",
                    "evalue": "relation \"customerwarehousereturns\" already exists",
                    "traceback": []
                },
                {
                    "output_type": "display_data",
                    "data": {
                        "text/html": "Total execution time: 00:00:00"
                    },
                    "metadata": {}
                }
            ],
            "execution_count": 30
        },
        {
            "cell_type": "code",
            "source": [
                "-- Primary key for 'customerwarehousereturns'\r\n",
                "ALTER TABLE customerwarehousereturns ADD PRIMARY KEY (cus_id, warehouse_id, ord_id, rac_id);\r\n",
                "\r\n",
                "-- Validate the primary key\r\n",
                "SELECT con.*\r\n",
                "FROM pg_catalog.pg_constraint con\r\n",
                "INNER JOIN pg_catalog.pg_class rel ON rel.oid = con.conrelid\r\n",
                "INNER JOIN pg_catalog.pg_namespace nsp ON nsp.oid = rel.relnamespace\r\n",
                "WHERE nsp.nspname = 'dsci_504' AND rel.relname = 'customerwarehousereturns';\r\n",
                ""
            ],
            "metadata": {
                "language": "sql",
                "azdata_cell_guid": "6bfeefe0-e413-4326-b8d6-de67bfb47d58"
            },
            "outputs": [
                {
                    "output_type": "error",
                    "ename": "",
                    "evalue": "multiple primary keys for table \"customerwarehousereturns\" are not allowed",
                    "traceback": []
                },
                {
                    "output_type": "display_data",
                    "data": {
                        "text/html": "Total execution time: 00:00:00.001"
                    },
                    "metadata": {}
                }
            ],
            "execution_count": 31
        },
        {
            "cell_type": "code",
            "source": [
                "CREATE TABLE orders (\r\n",
                "    ord_id INTEGER PRIMARY KEY,\r\n",
                "    ord_date DATE,\r\n",
                "    ord_tax_loc CHAR(2),\r\n",
                "    order_tot NUMERIC,\r\n",
                "    ord_ship_add TEXT,\r\n",
                "    ord_ship_date DATE,\r\n",
                "    ord_track_num CHAR(16),\r\n",
                "    prod_id INTEGER,\r\n",
                "    warehouse_id INTEGER,\r\n",
                "    cus_id INTEGER\r\n",
                ");\r\n",
                ""
            ],
            "metadata": {
                "language": "sql",
                "azdata_cell_guid": "6b4086d7-be5b-4882-b7ba-6e947384cf19"
            },
            "outputs": [
                {
                    "output_type": "error",
                    "ename": "",
                    "evalue": "relation \"orders\" already exists",
                    "traceback": []
                },
                {
                    "output_type": "display_data",
                    "data": {
                        "text/html": "Total execution time: 00:00:00.001"
                    },
                    "metadata": {}
                }
            ],
            "execution_count": 32
        },
        {
            "cell_type": "code",
            "source": [
                "ALTER TABLE orders ADD PRIMARY KEY (ord_id);\r\n",
                "\r\n",
                "-- Validate the primary key\r\n",
                "SELECT con.*\r\n",
                "FROM pg_catalog.pg_constraint con\r\n",
                "INNER JOIN pg_catalog.pg_class rel ON rel.oid = con.conrelid\r\n",
                "INNER JOIN pg_catalog.pg_namespace nsp ON nsp.oid = rel.relnamespace\r\n",
                "WHERE nsp.nspname = 'dsci_504' AND rel.relname = 'orders';\r\n",
                ""
            ],
            "metadata": {
                "language": "sql",
                "azdata_cell_guid": "3bcee8b8-cc41-44d4-a9f2-2c7ef69f7c4f"
            },
            "outputs": [
                {
                    "output_type": "error",
                    "ename": "",
                    "evalue": "multiple primary keys for table \"orders\" are not allowed",
                    "traceback": []
                },
                {
                    "output_type": "display_data",
                    "data": {
                        "text/html": "Total execution time: 00:00:00.004"
                    },
                    "metadata": {}
                }
            ],
            "execution_count": 1
        },
        {
            "cell_type": "code",
            "source": [
                "CREATE TABLE ordertaxes (\r\n",
                "    ord_id INTEGER REFERENCES orders(ord_id),\r\n",
                "    ord_date DATE,\r\n",
                "    tax_rate NUMERIC,\r\n",
                "    PRIMARY KEY (ord_id, ord_date)\r\n",
                ");\r\n",
                ""
            ],
            "metadata": {
                "language": "sql",
                "azdata_cell_guid": "480d42d9-94fc-4a8b-b84b-44398bc3d966"
            },
            "outputs": [
                {
                    "output_type": "error",
                    "ename": "",
                    "evalue": "relation \"ordertaxes\" already exists",
                    "traceback": []
                },
                {
                    "output_type": "display_data",
                    "data": {
                        "text/html": "Total execution time: 00:00:00"
                    },
                    "metadata": {}
                }
            ],
            "execution_count": 34
        },
        {
            "cell_type": "code",
            "source": [
                "-- Primary key for 'ordertaxes'\r\n",
                "ALTER TABLE ordertaxes ADD PRIMARY KEY (ord_id, ord_date);\r\n",
                "\r\n",
                "-- Validate the primary key\r\n",
                "SELECT con.*\r\n",
                "FROM pg_catalog.pg_constraint con\r\n",
                "INNER JOIN pg_catalog.pg_class rel ON rel.oid = con.conrelid\r\n",
                "INNER JOIN pg_catalog.pg_namespace nsp ON nsp.oid = rel.relnamespace\r\n",
                "WHERE nsp.nspname = 'dsci_504' AND rel.relname = 'ordertaxes';\r\n",
                ""
            ],
            "metadata": {
                "language": "sql",
                "azdata_cell_guid": "8051bed0-38f6-40fa-9efd-89cc2f28d7f4"
            },
            "outputs": [
                {
                    "output_type": "error",
                    "ename": "",
                    "evalue": "multiple primary keys for table \"ordertaxes\" are not allowed",
                    "traceback": []
                },
                {
                    "output_type": "display_data",
                    "data": {
                        "text/html": "Total execution time: 00:00:00"
                    },
                    "metadata": {}
                }
            ],
            "execution_count": 4
        },
        {
            "cell_type": "code",
            "source": [
                "INSERT INTO ordertaxes (ord_id, ord_date, tax_rate)\r\n",
                "VALUES (4409334, 'order_date_here', tax_rate_here);\r\n",
                "\r\n",
                ""
            ],
            "metadata": {
                "language": "sql",
                "azdata_cell_guid": "fc141d49-081c-4577-aae9-810a3a373396"
            },
            "outputs": [
                {
                    "output_type": "error",
                    "ename": "",
                    "evalue": "column \"tax_rate_here\" does not exist",
                    "traceback": []
                },
                {
                    "output_type": "display_data",
                    "data": {
                        "text/html": "Total execution time: 00:00:00"
                    },
                    "metadata": {}
                }
            ],
            "execution_count": 6
        },
        {
            "cell_type": "code",
            "source": [
                "CREATE TABLE productbuilds (\r\n",
                "    prod_id INTEGER,\r\n",
                "    build_id INTEGER,\r\n",
                "    PRIMARY KEY (prod_id, build_id)\r\n",
                ");\r\n",
                ""
            ],
            "metadata": {
                "language": "sql",
                "azdata_cell_guid": "0d47a14b-8ce3-4b1b-9294-8357afc90242"
            },
            "outputs": [
                {
                    "output_type": "error",
                    "ename": "",
                    "evalue": "relation \"productbuilds\" already exists",
                    "traceback": []
                },
                {
                    "output_type": "display_data",
                    "data": {
                        "text/html": "Total execution time: 00:00:00"
                    },
                    "metadata": {}
                }
            ],
            "execution_count": 142
        },
        {
            "cell_type": "code",
            "source": [
                "-- Primary key for 'productbuilds'\r\n",
                "ALTER TABLE productbuilds ADD PRIMARY KEY (prod_id, build_id);\r\n",
                "\r\n",
                "-- Validate the primary key\r\n",
                "SELECT con.*\r\n",
                "FROM pg_catalog.pg_constraint con\r\n",
                "INNER JOIN pg_catalog.pg_class rel ON rel.oid = con.conrelid\r\n",
                "INNER JOIN pg_catalog.pg_namespace nsp ON nsp.oid = rel.relnamespace\r\n",
                "WHERE nsp.nspname = 'dsci_504' AND rel.relname = 'productbuilds';\r\n",
                ""
            ],
            "metadata": {
                "language": "sql",
                "azdata_cell_guid": "97ebfd77-fde4-494f-8ba9-44b64f142ac4"
            },
            "outputs": [
                {
                    "output_type": "error",
                    "ename": "",
                    "evalue": "multiple primary keys for table \"productbuilds\" are not allowed",
                    "traceback": []
                },
                {
                    "output_type": "display_data",
                    "data": {
                        "text/html": "Total execution time: 00:00:00"
                    },
                    "metadata": {}
                }
            ],
            "execution_count": 36
        },
        {
            "cell_type": "code",
            "source": [
                "CREATE TABLE products (\r\n",
                "    prod_id SMALLINT PRIMARY KEY,\r\n",
                "    prod_cat_name VARCHAR(50),\r\n",
                "    prod_manufacturer VARCHAR(50),\r\n",
                "    prod_name VARCHAR(50),\r\n",
                "    prod_description VARCHAR(50),\r\n",
                "    prod_price NUMERIC,\r\n",
                "    prod_class VARCHAR(25),\r\n",
                "    country_origin VARCHAR(10),\r\n",
                "    sup_id INTEGER\r\n",
                ");\r\n",
                ""
            ],
            "metadata": {
                "language": "sql",
                "azdata_cell_guid": "42241074-843f-46cc-9e49-0a6e5c777566"
            },
            "outputs": [
                {
                    "output_type": "error",
                    "ename": "",
                    "evalue": "relation \"products\" already exists",
                    "traceback": []
                },
                {
                    "output_type": "display_data",
                    "data": {
                        "text/html": "Total execution time: 00:00:00.001"
                    },
                    "metadata": {}
                }
            ],
            "execution_count": 37
        },
        {
            "cell_type": "code",
            "source": [
                "ALTER TABLE products ADD PRIMARY KEY (prod_id);\r\n",
                "\r\n",
                "-- Validate the primary key\r\n",
                "SELECT con.*\r\n",
                "FROM pg_catalog.pg_constraint con\r\n",
                "INNER JOIN pg_catalog.pg_class rel ON rel.oid = con.conrelid\r\n",
                "INNER JOIN pg_catalog.pg_namespace nsp ON nsp.oid = rel.relnamespace\r\n",
                "WHERE nsp.nspname = 'dsci_504' AND rel.relname = 'products';\r\n",
                ""
            ],
            "metadata": {
                "language": "sql",
                "azdata_cell_guid": "393a8d20-b921-4a64-bcec-a2905689391d"
            },
            "outputs": [
                {
                    "output_type": "error",
                    "ename": "",
                    "evalue": "multiple primary keys for table \"products\" are not allowed",
                    "traceback": []
                },
                {
                    "output_type": "display_data",
                    "data": {
                        "text/html": "Total execution time: 00:00:00"
                    },
                    "metadata": {}
                }
            ],
            "execution_count": 38
        },
        {
            "cell_type": "code",
            "source": [
                "CREATE TABLE racs (\r\n",
                "    rac_id SMALLINT PRIMARY KEY,\r\n",
                "    tot_ret_item_cnt SMALLINT,\r\n",
                "    tot_ret_amnt NUMERIC,\r\n",
                "    cus_id SMALLINT,\r\n",
                "    ord_id SMALLINT,\r\n",
                "    warehouse_id SMALLINT,\r\n",
                "    prod_id SMALLINT,\r\n",
                "    comp_id SMALLINT\r\n",
                ");\r\n",
                ""
            ],
            "metadata": {
                "language": "sql",
                "azdata_cell_guid": "f842474a-5275-487c-ae2f-122bf8c897ce"
            },
            "outputs": [
                {
                    "output_type": "error",
                    "ename": "",
                    "evalue": "relation \"racs\" already exists",
                    "traceback": []
                },
                {
                    "output_type": "display_data",
                    "data": {
                        "text/html": "Total execution time: 00:00:00"
                    },
                    "metadata": {}
                }
            ],
            "execution_count": 39
        },
        {
            "cell_type": "code",
            "source": [
                "ALTER TABLE racs ADD PRIMARY KEY (rac_id);\r\n",
                "\r\n",
                "-- Validate the primary key\r\n",
                "SELECT con.*\r\n",
                "FROM pg_catalog.pg_constraint con\r\n",
                "INNER JOIN pg_catalog.pg_class rel ON rel.oid = con.conrelid\r\n",
                "INNER JOIN pg_catalog.pg_namespace nsp ON nsp.oid = rel.relnamespace\r\n",
                "WHERE nsp.nspname = 'dsci_504' AND rel.relname = 'racs';\r\n",
                ""
            ],
            "metadata": {
                "language": "sql",
                "azdata_cell_guid": "3d301cae-6130-4c03-b66b-f65a7da1d352"
            },
            "outputs": [
                {
                    "output_type": "error",
                    "ename": "",
                    "evalue": "multiple primary keys for table \"racs\" are not allowed",
                    "traceback": []
                },
                {
                    "output_type": "display_data",
                    "data": {
                        "text/html": "Total execution time: 00:00:00"
                    },
                    "metadata": {}
                }
            ],
            "execution_count": 40
        },
        {
            "cell_type": "code",
            "source": [
                "CREATE TABLE states (\r\n",
                "    state_id SMALLINT PRIMARY KEY,\r\n",
                "    state VARCHAR(2)\r\n",
                ");\r\n",
                ""
            ],
            "metadata": {
                "language": "sql",
                "azdata_cell_guid": "d3fdc581-a4c5-49eb-a8e2-995ae90f0509"
            },
            "outputs": [
                {
                    "output_type": "error",
                    "ename": "",
                    "evalue": "relation \"states\" already exists",
                    "traceback": []
                },
                {
                    "output_type": "display_data",
                    "data": {
                        "text/html": "Total execution time: 00:00:00.001"
                    },
                    "metadata": {}
                }
            ],
            "execution_count": 41
        },
        {
            "cell_type": "code",
            "source": [
                "ALTER TABLE states ADD PRIMARY KEY (state_id);\r\n",
                "\r\n",
                "-- Validate the primary key\r\n",
                "SELECT con.*\r\n",
                "FROM pg_catalog.pg_constraint con\r\n",
                "INNER JOIN pg_catalog.pg_class rel ON rel.oid = con.conrelid\r\n",
                "INNER JOIN pg_catalog.pg_namespace nsp ON nsp.oid = rel.relnamespace\r\n",
                "WHERE nsp.nspname = 'dsci_504' AND rel.relname = 'states';\r\n",
                ""
            ],
            "metadata": {
                "language": "sql",
                "azdata_cell_guid": "1f16c655-5b1d-4f08-8bcf-23cbed938d53"
            },
            "outputs": [
                {
                    "output_type": "error",
                    "ename": "",
                    "evalue": "multiple primary keys for table \"states\" are not allowed",
                    "traceback": []
                },
                {
                    "output_type": "display_data",
                    "data": {
                        "text/html": "Total execution time: 00:00:00.001"
                    },
                    "metadata": {}
                }
            ],
            "execution_count": 42
        },
        {
            "cell_type": "code",
            "source": [
                "CREATE TABLE suppliers (\r\n",
                "    sup_id INTEGER PRIMARY KEY,\r\n",
                "    sup_name VARCHAR(35),\r\n",
                "    sup_ctry VARCHAR(30)\r\n",
                ");\r\n",
                ""
            ],
            "metadata": {
                "language": "sql",
                "azdata_cell_guid": "825542a4-93c0-410b-82c4-b10bd365dc59"
            },
            "outputs": [
                {
                    "output_type": "error",
                    "ename": "",
                    "evalue": "relation \"suppliers\" already exists",
                    "traceback": []
                },
                {
                    "output_type": "display_data",
                    "data": {
                        "text/html": "Total execution time: 00:00:00"
                    },
                    "metadata": {}
                }
            ],
            "execution_count": 43
        },
        {
            "cell_type": "code",
            "source": [
                "ALTER TABLE suppliers ADD PRIMARY KEY (sup_id);\r\n",
                "\r\n",
                "-- Validate the primary key\r\n",
                "SELECT con.*\r\n",
                "FROM pg_catalog.pg_constraint con\r\n",
                "INNER JOIN pg_catalog.pg_class rel ON rel.oid = con.conrelid\r\n",
                "INNER JOIN pg_catalog.pg_namespace nsp ON nsp.oid = rel.relnamespace\r\n",
                "WHERE nsp.nspname = 'dsci_504' AND rel.relname = 'suppliers';\r\n",
                ""
            ],
            "metadata": {
                "language": "sql",
                "azdata_cell_guid": "e220dbe8-8e93-46aa-8212-e07bee05de58"
            },
            "outputs": [
                {
                    "output_type": "error",
                    "ename": "",
                    "evalue": "multiple primary keys for table \"suppliers\" are not allowed",
                    "traceback": []
                },
                {
                    "output_type": "display_data",
                    "data": {
                        "text/html": "Total execution time: 00:00:00"
                    },
                    "metadata": {}
                }
            ],
            "execution_count": 44
        },
        {
            "cell_type": "code",
            "source": [
                "CREATE TABLE taxes (\r\n",
                "    tax_id SMALLINT PRIMARY KEY,\r\n",
                "    tax_location VARCHAR(2),\r\n",
                "    tax_rate NUMERIC\r\n",
                ");\r\n",
                ""
            ],
            "metadata": {
                "language": "sql",
                "azdata_cell_guid": "c78f6849-781e-41d4-8282-bc3c7c060c81"
            },
            "outputs": [
                {
                    "output_type": "error",
                    "ename": "",
                    "evalue": "relation \"taxes\" already exists",
                    "traceback": []
                },
                {
                    "output_type": "display_data",
                    "data": {
                        "text/html": "Total execution time: 00:00:00"
                    },
                    "metadata": {}
                }
            ],
            "execution_count": 45
        },
        {
            "cell_type": "code",
            "source": [
                "ALTER TABLE taxes ADD PRIMARY KEY (tax_id);\r\n",
                "\r\n",
                "-- Validate the primary key\r\n",
                "SELECT con.*\r\n",
                "FROM pg_catalog.pg_constraint con\r\n",
                "INNER JOIN pg_catalog.pg_class rel ON rel.oid = con.conrelid\r\n",
                "INNER JOIN pg_catalog.pg_namespace nsp ON nsp.oid = rel.relnamespace\r\n",
                "WHERE nsp.nspname = 'dsci_504' AND rel.relname = 'taxes';\r\n",
                ""
            ],
            "metadata": {
                "language": "sql",
                "azdata_cell_guid": "a3ceb378-1a4c-4c60-b1bb-221572c2310e"
            },
            "outputs": [
                {
                    "output_type": "error",
                    "ename": "",
                    "evalue": "multiple primary keys for table \"taxes\" are not allowed",
                    "traceback": []
                },
                {
                    "output_type": "display_data",
                    "data": {
                        "text/html": "Total execution time: 00:00:00"
                    },
                    "metadata": {}
                }
            ],
            "execution_count": 46
        },
        {
            "cell_type": "code",
            "source": [
                "CREATE TABLE warehouses (\r\n",
                "    warehouse_id SMALLINT PRIMARY KEY,\r\n",
                "    warehouse_name VARCHAR(25),\r\n",
                "    warehouse_state SMALLINT\r\n",
                ");\r\n",
                ""
            ],
            "metadata": {
                "language": "sql",
                "azdata_cell_guid": "e9183fb4-eaa3-433e-addd-e871ee0ce149"
            },
            "outputs": [
                {
                    "output_type": "error",
                    "ename": "",
                    "evalue": "relation \"warehouses\" already exists",
                    "traceback": []
                },
                {
                    "output_type": "display_data",
                    "data": {
                        "text/html": "Total execution time: 00:00:00"
                    },
                    "metadata": {}
                }
            ],
            "execution_count": 47
        },
        {
            "cell_type": "code",
            "source": [
                "ALTER TABLE warehouses ADD PRIMARY KEY (warehouse_id);\r\n",
                "\r\n",
                "-- Validate the primary key\r\n",
                "SELECT con.*\r\n",
                "FROM pg_catalog.pg_constraint con\r\n",
                "INNER JOIN pg_catalog.pg_class rel ON rel.oid = con.conrelid\r\n",
                "INNER JOIN pg_catalog.pg_namespace nsp ON nsp.oid = rel.relnamespace\r\n",
                "WHERE nsp.nspname = 'dsci_504' AND rel.relname = 'warehouses';\r\n",
                ""
            ],
            "metadata": {
                "language": "sql",
                "azdata_cell_guid": "be4ee3db-c5a1-405d-a284-de0307a82513"
            },
            "outputs": [
                {
                    "output_type": "error",
                    "ename": "",
                    "evalue": "multiple primary keys for table \"warehouses\" are not allowed",
                    "traceback": []
                },
                {
                    "output_type": "display_data",
                    "data": {
                        "text/html": "Total execution time: 00:00:00.001"
                    },
                    "metadata": {}
                }
            ],
            "execution_count": 48
        },
        {
            "cell_type": "markdown",
            "source": [
                "# 3. Import the data into the OPC tables in PostgreSQL."
            ],
            "metadata": {
                "language": "sql",
                "azdata_cell_guid": "d84e9036-f2d1-4878-b3b9-165a1a21d78b"
            },
            "attachments": {}
        },
        {
            "cell_type": "code",
            "source": [
                "COPY builds\r\n",
                "FROM 'C:\\Users\\hp\\Downloads\\builds.csv'\r\n",
                "DELIMITER ',' CSV HEADER;"
            ],
            "metadata": {
                "language": "sql",
                "azdata_cell_guid": "4f3547cd-8216-49e9-8fdb-7c388d9b8b64",
                "tags": []
            },
            "outputs": [
                {
                    "output_type": "error",
                    "ename": "",
                    "evalue": "duplicate key value violates unique constraint \"builds_pkey\"",
                    "traceback": []
                },
                {
                    "output_type": "display_data",
                    "data": {
                        "text/html": "Total execution time: 00:00:00.001"
                    },
                    "metadata": {}
                }
            ],
            "execution_count": 49
        },
        {
            "cell_type": "code",
            "source": [
                "SELECT comp_id FROM components;\r\n",
                ""
            ],
            "metadata": {
                "language": "sql",
                "azdata_cell_guid": "206576ca-0363-435e-b10e-04c3df486c31"
            },
            "outputs": [
                {
                    "output_type": "display_data",
                    "data": {
                        "text/html": "(271 row(s) affected)"
                    },
                    "metadata": {}
                },
                {
                    "output_type": "display_data",
                    "data": {
                        "text/html": "Total execution time: 00:00:00.004"
                    },
                    "metadata": {}
                },
                {
                    "output_type": "execute_result",
                    "execution_count": 117,
                    "data": {
                        "application/vnd.dataresource+json": {
                            "schema": {
                                "fields": [
                                    {
                                        "name": "comp_id"
                                    }
                                ]
                            },
                            "data": [
                                {
                                    "comp_id": "1"
                                },
                                {
                                    "comp_id": "2"
                                },
                                {
                                    "comp_id": "3"
                                },
                                {
                                    "comp_id": "4"
                                },
                                {
                                    "comp_id": "5"
                                },
                                {
                                    "comp_id": "6"
                                },
                                {
                                    "comp_id": "7"
                                },
                                {
                                    "comp_id": "8"
                                },
                                {
                                    "comp_id": "11"
                                },
                                {
                                    "comp_id": "12"
                                },
                                {
                                    "comp_id": "13"
                                },
                                {
                                    "comp_id": "14"
                                },
                                {
                                    "comp_id": "15"
                                },
                                {
                                    "comp_id": "16"
                                },
                                {
                                    "comp_id": "17"
                                },
                                {
                                    "comp_id": "18"
                                },
                                {
                                    "comp_id": "20"
                                },
                                {
                                    "comp_id": "21"
                                },
                                {
                                    "comp_id": "22"
                                },
                                {
                                    "comp_id": "23"
                                },
                                {
                                    "comp_id": "24"
                                },
                                {
                                    "comp_id": "25"
                                },
                                {
                                    "comp_id": "26"
                                },
                                {
                                    "comp_id": "28"
                                },
                                {
                                    "comp_id": "30"
                                },
                                {
                                    "comp_id": "31"
                                },
                                {
                                    "comp_id": "32"
                                },
                                {
                                    "comp_id": "33"
                                },
                                {
                                    "comp_id": "34"
                                },
                                {
                                    "comp_id": "35"
                                },
                                {
                                    "comp_id": "36"
                                },
                                {
                                    "comp_id": "37"
                                },
                                {
                                    "comp_id": "38"
                                },
                                {
                                    "comp_id": "39"
                                },
                                {
                                    "comp_id": "40"
                                },
                                {
                                    "comp_id": "41"
                                },
                                {
                                    "comp_id": "42"
                                },
                                {
                                    "comp_id": "44"
                                },
                                {
                                    "comp_id": "45"
                                },
                                {
                                    "comp_id": "46"
                                },
                                {
                                    "comp_id": "47"
                                },
                                {
                                    "comp_id": "49"
                                },
                                {
                                    "comp_id": "50"
                                },
                                {
                                    "comp_id": "51"
                                },
                                {
                                    "comp_id": "52"
                                },
                                {
                                    "comp_id": "53"
                                },
                                {
                                    "comp_id": "54"
                                },
                                {
                                    "comp_id": "55"
                                },
                                {
                                    "comp_id": "56"
                                },
                                {
                                    "comp_id": "57"
                                },
                                {
                                    "comp_id": "58"
                                },
                                {
                                    "comp_id": "59"
                                },
                                {
                                    "comp_id": "60"
                                },
                                {
                                    "comp_id": "61"
                                },
                                {
                                    "comp_id": "62"
                                },
                                {
                                    "comp_id": "64"
                                },
                                {
                                    "comp_id": "65"
                                },
                                {
                                    "comp_id": "66"
                                },
                                {
                                    "comp_id": "67"
                                },
                                {
                                    "comp_id": "68"
                                },
                                {
                                    "comp_id": "69"
                                },
                                {
                                    "comp_id": "70"
                                },
                                {
                                    "comp_id": "71"
                                },
                                {
                                    "comp_id": "73"
                                },
                                {
                                    "comp_id": "74"
                                },
                                {
                                    "comp_id": "76"
                                },
                                {
                                    "comp_id": "77"
                                },
                                {
                                    "comp_id": "78"
                                },
                                {
                                    "comp_id": "79"
                                },
                                {
                                    "comp_id": "80"
                                },
                                {
                                    "comp_id": "81"
                                },
                                {
                                    "comp_id": "82"
                                },
                                {
                                    "comp_id": "83"
                                },
                                {
                                    "comp_id": "84"
                                },
                                {
                                    "comp_id": "85"
                                },
                                {
                                    "comp_id": "86"
                                },
                                {
                                    "comp_id": "87"
                                },
                                {
                                    "comp_id": "88"
                                },
                                {
                                    "comp_id": "89"
                                },
                                {
                                    "comp_id": "90"
                                },
                                {
                                    "comp_id": "91"
                                },
                                {
                                    "comp_id": "92"
                                },
                                {
                                    "comp_id": "93"
                                },
                                {
                                    "comp_id": "94"
                                },
                                {
                                    "comp_id": "95"
                                },
                                {
                                    "comp_id": "96"
                                },
                                {
                                    "comp_id": "97"
                                },
                                {
                                    "comp_id": "98"
                                },
                                {
                                    "comp_id": "99"
                                },
                                {
                                    "comp_id": "100"
                                },
                                {
                                    "comp_id": "101"
                                },
                                {
                                    "comp_id": "102"
                                },
                                {
                                    "comp_id": "103"
                                },
                                {
                                    "comp_id": "104"
                                },
                                {
                                    "comp_id": "105"
                                },
                                {
                                    "comp_id": "106"
                                },
                                {
                                    "comp_id": "107"
                                },
                                {
                                    "comp_id": "108"
                                },
                                {
                                    "comp_id": "109"
                                },
                                {
                                    "comp_id": "110"
                                },
                                {
                                    "comp_id": "111"
                                },
                                {
                                    "comp_id": "112"
                                },
                                {
                                    "comp_id": "113"
                                },
                                {
                                    "comp_id": "114"
                                },
                                {
                                    "comp_id": "115"
                                },
                                {
                                    "comp_id": "116"
                                },
                                {
                                    "comp_id": "117"
                                },
                                {
                                    "comp_id": "27"
                                },
                                {
                                    "comp_id": "48"
                                },
                                {
                                    "comp_id": "118"
                                },
                                {
                                    "comp_id": "119"
                                },
                                {
                                    "comp_id": "120"
                                },
                                {
                                    "comp_id": "121"
                                },
                                {
                                    "comp_id": "122"
                                },
                                {
                                    "comp_id": "123"
                                },
                                {
                                    "comp_id": "124"
                                },
                                {
                                    "comp_id": "125"
                                },
                                {
                                    "comp_id": "126"
                                },
                                {
                                    "comp_id": "127"
                                },
                                {
                                    "comp_id": "128"
                                },
                                {
                                    "comp_id": "129"
                                },
                                {
                                    "comp_id": "130"
                                },
                                {
                                    "comp_id": "131"
                                },
                                {
                                    "comp_id": "132"
                                },
                                {
                                    "comp_id": "133"
                                },
                                {
                                    "comp_id": "134"
                                },
                                {
                                    "comp_id": "135"
                                },
                                {
                                    "comp_id": "136"
                                },
                                {
                                    "comp_id": "137"
                                },
                                {
                                    "comp_id": "138"
                                },
                                {
                                    "comp_id": "139"
                                },
                                {
                                    "comp_id": "140"
                                },
                                {
                                    "comp_id": "141"
                                },
                                {
                                    "comp_id": "142"
                                },
                                {
                                    "comp_id": "143"
                                },
                                {
                                    "comp_id": "144"
                                },
                                {
                                    "comp_id": "145"
                                },
                                {
                                    "comp_id": "146"
                                },
                                {
                                    "comp_id": "147"
                                },
                                {
                                    "comp_id": "148"
                                },
                                {
                                    "comp_id": "149"
                                },
                                {
                                    "comp_id": "150"
                                },
                                {
                                    "comp_id": "151"
                                },
                                {
                                    "comp_id": "152"
                                },
                                {
                                    "comp_id": "153"
                                },
                                {
                                    "comp_id": "154"
                                },
                                {
                                    "comp_id": "155"
                                },
                                {
                                    "comp_id": "156"
                                },
                                {
                                    "comp_id": "157"
                                },
                                {
                                    "comp_id": "158"
                                },
                                {
                                    "comp_id": "159"
                                },
                                {
                                    "comp_id": "160"
                                },
                                {
                                    "comp_id": "161"
                                },
                                {
                                    "comp_id": "162"
                                },
                                {
                                    "comp_id": "163"
                                },
                                {
                                    "comp_id": "164"
                                },
                                {
                                    "comp_id": "165"
                                },
                                {
                                    "comp_id": "166"
                                },
                                {
                                    "comp_id": "167"
                                },
                                {
                                    "comp_id": "168"
                                },
                                {
                                    "comp_id": "169"
                                },
                                {
                                    "comp_id": "170"
                                },
                                {
                                    "comp_id": "171"
                                },
                                {
                                    "comp_id": "172"
                                },
                                {
                                    "comp_id": "173"
                                },
                                {
                                    "comp_id": "174"
                                },
                                {
                                    "comp_id": "175"
                                },
                                {
                                    "comp_id": "176"
                                },
                                {
                                    "comp_id": "177"
                                },
                                {
                                    "comp_id": "178"
                                },
                                {
                                    "comp_id": "179"
                                },
                                {
                                    "comp_id": "180"
                                },
                                {
                                    "comp_id": "181"
                                },
                                {
                                    "comp_id": "182"
                                },
                                {
                                    "comp_id": "183"
                                },
                                {
                                    "comp_id": "184"
                                },
                                {
                                    "comp_id": "185"
                                },
                                {
                                    "comp_id": "186"
                                },
                                {
                                    "comp_id": "187"
                                },
                                {
                                    "comp_id": "188"
                                },
                                {
                                    "comp_id": "189"
                                },
                                {
                                    "comp_id": "191"
                                },
                                {
                                    "comp_id": "192"
                                },
                                {
                                    "comp_id": "193"
                                },
                                {
                                    "comp_id": "194"
                                },
                                {
                                    "comp_id": "198"
                                },
                                {
                                    "comp_id": "199"
                                },
                                {
                                    "comp_id": "200"
                                },
                                {
                                    "comp_id": "202"
                                },
                                {
                                    "comp_id": "205"
                                },
                                {
                                    "comp_id": "206"
                                },
                                {
                                    "comp_id": "207"
                                },
                                {
                                    "comp_id": "208"
                                },
                                {
                                    "comp_id": "209"
                                },
                                {
                                    "comp_id": "210"
                                },
                                {
                                    "comp_id": "211"
                                },
                                {
                                    "comp_id": "213"
                                },
                                {
                                    "comp_id": "214"
                                },
                                {
                                    "comp_id": "215"
                                },
                                {
                                    "comp_id": "216"
                                },
                                {
                                    "comp_id": "217"
                                },
                                {
                                    "comp_id": "218"
                                },
                                {
                                    "comp_id": "219"
                                },
                                {
                                    "comp_id": "220"
                                },
                                {
                                    "comp_id": "221"
                                },
                                {
                                    "comp_id": "222"
                                },
                                {
                                    "comp_id": "223"
                                },
                                {
                                    "comp_id": "224"
                                },
                                {
                                    "comp_id": "225"
                                },
                                {
                                    "comp_id": "226"
                                },
                                {
                                    "comp_id": "227"
                                },
                                {
                                    "comp_id": "228"
                                },
                                {
                                    "comp_id": "229"
                                },
                                {
                                    "comp_id": "230"
                                },
                                {
                                    "comp_id": "231"
                                },
                                {
                                    "comp_id": "232"
                                },
                                {
                                    "comp_id": "233"
                                },
                                {
                                    "comp_id": "234"
                                },
                                {
                                    "comp_id": "235"
                                },
                                {
                                    "comp_id": "236"
                                },
                                {
                                    "comp_id": "237"
                                },
                                {
                                    "comp_id": "238"
                                },
                                {
                                    "comp_id": "239"
                                },
                                {
                                    "comp_id": "240"
                                },
                                {
                                    "comp_id": "241"
                                },
                                {
                                    "comp_id": "242"
                                },
                                {
                                    "comp_id": "243"
                                },
                                {
                                    "comp_id": "244"
                                },
                                {
                                    "comp_id": "245"
                                },
                                {
                                    "comp_id": "246"
                                },
                                {
                                    "comp_id": "247"
                                },
                                {
                                    "comp_id": "248"
                                },
                                {
                                    "comp_id": "249"
                                },
                                {
                                    "comp_id": "250"
                                },
                                {
                                    "comp_id": "251"
                                },
                                {
                                    "comp_id": "252"
                                },
                                {
                                    "comp_id": "253"
                                },
                                {
                                    "comp_id": "254"
                                },
                                {
                                    "comp_id": "255"
                                },
                                {
                                    "comp_id": "256"
                                },
                                {
                                    "comp_id": "257"
                                },
                                {
                                    "comp_id": "258"
                                },
                                {
                                    "comp_id": "259"
                                },
                                {
                                    "comp_id": "260"
                                },
                                {
                                    "comp_id": "261"
                                },
                                {
                                    "comp_id": "262"
                                },
                                {
                                    "comp_id": "263"
                                },
                                {
                                    "comp_id": "264"
                                },
                                {
                                    "comp_id": "265"
                                },
                                {
                                    "comp_id": "266"
                                },
                                {
                                    "comp_id": "267"
                                },
                                {
                                    "comp_id": "268"
                                },
                                {
                                    "comp_id": "269"
                                },
                                {
                                    "comp_id": "270"
                                },
                                {
                                    "comp_id": "271"
                                },
                                {
                                    "comp_id": "272"
                                },
                                {
                                    "comp_id": "273"
                                },
                                {
                                    "comp_id": "274"
                                },
                                {
                                    "comp_id": "275"
                                },
                                {
                                    "comp_id": "276"
                                },
                                {
                                    "comp_id": "277"
                                },
                                {
                                    "comp_id": "278"
                                },
                                {
                                    "comp_id": "279"
                                },
                                {
                                    "comp_id": "9"
                                },
                                {
                                    "comp_id": "10"
                                },
                                {
                                    "comp_id": "19"
                                },
                                {
                                    "comp_id": "29"
                                },
                                {
                                    "comp_id": "43"
                                },
                                {
                                    "comp_id": "63"
                                },
                                {
                                    "comp_id": "72"
                                },
                                {
                                    "comp_id": "280"
                                }
                            ]
                        },
                        "text/html": "<table><tr><th>comp_id</th></tr><tr><td>1</td></tr><tr><td>2</td></tr><tr><td>3</td></tr><tr><td>4</td></tr><tr><td>5</td></tr><tr><td>6</td></tr><tr><td>7</td></tr><tr><td>8</td></tr><tr><td>11</td></tr><tr><td>12</td></tr><tr><td>13</td></tr><tr><td>14</td></tr><tr><td>15</td></tr><tr><td>16</td></tr><tr><td>17</td></tr><tr><td>18</td></tr><tr><td>20</td></tr><tr><td>21</td></tr><tr><td>22</td></tr><tr><td>23</td></tr><tr><td>24</td></tr><tr><td>25</td></tr><tr><td>26</td></tr><tr><td>28</td></tr><tr><td>30</td></tr><tr><td>31</td></tr><tr><td>32</td></tr><tr><td>33</td></tr><tr><td>34</td></tr><tr><td>35</td></tr><tr><td>36</td></tr><tr><td>37</td></tr><tr><td>38</td></tr><tr><td>39</td></tr><tr><td>40</td></tr><tr><td>41</td></tr><tr><td>42</td></tr><tr><td>44</td></tr><tr><td>45</td></tr><tr><td>46</td></tr><tr><td>47</td></tr><tr><td>49</td></tr><tr><td>50</td></tr><tr><td>51</td></tr><tr><td>52</td></tr><tr><td>53</td></tr><tr><td>54</td></tr><tr><td>55</td></tr><tr><td>56</td></tr><tr><td>57</td></tr><tr><td>58</td></tr><tr><td>59</td></tr><tr><td>60</td></tr><tr><td>61</td></tr><tr><td>62</td></tr><tr><td>64</td></tr><tr><td>65</td></tr><tr><td>66</td></tr><tr><td>67</td></tr><tr><td>68</td></tr><tr><td>69</td></tr><tr><td>70</td></tr><tr><td>71</td></tr><tr><td>73</td></tr><tr><td>74</td></tr><tr><td>76</td></tr><tr><td>77</td></tr><tr><td>78</td></tr><tr><td>79</td></tr><tr><td>80</td></tr><tr><td>81</td></tr><tr><td>82</td></tr><tr><td>83</td></tr><tr><td>84</td></tr><tr><td>85</td></tr><tr><td>86</td></tr><tr><td>87</td></tr><tr><td>88</td></tr><tr><td>89</td></tr><tr><td>90</td></tr><tr><td>91</td></tr><tr><td>92</td></tr><tr><td>93</td></tr><tr><td>94</td></tr><tr><td>95</td></tr><tr><td>96</td></tr><tr><td>97</td></tr><tr><td>98</td></tr><tr><td>99</td></tr><tr><td>100</td></tr><tr><td>101</td></tr><tr><td>102</td></tr><tr><td>103</td></tr><tr><td>104</td></tr><tr><td>105</td></tr><tr><td>106</td></tr><tr><td>107</td></tr><tr><td>108</td></tr><tr><td>109</td></tr><tr><td>110</td></tr><tr><td>111</td></tr><tr><td>112</td></tr><tr><td>113</td></tr><tr><td>114</td></tr><tr><td>115</td></tr><tr><td>116</td></tr><tr><td>117</td></tr><tr><td>27</td></tr><tr><td>48</td></tr><tr><td>118</td></tr><tr><td>119</td></tr><tr><td>120</td></tr><tr><td>121</td></tr><tr><td>122</td></tr><tr><td>123</td></tr><tr><td>124</td></tr><tr><td>125</td></tr><tr><td>126</td></tr><tr><td>127</td></tr><tr><td>128</td></tr><tr><td>129</td></tr><tr><td>130</td></tr><tr><td>131</td></tr><tr><td>132</td></tr><tr><td>133</td></tr><tr><td>134</td></tr><tr><td>135</td></tr><tr><td>136</td></tr><tr><td>137</td></tr><tr><td>138</td></tr><tr><td>139</td></tr><tr><td>140</td></tr><tr><td>141</td></tr><tr><td>142</td></tr><tr><td>143</td></tr><tr><td>144</td></tr><tr><td>145</td></tr><tr><td>146</td></tr><tr><td>147</td></tr><tr><td>148</td></tr><tr><td>149</td></tr><tr><td>150</td></tr><tr><td>151</td></tr><tr><td>152</td></tr><tr><td>153</td></tr><tr><td>154</td></tr><tr><td>155</td></tr><tr><td>156</td></tr><tr><td>157</td></tr><tr><td>158</td></tr><tr><td>159</td></tr><tr><td>160</td></tr><tr><td>161</td></tr><tr><td>162</td></tr><tr><td>163</td></tr><tr><td>164</td></tr><tr><td>165</td></tr><tr><td>166</td></tr><tr><td>167</td></tr><tr><td>168</td></tr><tr><td>169</td></tr><tr><td>170</td></tr><tr><td>171</td></tr><tr><td>172</td></tr><tr><td>173</td></tr><tr><td>174</td></tr><tr><td>175</td></tr><tr><td>176</td></tr><tr><td>177</td></tr><tr><td>178</td></tr><tr><td>179</td></tr><tr><td>180</td></tr><tr><td>181</td></tr><tr><td>182</td></tr><tr><td>183</td></tr><tr><td>184</td></tr><tr><td>185</td></tr><tr><td>186</td></tr><tr><td>187</td></tr><tr><td>188</td></tr><tr><td>189</td></tr><tr><td>191</td></tr><tr><td>192</td></tr><tr><td>193</td></tr><tr><td>194</td></tr><tr><td>198</td></tr><tr><td>199</td></tr><tr><td>200</td></tr><tr><td>202</td></tr><tr><td>205</td></tr><tr><td>206</td></tr><tr><td>207</td></tr><tr><td>208</td></tr><tr><td>209</td></tr><tr><td>210</td></tr><tr><td>211</td></tr><tr><td>213</td></tr><tr><td>214</td></tr><tr><td>215</td></tr><tr><td>216</td></tr><tr><td>217</td></tr><tr><td>218</td></tr><tr><td>219</td></tr><tr><td>220</td></tr><tr><td>221</td></tr><tr><td>222</td></tr><tr><td>223</td></tr><tr><td>224</td></tr><tr><td>225</td></tr><tr><td>226</td></tr><tr><td>227</td></tr><tr><td>228</td></tr><tr><td>229</td></tr><tr><td>230</td></tr><tr><td>231</td></tr><tr><td>232</td></tr><tr><td>233</td></tr><tr><td>234</td></tr><tr><td>235</td></tr><tr><td>236</td></tr><tr><td>237</td></tr><tr><td>238</td></tr><tr><td>239</td></tr><tr><td>240</td></tr><tr><td>241</td></tr><tr><td>242</td></tr><tr><td>243</td></tr><tr><td>244</td></tr><tr><td>245</td></tr><tr><td>246</td></tr><tr><td>247</td></tr><tr><td>248</td></tr><tr><td>249</td></tr><tr><td>250</td></tr><tr><td>251</td></tr><tr><td>252</td></tr><tr><td>253</td></tr><tr><td>254</td></tr><tr><td>255</td></tr><tr><td>256</td></tr><tr><td>257</td></tr><tr><td>258</td></tr><tr><td>259</td></tr><tr><td>260</td></tr><tr><td>261</td></tr><tr><td>262</td></tr><tr><td>263</td></tr><tr><td>264</td></tr><tr><td>265</td></tr><tr><td>266</td></tr><tr><td>267</td></tr><tr><td>268</td></tr><tr><td>269</td></tr><tr><td>270</td></tr><tr><td>271</td></tr><tr><td>272</td></tr><tr><td>273</td></tr><tr><td>274</td></tr><tr><td>275</td></tr><tr><td>276</td></tr><tr><td>277</td></tr><tr><td>278</td></tr><tr><td>279</td></tr><tr><td>9</td></tr><tr><td>10</td></tr><tr><td>19</td></tr><tr><td>29</td></tr><tr><td>43</td></tr><tr><td>63</td></tr><tr><td>72</td></tr><tr><td>280</td></tr></table>"
                    },
                    "metadata": {}
                }
            ],
            "execution_count": 117
        },
        {
            "cell_type": "code",
            "source": [
                "COPY components (comp_id, comp_name, comp_cost, comp_supplier, comp_cat)\r\n",
                "FROM 'C:/Users/hp/Downloads/components.csv'\r\n",
                "DELIMITER ','\r\n",
                "CSV HEADER;\r\n",
                ""
            ],
            "metadata": {
                "language": "sql",
                "azdata_cell_guid": "335f9280-352c-48f0-badb-804630f9e3d3"
            },
            "outputs": [
                {
                    "output_type": "error",
                    "ename": "",
                    "evalue": "duplicate key value violates unique constraint \"components_pkey\"",
                    "traceback": []
                },
                {
                    "output_type": "display_data",
                    "data": {
                        "text/html": "Total execution time: 00:00:00.005"
                    },
                    "metadata": {}
                }
            ],
            "execution_count": 141
        },
        {
            "cell_type": "code",
            "source": [
                "COPY components (comp_id, comp_name, comp_cost, comp_supplier, comp_cat)\r\n",
                "FROM 'C:/Users/hp/Downloads/components.csv'\r\n",
                "DELIMITER ',' CSV HEADER\r\n",
                "ON CONFLICT (comp_id) DO NOTHING;\r\n",
                ""
            ],
            "metadata": {
                "language": "sql",
                "azdata_cell_guid": "911abf29-6709-4788-a261-961e0f4e5337"
            },
            "outputs": [
                {
                    "output_type": "error",
                    "ename": "",
                    "evalue": "syntax error at or near \"ON\"",
                    "traceback": []
                },
                {
                    "output_type": "display_data",
                    "data": {
                        "text/html": "Total execution time: 00:00:00"
                    },
                    "metadata": {}
                }
            ],
            "execution_count": 142
        },
        {
            "cell_type": "code",
            "source": [
                "CREATE TEMP TABLE temp_components (\r\n",
                "    comp_id integer,\r\n",
                "    comp_name varchar(35),\r\n",
                "    comp_cost numeric,\r\n",
                "    comp_supplier integer,\r\n",
                "    comp_cat varchar(25)\r\n",
                ");\r\n",
                "\r\n",
                "COPY temp_components FROM 'C:/Users/hp/Downloads/components.csv' DELIMITER ',' CSV HEADER;\r\n",
                ""
            ],
            "metadata": {
                "language": "sql",
                "azdata_cell_guid": "480a088a-dcd2-42fe-ba51-dc427755f7de"
            },
            "outputs": [
                {
                    "output_type": "error",
                    "ename": "",
                    "evalue": "relation \"temp_components\" already exists",
                    "traceback": []
                },
                {
                    "output_type": "display_data",
                    "data": {
                        "text/html": "Total execution time: 00:00:00"
                    },
                    "metadata": {}
                }
            ],
            "execution_count": 143
        },
        {
            "cell_type": "code",
            "source": [
                "INSERT INTO components (comp_id, comp_name, comp_cost, comp_supplier, comp_cat)\r\n",
                "SELECT comp_id, comp_name, comp_cost, comp_supplier, comp_cat\r\n",
                "FROM temp_components\r\n",
                "ON CONFLICT (comp_id) DO NOTHING;\r\n",
                ""
            ],
            "metadata": {
                "language": "sql",
                "azdata_cell_guid": "1eecafd2-2b49-4a88-9a09-853c9fa3a800",
                "tags": []
            },
            "outputs": [
                {
                    "output_type": "display_data",
                    "data": {
                        "text/html": "INSERT 0 0"
                    },
                    "metadata": {}
                },
                {
                    "output_type": "display_data",
                    "data": {
                        "text/html": "Total execution time: 00:00:00.001"
                    },
                    "metadata": {}
                }
            ],
            "execution_count": 144
        },
        {
            "cell_type": "code",
            "source": [
                "COPY customerwarehouseorders (cus_id, warehouse_id, ord_id)\r\n",
                "FROM 'C:/Users/hp/Downloads/customerwarehouseorders.csv'\r\n",
                "DELIMITER ','\r\n",
                "CSV HEADER;\r\n",
                ""
            ],
            "metadata": {
                "language": "sql",
                "azdata_cell_guid": "795265bd-8c6c-4440-8d1b-1837048f541c",
                "tags": []
            },
            "outputs": [
                {
                    "output_type": "error",
                    "ename": "",
                    "evalue": "duplicate key value violates unique constraint \"customerwarehouseorders_pkey\"",
                    "traceback": []
                },
                {
                    "output_type": "display_data",
                    "data": {
                        "text/html": "Total execution time: 00:00:00.003"
                    },
                    "metadata": {}
                }
            ],
            "execution_count": 145
        },
        {
            "cell_type": "code",
            "source": [
                "COPY customers (cus_id, cus_num, cus_last_name, cus_first_name, cus_add_num, cus_address, cus_city, cus_state, cus_zip, cus_phone, cus_join_date, cus_app_cd, cus_app_num, tot_ord_qty, tot_ord_value)\r\n",
                "FROM 'C:/Users/hp/Downloads/customers.csv'\r\n",
                "DELIMITER ','\r\n",
                "CSV HEADER;\r\n",
                ""
            ],
            "metadata": {
                "language": "sql",
                "azdata_cell_guid": "c43976c0-90bc-4da8-80c7-210e368a2688"
            },
            "outputs": [
                {
                    "output_type": "error",
                    "ename": "",
                    "evalue": "duplicate key value violates unique constraint \"customers_pkey\"",
                    "traceback": []
                },
                {
                    "output_type": "display_data",
                    "data": {
                        "text/html": "Total execution time: 00:00:00.003"
                    },
                    "metadata": {}
                }
            ],
            "execution_count": 146
        },
        {
            "cell_type": "code",
            "source": [
                "COPY customerwarehousereturns (cus_id, warehouse_id, ord_id, rac_id)\r\n",
                "FROM 'C:/Users/hp/Downloads/customerwarehousereturns.csv'\r\n",
                "DELIMITER ','\r\n",
                "CSV HEADER;\r\n",
                ""
            ],
            "metadata": {
                "language": "sql",
                "azdata_cell_guid": "6123bc8d-30c9-4cd9-8669-45abd9c947d7"
            },
            "outputs": [
                {
                    "output_type": "error",
                    "ename": "",
                    "evalue": "insert or update on table \"customerwarehousereturns\" violates foreign key constraint \"fk_ord_id\"",
                    "traceback": []
                },
                {
                    "output_type": "display_data",
                    "data": {
                        "text/html": "Total execution time: 00:00:00.004"
                    },
                    "metadata": {}
                }
            ],
            "execution_count": 147
        },
        {
            "cell_type": "code",
            "source": [
                "COPY orders (ord_id, ord_date, ord_tax_loc, order_tot, ord_ship_add, ord_ship_date, ord_track_num, prod_id, warehouse_id, cus_id)\r\n",
                "FROM 'C:/Users/hp/Downloads/orders.csv'\r\n",
                "DELIMITER ','\r\n",
                "CSV HEADER;\r\n",
                ""
            ],
            "metadata": {
                "language": "sql",
                "azdata_cell_guid": "f5c0194e-3031-4d24-b0c5-ad0ce3e71beb"
            },
            "outputs": [
                {
                    "output_type": "display_data",
                    "data": {
                        "text/html": "COPY 2599"
                    },
                    "metadata": {}
                },
                {
                    "output_type": "display_data",
                    "data": {
                        "text/html": "Total execution time: 00:00:00.094"
                    },
                    "metadata": {}
                }
            ],
            "execution_count": 148
        },
        {
            "cell_type": "code",
            "source": [
                "COPY ordertaxes (ord_id, ord_date, tax_rate)\r\n",
                "FROM 'C:/Users/hp/Downloads/ordertaxes.csv'\r\n",
                "DELIMITER ','\r\n",
                "CSV HEADER;\r\n",
                ""
            ],
            "metadata": {
                "language": "sql",
                "azdata_cell_guid": "f11a5fd9-2d4f-4c1a-906a-b68f4e1b2bdb"
            },
            "outputs": [
                {
                    "output_type": "error",
                    "ename": "",
                    "evalue": "insert or update on table \"ordertaxes\" violates foreign key constraint \"ordertaxes_ord_id_fkey\"",
                    "traceback": []
                },
                {
                    "output_type": "display_data",
                    "data": {
                        "text/html": "Total execution time: 00:00:00.009"
                    },
                    "metadata": {}
                }
            ],
            "execution_count": 73
        },
        {
            "cell_type": "code",
            "source": [
                "COPY productbuilds (prod_id, build_id)\r\n",
                "FROM 'C:/Users/hp/Downloads/productbuilds.csv'\r\n",
                "DELIMITER ','\r\n",
                "CSV HEADER;\r\n",
                ""
            ],
            "metadata": {
                "language": "sql",
                "azdata_cell_guid": "1b921cae-f27e-4e89-968e-f3d977784eec"
            },
            "outputs": [
                {
                    "output_type": "error",
                    "ename": "",
                    "evalue": "insert or update on table \"productbuilds\" violates foreign key constraint \"fk_prod_id\"",
                    "traceback": []
                },
                {
                    "output_type": "display_data",
                    "data": {
                        "text/html": "Total execution time: 00:00:00.003"
                    },
                    "metadata": {}
                }
            ],
            "execution_count": 55
        },
        {
            "cell_type": "code",
            "source": [
                "COPY products (prod_id, prod_cat_name, prod_manufacturer, prod_name, prod_description, prod_price, prod_class, country_origin, sup_id)\r\n",
                "FROM 'C:/Users/hp/Downloads/products.csv'\r\n",
                "DELIMITER ','\r\n",
                "CSV HEADER;\r\n",
                ""
            ],
            "metadata": {
                "language": "sql",
                "azdata_cell_guid": "e99655c8-38a2-4084-82cb-a092b8d17e65"
            },
            "outputs": [
                {
                    "output_type": "display_data",
                    "data": {
                        "text/html": "COPY 69"
                    },
                    "metadata": {}
                },
                {
                    "output_type": "display_data",
                    "data": {
                        "text/html": "Total execution time: 00:00:00.009"
                    },
                    "metadata": {}
                }
            ],
            "execution_count": 56
        },
        {
            "cell_type": "code",
            "source": [
                "COPY racs (rac_id, tot_ret_item_cnt, tot_ret_amnt, cus_id, ord_id, warehouse_id, prod_id, comp_id)\r\n",
                "FROM 'C:/Users/hp/Downloads/racs.csv'\r\n",
                "DELIMITER ','\r\n",
                "CSV HEADER;\r\n",
                ""
            ],
            "metadata": {
                "language": "sql",
                "azdata_cell_guid": "4239a79c-e87f-41b1-b485-62ee4542b5b3"
            },
            "outputs": [
                {
                    "output_type": "error",
                    "ename": "",
                    "evalue": "value \"5484681\" is out of range for type smallint",
                    "traceback": []
                },
                {
                    "output_type": "display_data",
                    "data": {
                        "text/html": "Total execution time: 00:00:00.013"
                    },
                    "metadata": {}
                }
            ],
            "execution_count": 57
        },
        {
            "cell_type": "code",
            "source": [
                "COPY states (state_id, state)\r\n",
                "FROM 'C:/Users/hp/Downloads/states.csv'\r\n",
                "DELIMITER ','\r\n",
                "CSV HEADER;\r\n",
                ""
            ],
            "metadata": {
                "language": "sql",
                "azdata_cell_guid": "2d1cbd6b-3191-486b-8ce3-ad8778f98d65"
            },
            "outputs": [
                {
                    "output_type": "display_data",
                    "data": {
                        "text/html": "COPY 31"
                    },
                    "metadata": {}
                },
                {
                    "output_type": "display_data",
                    "data": {
                        "text/html": "Total execution time: 00:00:00.010"
                    },
                    "metadata": {}
                }
            ],
            "execution_count": 58
        },
        {
            "cell_type": "code",
            "source": [
                "COPY suppliers (sup_id, sup_name, sup_ctry)\r\n",
                "FROM 'C:/Users/hp/Downloads/suppliers.csv'\r\n",
                "DELIMITER ','\r\n",
                "CSV HEADER;\r\n",
                ""
            ],
            "metadata": {
                "language": "sql",
                "azdata_cell_guid": "db717bbb-34fa-442f-a9de-1d38b07ae271"
            },
            "outputs": [
                {
                    "output_type": "display_data",
                    "data": {
                        "text/html": "COPY 72"
                    },
                    "metadata": {}
                },
                {
                    "output_type": "display_data",
                    "data": {
                        "text/html": "Total execution time: 00:00:00.013"
                    },
                    "metadata": {}
                }
            ],
            "execution_count": 59
        },
        {
            "cell_type": "code",
            "source": [
                "COPY taxes (tax_id, tax_location, tax_rate)\r\n",
                "FROM 'C:/Users/hp/Downloads/taxes.csv'\r\n",
                "DELIMITER ','\r\n",
                "CSV HEADER;\r\n",
                ""
            ],
            "metadata": {
                "language": "sql",
                "azdata_cell_guid": "f3c3f400-4bde-47bd-a85d-1556cfec71a9"
            },
            "outputs": [
                {
                    "output_type": "display_data",
                    "data": {
                        "text/html": "COPY 31"
                    },
                    "metadata": {}
                },
                {
                    "output_type": "display_data",
                    "data": {
                        "text/html": "Total execution time: 00:00:00.011"
                    },
                    "metadata": {}
                }
            ],
            "execution_count": 60
        },
        {
            "cell_type": "code",
            "source": [
                "\r\n",
                ""
            ],
            "metadata": {
                "language": "sql",
                "azdata_cell_guid": "2a840d87-dc49-4ebc-b9f0-91fa42d89ab5"
            },
            "outputs": [
                {
                    "output_type": "display_data",
                    "data": {
                        "text/html": "COPY 3"
                    },
                    "metadata": {}
                },
                {
                    "output_type": "display_data",
                    "data": {
                        "text/html": "Total execution time: 00:00:00.010"
                    },
                    "metadata": {}
                }
            ],
            "execution_count": 62
        },
        {
            "cell_type": "code",
            "source": [
                "SELECT * FROM builds LIMIT 10;\r\n",
                "\r\n",
                ""
            ],
            "metadata": {
                "language": "sql",
                "azdata_cell_guid": "db999abc-e856-48da-9dda-6ec6d8410e09",
                "tags": []
            },
            "outputs": [
                {
                    "output_type": "display_data",
                    "data": {
                        "text/html": "(10 row(s) affected)"
                    },
                    "metadata": {}
                },
                {
                    "output_type": "display_data",
                    "data": {
                        "text/html": "Total execution time: 00:00:00.002"
                    },
                    "metadata": {}
                },
                {
                    "output_type": "execute_result",
                    "execution_count": 63,
                    "data": {
                        "application/vnd.dataresource+json": {
                            "schema": {
                                "fields": [
                                    {
                                        "name": "build_id"
                                    },
                                    {
                                        "name": "comp_hbar"
                                    },
                                    {
                                        "name": "comp_brake"
                                    },
                                    {
                                        "name": "comp_wheels"
                                    },
                                    {
                                        "name": "comp_fork"
                                    },
                                    {
                                        "name": "comp_shock"
                                    },
                                    {
                                        "name": "comp_shifter"
                                    },
                                    {
                                        "name": "comp_cassette"
                                    },
                                    {
                                        "name": "comp_derail"
                                    },
                                    {
                                        "name": "comp_dropper"
                                    },
                                    {
                                        "name": "comp_crank"
                                    },
                                    {
                                        "name": "comp_chain_ring"
                                    },
                                    {
                                        "name": "build_name"
                                    }
                                ]
                            },
                            "data": [
                                {
                                    "build_id": "74",
                                    "comp_hbar": "10",
                                    "comp_brake": "62",
                                    "comp_wheels": "100",
                                    "comp_fork": "131",
                                    "comp_shock": "194",
                                    "comp_shifter": "278",
                                    "comp_cassette": "218",
                                    "comp_derail": "278",
                                    "comp_dropper": "280",
                                    "comp_crank": "279",
                                    "comp_chain_ring": "278",
                                    "build_name": "gnar"
                                },
                                {
                                    "build_id": "1",
                                    "comp_hbar": "29",
                                    "comp_brake": "64",
                                    "comp_wheels": "108",
                                    "comp_fork": "127",
                                    "comp_shock": "280",
                                    "comp_shifter": "276",
                                    "comp_cassette": "222",
                                    "comp_derail": "277",
                                    "comp_dropper": "257",
                                    "comp_crank": "277",
                                    "comp_chain_ring": "277",
                                    "build_name": "five star"
                                },
                                {
                                    "build_id": "23",
                                    "comp_hbar": "36",
                                    "comp_brake": "61",
                                    "comp_wheels": "88",
                                    "comp_fork": "114",
                                    "comp_shock": "280",
                                    "comp_shifter": "61",
                                    "comp_cassette": "219",
                                    "comp_derail": "273",
                                    "comp_dropper": "247",
                                    "comp_crank": "273",
                                    "comp_chain_ring": "273",
                                    "build_name": "mammoth"
                                },
                                {
                                    "build_id": "4",
                                    "comp_hbar": "32",
                                    "comp_brake": "63",
                                    "comp_wheels": "86",
                                    "comp_fork": "113",
                                    "comp_shock": "172",
                                    "comp_shifter": "278",
                                    "comp_cassette": "220",
                                    "comp_derail": "278",
                                    "comp_dropper": "252",
                                    "comp_crank": "269",
                                    "comp_chain_ring": "278",
                                    "build_name": "3-star"
                                },
                                {
                                    "build_id": "8",
                                    "comp_hbar": "6",
                                    "comp_brake": "56",
                                    "comp_wheels": "70",
                                    "comp_fork": "122",
                                    "comp_shock": "180",
                                    "comp_shifter": "279",
                                    "comp_cassette": "220",
                                    "comp_derail": "279",
                                    "comp_dropper": "236",
                                    "comp_crank": "279",
                                    "comp_chain_ring": "279",
                                    "build_name": "2-star"
                                },
                                {
                                    "build_id": "20",
                                    "comp_hbar": "20",
                                    "comp_brake": "58",
                                    "comp_wheels": "112",
                                    "comp_fork": "126",
                                    "comp_shock": "172",
                                    "comp_shifter": "275",
                                    "comp_cassette": "275",
                                    "comp_derail": "275",
                                    "comp_dropper": "258",
                                    "comp_crank": "275",
                                    "comp_chain_ring": "275",
                                    "build_name": "1-star"
                                },
                                {
                                    "build_id": "21",
                                    "comp_hbar": "31",
                                    "comp_brake": "58",
                                    "comp_wheels": "80",
                                    "comp_fork": "118",
                                    "comp_shock": "189",
                                    "comp_shifter": "272",
                                    "comp_cassette": "224",
                                    "comp_derail": "272",
                                    "comp_dropper": "250",
                                    "comp_crank": "272",
                                    "comp_chain_ring": "272",
                                    "build_name": "the general"
                                },
                                {
                                    "build_id": "25",
                                    "comp_hbar": "15",
                                    "comp_brake": "59",
                                    "comp_wheels": "96",
                                    "comp_fork": "124",
                                    "comp_shock": "177",
                                    "comp_shifter": "272",
                                    "comp_cassette": "274",
                                    "comp_derail": "272",
                                    "comp_dropper": "37",
                                    "comp_crank": "268",
                                    "comp_chain_ring": "272",
                                    "build_name": "atomic"
                                },
                                {
                                    "build_id": "39",
                                    "comp_hbar": "29",
                                    "comp_brake": "64",
                                    "comp_wheels": "100",
                                    "comp_fork": "117",
                                    "comp_shock": "172",
                                    "comp_shifter": "231",
                                    "comp_cassette": "222",
                                    "comp_derail": "277",
                                    "comp_dropper": "257",
                                    "comp_crank": "277",
                                    "comp_chain_ring": "277",
                                    "build_name": "nuclear"
                                },
                                {
                                    "build_id": "69",
                                    "comp_hbar": "44",
                                    "comp_brake": "67",
                                    "comp_wheels": "103",
                                    "comp_fork": "125",
                                    "comp_shock": "175",
                                    "comp_shifter": "61",
                                    "comp_cassette": "219",
                                    "comp_derail": "273",
                                    "comp_dropper": "44",
                                    "comp_crank": "266",
                                    "comp_chain_ring": "273",
                                    "build_name": "behemoth"
                                }
                            ]
                        },
                        "text/html": "<table><tr><th>build_id</th><th>comp_hbar</th><th>comp_brake</th><th>comp_wheels</th><th>comp_fork</th><th>comp_shock</th><th>comp_shifter</th><th>comp_cassette</th><th>comp_derail</th><th>comp_dropper</th><th>comp_crank</th><th>comp_chain_ring</th><th>build_name</th></tr><tr><td>74</td><td>10</td><td>62</td><td>100</td><td>131</td><td>194</td><td>278</td><td>218</td><td>278</td><td>280</td><td>279</td><td>278</td><td>gnar</td></tr><tr><td>1</td><td>29</td><td>64</td><td>108</td><td>127</td><td>280</td><td>276</td><td>222</td><td>277</td><td>257</td><td>277</td><td>277</td><td>five star</td></tr><tr><td>23</td><td>36</td><td>61</td><td>88</td><td>114</td><td>280</td><td>61</td><td>219</td><td>273</td><td>247</td><td>273</td><td>273</td><td>mammoth</td></tr><tr><td>4</td><td>32</td><td>63</td><td>86</td><td>113</td><td>172</td><td>278</td><td>220</td><td>278</td><td>252</td><td>269</td><td>278</td><td>3-star</td></tr><tr><td>8</td><td>6</td><td>56</td><td>70</td><td>122</td><td>180</td><td>279</td><td>220</td><td>279</td><td>236</td><td>279</td><td>279</td><td>2-star</td></tr><tr><td>20</td><td>20</td><td>58</td><td>112</td><td>126</td><td>172</td><td>275</td><td>275</td><td>275</td><td>258</td><td>275</td><td>275</td><td>1-star</td></tr><tr><td>21</td><td>31</td><td>58</td><td>80</td><td>118</td><td>189</td><td>272</td><td>224</td><td>272</td><td>250</td><td>272</td><td>272</td><td>the general</td></tr><tr><td>25</td><td>15</td><td>59</td><td>96</td><td>124</td><td>177</td><td>272</td><td>274</td><td>272</td><td>37</td><td>268</td><td>272</td><td>atomic</td></tr><tr><td>39</td><td>29</td><td>64</td><td>100</td><td>117</td><td>172</td><td>231</td><td>222</td><td>277</td><td>257</td><td>277</td><td>277</td><td>nuclear</td></tr><tr><td>69</td><td>44</td><td>67</td><td>103</td><td>125</td><td>175</td><td>61</td><td>219</td><td>273</td><td>44</td><td>266</td><td>273</td><td>behemoth</td></tr></table>"
                    },
                    "metadata": {}
                }
            ],
            "execution_count": 63
        },
        {
            "cell_type": "code",
            "source": [
                "-- Query the first 10 rows from Components table\r\n",
                "SELECT * FROM components LIMIT 10;"
            ],
            "metadata": {
                "language": "sql",
                "azdata_cell_guid": "a55469ff-419b-44a9-b784-3dc6322eb203"
            },
            "outputs": [
                {
                    "output_type": "display_data",
                    "data": {
                        "text/html": "(10 row(s) affected)"
                    },
                    "metadata": {}
                },
                {
                    "output_type": "display_data",
                    "data": {
                        "text/html": "Total execution time: 00:00:00.003"
                    },
                    "metadata": {}
                },
                {
                    "output_type": "execute_result",
                    "execution_count": 107,
                    "data": {
                        "application/vnd.dataresource+json": {
                            "schema": {
                                "fields": [
                                    {
                                        "name": "comp_id"
                                    },
                                    {
                                        "name": "comp_name"
                                    },
                                    {
                                        "name": "comp_cost"
                                    },
                                    {
                                        "name": "comp_supplier"
                                    },
                                    {
                                        "name": "comp_cat"
                                    },
                                    {
                                        "name": "sup_id"
                                    }
                                ]
                            },
                            "data": [
                                {
                                    "comp_id": "1",
                                    "comp_name": "Giant Contact SLR",
                                    "comp_cost": "143",
                                    "comp_supplier": "1",
                                    "comp_cat": "handlebar",
                                    "sup_id": "NULL"
                                },
                                {
                                    "comp_id": "2",
                                    "comp_name": "Rida Alpha R27",
                                    "comp_cost": "136",
                                    "comp_supplier": "2",
                                    "comp_cat": "handlebar",
                                    "sup_id": "NULL"
                                },
                                {
                                    "comp_id": "3",
                                    "comp_name": "Niner Flat Top",
                                    "comp_cost": "118",
                                    "comp_supplier": "3",
                                    "comp_cat": "handlebar",
                                    "sup_id": "NULL"
                                },
                                {
                                    "comp_id": "4",
                                    "comp_name": "Enve M7 Carb",
                                    "comp_cost": "69",
                                    "comp_supplier": "4",
                                    "comp_cat": "handlebar",
                                    "sup_id": "NULL"
                                },
                                {
                                    "comp_id": "5",
                                    "comp_name": "e13 base",
                                    "comp_cost": "91",
                                    "comp_supplier": "5",
                                    "comp_cat": "handlebar",
                                    "sup_id": "NULL"
                                },
                                {
                                    "comp_id": "6",
                                    "comp_name": "RaceFace NextR Carbon",
                                    "comp_cost": "129",
                                    "comp_supplier": "6",
                                    "comp_cat": "handlebar",
                                    "sup_id": "NULL"
                                },
                                {
                                    "comp_id": "7",
                                    "comp_name": "OC1",
                                    "comp_cost": "51",
                                    "comp_supplier": "61",
                                    "comp_cat": "handlebar",
                                    "sup_id": "NULL"
                                },
                                {
                                    "comp_id": "8",
                                    "comp_name": "Kona XC",
                                    "comp_cost": "76",
                                    "comp_supplier": "8",
                                    "comp_cat": "handlebar",
                                    "sup_id": "NULL"
                                },
                                {
                                    "comp_id": "11",
                                    "comp_name": "Newman Evo",
                                    "comp_cost": "143",
                                    "comp_supplier": "11",
                                    "comp_cat": "handlebar",
                                    "sup_id": "NULL"
                                },
                                {
                                    "comp_id": "12",
                                    "comp_name": "OC3 Carbon",
                                    "comp_cost": "82",
                                    "comp_supplier": "61",
                                    "comp_cat": "handlebar",
                                    "sup_id": "NULL"
                                }
                            ]
                        },
                        "text/html": "<table><tr><th>comp_id</th><th>comp_name</th><th>comp_cost</th><th>comp_supplier</th><th>comp_cat</th><th>sup_id</th></tr><tr><td>1</td><td>Giant Contact SLR</td><td>143</td><td>1</td><td>handlebar</td><td>NULL</td></tr><tr><td>2</td><td>Rida Alpha R27</td><td>136</td><td>2</td><td>handlebar</td><td>NULL</td></tr><tr><td>3</td><td>Niner Flat Top</td><td>118</td><td>3</td><td>handlebar</td><td>NULL</td></tr><tr><td>4</td><td>Enve M7 Carb</td><td>69</td><td>4</td><td>handlebar</td><td>NULL</td></tr><tr><td>5</td><td>e13 base</td><td>91</td><td>5</td><td>handlebar</td><td>NULL</td></tr><tr><td>6</td><td>RaceFace NextR Carbon</td><td>129</td><td>6</td><td>handlebar</td><td>NULL</td></tr><tr><td>7</td><td>OC1</td><td>51</td><td>61</td><td>handlebar</td><td>NULL</td></tr><tr><td>8</td><td>Kona XC</td><td>76</td><td>8</td><td>handlebar</td><td>NULL</td></tr><tr><td>11</td><td>Newman Evo</td><td>143</td><td>11</td><td>handlebar</td><td>NULL</td></tr><tr><td>12</td><td>OC3 Carbon</td><td>82</td><td>61</td><td>handlebar</td><td>NULL</td></tr></table>"
                    },
                    "metadata": {}
                }
            ],
            "execution_count": 107
        },
        {
            "cell_type": "code",
            "source": [
                "-- Query the first 10 rows from Customers table\r\n",
                "SELECT * FROM customers LIMIT 10;"
            ],
            "metadata": {
                "language": "sql",
                "azdata_cell_guid": "dcaf0803-5c8a-44ae-a509-851c04f14ba7",
                "tags": []
            },
            "outputs": [
                {
                    "output_type": "display_data",
                    "data": {
                        "text/html": "(10 row(s) affected)"
                    },
                    "metadata": {}
                },
                {
                    "output_type": "display_data",
                    "data": {
                        "text/html": "Total execution time: 00:00:00.003"
                    },
                    "metadata": {}
                },
                {
                    "output_type": "execute_result",
                    "execution_count": 69,
                    "data": {
                        "application/vnd.dataresource+json": {
                            "schema": {
                                "fields": [
                                    {
                                        "name": "cus_id"
                                    },
                                    {
                                        "name": "cus_num"
                                    },
                                    {
                                        "name": "cus_last_name"
                                    },
                                    {
                                        "name": "cus_first_name"
                                    },
                                    {
                                        "name": "cus_add_num"
                                    },
                                    {
                                        "name": "cus_address"
                                    },
                                    {
                                        "name": "cus_city"
                                    },
                                    {
                                        "name": "cus_state"
                                    },
                                    {
                                        "name": "cus_zip"
                                    },
                                    {
                                        "name": "cus_phone"
                                    },
                                    {
                                        "name": "cus_join_date"
                                    },
                                    {
                                        "name": "cus_app_cd"
                                    },
                                    {
                                        "name": "cus_app_num"
                                    },
                                    {
                                        "name": "tot_ord_qty"
                                    },
                                    {
                                        "name": "tot_ord_value"
                                    }
                                ]
                            },
                            "data": [
                                {
                                    "cus_id": "2600",
                                    "cus_num": "NULL",
                                    "cus_last_name": "Holzer",
                                    "cus_first_name": "Yeni",
                                    "cus_add_num": "8617",
                                    "cus_address": "High Noon Street",
                                    "cus_city": "Hattiesburg",
                                    "cus_state": "17",
                                    "cus_zip": "39401",
                                    "cus_phone": "7833472627",
                                    "cus_join_date": "2020-11-22",
                                    "cus_app_cd": "5",
                                    "cus_app_num": "OPC85554622",
                                    "tot_ord_qty": "60",
                                    "tot_ord_value": "10641.48"
                                },
                                {
                                    "cus_id": "2601",
                                    "cus_num": "NULL",
                                    "cus_last_name": "Hull",
                                    "cus_first_name": "Tancredo",
                                    "cus_add_num": "7673",
                                    "cus_address": "Cedat Camp Road",
                                    "cus_city": "Oswego",
                                    "cus_state": "19",
                                    "cus_zip": "13126",
                                    "cus_phone": "5154255063",
                                    "cus_join_date": "2020-04-19",
                                    "cus_app_cd": "9",
                                    "cus_app_num": "OPC86688258",
                                    "tot_ord_qty": "49",
                                    "tot_ord_value": "24585.61"
                                },
                                {
                                    "cus_id": "2602",
                                    "cus_num": "NULL",
                                    "cus_last_name": "Sokol",
                                    "cus_first_name": "Teodor",
                                    "cus_add_num": "965",
                                    "cus_address": "Southampton",
                                    "cus_city": "Salt Lake City",
                                    "cus_state": "26",
                                    "cus_zip": "84119",
                                    "cus_phone": "8802052764",
                                    "cus_join_date": "2020-04-15",
                                    "cus_app_cd": "14",
                                    "cus_app_num": "OPC87710870",
                                    "tot_ord_qty": "48",
                                    "tot_ord_value": "8514.29"
                                },
                                {
                                    "cus_id": "2603",
                                    "cus_num": "NULL",
                                    "cus_last_name": "Barnes",
                                    "cus_first_name": "Theo",
                                    "cus_add_num": "270",
                                    "cus_address": "High Noon Ave",
                                    "cus_city": "Coram",
                                    "cus_state": "19",
                                    "cus_zip": "11727",
                                    "cus_phone": "2779494240",
                                    "cus_join_date": "2020-09-14",
                                    "cus_app_cd": "18",
                                    "cus_app_num": "OPC78993136",
                                    "tot_ord_qty": "76",
                                    "tot_ord_value": "19173.06"
                                },
                                {
                                    "cus_id": "2604",
                                    "cus_num": "NULL",
                                    "cus_last_name": "Tempest",
                                    "cus_first_name": "Simone",
                                    "cus_add_num": "751",
                                    "cus_address": "East Shadow Brook Dr.",
                                    "cus_city": "Pataskala",
                                    "cus_state": "20",
                                    "cus_zip": "43062",
                                    "cus_phone": "7692163675",
                                    "cus_join_date": "2020-06-24",
                                    "cus_app_cd": "11",
                                    "cus_app_num": "OPC86812641",
                                    "tot_ord_qty": "45",
                                    "tot_ord_value": "27325.72"
                                },
                                {
                                    "cus_id": "2605",
                                    "cus_num": "NULL",
                                    "cus_last_name": "Bullock",
                                    "cus_first_name": "Pankaj",
                                    "cus_add_num": "7524",
                                    "cus_address": "Van Dyke St.",
                                    "cus_city": "Southampton",
                                    "cus_state": "22",
                                    "cus_zip": "18966",
                                    "cus_phone": "2812450867",
                                    "cus_join_date": "2020-03-20",
                                    "cus_app_cd": "3",
                                    "cus_app_num": "OPC85939415",
                                    "tot_ord_qty": "11",
                                    "tot_ord_value": "1214.88"
                                },
                                {
                                    "cus_id": "2606",
                                    "cus_num": "NULL",
                                    "cus_last_name": "Ware",
                                    "cus_first_name": "Reina",
                                    "cus_add_num": "656",
                                    "cus_address": "Grand Ave",
                                    "cus_city": "Los Angeles",
                                    "cus_state": "4",
                                    "cus_zip": "90008",
                                    "cus_phone": "3902290668",
                                    "cus_join_date": "2020-09-21",
                                    "cus_app_cd": "6",
                                    "cus_app_num": "OPC86472716",
                                    "tot_ord_qty": "64",
                                    "tot_ord_value": "6718.85"
                                },
                                {
                                    "cus_id": "2607",
                                    "cus_num": "NULL",
                                    "cus_last_name": "Ray",
                                    "cus_first_name": "Rosalin",
                                    "cus_add_num": "8564",
                                    "cus_address": "Old Woodland Rd",
                                    "cus_city": "Cranston",
                                    "cus_state": "23",
                                    "cus_zip": "2920",
                                    "cus_phone": "7944432375",
                                    "cus_join_date": "2020-06-06",
                                    "cus_app_cd": "9",
                                    "cus_app_num": "OPC87091916",
                                    "tot_ord_qty": "43",
                                    "tot_ord_value": "14012.58"
                                },
                                {
                                    "cus_id": "2608",
                                    "cus_num": "NULL",
                                    "cus_last_name": "Stark",
                                    "cus_first_name": "Herb",
                                    "cus_add_num": "7291",
                                    "cus_address": "Race St.",
                                    "cus_city": "Ithaca",
                                    "cus_state": "19",
                                    "cus_zip": "14850",
                                    "cus_phone": "2978433949",
                                    "cus_join_date": "2020-06-27",
                                    "cus_app_cd": "5",
                                    "cus_app_num": "OPC87321099",
                                    "tot_ord_qty": "28",
                                    "tot_ord_value": "4054.52"
                                },
                                {
                                    "cus_id": "2609",
                                    "cus_num": "NULL",
                                    "cus_last_name": "Bohme",
                                    "cus_first_name": "Bohuslav",
                                    "cus_add_num": "135",
                                    "cus_address": "Homewood Ln",
                                    "cus_city": "Merrimack",
                                    "cus_state": "19",
                                    "cus_zip": "3054",
                                    "cus_phone": "3147113467",
                                    "cus_join_date": "2020-12-12",
                                    "cus_app_cd": "19",
                                    "cus_app_num": "OPC86853764",
                                    "tot_ord_qty": "96",
                                    "tot_ord_value": "15178.38"
                                }
                            ]
                        },
                        "text/html": "<table><tr><th>cus_id</th><th>cus_num</th><th>cus_last_name</th><th>cus_first_name</th><th>cus_add_num</th><th>cus_address</th><th>cus_city</th><th>cus_state</th><th>cus_zip</th><th>cus_phone</th><th>cus_join_date</th><th>cus_app_cd</th><th>cus_app_num</th><th>tot_ord_qty</th><th>tot_ord_value</th></tr><tr><td>2600</td><td>NULL</td><td>Holzer</td><td>Yeni</td><td>8617</td><td>High Noon Street</td><td>Hattiesburg</td><td>17</td><td>39401</td><td>7833472627</td><td>2020-11-22</td><td>5</td><td>OPC85554622</td><td>60</td><td>10641.48</td></tr><tr><td>2601</td><td>NULL</td><td>Hull</td><td>Tancredo</td><td>7673</td><td>Cedat Camp Road</td><td>Oswego</td><td>19</td><td>13126</td><td>5154255063</td><td>2020-04-19</td><td>9</td><td>OPC86688258</td><td>49</td><td>24585.61</td></tr><tr><td>2602</td><td>NULL</td><td>Sokol</td><td>Teodor</td><td>965</td><td>Southampton</td><td>Salt Lake City</td><td>26</td><td>84119</td><td>8802052764</td><td>2020-04-15</td><td>14</td><td>OPC87710870</td><td>48</td><td>8514.29</td></tr><tr><td>2603</td><td>NULL</td><td>Barnes</td><td>Theo</td><td>270</td><td>High Noon Ave</td><td>Coram</td><td>19</td><td>11727</td><td>2779494240</td><td>2020-09-14</td><td>18</td><td>OPC78993136</td><td>76</td><td>19173.06</td></tr><tr><td>2604</td><td>NULL</td><td>Tempest</td><td>Simone</td><td>751</td><td>East Shadow Brook Dr.</td><td>Pataskala</td><td>20</td><td>43062</td><td>7692163675</td><td>2020-06-24</td><td>11</td><td>OPC86812641</td><td>45</td><td>27325.72</td></tr><tr><td>2605</td><td>NULL</td><td>Bullock</td><td>Pankaj</td><td>7524</td><td>Van Dyke St.</td><td>Southampton</td><td>22</td><td>18966</td><td>2812450867</td><td>2020-03-20</td><td>3</td><td>OPC85939415</td><td>11</td><td>1214.88</td></tr><tr><td>2606</td><td>NULL</td><td>Ware</td><td>Reina</td><td>656</td><td>Grand Ave</td><td>Los Angeles</td><td>4</td><td>90008</td><td>3902290668</td><td>2020-09-21</td><td>6</td><td>OPC86472716</td><td>64</td><td>6718.85</td></tr><tr><td>2607</td><td>NULL</td><td>Ray</td><td>Rosalin</td><td>8564</td><td>Old Woodland Rd</td><td>Cranston</td><td>23</td><td>2920</td><td>7944432375</td><td>2020-06-06</td><td>9</td><td>OPC87091916</td><td>43</td><td>14012.58</td></tr><tr><td>2608</td><td>NULL</td><td>Stark</td><td>Herb</td><td>7291</td><td>Race St.</td><td>Ithaca</td><td>19</td><td>14850</td><td>2978433949</td><td>2020-06-27</td><td>5</td><td>OPC87321099</td><td>28</td><td>4054.52</td></tr><tr><td>2609</td><td>NULL</td><td>Bohme</td><td>Bohuslav</td><td>135</td><td>Homewood Ln</td><td>Merrimack</td><td>19</td><td>3054</td><td>3147113467</td><td>2020-12-12</td><td>19</td><td>OPC86853764</td><td>96</td><td>15178.38</td></tr></table>"
                    },
                    "metadata": {}
                }
            ],
            "execution_count": 69
        },
        {
            "cell_type": "code",
            "source": [
                "-- Query the first 10 rows from Customerwarehouseorders table\r\n",
                "SELECT * FROM customerwarehouseorders LIMIT 10;"
            ],
            "metadata": {
                "language": "sql",
                "azdata_cell_guid": "c0239112-4528-4f0e-af50-53c83aee5179"
            },
            "outputs": [
                {
                    "output_type": "display_data",
                    "data": {
                        "text/html": "(10 row(s) affected)"
                    },
                    "metadata": {}
                },
                {
                    "output_type": "display_data",
                    "data": {
                        "text/html": "Total execution time: 00:00:00.002"
                    },
                    "metadata": {}
                },
                {
                    "output_type": "execute_result",
                    "execution_count": 65,
                    "data": {
                        "application/vnd.dataresource+json": {
                            "schema": {
                                "fields": [
                                    {
                                        "name": "cus_id"
                                    },
                                    {
                                        "name": "warehouse_id"
                                    },
                                    {
                                        "name": "ord_id"
                                    }
                                ]
                            },
                            "data": [
                                {
                                    "cus_id": "27",
                                    "warehouse_id": "2",
                                    "ord_id": "5920416"
                                },
                                {
                                    "cus_id": "28",
                                    "warehouse_id": "3",
                                    "ord_id": "4825298"
                                },
                                {
                                    "cus_id": "29",
                                    "warehouse_id": "1",
                                    "ord_id": "7009183"
                                },
                                {
                                    "cus_id": "30",
                                    "warehouse_id": "1",
                                    "ord_id": "5186311"
                                },
                                {
                                    "cus_id": "31",
                                    "warehouse_id": "3",
                                    "ord_id": "4274782"
                                },
                                {
                                    "cus_id": "32",
                                    "warehouse_id": "3",
                                    "ord_id": "2579402"
                                },
                                {
                                    "cus_id": "33",
                                    "warehouse_id": "3",
                                    "ord_id": "5974882"
                                },
                                {
                                    "cus_id": "34",
                                    "warehouse_id": "2",
                                    "ord_id": "6080581"
                                },
                                {
                                    "cus_id": "35",
                                    "warehouse_id": "2",
                                    "ord_id": "6507619"
                                },
                                {
                                    "cus_id": "36",
                                    "warehouse_id": "3",
                                    "ord_id": "6921547"
                                }
                            ]
                        },
                        "text/html": "<table><tr><th>cus_id</th><th>warehouse_id</th><th>ord_id</th></tr><tr><td>27</td><td>2</td><td>5920416</td></tr><tr><td>28</td><td>3</td><td>4825298</td></tr><tr><td>29</td><td>1</td><td>7009183</td></tr><tr><td>30</td><td>1</td><td>5186311</td></tr><tr><td>31</td><td>3</td><td>4274782</td></tr><tr><td>32</td><td>3</td><td>2579402</td></tr><tr><td>33</td><td>3</td><td>5974882</td></tr><tr><td>34</td><td>2</td><td>6080581</td></tr><tr><td>35</td><td>2</td><td>6507619</td></tr><tr><td>36</td><td>3</td><td>6921547</td></tr></table>"
                    },
                    "metadata": {}
                }
            ],
            "execution_count": 65
        },
        {
            "cell_type": "code",
            "source": [
                "-- Query the first 10 rows from orders table\r\n",
                "SELECT * FROM orders LIMIT 10;"
            ],
            "metadata": {
                "language": "sql",
                "azdata_cell_guid": "ff0ce1d1-6d94-4812-aac3-4d5888b491a9"
            },
            "outputs": [
                {
                    "output_type": "display_data",
                    "data": {
                        "text/html": "(10 row(s) affected)"
                    },
                    "metadata": {}
                },
                {
                    "output_type": "display_data",
                    "data": {
                        "text/html": "Total execution time: 00:00:00.005"
                    },
                    "metadata": {}
                },
                {
                    "output_type": "execute_result",
                    "execution_count": 2,
                    "data": {
                        "application/vnd.dataresource+json": {
                            "schema": {
                                "fields": [
                                    {
                                        "name": "ord_id"
                                    },
                                    {
                                        "name": "ord_date"
                                    },
                                    {
                                        "name": "ord_tax_loc"
                                    },
                                    {
                                        "name": "order_tot"
                                    },
                                    {
                                        "name": "ord_ship_add"
                                    },
                                    {
                                        "name": "ord_ship_date"
                                    },
                                    {
                                        "name": "ord_track_num"
                                    },
                                    {
                                        "name": "prod_id"
                                    },
                                    {
                                        "name": "warehouse_id"
                                    },
                                    {
                                        "name": "cus_id"
                                    }
                                ]
                            },
                            "data": [
                                {
                                    "ord_id": "5920416",
                                    "ord_date": "2018-08-08",
                                    "ord_tax_loc": "6 ",
                                    "order_tot": "2338.64",
                                    "ord_ship_add": "TRUE",
                                    "ord_ship_date": "2018-08-16",
                                    "ord_track_num": "PAC4170462-0    ",
                                    "prod_id": "57",
                                    "warehouse_id": "2",
                                    "cus_id": "27"
                                },
                                {
                                    "ord_id": "4825298",
                                    "ord_date": "2017-03-28",
                                    "ord_tax_loc": "16",
                                    "order_tot": "5275",
                                    "ord_ship_add": "FALSE",
                                    "ord_ship_date": "2017-03-30",
                                    "ord_track_num": "PAC9343767-0    ",
                                    "prod_id": "42",
                                    "warehouse_id": "3",
                                    "cus_id": "28"
                                },
                                {
                                    "ord_id": "7009183",
                                    "ord_date": "2010-10-14",
                                    "ord_tax_loc": "18",
                                    "order_tot": "4503.2",
                                    "ord_ship_add": "FALSE",
                                    "ord_ship_date": "2010-10-15",
                                    "ord_track_num": "PAC762592-3     ",
                                    "prod_id": "41",
                                    "warehouse_id": "1",
                                    "cus_id": "29"
                                },
                                {
                                    "ord_id": "5186311",
                                    "ord_date": "2001-05-12",
                                    "ord_tax_loc": "26",
                                    "order_tot": "8073.44",
                                    "ord_ship_add": "FALSE",
                                    "ord_ship_date": "2001-05-15",
                                    "ord_track_num": "PAC6865813-2    ",
                                    "prod_id": "15",
                                    "warehouse_id": "1",
                                    "cus_id": "30"
                                },
                                {
                                    "ord_id": "4274782",
                                    "ord_date": "2002-03-19",
                                    "ord_tax_loc": "25",
                                    "order_tot": "3572.2",
                                    "ord_ship_add": "FALSE",
                                    "ord_ship_date": "2002-03-25",
                                    "ord_track_num": "PAC5040387-3    ",
                                    "prod_id": "36",
                                    "warehouse_id": "3",
                                    "cus_id": "31"
                                },
                                {
                                    "ord_id": "2579402",
                                    "ord_date": "2012-11-10",
                                    "ord_tax_loc": "30",
                                    "order_tot": "4158.96",
                                    "ord_ship_add": "FALSE",
                                    "ord_ship_date": "2012-11-11",
                                    "ord_track_num": "PAC268985-1     ",
                                    "prod_id": "35",
                                    "warehouse_id": "3",
                                    "cus_id": "32"
                                },
                                {
                                    "ord_id": "5974882",
                                    "ord_date": "2000-07-07",
                                    "ord_tax_loc": "4 ",
                                    "order_tot": "3430.93",
                                    "ord_ship_add": "TRUE",
                                    "ord_ship_date": "2000-07-10",
                                    "ord_track_num": "PAC4112909-1    ",
                                    "prod_id": "43",
                                    "warehouse_id": "3",
                                    "cus_id": "33"
                                },
                                {
                                    "ord_id": "6080581",
                                    "ord_date": "2003-05-22",
                                    "ord_tax_loc": "21",
                                    "order_tot": "5099",
                                    "ord_ship_add": "TRUE",
                                    "ord_ship_date": "2003-06-01",
                                    "ord_track_num": "PAC2181266-3    ",
                                    "prod_id": "10",
                                    "warehouse_id": "2",
                                    "cus_id": "34"
                                },
                                {
                                    "ord_id": "6507619",
                                    "ord_date": "2010-02-25",
                                    "ord_tax_loc": "7 ",
                                    "order_tot": "4199",
                                    "ord_ship_add": "TRUE",
                                    "ord_ship_date": "2010-03-02",
                                    "ord_track_num": "PAC3561253-3    ",
                                    "prod_id": "40",
                                    "warehouse_id": "2",
                                    "cus_id": "35"
                                },
                                {
                                    "ord_id": "6921547",
                                    "ord_date": "2012-02-26",
                                    "ord_tax_loc": "23",
                                    "order_tot": "5006.53",
                                    "ord_ship_add": "FALSE",
                                    "ord_ship_date": "2012-03-06",
                                    "ord_track_num": "PAC6665295-3    ",
                                    "prod_id": "49",
                                    "warehouse_id": "3",
                                    "cus_id": "36"
                                }
                            ]
                        },
                        "text/html": "<table><tr><th>ord_id</th><th>ord_date</th><th>ord_tax_loc</th><th>order_tot</th><th>ord_ship_add</th><th>ord_ship_date</th><th>ord_track_num</th><th>prod_id</th><th>warehouse_id</th><th>cus_id</th></tr><tr><td>5920416</td><td>2018-08-08</td><td>6 </td><td>2338.64</td><td>TRUE</td><td>2018-08-16</td><td>PAC4170462-0    </td><td>57</td><td>2</td><td>27</td></tr><tr><td>4825298</td><td>2017-03-28</td><td>16</td><td>5275</td><td>FALSE</td><td>2017-03-30</td><td>PAC9343767-0    </td><td>42</td><td>3</td><td>28</td></tr><tr><td>7009183</td><td>2010-10-14</td><td>18</td><td>4503.2</td><td>FALSE</td><td>2010-10-15</td><td>PAC762592-3     </td><td>41</td><td>1</td><td>29</td></tr><tr><td>5186311</td><td>2001-05-12</td><td>26</td><td>8073.44</td><td>FALSE</td><td>2001-05-15</td><td>PAC6865813-2    </td><td>15</td><td>1</td><td>30</td></tr><tr><td>4274782</td><td>2002-03-19</td><td>25</td><td>3572.2</td><td>FALSE</td><td>2002-03-25</td><td>PAC5040387-3    </td><td>36</td><td>3</td><td>31</td></tr><tr><td>2579402</td><td>2012-11-10</td><td>30</td><td>4158.96</td><td>FALSE</td><td>2012-11-11</td><td>PAC268985-1     </td><td>35</td><td>3</td><td>32</td></tr><tr><td>5974882</td><td>2000-07-07</td><td>4 </td><td>3430.93</td><td>TRUE</td><td>2000-07-10</td><td>PAC4112909-1    </td><td>43</td><td>3</td><td>33</td></tr><tr><td>6080581</td><td>2003-05-22</td><td>21</td><td>5099</td><td>TRUE</td><td>2003-06-01</td><td>PAC2181266-3    </td><td>10</td><td>2</td><td>34</td></tr><tr><td>6507619</td><td>2010-02-25</td><td>7 </td><td>4199</td><td>TRUE</td><td>2010-03-02</td><td>PAC3561253-3    </td><td>40</td><td>2</td><td>35</td></tr><tr><td>6921547</td><td>2012-02-26</td><td>23</td><td>5006.53</td><td>FALSE</td><td>2012-03-06</td><td>PAC6665295-3    </td><td>49</td><td>3</td><td>36</td></tr></table>"
                    },
                    "metadata": {}
                }
            ],
            "execution_count": 2
        },
        {
            "cell_type": "code",
            "source": [
                "-- Query the first 10 rows from customerwarehousereturns table\r\n",
                "SELECT * FROM customerwarehousereturns LIMIT 10;"
            ],
            "metadata": {
                "language": "sql",
                "azdata_cell_guid": "28216034-330b-4b59-aad1-f1c6776dace2"
            },
            "outputs": [
                {
                    "output_type": "display_data",
                    "data": {
                        "text/html": "(0 row(s) affected)"
                    },
                    "metadata": {}
                },
                {
                    "output_type": "display_data",
                    "data": {
                        "text/html": "Total execution time: 00:00:00.001"
                    },
                    "metadata": {}
                },
                {
                    "output_type": "execute_result",
                    "execution_count": 4,
                    "data": {
                        "application/vnd.dataresource+json": {
                            "schema": {
                                "fields": [
                                    {
                                        "name": "cus_id"
                                    },
                                    {
                                        "name": "warehouse_id"
                                    },
                                    {
                                        "name": "ord_id"
                                    },
                                    {
                                        "name": "rac_id"
                                    }
                                ]
                            },
                            "data": []
                        },
                        "text/html": "<table><tr><th>cus_id</th><th>warehouse_id</th><th>ord_id</th><th>rac_id</th></tr></table>"
                    },
                    "metadata": {}
                }
            ],
            "execution_count": 4
        },
        {
            "cell_type": "code",
            "source": [
                "-- Query the first 10 rows from ordertaxes table\r\n",
                "SELECT * FROM ordertaxes LIMIT 10;"
            ],
            "metadata": {
                "language": "sql",
                "azdata_cell_guid": "2b450805-2bb8-44d9-a08f-917083901b6d"
            },
            "outputs": [
                {
                    "output_type": "display_data",
                    "data": {
                        "text/html": "(0 row(s) affected)"
                    },
                    "metadata": {}
                },
                {
                    "output_type": "display_data",
                    "data": {
                        "text/html": "Total execution time: 00:00:00.001"
                    },
                    "metadata": {}
                },
                {
                    "output_type": "execute_result",
                    "execution_count": 9,
                    "data": {
                        "application/vnd.dataresource+json": {
                            "schema": {
                                "fields": [
                                    {
                                        "name": "ord_id"
                                    },
                                    {
                                        "name": "ord_date"
                                    },
                                    {
                                        "name": "tax_rate"
                                    }
                                ]
                            },
                            "data": []
                        },
                        "text/html": "<table><tr><th>ord_id</th><th>ord_date</th><th>tax_rate</th></tr></table>"
                    },
                    "metadata": {}
                }
            ],
            "execution_count": 9
        },
        {
            "cell_type": "code",
            "source": [
                "-- Query the first 10 rows from productbuilds table\r\n",
                "SELECT * FROM productbuilds LIMIT 10;"
            ],
            "metadata": {
                "language": "sql",
                "azdata_cell_guid": "7e751ee3-b2c3-4ba0-9454-cae39922ac25",
                "tags": []
            },
            "outputs": [
                {
                    "output_type": "display_data",
                    "data": {
                        "text/html": "(0 row(s) affected)"
                    },
                    "metadata": {}
                },
                {
                    "output_type": "display_data",
                    "data": {
                        "text/html": "Total execution time: 00:00:00.002"
                    },
                    "metadata": {}
                },
                {
                    "output_type": "execute_result",
                    "execution_count": 8,
                    "data": {
                        "application/vnd.dataresource+json": {
                            "schema": {
                                "fields": [
                                    {
                                        "name": "prod_id"
                                    },
                                    {
                                        "name": "build_id"
                                    }
                                ]
                            },
                            "data": []
                        },
                        "text/html": "<table><tr><th>prod_id</th><th>build_id</th></tr></table>"
                    },
                    "metadata": {}
                }
            ],
            "execution_count": 8
        },
        {
            "cell_type": "code",
            "source": [
                "-- Query the first 10 rows from products table\r\n",
                "SELECT * FROM products LIMIT 10;"
            ],
            "metadata": {
                "language": "sql",
                "azdata_cell_guid": "faed4ab5-c733-43a5-8db8-21aa9ca16f4f"
            },
            "outputs": [
                {
                    "output_type": "display_data",
                    "data": {
                        "text/html": "(10 row(s) affected)"
                    },
                    "metadata": {}
                },
                {
                    "output_type": "display_data",
                    "data": {
                        "text/html": "Total execution time: 00:00:00.003"
                    },
                    "metadata": {}
                },
                {
                    "output_type": "execute_result",
                    "execution_count": 78,
                    "data": {
                        "application/vnd.dataresource+json": {
                            "schema": {
                                "fields": [
                                    {
                                        "name": "prod_id"
                                    },
                                    {
                                        "name": "prod_cat_name"
                                    },
                                    {
                                        "name": "prod_manufacturer"
                                    },
                                    {
                                        "name": "prod_name"
                                    },
                                    {
                                        "name": "prod_description"
                                    },
                                    {
                                        "name": "prod_price"
                                    },
                                    {
                                        "name": "prod_class"
                                    },
                                    {
                                        "name": "country_origin"
                                    },
                                    {
                                        "name": "sup_id"
                                    }
                                ]
                            },
                            "data": [
                                {
                                    "prod_id": "9",
                                    "prod_cat_name": "NULL",
                                    "prod_manufacturer": "63",
                                    "prod_name": "Tallboy",
                                    "prod_description": "Full-Suspension Mountain Bike",
                                    "prod_price": "2799",
                                    "prod_class": "Mid",
                                    "country_origin": "2,3,4",
                                    "sup_id": "NULL"
                                },
                                {
                                    "prod_id": "68",
                                    "prod_cat_name": "NULL",
                                    "prod_manufacturer": "61",
                                    "prod_name": "Occam",
                                    "prod_description": "Full-Suspension Mountain Bike",
                                    "prod_price": "3999",
                                    "prod_class": "Mid",
                                    "country_origin": "2,3",
                                    "sup_id": "NULL"
                                },
                                {
                                    "prod_id": "43",
                                    "prod_cat_name": "NULL",
                                    "prod_manufacturer": "70",
                                    "prod_name": "Troy",
                                    "prod_description": "Full-Suspension Mountain Bike",
                                    "prod_price": "3199",
                                    "prod_class": "Mid",
                                    "country_origin": "2",
                                    "sup_id": "NULL"
                                },
                                {
                                    "prod_id": "37",
                                    "prod_cat_name": "NULL",
                                    "prod_manufacturer": "22",
                                    "prod_name": "DV9",
                                    "prod_description": "Hardtail Mountain Bike",
                                    "prod_price": "3009",
                                    "prod_class": "Mid",
                                    "country_origin": "1",
                                    "sup_id": "NULL"
                                },
                                {
                                    "prod_id": "26",
                                    "prod_cat_name": "NULL",
                                    "prod_manufacturer": "8",
                                    "prod_name": "Process 153",
                                    "prod_description": "Full-Suspension Mountain Bike",
                                    "prod_price": "3064",
                                    "prod_class": "Mid",
                                    "country_origin": "2,3,4",
                                    "sup_id": "NULL"
                                },
                                {
                                    "prod_id": "69",
                                    "prod_cat_name": "NULL",
                                    "prod_manufacturer": "61",
                                    "prod_name": "Occam",
                                    "prod_description": "Full-Suspension Mountain Bike",
                                    "prod_price": "3999",
                                    "prod_class": "Mid",
                                    "country_origin": "2,3",
                                    "sup_id": "NULL"
                                },
                                {
                                    "prod_id": "27",
                                    "prod_cat_name": "NULL",
                                    "prod_manufacturer": "8",
                                    "prod_name": "Hei Hei",
                                    "prod_description": "Full-Suspension Mountain Bike",
                                    "prod_price": "4227.99",
                                    "prod_class": "Mid",
                                    "country_origin": "2,3",
                                    "sup_id": "NULL"
                                },
                                {
                                    "prod_id": "38",
                                    "prod_cat_name": "NULL",
                                    "prod_manufacturer": "22",
                                    "prod_name": "Ripmo",
                                    "prod_description": "Full-Suspension Mountain Bike",
                                    "prod_price": "4399",
                                    "prod_class": "Mid",
                                    "country_origin": "2,3,4",
                                    "sup_id": "NULL"
                                },
                                {
                                    "prod_id": "54",
                                    "prod_cat_name": "NULL",
                                    "prod_manufacturer": "10",
                                    "prod_name": "G-Series",
                                    "prod_description": "Full-Suspension Mountain Bike",
                                    "prod_price": "5656.41",
                                    "prod_class": "Expert",
                                    "country_origin": "4",
                                    "sup_id": "NULL"
                                },
                                {
                                    "prod_id": "13",
                                    "prod_cat_name": "NULL",
                                    "prod_manufacturer": "25",
                                    "prod_name": "SB140",
                                    "prod_description": "Full-Suspension Mountain Bike",
                                    "prod_price": "5800",
                                    "prod_class": "Expert",
                                    "country_origin": "2,3,4",
                                    "sup_id": "NULL"
                                }
                            ]
                        },
                        "text/html": "<table><tr><th>prod_id</th><th>prod_cat_name</th><th>prod_manufacturer</th><th>prod_name</th><th>prod_description</th><th>prod_price</th><th>prod_class</th><th>country_origin</th><th>sup_id</th></tr><tr><td>9</td><td>NULL</td><td>63</td><td>Tallboy</td><td>Full-Suspension Mountain Bike</td><td>2799</td><td>Mid</td><td>2,3,4</td><td>NULL</td></tr><tr><td>68</td><td>NULL</td><td>61</td><td>Occam</td><td>Full-Suspension Mountain Bike</td><td>3999</td><td>Mid</td><td>2,3</td><td>NULL</td></tr><tr><td>43</td><td>NULL</td><td>70</td><td>Troy</td><td>Full-Suspension Mountain Bike</td><td>3199</td><td>Mid</td><td>2</td><td>NULL</td></tr><tr><td>37</td><td>NULL</td><td>22</td><td>DV9</td><td>Hardtail Mountain Bike</td><td>3009</td><td>Mid</td><td>1</td><td>NULL</td></tr><tr><td>26</td><td>NULL</td><td>8</td><td>Process 153</td><td>Full-Suspension Mountain Bike</td><td>3064</td><td>Mid</td><td>2,3,4</td><td>NULL</td></tr><tr><td>69</td><td>NULL</td><td>61</td><td>Occam</td><td>Full-Suspension Mountain Bike</td><td>3999</td><td>Mid</td><td>2,3</td><td>NULL</td></tr><tr><td>27</td><td>NULL</td><td>8</td><td>Hei Hei</td><td>Full-Suspension Mountain Bike</td><td>4227.99</td><td>Mid</td><td>2,3</td><td>NULL</td></tr><tr><td>38</td><td>NULL</td><td>22</td><td>Ripmo</td><td>Full-Suspension Mountain Bike</td><td>4399</td><td>Mid</td><td>2,3,4</td><td>NULL</td></tr><tr><td>54</td><td>NULL</td><td>10</td><td>G-Series</td><td>Full-Suspension Mountain Bike</td><td>5656.41</td><td>Expert</td><td>4</td><td>NULL</td></tr><tr><td>13</td><td>NULL</td><td>25</td><td>SB140</td><td>Full-Suspension Mountain Bike</td><td>5800</td><td>Expert</td><td>2,3,4</td><td>NULL</td></tr></table>"
                    },
                    "metadata": {}
                }
            ],
            "execution_count": 78
        },
        {
            "cell_type": "code",
            "source": [
                "-- Query the first 10 rows from  racs table\r\n",
                "SELECT * FROM  racs LIMIT 10;"
            ],
            "metadata": {
                "language": "sql",
                "azdata_cell_guid": "45662c10-3223-4ac7-be37-eb75a4ae93cf"
            },
            "outputs": [
                {
                    "output_type": "display_data",
                    "data": {
                        "text/html": "(0 row(s) affected)"
                    },
                    "metadata": {}
                },
                {
                    "output_type": "display_data",
                    "data": {
                        "text/html": "Total execution time: 00:00:00.003"
                    },
                    "metadata": {}
                },
                {
                    "output_type": "execute_result",
                    "execution_count": 7,
                    "data": {
                        "application/vnd.dataresource+json": {
                            "schema": {
                                "fields": [
                                    {
                                        "name": "rac_id"
                                    },
                                    {
                                        "name": "tot_ret_item_cnt"
                                    },
                                    {
                                        "name": "tot_ret_amnt"
                                    },
                                    {
                                        "name": "cus_id"
                                    },
                                    {
                                        "name": "ord_id"
                                    },
                                    {
                                        "name": "warehouse_id"
                                    },
                                    {
                                        "name": "prod_id"
                                    },
                                    {
                                        "name": "comp_id"
                                    }
                                ]
                            },
                            "data": []
                        },
                        "text/html": "<table><tr><th>rac_id</th><th>tot_ret_item_cnt</th><th>tot_ret_amnt</th><th>cus_id</th><th>ord_id</th><th>warehouse_id</th><th>prod_id</th><th>comp_id</th></tr></table>"
                    },
                    "metadata": {}
                }
            ],
            "execution_count": 7
        },
        {
            "cell_type": "code",
            "source": [
                "-- Query the first 10 rows from states table\r\n",
                "SELECT * FROM states LIMIT 23;"
            ],
            "metadata": {
                "language": "sql",
                "azdata_cell_guid": "fa7109bc-751f-4ea6-935e-371cef760de2"
            },
            "outputs": [
                {
                    "output_type": "display_data",
                    "data": {
                        "text/html": "(23 row(s) affected)"
                    },
                    "metadata": {}
                },
                {
                    "output_type": "display_data",
                    "data": {
                        "text/html": "Total execution time: 00:00:00.001"
                    },
                    "metadata": {}
                },
                {
                    "output_type": "execute_result",
                    "execution_count": 11,
                    "data": {
                        "application/vnd.dataresource+json": {
                            "schema": {
                                "fields": [
                                    {
                                        "name": "state_id"
                                    },
                                    {
                                        "name": "state"
                                    }
                                ]
                            },
                            "data": [
                                {
                                    "state_id": "1",
                                    "state": "AK"
                                },
                                {
                                    "state_id": "2",
                                    "state": "AL"
                                },
                                {
                                    "state_id": "3",
                                    "state": "AZ"
                                },
                                {
                                    "state_id": "4",
                                    "state": "CA"
                                },
                                {
                                    "state_id": "5",
                                    "state": "CO"
                                },
                                {
                                    "state_id": "6",
                                    "state": "CT"
                                },
                                {
                                    "state_id": "7",
                                    "state": "DE"
                                },
                                {
                                    "state_id": "8",
                                    "state": "FL"
                                },
                                {
                                    "state_id": "9",
                                    "state": "GA"
                                },
                                {
                                    "state_id": "10",
                                    "state": "HI"
                                },
                                {
                                    "state_id": "11",
                                    "state": "IA"
                                },
                                {
                                    "state_id": "12",
                                    "state": "IN"
                                },
                                {
                                    "state_id": "13",
                                    "state": "KS"
                                },
                                {
                                    "state_id": "14",
                                    "state": "KY"
                                },
                                {
                                    "state_id": "15",
                                    "state": "LA"
                                },
                                {
                                    "state_id": "16",
                                    "state": "ME"
                                },
                                {
                                    "state_id": "17",
                                    "state": "MN"
                                },
                                {
                                    "state_id": "18",
                                    "state": "NC"
                                },
                                {
                                    "state_id": "19",
                                    "state": "NE"
                                },
                                {
                                    "state_id": "20",
                                    "state": "OH"
                                },
                                {
                                    "state_id": "21",
                                    "state": "OR"
                                },
                                {
                                    "state_id": "22",
                                    "state": "PA"
                                },
                                {
                                    "state_id": "23",
                                    "state": "RI"
                                }
                            ]
                        },
                        "text/html": "<table><tr><th>state_id</th><th>state</th></tr><tr><td>1</td><td>AK</td></tr><tr><td>2</td><td>AL</td></tr><tr><td>3</td><td>AZ</td></tr><tr><td>4</td><td>CA</td></tr><tr><td>5</td><td>CO</td></tr><tr><td>6</td><td>CT</td></tr><tr><td>7</td><td>DE</td></tr><tr><td>8</td><td>FL</td></tr><tr><td>9</td><td>GA</td></tr><tr><td>10</td><td>HI</td></tr><tr><td>11</td><td>IA</td></tr><tr><td>12</td><td>IN</td></tr><tr><td>13</td><td>KS</td></tr><tr><td>14</td><td>KY</td></tr><tr><td>15</td><td>LA</td></tr><tr><td>16</td><td>ME</td></tr><tr><td>17</td><td>MN</td></tr><tr><td>18</td><td>NC</td></tr><tr><td>19</td><td>NE</td></tr><tr><td>20</td><td>OH</td></tr><tr><td>21</td><td>OR</td></tr><tr><td>22</td><td>PA</td></tr><tr><td>23</td><td>RI</td></tr></table>"
                    },
                    "metadata": {}
                }
            ],
            "execution_count": 11
        },
        {
            "cell_type": "code",
            "source": [
                "-- Query the first 10 rows from suppliers table\r\n",
                "SELECT * FROM suppliers LIMIT 10;"
            ],
            "metadata": {
                "language": "sql",
                "azdata_cell_guid": "b9831255-3be2-4e28-b10f-7c8061c05e0f"
            },
            "outputs": [
                {
                    "output_type": "display_data",
                    "data": {
                        "text/html": "(10 row(s) affected)"
                    },
                    "metadata": {}
                },
                {
                    "output_type": "display_data",
                    "data": {
                        "text/html": "Total execution time: 00:00:00.003"
                    },
                    "metadata": {}
                },
                {
                    "output_type": "execute_result",
                    "execution_count": 81,
                    "data": {
                        "application/vnd.dataresource+json": {
                            "schema": {
                                "fields": [
                                    {
                                        "name": "sup_id"
                                    },
                                    {
                                        "name": "sup_name"
                                    },
                                    {
                                        "name": "sup_ctry"
                                    }
                                ]
                            },
                            "data": [
                                {
                                    "sup_id": "1",
                                    "sup_name": "Giant",
                                    "sup_ctry": "Taiwan"
                                },
                                {
                                    "sup_id": "2",
                                    "sup_name": "Ride Alpha",
                                    "sup_ctry": "Andorra"
                                },
                                {
                                    "sup_id": "3",
                                    "sup_name": "Niner",
                                    "sup_ctry": "USA"
                                },
                                {
                                    "sup_id": "4",
                                    "sup_name": "Enve",
                                    "sup_ctry": "USA"
                                },
                                {
                                    "sup_id": "5",
                                    "sup_name": "e13",
                                    "sup_ctry": "USA"
                                },
                                {
                                    "sup_id": "6",
                                    "sup_name": "RaceFace",
                                    "sup_ctry": "Canada"
                                },
                                {
                                    "sup_id": "8",
                                    "sup_name": "Kona",
                                    "sup_ctry": "USA"
                                },
                                {
                                    "sup_id": "9",
                                    "sup_name": "Deity",
                                    "sup_ctry": "USA"
                                },
                                {
                                    "sup_id": "10",
                                    "sup_name": "Whyte",
                                    "sup_ctry": "UK"
                                },
                                {
                                    "sup_id": "11",
                                    "sup_name": "Newman",
                                    "sup_ctry": "Germany"
                                }
                            ]
                        },
                        "text/html": "<table><tr><th>sup_id</th><th>sup_name</th><th>sup_ctry</th></tr><tr><td>1</td><td>Giant</td><td>Taiwan</td></tr><tr><td>2</td><td>Ride Alpha</td><td>Andorra</td></tr><tr><td>3</td><td>Niner</td><td>USA</td></tr><tr><td>4</td><td>Enve</td><td>USA</td></tr><tr><td>5</td><td>e13</td><td>USA</td></tr><tr><td>6</td><td>RaceFace</td><td>Canada</td></tr><tr><td>8</td><td>Kona</td><td>USA</td></tr><tr><td>9</td><td>Deity</td><td>USA</td></tr><tr><td>10</td><td>Whyte</td><td>UK</td></tr><tr><td>11</td><td>Newman</td><td>Germany</td></tr></table>"
                    },
                    "metadata": {}
                }
            ],
            "execution_count": 81
        },
        {
            "cell_type": "code",
            "source": [
                "-- Query the first 10 rows from taxes  table\r\n",
                "SELECT * FROM taxes  LIMIT 10;"
            ],
            "metadata": {
                "language": "sql",
                "azdata_cell_guid": "42503723-be4a-47f2-b28e-5a6b587ee879"
            },
            "outputs": [
                {
                    "output_type": "display_data",
                    "data": {
                        "text/html": "(10 row(s) affected)"
                    },
                    "metadata": {}
                },
                {
                    "output_type": "display_data",
                    "data": {
                        "text/html": "Total execution time: 00:00:00.002"
                    },
                    "metadata": {}
                },
                {
                    "output_type": "execute_result",
                    "execution_count": 132,
                    "data": {
                        "application/vnd.dataresource+json": {
                            "schema": {
                                "fields": [
                                    {
                                        "name": "tax_id"
                                    },
                                    {
                                        "name": "tax_location"
                                    },
                                    {
                                        "name": "tax_rate"
                                    }
                                ]
                            },
                            "data": [
                                {
                                    "tax_id": "1",
                                    "tax_location": "AK",
                                    "tax_rate": "0"
                                },
                                {
                                    "tax_id": "2",
                                    "tax_location": "AL",
                                    "tax_rate": "4"
                                },
                                {
                                    "tax_id": "3",
                                    "tax_location": "AZ",
                                    "tax_rate": "5.6"
                                },
                                {
                                    "tax_id": "4",
                                    "tax_location": "CA",
                                    "tax_rate": "7.25"
                                },
                                {
                                    "tax_id": "5",
                                    "tax_location": "CO",
                                    "tax_rate": "7.25"
                                },
                                {
                                    "tax_id": "6",
                                    "tax_location": "CT",
                                    "tax_rate": "6.35"
                                },
                                {
                                    "tax_id": "7",
                                    "tax_location": "DE",
                                    "tax_rate": "0"
                                },
                                {
                                    "tax_id": "8",
                                    "tax_location": "FL",
                                    "tax_rate": "6"
                                },
                                {
                                    "tax_id": "9",
                                    "tax_location": "GA",
                                    "tax_rate": "4"
                                },
                                {
                                    "tax_id": "10",
                                    "tax_location": "HI",
                                    "tax_rate": "4"
                                }
                            ]
                        },
                        "text/html": "<table><tr><th>tax_id</th><th>tax_location</th><th>tax_rate</th></tr><tr><td>1</td><td>AK</td><td>0</td></tr><tr><td>2</td><td>AL</td><td>4</td></tr><tr><td>3</td><td>AZ</td><td>5.6</td></tr><tr><td>4</td><td>CA</td><td>7.25</td></tr><tr><td>5</td><td>CO</td><td>7.25</td></tr><tr><td>6</td><td>CT</td><td>6.35</td></tr><tr><td>7</td><td>DE</td><td>0</td></tr><tr><td>8</td><td>FL</td><td>6</td></tr><tr><td>9</td><td>GA</td><td>4</td></tr><tr><td>10</td><td>HI</td><td>4</td></tr></table>"
                    },
                    "metadata": {}
                }
            ],
            "execution_count": 132
        },
        {
            "cell_type": "code",
            "source": [
                "-- Query the first 10 rows from warehouses table\r\n",
                "SELECT * FROM warehouses LIMIT 10;"
            ],
            "metadata": {
                "language": "sql",
                "azdata_cell_guid": "c515e90f-85b3-4a16-af7b-c979e9422d3c"
            },
            "outputs": [
                {
                    "output_type": "display_data",
                    "data": {
                        "text/html": "(3 row(s) affected)"
                    },
                    "metadata": {}
                },
                {
                    "output_type": "display_data",
                    "data": {
                        "text/html": "Total execution time: 00:00:00.003"
                    },
                    "metadata": {}
                },
                {
                    "output_type": "execute_result",
                    "execution_count": 83,
                    "data": {
                        "application/vnd.dataresource+json": {
                            "schema": {
                                "fields": [
                                    {
                                        "name": "warehouse_id"
                                    },
                                    {
                                        "name": "warehouse_name"
                                    },
                                    {
                                        "name": "warehouse_state"
                                    }
                                ]
                            },
                            "data": [
                                {
                                    "warehouse_id": "3",
                                    "warehouse_name": "Columbus",
                                    "warehouse_state": "20"
                                },
                                {
                                    "warehouse_id": "1",
                                    "warehouse_name": "Sacramento",
                                    "warehouse_state": "4"
                                },
                                {
                                    "warehouse_id": "2",
                                    "warehouse_name": "Dallas",
                                    "warehouse_state": "31"
                                }
                            ]
                        },
                        "text/html": "<table><tr><th>warehouse_id</th><th>warehouse_name</th><th>warehouse_state</th></tr><tr><td>3</td><td>Columbus</td><td>20</td></tr><tr><td>1</td><td>Sacramento</td><td>4</td></tr><tr><td>2</td><td>Dallas</td><td>31</td></tr></table>"
                    },
                    "metadata": {}
                }
            ],
            "execution_count": 83
        },
        {
            "cell_type": "code",
            "source": [
                "-- Check primary key constraints for the 'builds' table in the 'dsci_504' schema\r\n",
                "SELECT con.*\r\n",
                "FROM pg_catalog.pg_constraint con\r\n",
                "INNER JOIN pg_catalog.pg_class rel ON rel.oid = con.conrelid\r\n",
                "INNER JOIN pg_catalog.pg_namespace nsp ON nsp.oid = connamespace\r\n",
                "WHERE nsp.nspname = 'dsci_504'\r\n",
                "AND rel.relname = 'builds';\r\n",
                ""
            ],
            "metadata": {
                "language": "sql",
                "azdata_cell_guid": "52e0f458-d216-436b-b0c2-377a55b58cf6"
            },
            "outputs": [
                {
                    "output_type": "display_data",
                    "data": {
                        "text/html": "(0 row(s) affected)"
                    },
                    "metadata": {}
                },
                {
                    "output_type": "display_data",
                    "data": {
                        "text/html": "Total execution time: 00:00:00.003"
                    },
                    "metadata": {}
                },
                {
                    "output_type": "execute_result",
                    "execution_count": 87,
                    "data": {
                        "application/vnd.dataresource+json": {
                            "schema": {
                                "fields": [
                                    {
                                        "name": "oid"
                                    },
                                    {
                                        "name": "conname"
                                    },
                                    {
                                        "name": "connamespace"
                                    },
                                    {
                                        "name": "contype"
                                    },
                                    {
                                        "name": "condeferrable"
                                    },
                                    {
                                        "name": "condeferred"
                                    },
                                    {
                                        "name": "convalidated"
                                    },
                                    {
                                        "name": "conrelid"
                                    },
                                    {
                                        "name": "contypid"
                                    },
                                    {
                                        "name": "conindid"
                                    },
                                    {
                                        "name": "conparentid"
                                    },
                                    {
                                        "name": "confrelid"
                                    },
                                    {
                                        "name": "confupdtype"
                                    },
                                    {
                                        "name": "confdeltype"
                                    },
                                    {
                                        "name": "confmatchtype"
                                    },
                                    {
                                        "name": "conislocal"
                                    },
                                    {
                                        "name": "coninhcount"
                                    },
                                    {
                                        "name": "connoinherit"
                                    },
                                    {
                                        "name": "conkey"
                                    },
                                    {
                                        "name": "confkey"
                                    },
                                    {
                                        "name": "conpfeqop"
                                    },
                                    {
                                        "name": "conppeqop"
                                    },
                                    {
                                        "name": "conffeqop"
                                    },
                                    {
                                        "name": "confdelsetcols"
                                    },
                                    {
                                        "name": "conexclop"
                                    },
                                    {
                                        "name": "conbin"
                                    }
                                ]
                            },
                            "data": []
                        },
                        "text/html": "<table><tr><th>oid</th><th>conname</th><th>connamespace</th><th>contype</th><th>condeferrable</th><th>condeferred</th><th>convalidated</th><th>conrelid</th><th>contypid</th><th>conindid</th><th>conparentid</th><th>confrelid</th><th>confupdtype</th><th>confdeltype</th><th>confmatchtype</th><th>conislocal</th><th>coninhcount</th><th>connoinherit</th><th>conkey</th><th>confkey</th><th>conpfeqop</th><th>conppeqop</th><th>conffeqop</th><th>confdelsetcols</th><th>conexclop</th><th>conbin</th></tr></table>"
                    },
                    "metadata": {}
                }
            ],
            "execution_count": 87
        },
        {
            "cell_type": "markdown",
            "source": [
                "# Foreign Key Associations:"
            ],
            "metadata": {
                "language": "sql",
                "azdata_cell_guid": "ef5b8019-12e1-4c2c-bac5-c7530ca1b011"
            },
            "attachments": {}
        },
        {
            "cell_type": "code",
            "source": [
                "ALTER TABLE orders\r\n",
                "ADD CONSTRAINT fk_cus_id FOREIGN KEY (cus_id) REFERENCES customers(cus_id),\r\n",
                "ADD CONSTRAINT fk_prod_id FOREIGN KEY (prod_id) REFERENCES products(prod_id);\r\n",
                ""
            ],
            "metadata": {
                "language": "sql",
                "azdata_cell_guid": "627966e5-9c13-404a-82a1-d38579aea45e"
            },
            "outputs": [
                {
                    "output_type": "error",
                    "ename": "",
                    "evalue": "constraint \"fk_cus_id\" for relation \"orders\" already exists",
                    "traceback": []
                },
                {
                    "output_type": "display_data",
                    "data": {
                        "text/html": "Total execution time: 00:00:00.001"
                    },
                    "metadata": {}
                }
            ],
            "execution_count": 88
        },
        {
            "cell_type": "code",
            "source": [
                "ALTER TABLE productbuilds\r\n",
                "ADD CONSTRAINT fk_prod_id FOREIGN KEY (prod_id) REFERENCES products(prod_id),\r\n",
                "ADD CONSTRAINT fk_build_id FOREIGN KEY (build_id) REFERENCES builds(build_id);\r\n",
                ""
            ],
            "metadata": {
                "language": "sql",
                "azdata_cell_guid": "1a9d47f3-678e-4c41-863e-3db99db95704"
            },
            "outputs": [
                {
                    "output_type": "error",
                    "ename": "",
                    "evalue": "constraint \"fk_prod_id\" for relation \"productbuilds\" already exists",
                    "traceback": []
                },
                {
                    "output_type": "display_data",
                    "data": {
                        "text/html": "Total execution time: 00:00:00"
                    },
                    "metadata": {}
                }
            ],
            "execution_count": 94
        },
        {
            "cell_type": "code",
            "source": [
                "ALTER TABLE ordertaxes\r\n",
                "ADD CONSTRAINT fk_ord_id FOREIGN KEY (ord_id) REFERENCES orders(ord_id);\r\n",
                ""
            ],
            "metadata": {
                "language": "sql",
                "azdata_cell_guid": "95f39f67-e198-4e0d-9c5c-ec4aec04627f"
            },
            "outputs": [
                {
                    "output_type": "error",
                    "ename": "",
                    "evalue": "constraint \"fk_ord_id\" for relation \"ordertaxes\" already exists",
                    "traceback": []
                },
                {
                    "output_type": "display_data",
                    "data": {
                        "text/html": "Total execution time: 00:00:00"
                    },
                    "metadata": {}
                }
            ],
            "execution_count": 95
        },
        {
            "cell_type": "code",
            "source": [
                "ALTER TABLE customerwarehousereturns\r\n",
                "ADD CONSTRAINT fk_cus_id FOREIGN KEY (cus_id) REFERENCES customers(cus_id),\r\n",
                "ADD CONSTRAINT fk_ord_id FOREIGN KEY (ord_id) REFERENCES orders(ord_id);\r\n",
                ""
            ],
            "metadata": {
                "language": "sql",
                "azdata_cell_guid": "5f7e18fa-e9ed-4615-85b8-05a33ec937af"
            },
            "outputs": [
                {
                    "output_type": "error",
                    "ename": "",
                    "evalue": "constraint \"fk_cus_id\" for relation \"customerwarehousereturns\" already exists",
                    "traceback": []
                },
                {
                    "output_type": "display_data",
                    "data": {
                        "text/html": "Total execution time: 00:00:00.001"
                    },
                    "metadata": {}
                }
            ],
            "execution_count": 96
        },
        {
            "cell_type": "code",
            "source": [
                "ALTER TABLE racs\r\n",
                "ADD CONSTRAINT fk_cus_id FOREIGN KEY (cus_id) REFERENCES customers(cus_id),\r\n",
                "ADD CONSTRAINT fk_ord_id FOREIGN KEY (ord_id) REFERENCES orders(ord_id),\r\n",
                "ADD CONSTRAINT fk_prod_id FOREIGN KEY (prod_id) REFERENCES products(prod_id);\r\n",
                ""
            ],
            "metadata": {
                "language": "sql",
                "azdata_cell_guid": "fc3154ee-82da-4e2b-82b5-89b8216c3f34"
            },
            "outputs": [
                {
                    "output_type": "error",
                    "ename": "",
                    "evalue": "constraint \"fk_cus_id\" for relation \"racs\" already exists",
                    "traceback": []
                },
                {
                    "output_type": "display_data",
                    "data": {
                        "text/html": "Total execution time: 00:00:00"
                    },
                    "metadata": {}
                }
            ],
            "execution_count": 97
        },
        {
            "cell_type": "code",
            "source": [
                "ALTER TABLE customerwarehouseorders\r\n",
                "ADD CONSTRAINT fk_cus_id FOREIGN KEY (cus_id) REFERENCES customers(cus_id);\r\n",
                ""
            ],
            "metadata": {
                "language": "sql",
                "azdata_cell_guid": "f7663ac6-9e7b-4c94-a136-217521d56044"
            },
            "outputs": [
                {
                    "output_type": "error",
                    "ename": "",
                    "evalue": "constraint \"fk_cus_id\" for relation \"customerwarehouseorders\" already exists",
                    "traceback": []
                },
                {
                    "output_type": "display_data",
                    "data": {
                        "text/html": "Total execution time: 00:00:00"
                    },
                    "metadata": {}
                }
            ],
            "execution_count": 98
        },
        {
            "cell_type": "code",
            "source": [
                "ALTER TABLE components\r\n",
                "ADD CONSTRAINT fk_sup_id FOREIGN KEY (sup_id) REFERENCES suppliers(sup_id);\r\n",
                ""
            ],
            "metadata": {
                "language": "sql",
                "azdata_cell_guid": "6e56d483-18ad-40ee-af65-71f588d8dbc1"
            },
            "outputs": [
                {
                    "output_type": "error",
                    "ename": "",
                    "evalue": "constraint \"fk_sup_id\" for relation \"components\" already exists",
                    "traceback": []
                },
                {
                    "output_type": "display_data",
                    "data": {
                        "text/html": "Total execution time: 00:00:00.001"
                    },
                    "metadata": {}
                }
            ],
            "execution_count": 99
        },
        {
            "cell_type": "code",
            "source": [
                "ALTER TABLE warehouses\r\n",
                "ADD CONSTRAINT fk_warehouse_state FOREIGN KEY (warehouse_state) REFERENCES states(state_id);\r\n",
                ""
            ],
            "metadata": {
                "language": "sql",
                "azdata_cell_guid": "4c624ccf-39fb-4394-8f66-3e5cb1e171b3"
            },
            "outputs": [
                {
                    "output_type": "error",
                    "ename": "",
                    "evalue": "constraint \"fk_warehouse_state\" for relation \"warehouses\" already exists",
                    "traceback": []
                },
                {
                    "output_type": "display_data",
                    "data": {
                        "text/html": "Total execution time: 00:00:00.001"
                    },
                    "metadata": {}
                }
            ],
            "execution_count": 100
        },
        {
            "cell_type": "code",
            "source": [
                "ALTER TABLE products\r\n",
                "ADD CONSTRAINT fk_sup_id FOREIGN KEY (sup_id) REFERENCES suppliers(sup_id);\r\n",
                ""
            ],
            "metadata": {
                "language": "sql",
                "azdata_cell_guid": "0e77c410-274d-4ea1-8852-30e4b45af68b"
            },
            "outputs": [
                {
                    "output_type": "error",
                    "ename": "",
                    "evalue": "constraint \"fk_sup_id\" for relation \"products\" already exists",
                    "traceback": []
                },
                {
                    "output_type": "display_data",
                    "data": {
                        "text/html": "Total execution time: 00:00:00.001"
                    },
                    "metadata": {}
                }
            ],
            "execution_count": 101
        },
        {
            "cell_type": "markdown",
            "source": [
                "# Execute two queries of your choosing on two different tables in the database."
            ],
            "metadata": {
                "language": "sql",
                "azdata_cell_guid": "5f261bec-8cba-45c0-bc3f-c8fcce2f5d4c"
            },
            "attachments": {}
        },
        {
            "cell_type": "code",
            "source": [
                "SELECT c.cus_first_name, c.cus_last_name, o.order_tot\r\n",
                "FROM customers c\r\n",
                "JOIN orders o ON c.cus_id = o.cus_id\r\n",
                "LIMIT 10;\r\n",
                ""
            ],
            "metadata": {
                "language": "sql",
                "azdata_cell_guid": "fed1e389-52f0-4cf6-8805-cc651f9db86d"
            },
            "outputs": [
                {
                    "output_type": "display_data",
                    "data": {
                        "text/html": "(0 row(s) affected)"
                    },
                    "metadata": {}
                },
                {
                    "output_type": "display_data",
                    "data": {
                        "text/html": "Total execution time: 00:00:00.003"
                    },
                    "metadata": {}
                },
                {
                    "output_type": "execute_result",
                    "execution_count": 102,
                    "data": {
                        "application/vnd.dataresource+json": {
                            "schema": {
                                "fields": [
                                    {
                                        "name": "cus_first_name"
                                    },
                                    {
                                        "name": "cus_last_name"
                                    },
                                    {
                                        "name": "order_tot"
                                    }
                                ]
                            },
                            "data": []
                        },
                        "text/html": "<table><tr><th>cus_first_name</th><th>cus_last_name</th><th>order_tot</th></tr></table>"
                    },
                    "metadata": {}
                }
            ],
            "execution_count": 102
        },
        {
            "cell_type": "code",
            "source": [
                "SELECT p.prod_name, p.prod_price, s.sup_name\r\n",
                "FROM products p\r\n",
                "JOIN suppliers s ON p.sup_id = s.sup_id\r\n",
                "LIMIT 10;\r\n",
                ""
            ],
            "metadata": {
                "language": "sql",
                "azdata_cell_guid": "49341132-3de7-4121-8079-34e177a84d10"
            },
            "outputs": [
                {
                    "output_type": "display_data",
                    "data": {
                        "text/html": "(0 row(s) affected)"
                    },
                    "metadata": {}
                },
                {
                    "output_type": "display_data",
                    "data": {
                        "text/html": "Total execution time: 00:00:00.001"
                    },
                    "metadata": {}
                },
                {
                    "output_type": "execute_result",
                    "execution_count": 150,
                    "data": {
                        "application/vnd.dataresource+json": {
                            "schema": {
                                "fields": [
                                    {
                                        "name": "prod_name"
                                    },
                                    {
                                        "name": "prod_price"
                                    },
                                    {
                                        "name": "sup_name"
                                    }
                                ]
                            },
                            "data": []
                        },
                        "text/html": "<table><tr><th>prod_name</th><th>prod_price</th><th>sup_name</th></tr></table>"
                    },
                    "metadata": {}
                }
            ],
            "execution_count": 150
        }
    ]
}