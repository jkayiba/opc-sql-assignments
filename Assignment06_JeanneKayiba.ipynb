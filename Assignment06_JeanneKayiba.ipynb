{
    "metadata": {
        "kernelspec": {
            "name": "SQL",
            "display_name": "SQL",
            "language": "sql"
        },
        "language_info": {
            "name": "sql",
            "version": ""
        }
    },
    "nbformat_minor": 2,
    "nbformat": 4,
    "cells": [
        {
            "cell_type": "markdown",
            "source": [
                "# Assignment 6: SQL for Data Analysis\n",
                "\n",
                "## DSCI 504: Intro to SQL\n",
                "\n",
                "Jeanne Kayiba\n",
                "\n",
                "10/06/2024\\]"
            ],
            "metadata": {
                "azdata_cell_guid": "0385c881-2228-484e-aaa3-dd65e7a9a568"
            },
            "attachments": {}
        },
        {
            "cell_type": "markdown",
            "source": [
                "**Part 1: Some bikes are classified as hard tail bikes. This means they have no rear shock. For every hard tail sold, the shock column is missing data. Write a query to display 'No shock' in any rows of the shock name column in the products table where there is no shock name listed. If your query does not run, be sure to check the column for any white space. You may need to nest two different data preparation functions to complete this step.**"
            ],
            "metadata": {
                "azdata_cell_guid": "4ca03525-17e8-4872-b455-487e9600adf7"
            },
            "attachments": {}
        },
        {
            "cell_type": "code",
            "source": [
                "SELECT \r\n",
                "    prod_name, \r\n",
                "    prod_description, \r\n",
                "    CASE \r\n",
                "        WHEN prod_description = 'Hardtail Mountain Bike' THEN 'No shock'\r\n",
                "        ELSE 'Has shock'\r\n",
                "    END AS shock_status\r\n",
                "FROM \r\n",
                "    products;\r\n",
                "\r\n",
                "\r\n",
                ""
            ],
            "metadata": {
                "azdata_cell_guid": "b71ee4ba-d1c1-481e-8f20-1cbd1660c3ec",
                "language": "sql"
            },
            "outputs": [
                {
                    "output_type": "display_data",
                    "data": {
                        "text/html": "(69 row(s) affected)"
                    },
                    "metadata": {}
                },
                {
                    "output_type": "display_data",
                    "data": {
                        "text/html": "Total execution time: 00:00:00.006"
                    },
                    "metadata": {}
                },
                {
                    "output_type": "execute_result",
                    "execution_count": 119,
                    "data": {
                        "application/vnd.dataresource+json": {
                            "schema": {
                                "fields": [
                                    {
                                        "name": "prod_name"
                                    },
                                    {
                                        "name": "prod_description"
                                    },
                                    {
                                        "name": "shock_status"
                                    }
                                ]
                            },
                            "data": [
                                {
                                    "prod_name": "Tallboy",
                                    "prod_description": "Full-Suspension Mountain Bike",
                                    "shock_status": "Has shock"
                                },
                                {
                                    "prod_name": "Occam",
                                    "prod_description": "Full-Suspension Mountain Bike",
                                    "shock_status": "Has shock"
                                },
                                {
                                    "prod_name": "Troy",
                                    "prod_description": "Full-Suspension Mountain Bike",
                                    "shock_status": "Has shock"
                                },
                                {
                                    "prod_name": "DV9",
                                    "prod_description": "Hardtail Mountain Bike",
                                    "shock_status": "No shock"
                                },
                                {
                                    "prod_name": "Process 153",
                                    "prod_description": "Full-Suspension Mountain Bike",
                                    "shock_status": "Has shock"
                                },
                                {
                                    "prod_name": "Occam",
                                    "prod_description": "Full-Suspension Mountain Bike",
                                    "shock_status": "Has shock"
                                },
                                {
                                    "prod_name": "Hei Hei",
                                    "prod_description": "Full-Suspension Mountain Bike",
                                    "shock_status": "Has shock"
                                },
                                {
                                    "prod_name": "Ripmo",
                                    "prod_description": "Full-Suspension Mountain Bike",
                                    "shock_status": "Has shock"
                                },
                                {
                                    "prod_name": "G-Series",
                                    "prod_description": "Full-Suspension Mountain Bike",
                                    "shock_status": "Has shock"
                                },
                                {
                                    "prod_name": "SB140",
                                    "prod_description": "Full-Suspension Mountain Bike",
                                    "shock_status": "Has shock"
                                },
                                {
                                    "prod_name": "Snabb",
                                    "prod_description": "Full-Suspension Mountain Bike",
                                    "shock_status": "Has shock"
                                },
                                {
                                    "prod_name": "Define",
                                    "prod_description": "Full-Suspension Mountain Bike",
                                    "shock_status": "Has shock"
                                },
                                {
                                    "prod_name": "OIZ",
                                    "prod_description": "Full-Suspension Mountain Bike",
                                    "shock_status": "Has shock"
                                },
                                {
                                    "prod_name": "Megatrail",
                                    "prod_description": "Full-Suspension Mountain Bike",
                                    "shock_status": "Has shock"
                                },
                                {
                                    "prod_name": "Stereo",
                                    "prod_description": "Full-Suspension Mountain Bike",
                                    "shock_status": "Has shock"
                                },
                                {
                                    "prod_name": "T-Series",
                                    "prod_description": "Full-Suspension Mountain Bike",
                                    "shock_status": "Has shock"
                                },
                                {
                                    "prod_name": "Sniper",
                                    "prod_description": "Full-Suspension Mountain Bike",
                                    "shock_status": "Has shock"
                                },
                                {
                                    "prod_name": "Tracer",
                                    "prod_description": "Full-Suspension Mountain Bike",
                                    "shock_status": "Has shock"
                                },
                                {
                                    "prod_name": "Sensor",
                                    "prod_description": "Full-Suspension Mountain Bike",
                                    "shock_status": "Has shock"
                                },
                                {
                                    "prod_name": "Rip9",
                                    "prod_description": "Full-Suspension Mountain Bike",
                                    "shock_status": "Has shock"
                                },
                                {
                                    "prod_name": "Wreckoning",
                                    "prod_description": "Full-Suspension Mountain Bike",
                                    "shock_status": "Has shock"
                                },
                                {
                                    "prod_name": "Scout",
                                    "prod_description": "Hardtail Mountain Bike",
                                    "shock_status": "No shock"
                                },
                                {
                                    "prod_name": "Onset",
                                    "prod_description": "Full-Suspension Mountain Bike",
                                    "shock_status": "Has shock"
                                },
                                {
                                    "prod_name": "Haste",
                                    "prod_description": "Full-Suspension Mountain Bike",
                                    "shock_status": "Has shock"
                                },
                                {
                                    "prod_name": "SB160",
                                    "prod_description": "Full-Suspension Mountain Bike",
                                    "shock_status": "Has shock"
                                },
                                {
                                    "prod_name": "Thunderbolt",
                                    "prod_description": "Full-Suspension Mountain Bike",
                                    "shock_status": "Has shock"
                                },
                                {
                                    "prod_name": "Instinct",
                                    "prod_description": "Full-Suspension Mountain Bike",
                                    "shock_status": "Has shock"
                                },
                                {
                                    "prod_name": "SB100",
                                    "prod_description": "Full-Suspension Mountain Bike",
                                    "shock_status": "Has shock"
                                },
                                {
                                    "prod_name": "Ripley",
                                    "prod_description": "Full-Suspension Mountain Bike",
                                    "shock_status": "Has shock"
                                },
                                {
                                    "prod_name": "AMD",
                                    "prod_description": "Full-Suspension Mountain Bike",
                                    "shock_status": "Has shock"
                                },
                                {
                                    "prod_name": "Process 134",
                                    "prod_description": "Full-Suspension Mountain Bike",
                                    "shock_status": "Has shock"
                                },
                                {
                                    "prod_name": "Reactor",
                                    "prod_description": "Full-Suspension Mountain Bike",
                                    "shock_status": "Has shock"
                                },
                                {
                                    "prod_name": "Trance",
                                    "prod_description": "Full-Suspension Mountain Bike",
                                    "shock_status": "Has shock"
                                },
                                {
                                    "prod_name": "Meta Am",
                                    "prod_description": "Full-Suspension Mountain Bike",
                                    "shock_status": "Has shock"
                                },
                                {
                                    "prod_name": "X Trance",
                                    "prod_description": "Full-Suspension Mountain Bike",
                                    "shock_status": "Has shock"
                                },
                                {
                                    "prod_name": "Clash",
                                    "prod_description": "Full-Suspension Mountain Bike",
                                    "shock_status": "Has shock"
                                },
                                {
                                    "prod_name": "E-Series",
                                    "prod_description": "Full-Suspension Mountain Bike",
                                    "shock_status": "Has shock"
                                },
                                {
                                    "prod_name": "Insurgent",
                                    "prod_description": "Full-Suspension Mountain Bike",
                                    "shock_status": "Has shock"
                                },
                                {
                                    "prod_name": "Enduro",
                                    "prod_description": "Full-Suspension Mountain Bike",
                                    "shock_status": "Has shock"
                                },
                                {
                                    "prod_name": "Sight",
                                    "prod_description": "Full-Suspension Mountain Bike",
                                    "shock_status": "Has shock"
                                },
                                {
                                    "prod_name": "Chameleon",
                                    "prod_description": "Hardtail Mountain Bike",
                                    "shock_status": "No shock"
                                },
                                {
                                    "prod_name": "SB150",
                                    "prod_description": "Full-Suspension Mountain Bike",
                                    "shock_status": "Has shock"
                                },
                                {
                                    "prod_name": "Foxy",
                                    "prod_description": "Full-Suspension Mountain Bike",
                                    "shock_status": "Has shock"
                                },
                                {
                                    "prod_name": "Mega",
                                    "prod_description": "Full-Suspension Mountain Bike",
                                    "shock_status": "Has shock"
                                },
                                {
                                    "prod_name": "Air9",
                                    "prod_description": "Hardtail Mountain Bike",
                                    "shock_status": "No shock"
                                },
                                {
                                    "prod_name": "Trail Pistol",
                                    "prod_description": "Full-Suspension Mountain Bike",
                                    "shock_status": "Has shock"
                                },
                                {
                                    "prod_name": "Firebird",
                                    "prod_description": "Full-Suspension Mountain Bike",
                                    "shock_status": "Has shock"
                                },
                                {
                                    "prod_name": "Megatower",
                                    "prod_description": "Full-Suspension Mountain Bike",
                                    "shock_status": "Has shock"
                                },
                                {
                                    "prod_name": "Mojo",
                                    "prod_description": "Full-Suspension Mountain Bike",
                                    "shock_status": "Has shock"
                                },
                                {
                                    "prod_name": "Stumpjumper",
                                    "prod_description": "Full-Suspension Mountain Bike",
                                    "shock_status": "Has shock"
                                },
                                {
                                    "prod_name": "Scalpel",
                                    "prod_description": "Full-Suspension Mountain Bike",
                                    "shock_status": "Has shock"
                                },
                                {
                                    "prod_name": "SB130",
                                    "prod_description": "Full-Suspension Mountain Bike",
                                    "shock_status": "Has shock"
                                },
                                {
                                    "prod_name": "Jet9",
                                    "prod_description": "Full-Suspension Mountain Bike",
                                    "shock_status": "Has shock"
                                },
                                {
                                    "prod_name": "SB115",
                                    "prod_description": "Full-Suspension Mountain Bike",
                                    "shock_status": "Has shock"
                                },
                                {
                                    "prod_name": "Optic",
                                    "prod_description": "Full-Suspension Mountain Bike",
                                    "shock_status": "Has shock"
                                },
                                {
                                    "prod_name": "Hightower",
                                    "prod_description": "Full-Suspension Mountain Bike",
                                    "shock_status": "Has shock"
                                },
                                {
                                    "prod_name": "SuperFoxy",
                                    "prod_description": "Full-Suspension Mountain Bike",
                                    "shock_status": "Has shock"
                                },
                                {
                                    "prod_name": "Following",
                                    "prod_description": "Full-Suspension Mountain Bike",
                                    "shock_status": "Has shock"
                                },
                                {
                                    "prod_name": "Gnarvana",
                                    "prod_description": "Full-Suspension Mountain Bike",
                                    "shock_status": "Has shock"
                                },
                                {
                                    "prod_name": "RKT9",
                                    "prod_description": "Full-Suspension Mountain Bike",
                                    "shock_status": "Has shock"
                                },
                                {
                                    "prod_name": "Shredd Dog",
                                    "prod_description": "Full-Suspension Mountain Bike",
                                    "shock_status": "Has shock"
                                },
                                {
                                    "prod_name": "Jekyll",
                                    "prod_description": "Full-Suspension Mountain Bike",
                                    "shock_status": "Has shock"
                                },
                                {
                                    "prod_name": "Element",
                                    "prod_description": "Full-Suspension Mountain Bike",
                                    "shock_status": "Has shock"
                                },
                                {
                                    "prod_name": "Force",
                                    "prod_description": "Full-Suspension Mountain Bike",
                                    "shock_status": "Has shock"
                                },
                                {
                                    "prod_name": "The Smash",
                                    "prod_description": "Full-Suspension Mountain Bike",
                                    "shock_status": "Has shock"
                                },
                                {
                                    "prod_name": "Habit",
                                    "prod_description": "Full-Suspension Mountain Bike",
                                    "shock_status": "Has shock"
                                },
                                {
                                    "prod_name": "Rail",
                                    "prod_description": "Full-Suspension Mountain Bike",
                                    "shock_status": "Has shock"
                                },
                                {
                                    "prod_name": "Altitude",
                                    "prod_description": "Full-Suspension Mountain Bike",
                                    "shock_status": "Has shock"
                                },
                                {
                                    "prod_name": "Primer",
                                    "prod_description": "Full-Suspension Mountain Bike",
                                    "shock_status": "Has shock"
                                }
                            ]
                        },
                        "text/html": "<table><tr><th>prod_name</th><th>prod_description</th><th>shock_status</th></tr><tr><td>Tallboy</td><td>Full-Suspension Mountain Bike</td><td>Has shock</td></tr><tr><td>Occam</td><td>Full-Suspension Mountain Bike</td><td>Has shock</td></tr><tr><td>Troy</td><td>Full-Suspension Mountain Bike</td><td>Has shock</td></tr><tr><td>DV9</td><td>Hardtail Mountain Bike</td><td>No shock</td></tr><tr><td>Process 153</td><td>Full-Suspension Mountain Bike</td><td>Has shock</td></tr><tr><td>Occam</td><td>Full-Suspension Mountain Bike</td><td>Has shock</td></tr><tr><td>Hei Hei</td><td>Full-Suspension Mountain Bike</td><td>Has shock</td></tr><tr><td>Ripmo</td><td>Full-Suspension Mountain Bike</td><td>Has shock</td></tr><tr><td>G-Series</td><td>Full-Suspension Mountain Bike</td><td>Has shock</td></tr><tr><td>SB140</td><td>Full-Suspension Mountain Bike</td><td>Has shock</td></tr><tr><td>Snabb</td><td>Full-Suspension Mountain Bike</td><td>Has shock</td></tr><tr><td>Define</td><td>Full-Suspension Mountain Bike</td><td>Has shock</td></tr><tr><td>OIZ</td><td>Full-Suspension Mountain Bike</td><td>Has shock</td></tr><tr><td>Megatrail</td><td>Full-Suspension Mountain Bike</td><td>Has shock</td></tr><tr><td>Stereo</td><td>Full-Suspension Mountain Bike</td><td>Has shock</td></tr><tr><td>T-Series</td><td>Full-Suspension Mountain Bike</td><td>Has shock</td></tr><tr><td>Sniper</td><td>Full-Suspension Mountain Bike</td><td>Has shock</td></tr><tr><td>Tracer</td><td>Full-Suspension Mountain Bike</td><td>Has shock</td></tr><tr><td>Sensor</td><td>Full-Suspension Mountain Bike</td><td>Has shock</td></tr><tr><td>Rip9</td><td>Full-Suspension Mountain Bike</td><td>Has shock</td></tr><tr><td>Wreckoning</td><td>Full-Suspension Mountain Bike</td><td>Has shock</td></tr><tr><td>Scout</td><td>Hardtail Mountain Bike</td><td>No shock</td></tr><tr><td>Onset</td><td>Full-Suspension Mountain Bike</td><td>Has shock</td></tr><tr><td>Haste</td><td>Full-Suspension Mountain Bike</td><td>Has shock</td></tr><tr><td>SB160</td><td>Full-Suspension Mountain Bike</td><td>Has shock</td></tr><tr><td>Thunderbolt</td><td>Full-Suspension Mountain Bike</td><td>Has shock</td></tr><tr><td>Instinct</td><td>Full-Suspension Mountain Bike</td><td>Has shock</td></tr><tr><td>SB100</td><td>Full-Suspension Mountain Bike</td><td>Has shock</td></tr><tr><td>Ripley</td><td>Full-Suspension Mountain Bike</td><td>Has shock</td></tr><tr><td>AMD</td><td>Full-Suspension Mountain Bike</td><td>Has shock</td></tr><tr><td>Process 134</td><td>Full-Suspension Mountain Bike</td><td>Has shock</td></tr><tr><td>Reactor</td><td>Full-Suspension Mountain Bike</td><td>Has shock</td></tr><tr><td>Trance</td><td>Full-Suspension Mountain Bike</td><td>Has shock</td></tr><tr><td>Meta Am</td><td>Full-Suspension Mountain Bike</td><td>Has shock</td></tr><tr><td>X Trance</td><td>Full-Suspension Mountain Bike</td><td>Has shock</td></tr><tr><td>Clash</td><td>Full-Suspension Mountain Bike</td><td>Has shock</td></tr><tr><td>E-Series</td><td>Full-Suspension Mountain Bike</td><td>Has shock</td></tr><tr><td>Insurgent</td><td>Full-Suspension Mountain Bike</td><td>Has shock</td></tr><tr><td>Enduro</td><td>Full-Suspension Mountain Bike</td><td>Has shock</td></tr><tr><td>Sight</td><td>Full-Suspension Mountain Bike</td><td>Has shock</td></tr><tr><td>Chameleon</td><td>Hardtail Mountain Bike</td><td>No shock</td></tr><tr><td>SB150</td><td>Full-Suspension Mountain Bike</td><td>Has shock</td></tr><tr><td>Foxy</td><td>Full-Suspension Mountain Bike</td><td>Has shock</td></tr><tr><td>Mega</td><td>Full-Suspension Mountain Bike</td><td>Has shock</td></tr><tr><td>Air9</td><td>Hardtail Mountain Bike</td><td>No shock</td></tr><tr><td>Trail Pistol</td><td>Full-Suspension Mountain Bike</td><td>Has shock</td></tr><tr><td>Firebird</td><td>Full-Suspension Mountain Bike</td><td>Has shock</td></tr><tr><td>Megatower</td><td>Full-Suspension Mountain Bike</td><td>Has shock</td></tr><tr><td>Mojo</td><td>Full-Suspension Mountain Bike</td><td>Has shock</td></tr><tr><td>Stumpjumper</td><td>Full-Suspension Mountain Bike</td><td>Has shock</td></tr><tr><td>Scalpel</td><td>Full-Suspension Mountain Bike</td><td>Has shock</td></tr><tr><td>SB130</td><td>Full-Suspension Mountain Bike</td><td>Has shock</td></tr><tr><td>Jet9</td><td>Full-Suspension Mountain Bike</td><td>Has shock</td></tr><tr><td>SB115</td><td>Full-Suspension Mountain Bike</td><td>Has shock</td></tr><tr><td>Optic</td><td>Full-Suspension Mountain Bike</td><td>Has shock</td></tr><tr><td>Hightower</td><td>Full-Suspension Mountain Bike</td><td>Has shock</td></tr><tr><td>SuperFoxy</td><td>Full-Suspension Mountain Bike</td><td>Has shock</td></tr><tr><td>Following</td><td>Full-Suspension Mountain Bike</td><td>Has shock</td></tr><tr><td>Gnarvana</td><td>Full-Suspension Mountain Bike</td><td>Has shock</td></tr><tr><td>RKT9</td><td>Full-Suspension Mountain Bike</td><td>Has shock</td></tr><tr><td>Shredd Dog</td><td>Full-Suspension Mountain Bike</td><td>Has shock</td></tr><tr><td>Jekyll</td><td>Full-Suspension Mountain Bike</td><td>Has shock</td></tr><tr><td>Element</td><td>Full-Suspension Mountain Bike</td><td>Has shock</td></tr><tr><td>Force</td><td>Full-Suspension Mountain Bike</td><td>Has shock</td></tr><tr><td>The Smash</td><td>Full-Suspension Mountain Bike</td><td>Has shock</td></tr><tr><td>Habit</td><td>Full-Suspension Mountain Bike</td><td>Has shock</td></tr><tr><td>Rail</td><td>Full-Suspension Mountain Bike</td><td>Has shock</td></tr><tr><td>Altitude</td><td>Full-Suspension Mountain Bike</td><td>Has shock</td></tr><tr><td>Primer</td><td>Full-Suspension Mountain Bike</td><td>Has shock</td></tr></table>"
                    },
                    "metadata": {}
                }
            ],
            "execution_count": 119
        },
        {
            "cell_type": "markdown",
            "source": [
                "**Write an UPDATE to the component table to make the changes above. Once complete, run a query to verify your changes were successfull. Limit the query to 100 rows.**"
            ],
            "metadata": {
                "azdata_cell_guid": "8473209d-647b-4fd6-9f1e-f5f4ecc6d188"
            },
            "attachments": {}
        },
        {
            "cell_type": "code",
            "source": [
                "UPDATE components\r\n",
                "SET comp_cat = CASE \r\n",
                "    WHEN comp_cost > 500 THEN 'Premium Component'\r\n",
                "    WHEN comp_cost BETWEEN 100 AND 500 THEN 'Standard Component'\r\n",
                "    ELSE 'Budget Component'\r\n",
                "END;\r\n",
                ""
            ],
            "metadata": {
                "azdata_cell_guid": "d7944ab3-6134-4c15-90c9-b86044547cea",
                "language": "sql"
            },
            "outputs": [
                {
                    "output_type": "display_data",
                    "data": {
                        "text/html": "UPDATE 271"
                    },
                    "metadata": {}
                },
                {
                    "output_type": "display_data",
                    "data": {
                        "text/html": "Total execution time: 00:00:00.023"
                    },
                    "metadata": {}
                }
            ],
            "execution_count": 120
        },
        {
            "cell_type": "code",
            "source": [
                "SELECT * FROM components\r\n",
                "LIMIT 100;\r\n",
                ""
            ],
            "metadata": {
                "language": "sql",
                "azdata_cell_guid": "c3dab3ad-de35-44d0-ae56-af98dedded04"
            },
            "outputs": [
                {
                    "output_type": "display_data",
                    "data": {
                        "text/html": "(100 row(s) affected)"
                    },
                    "metadata": {}
                },
                {
                    "output_type": "display_data",
                    "data": {
                        "text/html": "Total execution time: 00:00:00"
                    },
                    "metadata": {}
                },
                {
                    "output_type": "execute_result",
                    "execution_count": 121,
                    "data": {
                        "application/vnd.dataresource+json": {
                            "schema": {
                                "fields": [
                                    {
                                        "name": "comp_id"
                                    },
                                    {
                                        "name": "comp_name"
                                    },
                                    {
                                        "name": "comp_cost"
                                    },
                                    {
                                        "name": "comp_supplier"
                                    },
                                    {
                                        "name": "comp_cat"
                                    },
                                    {
                                        "name": "sup_id"
                                    }
                                ]
                            },
                            "data": [
                                {
                                    "comp_id": "64",
                                    "comp_name": "Sram Level",
                                    "comp_cost": "66",
                                    "comp_supplier": "45",
                                    "comp_cat": "Budget Component",
                                    "sup_id": "45"
                                },
                                {
                                    "comp_id": "41",
                                    "comp_name": "Evil Boomstick 7075 Alloy",
                                    "comp_cost": "121",
                                    "comp_supplier": "15",
                                    "comp_cat": "Standard Component",
                                    "sup_id": "15"
                                },
                                {
                                    "comp_id": "42",
                                    "comp_name": "Cannondale 2 Flat",
                                    "comp_cost": "50",
                                    "comp_supplier": "17",
                                    "comp_cat": "Budget Component",
                                    "sup_id": "17"
                                },
                                {
                                    "comp_id": "172",
                                    "comp_name": " ",
                                    "comp_cost": "0.00",
                                    "comp_supplier": "9999",
                                    "comp_cat": "Budget Component",
                                    "sup_id": "9999"
                                },
                                {
                                    "comp_id": "44",
                                    "comp_name": "RaceFace Turbine R",
                                    "comp_cost": "96",
                                    "comp_supplier": "6",
                                    "comp_cat": "Budget Component",
                                    "sup_id": "6"
                                },
                                {
                                    "comp_id": "45",
                                    "comp_name": "Burgtec Alloy",
                                    "comp_cost": "106",
                                    "comp_supplier": "27",
                                    "comp_cat": "Standard Component",
                                    "sup_id": "27"
                                },
                                {
                                    "comp_id": "46",
                                    "comp_name": "Shimano Deore M6100 2",
                                    "comp_cost": "114.99",
                                    "comp_supplier": "44",
                                    "comp_cat": "Standard Component",
                                    "sup_id": "44"
                                },
                                {
                                    "comp_id": "47",
                                    "comp_name": "Sram Guide RE",
                                    "comp_cost": "138",
                                    "comp_supplier": "45",
                                    "comp_cat": "Standard Component",
                                    "sup_id": "45"
                                },
                                {
                                    "comp_id": "49",
                                    "comp_name": "Magura MT7",
                                    "comp_cost": "299.99",
                                    "comp_supplier": "56",
                                    "comp_cat": "Standard Component",
                                    "sup_id": "56"
                                },
                                {
                                    "comp_id": "50",
                                    "comp_name": "TRP Gspec Trail S",
                                    "comp_cost": "259.99",
                                    "comp_supplier": "57",
                                    "comp_cat": "Standard Component",
                                    "sup_id": "57"
                                },
                                {
                                    "comp_id": "51",
                                    "comp_name": "Sram Code R",
                                    "comp_cost": "158",
                                    "comp_supplier": "45",
                                    "comp_cat": "Standard Component",
                                    "sup_id": "45"
                                },
                                {
                                    "comp_id": "52",
                                    "comp_name": "Shimano M6120",
                                    "comp_cost": "140.9",
                                    "comp_supplier": "44",
                                    "comp_cat": "Standard Component",
                                    "sup_id": "44"
                                },
                                {
                                    "comp_id": "53",
                                    "comp_name": "Tektro HDM 735",
                                    "comp_cost": "119.95",
                                    "comp_supplier": "72",
                                    "comp_cat": "Standard Component",
                                    "sup_id": "72"
                                },
                                {
                                    "comp_id": "54",
                                    "comp_name": "Shimano MT500",
                                    "comp_cost": "47.99",
                                    "comp_supplier": "44",
                                    "comp_cat": "Budget Component",
                                    "sup_id": "44"
                                },
                                {
                                    "comp_id": "55",
                                    "comp_name": "Sram G2 ULT",
                                    "comp_cost": "286",
                                    "comp_supplier": "45",
                                    "comp_cat": "Standard Component",
                                    "sup_id": "45"
                                },
                                {
                                    "comp_id": "56",
                                    "comp_name": "Sram Code RSC",
                                    "comp_cost": "200",
                                    "comp_supplier": "45",
                                    "comp_cat": "Standard Component",
                                    "sup_id": "45"
                                },
                                {
                                    "comp_id": "57",
                                    "comp_name": "Sram G2 RSC",
                                    "comp_cost": "160",
                                    "comp_supplier": "45",
                                    "comp_cat": "Standard Component",
                                    "sup_id": "45"
                                },
                                {
                                    "comp_id": "58",
                                    "comp_name": "Shimano Deore M6120 4",
                                    "comp_cost": "189",
                                    "comp_supplier": "44",
                                    "comp_cat": "Standard Component",
                                    "sup_id": "44"
                                },
                                {
                                    "comp_id": "59",
                                    "comp_name": "Shimano SLX M7100",
                                    "comp_cost": "187",
                                    "comp_supplier": "44",
                                    "comp_cat": "Standard Component",
                                    "sup_id": "44"
                                },
                                {
                                    "comp_id": "60",
                                    "comp_name": "Sram Code RS",
                                    "comp_cost": "172",
                                    "comp_supplier": "45",
                                    "comp_cat": "Standard Component",
                                    "sup_id": "45"
                                },
                                {
                                    "comp_id": "61",
                                    "comp_name": "Shimano XT M8100",
                                    "comp_cost": "169.99",
                                    "comp_supplier": "44",
                                    "comp_cat": "Standard Component",
                                    "sup_id": "44"
                                },
                                {
                                    "comp_id": "62",
                                    "comp_name": "Sram Guide T",
                                    "comp_cost": "129",
                                    "comp_supplier": "45",
                                    "comp_cat": "Standard Component",
                                    "sup_id": "45"
                                },
                                {
                                    "comp_id": "65",
                                    "comp_name": "Sram Guide R",
                                    "comp_cost": "120",
                                    "comp_supplier": "45",
                                    "comp_cat": "Standard Component",
                                    "sup_id": "45"
                                },
                                {
                                    "comp_id": "66",
                                    "comp_name": "Shimano XTR Trail",
                                    "comp_cost": "275",
                                    "comp_supplier": "44",
                                    "comp_cat": "Standard Component",
                                    "sup_id": "44"
                                },
                                {
                                    "comp_id": "67",
                                    "comp_name": "Shimano XT M8120",
                                    "comp_cost": "181",
                                    "comp_supplier": "44",
                                    "comp_cat": "Standard Component",
                                    "sup_id": "44"
                                },
                                {
                                    "comp_id": "68",
                                    "comp_name": "Sram G2 R",
                                    "comp_cost": "138",
                                    "comp_supplier": "45",
                                    "comp_cat": "Standard Component",
                                    "sup_id": "45"
                                },
                                {
                                    "comp_id": "69",
                                    "comp_name": "Shimnano Deore M6100 4",
                                    "comp_cost": "178",
                                    "comp_supplier": "44",
                                    "comp_cat": "Standard Component",
                                    "sup_id": "44"
                                },
                                {
                                    "comp_id": "70",
                                    "comp_name": "Whyte 30mm Carbon",
                                    "comp_cost": "240",
                                    "comp_supplier": "10",
                                    "comp_cat": "Standard Component",
                                    "sup_id": "10"
                                },
                                {
                                    "comp_id": "71",
                                    "comp_name": "Stand NoTubes MK3",
                                    "comp_cost": "299",
                                    "comp_supplier": "47",
                                    "comp_cat": "Standard Component",
                                    "sup_id": "47"
                                },
                                {
                                    "comp_id": "244",
                                    "comp_name": "OC2",
                                    "comp_cost": "78",
                                    "comp_supplier": "61",
                                    "comp_cat": "Budget Component",
                                    "sup_id": "61"
                                },
                                {
                                    "comp_id": "73",
                                    "comp_name": "Octane One Solar",
                                    "comp_cost": "280.99",
                                    "comp_supplier": "49",
                                    "comp_cat": "Standard Component",
                                    "sup_id": "49"
                                },
                                {
                                    "comp_id": "74",
                                    "comp_name": "Giant TRX-2",
                                    "comp_cost": "550",
                                    "comp_supplier": "1",
                                    "comp_cat": "Premium Component",
                                    "sup_id": "1"
                                },
                                {
                                    "comp_id": "76",
                                    "comp_name": "Stans Flow MK3",
                                    "comp_cost": "200",
                                    "comp_supplier": "47",
                                    "comp_cat": "Standard Component",
                                    "sup_id": "47"
                                },
                                {
                                    "comp_id": "77",
                                    "comp_name": "DT Swiss M1700",
                                    "comp_cost": "502",
                                    "comp_supplier": "48",
                                    "comp_cat": "Premium Component",
                                    "sup_id": "48"
                                },
                                {
                                    "comp_id": "78",
                                    "comp_name": "DT Swiss XR-1650",
                                    "comp_cost": "1007",
                                    "comp_supplier": "48",
                                    "comp_cat": "Premium Component",
                                    "sup_id": "48"
                                },
                                {
                                    "comp_id": "79",
                                    "comp_name": "DT Swiss EX1900",
                                    "comp_cost": "380",
                                    "comp_supplier": "48",
                                    "comp_cat": "Standard Component",
                                    "sup_id": "48"
                                },
                                {
                                    "comp_id": "80",
                                    "comp_name": "Crankbrothers Synth EN",
                                    "comp_cost": "599.98",
                                    "comp_supplier": "50",
                                    "comp_cat": "Premium Component",
                                    "sup_id": "50"
                                },
                                {
                                    "comp_id": "81",
                                    "comp_name": "WTB ST i29",
                                    "comp_cost": "185",
                                    "comp_supplier": "51",
                                    "comp_cat": "Standard Component",
                                    "sup_id": "51"
                                },
                                {
                                    "comp_id": "82",
                                    "comp_name": "E13 LG1 EN Race",
                                    "comp_cost": "390",
                                    "comp_supplier": "5",
                                    "comp_cat": "Standard Component",
                                    "sup_id": "5"
                                },
                                {
                                    "comp_id": "83",
                                    "comp_name": "E13 XCX XC",
                                    "comp_cost": "250",
                                    "comp_supplier": "5",
                                    "comp_cat": "Standard Component",
                                    "sup_id": "5"
                                },
                                {
                                    "comp_id": "84",
                                    "comp_name": "i9 Hydra Enduro S",
                                    "comp_cost": "995",
                                    "comp_supplier": "52",
                                    "comp_cat": "Premium Component",
                                    "sup_id": "52"
                                },
                                {
                                    "comp_id": "85",
                                    "comp_name": "i9 Enduro 305",
                                    "comp_cost": "765",
                                    "comp_supplier": "52",
                                    "comp_cat": "Premium Component",
                                    "sup_id": "52"
                                },
                                {
                                    "comp_id": "86",
                                    "comp_name": "Ibis S35 AL",
                                    "comp_cost": "529",
                                    "comp_supplier": "22",
                                    "comp_cat": "Premium Component",
                                    "sup_id": "22"
                                },
                                {
                                    "comp_id": "87",
                                    "comp_name": "NS Enigma Roll",
                                    "comp_cost": "333.99",
                                    "comp_supplier": "71",
                                    "comp_cat": "Standard Component",
                                    "sup_id": "71"
                                },
                                {
                                    "comp_id": "88",
                                    "comp_name": "DT Swixx Custom EX1700",
                                    "comp_cost": "390",
                                    "comp_supplier": "48",
                                    "comp_cat": "Standard Component",
                                    "sup_id": "48"
                                },
                                {
                                    "comp_id": "89",
                                    "comp_name": "Stans Floiw S1",
                                    "comp_cost": "375",
                                    "comp_supplier": "47",
                                    "comp_cat": "Standard Component",
                                    "sup_id": "47"
                                },
                                {
                                    "comp_id": "90",
                                    "comp_name": "DT Swiss XMC1200",
                                    "comp_cost": "1721.9",
                                    "comp_supplier": "48",
                                    "comp_cat": "Premium Component",
                                    "sup_id": "48"
                                },
                                {
                                    "comp_id": "91",
                                    "comp_name": "DT Swiss Custom EX-1700",
                                    "comp_cost": "1450",
                                    "comp_supplier": "48",
                                    "comp_cat": "Premium Component",
                                    "sup_id": "48"
                                },
                                {
                                    "comp_id": "92",
                                    "comp_name": "DT Swiss M-1900",
                                    "comp_cost": "265.9",
                                    "comp_supplier": "48",
                                    "comp_cat": "Standard Component",
                                    "sup_id": "48"
                                },
                                {
                                    "comp_id": "93",
                                    "comp_name": "Roval Traverse Alloy",
                                    "comp_cost": "1350",
                                    "comp_supplier": "53",
                                    "comp_cat": "Premium Component",
                                    "sup_id": "53"
                                },
                                {
                                    "comp_id": "94",
                                    "comp_name": "E13 LG1 DH Base",
                                    "comp_cost": "420",
                                    "comp_supplier": "5",
                                    "comp_cat": "Standard Component",
                                    "sup_id": "5"
                                },
                                {
                                    "comp_id": "95",
                                    "comp_name": "Niner Alloy",
                                    "comp_cost": "180",
                                    "comp_supplier": "3",
                                    "comp_cat": "Standard Component",
                                    "sup_id": "3"
                                },
                                {
                                    "comp_id": "96",
                                    "comp_name": "WTB ST Light i30",
                                    "comp_cost": "195",
                                    "comp_supplier": "51",
                                    "comp_cat": "Standard Component",
                                    "sup_id": "51"
                                },
                                {
                                    "comp_id": "97",
                                    "comp_name": "E13 LG1",
                                    "comp_cost": "203.15",
                                    "comp_supplier": "5",
                                    "comp_cat": "Standard Component",
                                    "sup_id": "5"
                                },
                                {
                                    "comp_id": "98",
                                    "comp_name": "WTB KOM Trail i30",
                                    "comp_cost": "269",
                                    "comp_supplier": "51",
                                    "comp_cat": "Standard Component",
                                    "sup_id": "51"
                                },
                                {
                                    "comp_id": "99",
                                    "comp_name": "i9 RW30",
                                    "comp_cost": "2199",
                                    "comp_supplier": "52",
                                    "comp_cat": "Premium Component",
                                    "sup_id": "52"
                                },
                                {
                                    "comp_id": "100",
                                    "comp_name": "WTB ST i30",
                                    "comp_cost": "210",
                                    "comp_supplier": "51",
                                    "comp_cat": "Standard Component",
                                    "sup_id": "51"
                                },
                                {
                                    "comp_id": "101",
                                    "comp_name": "WTB KOM Light i30",
                                    "comp_cost": "227",
                                    "comp_supplier": "51",
                                    "comp_cat": "Standard Component",
                                    "sup_id": "51"
                                },
                                {
                                    "comp_id": "102",
                                    "comp_name": "WTM KOM i27",
                                    "comp_cost": "235",
                                    "comp_supplier": "51",
                                    "comp_cat": "Standard Component",
                                    "sup_id": "51"
                                },
                                {
                                    "comp_id": "103",
                                    "comp_name": "RaceFace AR Offset 30",
                                    "comp_cost": "275",
                                    "comp_supplier": "6",
                                    "comp_cat": "Standard Component",
                                    "sup_id": "6"
                                },
                                {
                                    "comp_id": "104",
                                    "comp_name": "Stand Arch MK3",
                                    "comp_cost": "425",
                                    "comp_supplier": "47",
                                    "comp_cat": "Standard Component",
                                    "sup_id": "47"
                                },
                                {
                                    "comp_id": "105",
                                    "comp_name": "Giant AM",
                                    "comp_cost": "175",
                                    "comp_supplier": "1",
                                    "comp_cat": "Standard Component",
                                    "sup_id": "1"
                                },
                                {
                                    "comp_id": "106",
                                    "comp_name": "DT Swiss XT1501",
                                    "comp_cost": "605",
                                    "comp_supplier": "48",
                                    "comp_cat": "Premium Component",
                                    "sup_id": "48"
                                },
                                {
                                    "comp_id": "107",
                                    "comp_name": "DT Swiss XR1700",
                                    "comp_cost": "564.9",
                                    "comp_supplier": "48",
                                    "comp_cat": "Premium Component",
                                    "sup_id": "48"
                                },
                                {
                                    "comp_id": "108",
                                    "comp_name": "WTB ST i25",
                                    "comp_cost": "175",
                                    "comp_supplier": "51",
                                    "comp_cat": "Standard Component",
                                    "sup_id": "51"
                                },
                                {
                                    "comp_id": "109",
                                    "comp_name": "Stans Crest S1",
                                    "comp_cost": "370",
                                    "comp_supplier": "47",
                                    "comp_cat": "Standard Component",
                                    "sup_id": "47"
                                },
                                {
                                    "comp_id": "110",
                                    "comp_name": "DT Swiss EX-511",
                                    "comp_cost": "457.99",
                                    "comp_supplier": "48",
                                    "comp_cat": "Standard Component",
                                    "sup_id": "48"
                                },
                                {
                                    "comp_id": "111",
                                    "comp_name": "MDK DP1",
                                    "comp_cost": "379",
                                    "comp_supplier": "54",
                                    "comp_cat": "Standard Component",
                                    "sup_id": "54"
                                },
                                {
                                    "comp_id": "112",
                                    "comp_name": "Sun Ringle Duroc 35",
                                    "comp_cost": "179.99",
                                    "comp_supplier": "55",
                                    "comp_cat": "Standard Component",
                                    "sup_id": "55"
                                },
                                {
                                    "comp_id": "113",
                                    "comp_name": "Fox 34 Rhythm 120",
                                    "comp_cost": "429",
                                    "comp_supplier": "28",
                                    "comp_cat": "Standard Component",
                                    "sup_id": "28"
                                },
                                {
                                    "comp_id": "114",
                                    "comp_name": "Fox 38 Factory Grip 2 180 Air",
                                    "comp_cost": "1249",
                                    "comp_supplier": "28",
                                    "comp_cat": "Premium Component",
                                    "sup_id": "28"
                                },
                                {
                                    "comp_id": "115",
                                    "comp_name": "DVO Onyx D1 160",
                                    "comp_cost": "785",
                                    "comp_supplier": "29",
                                    "comp_cat": "Premium Component",
                                    "sup_id": "29"
                                },
                                {
                                    "comp_id": "116",
                                    "comp_name": "Fox 36 Rhythm Fit 3 150",
                                    "comp_cost": "849",
                                    "comp_supplier": "28",
                                    "comp_cat": "Premium Component",
                                    "sup_id": "28"
                                },
                                {
                                    "comp_id": "117",
                                    "comp_name": "RockShox Recon RL 120",
                                    "comp_cost": "274",
                                    "comp_supplier": "30",
                                    "comp_cat": "Standard Component",
                                    "sup_id": "30"
                                },
                                {
                                    "comp_id": "27",
                                    "comp_name": "RaceFace Ride",
                                    "comp_cost": "99",
                                    "comp_supplier": "6",
                                    "comp_cat": "Budget Component",
                                    "sup_id": "6"
                                },
                                {
                                    "comp_id": "48",
                                    "comp_name": "Sram G2 RS",
                                    "comp_cost": "158",
                                    "comp_supplier": "45",
                                    "comp_cat": "Standard Component",
                                    "sup_id": "45"
                                },
                                {
                                    "comp_id": "118",
                                    "comp_name": "Fox 36 Float Perf 160 Air",
                                    "comp_cost": "849",
                                    "comp_supplier": "28",
                                    "comp_cat": "Premium Component",
                                    "sup_id": "28"
                                },
                                {
                                    "comp_id": "119",
                                    "comp_name": "Fox 38 Grip 2 170 Air",
                                    "comp_cost": "989",
                                    "comp_supplier": "28",
                                    "comp_cat": "Premium Component",
                                    "sup_id": "28"
                                },
                                {
                                    "comp_id": "120",
                                    "comp_name": "RockShox Lyric Ult RC2 160 Air",
                                    "comp_cost": "968",
                                    "comp_supplier": "30",
                                    "comp_cat": "Premium Component",
                                    "sup_id": "30"
                                },
                                {
                                    "comp_id": "121",
                                    "comp_name": "Ohlins RXF36 M.2 170 Air",
                                    "comp_cost": "1149.97",
                                    "comp_supplier": "31",
                                    "comp_cat": "Premium Component",
                                    "sup_id": "31"
                                },
                                {
                                    "comp_id": "122",
                                    "comp_name": "RockShox Lyric Ult RC2 160",
                                    "comp_cost": "968",
                                    "comp_supplier": "30",
                                    "comp_cat": "Premium Component",
                                    "sup_id": "30"
                                },
                                {
                                    "comp_id": "123",
                                    "comp_name": "Fox 38 Factory Grip2 170 Air",
                                    "comp_cost": "1249",
                                    "comp_supplier": "28",
                                    "comp_cat": "Premium Component",
                                    "sup_id": "28"
                                },
                                {
                                    "comp_id": "124",
                                    "comp_name": "Fox 36 Float Perf 140 Air",
                                    "comp_cost": "949",
                                    "comp_supplier": "28",
                                    "comp_cat": "Premium Component",
                                    "sup_id": "28"
                                },
                                {
                                    "comp_id": "125",
                                    "comp_name": "Fox 36 Perf 170 Air",
                                    "comp_cost": "798",
                                    "comp_supplier": "28",
                                    "comp_cat": "Premium Component",
                                    "sup_id": "28"
                                },
                                {
                                    "comp_id": "126",
                                    "comp_name": "Marzocchi Bomber Z2 130 Air",
                                    "comp_cost": "610",
                                    "comp_supplier": "32",
                                    "comp_cat": "Premium Component",
                                    "sup_id": "32"
                                },
                                {
                                    "comp_id": "127",
                                    "comp_name": "RockShox Recon RL 130",
                                    "comp_cost": "275",
                                    "comp_supplier": "30",
                                    "comp_cat": "Standard Component",
                                    "sup_id": "30"
                                },
                                {
                                    "comp_id": "128",
                                    "comp_name": "Fox 34 Float Perf 120",
                                    "comp_cost": "429",
                                    "comp_supplier": "28",
                                    "comp_cat": "Standard Component",
                                    "sup_id": "28"
                                },
                                {
                                    "comp_id": "129",
                                    "comp_name": "RockShox Recon RL 130 Air",
                                    "comp_cost": "270",
                                    "comp_supplier": "30",
                                    "comp_cat": "Standard Component",
                                    "sup_id": "30"
                                },
                                {
                                    "comp_id": "130",
                                    "comp_name": "RockShox Lyric Ult 150 Air",
                                    "comp_cost": "968",
                                    "comp_supplier": "30",
                                    "comp_cat": "Premium Component",
                                    "sup_id": "30"
                                },
                                {
                                    "comp_id": "131",
                                    "comp_name": "RockShox Pike Sel RC 140",
                                    "comp_cost": "713",
                                    "comp_supplier": "30",
                                    "comp_cat": "Premium Component",
                                    "sup_id": "30"
                                },
                                {
                                    "comp_id": "132",
                                    "comp_name": "Fox 38 Float Perf 170 Air",
                                    "comp_cost": "1020",
                                    "comp_supplier": "28",
                                    "comp_cat": "Premium Component",
                                    "sup_id": "28"
                                },
                                {
                                    "comp_id": "133",
                                    "comp_name": "RockShox Recon RL 120 Air",
                                    "comp_cost": "255",
                                    "comp_supplier": "30",
                                    "comp_cat": "Standard Component",
                                    "sup_id": "30"
                                },
                                {
                                    "comp_id": "134",
                                    "comp_name": "Fox 36 Factory 160 Air",
                                    "comp_cost": "1069",
                                    "comp_supplier": "28",
                                    "comp_cat": "Premium Component",
                                    "sup_id": "28"
                                },
                                {
                                    "comp_id": "135",
                                    "comp_name": "Fox 36 Factory 150 Air",
                                    "comp_cost": "1069",
                                    "comp_supplier": "28",
                                    "comp_cat": "Premium Component",
                                    "sup_id": "28"
                                },
                                {
                                    "comp_id": "136",
                                    "comp_name": "Fox 32 Factory 100",
                                    "comp_cost": "489",
                                    "comp_supplier": "28",
                                    "comp_cat": "Standard Component",
                                    "sup_id": "28"
                                },
                                {
                                    "comp_id": "137",
                                    "comp_name": "Lefty Ocho 100 Air",
                                    "comp_cost": "999",
                                    "comp_supplier": "33",
                                    "comp_cat": "Premium Component",
                                    "sup_id": "33"
                                },
                                {
                                    "comp_id": "138",
                                    "comp_name": "DVO Onyx D2 170 Air",
                                    "comp_cost": "790",
                                    "comp_supplier": "29",
                                    "comp_cat": "Premium Component",
                                    "sup_id": "29"
                                },
                                {
                                    "comp_id": "139",
                                    "comp_name": "RockShox 35 Gold RL 140 Air",
                                    "comp_cost": "458",
                                    "comp_supplier": "30",
                                    "comp_cat": "Standard Component",
                                    "sup_id": "30"
                                },
                                {
                                    "comp_id": "140",
                                    "comp_name": "Fox 34 Float Factory Grip 2 140 Air",
                                    "comp_cost": "1039",
                                    "comp_supplier": "28",
                                    "comp_cat": "Premium Component",
                                    "sup_id": "28"
                                },
                                {
                                    "comp_id": "141",
                                    "comp_name": "Fox 34 Perf 130",
                                    "comp_cost": "429",
                                    "comp_supplier": "28",
                                    "comp_cat": "Standard Component",
                                    "sup_id": "28"
                                }
                            ]
                        },
                        "text/html": "<table><tr><th>comp_id</th><th>comp_name</th><th>comp_cost</th><th>comp_supplier</th><th>comp_cat</th><th>sup_id</th></tr><tr><td>64</td><td>Sram Level</td><td>66</td><td>45</td><td>Budget Component</td><td>45</td></tr><tr><td>41</td><td>Evil Boomstick 7075 Alloy</td><td>121</td><td>15</td><td>Standard Component</td><td>15</td></tr><tr><td>42</td><td>Cannondale 2 Flat</td><td>50</td><td>17</td><td>Budget Component</td><td>17</td></tr><tr><td>172</td><td> </td><td>0.00</td><td>9999</td><td>Budget Component</td><td>9999</td></tr><tr><td>44</td><td>RaceFace Turbine R</td><td>96</td><td>6</td><td>Budget Component</td><td>6</td></tr><tr><td>45</td><td>Burgtec Alloy</td><td>106</td><td>27</td><td>Standard Component</td><td>27</td></tr><tr><td>46</td><td>Shimano Deore M6100 2</td><td>114.99</td><td>44</td><td>Standard Component</td><td>44</td></tr><tr><td>47</td><td>Sram Guide RE</td><td>138</td><td>45</td><td>Standard Component</td><td>45</td></tr><tr><td>49</td><td>Magura MT7</td><td>299.99</td><td>56</td><td>Standard Component</td><td>56</td></tr><tr><td>50</td><td>TRP Gspec Trail S</td><td>259.99</td><td>57</td><td>Standard Component</td><td>57</td></tr><tr><td>51</td><td>Sram Code R</td><td>158</td><td>45</td><td>Standard Component</td><td>45</td></tr><tr><td>52</td><td>Shimano M6120</td><td>140.9</td><td>44</td><td>Standard Component</td><td>44</td></tr><tr><td>53</td><td>Tektro HDM 735</td><td>119.95</td><td>72</td><td>Standard Component</td><td>72</td></tr><tr><td>54</td><td>Shimano MT500</td><td>47.99</td><td>44</td><td>Budget Component</td><td>44</td></tr><tr><td>55</td><td>Sram G2 ULT</td><td>286</td><td>45</td><td>Standard Component</td><td>45</td></tr><tr><td>56</td><td>Sram Code RSC</td><td>200</td><td>45</td><td>Standard Component</td><td>45</td></tr><tr><td>57</td><td>Sram G2 RSC</td><td>160</td><td>45</td><td>Standard Component</td><td>45</td></tr><tr><td>58</td><td>Shimano Deore M6120 4</td><td>189</td><td>44</td><td>Standard Component</td><td>44</td></tr><tr><td>59</td><td>Shimano SLX M7100</td><td>187</td><td>44</td><td>Standard Component</td><td>44</td></tr><tr><td>60</td><td>Sram Code RS</td><td>172</td><td>45</td><td>Standard Component</td><td>45</td></tr><tr><td>61</td><td>Shimano XT M8100</td><td>169.99</td><td>44</td><td>Standard Component</td><td>44</td></tr><tr><td>62</td><td>Sram Guide T</td><td>129</td><td>45</td><td>Standard Component</td><td>45</td></tr><tr><td>65</td><td>Sram Guide R</td><td>120</td><td>45</td><td>Standard Component</td><td>45</td></tr><tr><td>66</td><td>Shimano XTR Trail</td><td>275</td><td>44</td><td>Standard Component</td><td>44</td></tr><tr><td>67</td><td>Shimano XT M8120</td><td>181</td><td>44</td><td>Standard Component</td><td>44</td></tr><tr><td>68</td><td>Sram G2 R</td><td>138</td><td>45</td><td>Standard Component</td><td>45</td></tr><tr><td>69</td><td>Shimnano Deore M6100 4</td><td>178</td><td>44</td><td>Standard Component</td><td>44</td></tr><tr><td>70</td><td>Whyte 30mm Carbon</td><td>240</td><td>10</td><td>Standard Component</td><td>10</td></tr><tr><td>71</td><td>Stand NoTubes MK3</td><td>299</td><td>47</td><td>Standard Component</td><td>47</td></tr><tr><td>244</td><td>OC2</td><td>78</td><td>61</td><td>Budget Component</td><td>61</td></tr><tr><td>73</td><td>Octane One Solar</td><td>280.99</td><td>49</td><td>Standard Component</td><td>49</td></tr><tr><td>74</td><td>Giant TRX-2</td><td>550</td><td>1</td><td>Premium Component</td><td>1</td></tr><tr><td>76</td><td>Stans Flow MK3</td><td>200</td><td>47</td><td>Standard Component</td><td>47</td></tr><tr><td>77</td><td>DT Swiss M1700</td><td>502</td><td>48</td><td>Premium Component</td><td>48</td></tr><tr><td>78</td><td>DT Swiss XR-1650</td><td>1007</td><td>48</td><td>Premium Component</td><td>48</td></tr><tr><td>79</td><td>DT Swiss EX1900</td><td>380</td><td>48</td><td>Standard Component</td><td>48</td></tr><tr><td>80</td><td>Crankbrothers Synth EN</td><td>599.98</td><td>50</td><td>Premium Component</td><td>50</td></tr><tr><td>81</td><td>WTB ST i29</td><td>185</td><td>51</td><td>Standard Component</td><td>51</td></tr><tr><td>82</td><td>E13 LG1 EN Race</td><td>390</td><td>5</td><td>Standard Component</td><td>5</td></tr><tr><td>83</td><td>E13 XCX XC</td><td>250</td><td>5</td><td>Standard Component</td><td>5</td></tr><tr><td>84</td><td>i9 Hydra Enduro S</td><td>995</td><td>52</td><td>Premium Component</td><td>52</td></tr><tr><td>85</td><td>i9 Enduro 305</td><td>765</td><td>52</td><td>Premium Component</td><td>52</td></tr><tr><td>86</td><td>Ibis S35 AL</td><td>529</td><td>22</td><td>Premium Component</td><td>22</td></tr><tr><td>87</td><td>NS Enigma Roll</td><td>333.99</td><td>71</td><td>Standard Component</td><td>71</td></tr><tr><td>88</td><td>DT Swixx Custom EX1700</td><td>390</td><td>48</td><td>Standard Component</td><td>48</td></tr><tr><td>89</td><td>Stans Floiw S1</td><td>375</td><td>47</td><td>Standard Component</td><td>47</td></tr><tr><td>90</td><td>DT Swiss XMC1200</td><td>1721.9</td><td>48</td><td>Premium Component</td><td>48</td></tr><tr><td>91</td><td>DT Swiss Custom EX-1700</td><td>1450</td><td>48</td><td>Premium Component</td><td>48</td></tr><tr><td>92</td><td>DT Swiss M-1900</td><td>265.9</td><td>48</td><td>Standard Component</td><td>48</td></tr><tr><td>93</td><td>Roval Traverse Alloy</td><td>1350</td><td>53</td><td>Premium Component</td><td>53</td></tr><tr><td>94</td><td>E13 LG1 DH Base</td><td>420</td><td>5</td><td>Standard Component</td><td>5</td></tr><tr><td>95</td><td>Niner Alloy</td><td>180</td><td>3</td><td>Standard Component</td><td>3</td></tr><tr><td>96</td><td>WTB ST Light i30</td><td>195</td><td>51</td><td>Standard Component</td><td>51</td></tr><tr><td>97</td><td>E13 LG1</td><td>203.15</td><td>5</td><td>Standard Component</td><td>5</td></tr><tr><td>98</td><td>WTB KOM Trail i30</td><td>269</td><td>51</td><td>Standard Component</td><td>51</td></tr><tr><td>99</td><td>i9 RW30</td><td>2199</td><td>52</td><td>Premium Component</td><td>52</td></tr><tr><td>100</td><td>WTB ST i30</td><td>210</td><td>51</td><td>Standard Component</td><td>51</td></tr><tr><td>101</td><td>WTB KOM Light i30</td><td>227</td><td>51</td><td>Standard Component</td><td>51</td></tr><tr><td>102</td><td>WTM KOM i27</td><td>235</td><td>51</td><td>Standard Component</td><td>51</td></tr><tr><td>103</td><td>RaceFace AR Offset 30</td><td>275</td><td>6</td><td>Standard Component</td><td>6</td></tr><tr><td>104</td><td>Stand Arch MK3</td><td>425</td><td>47</td><td>Standard Component</td><td>47</td></tr><tr><td>105</td><td>Giant AM</td><td>175</td><td>1</td><td>Standard Component</td><td>1</td></tr><tr><td>106</td><td>DT Swiss XT1501</td><td>605</td><td>48</td><td>Premium Component</td><td>48</td></tr><tr><td>107</td><td>DT Swiss XR1700</td><td>564.9</td><td>48</td><td>Premium Component</td><td>48</td></tr><tr><td>108</td><td>WTB ST i25</td><td>175</td><td>51</td><td>Standard Component</td><td>51</td></tr><tr><td>109</td><td>Stans Crest S1</td><td>370</td><td>47</td><td>Standard Component</td><td>47</td></tr><tr><td>110</td><td>DT Swiss EX-511</td><td>457.99</td><td>48</td><td>Standard Component</td><td>48</td></tr><tr><td>111</td><td>MDK DP1</td><td>379</td><td>54</td><td>Standard Component</td><td>54</td></tr><tr><td>112</td><td>Sun Ringle Duroc 35</td><td>179.99</td><td>55</td><td>Standard Component</td><td>55</td></tr><tr><td>113</td><td>Fox 34 Rhythm 120</td><td>429</td><td>28</td><td>Standard Component</td><td>28</td></tr><tr><td>114</td><td>Fox 38 Factory Grip 2 180 Air</td><td>1249</td><td>28</td><td>Premium Component</td><td>28</td></tr><tr><td>115</td><td>DVO Onyx D1 160</td><td>785</td><td>29</td><td>Premium Component</td><td>29</td></tr><tr><td>116</td><td>Fox 36 Rhythm Fit 3 150</td><td>849</td><td>28</td><td>Premium Component</td><td>28</td></tr><tr><td>117</td><td>RockShox Recon RL 120</td><td>274</td><td>30</td><td>Standard Component</td><td>30</td></tr><tr><td>27</td><td>RaceFace Ride</td><td>99</td><td>6</td><td>Budget Component</td><td>6</td></tr><tr><td>48</td><td>Sram G2 RS</td><td>158</td><td>45</td><td>Standard Component</td><td>45</td></tr><tr><td>118</td><td>Fox 36 Float Perf 160 Air</td><td>849</td><td>28</td><td>Premium Component</td><td>28</td></tr><tr><td>119</td><td>Fox 38 Grip 2 170 Air</td><td>989</td><td>28</td><td>Premium Component</td><td>28</td></tr><tr><td>120</td><td>RockShox Lyric Ult RC2 160 Air</td><td>968</td><td>30</td><td>Premium Component</td><td>30</td></tr><tr><td>121</td><td>Ohlins RXF36 M.2 170 Air</td><td>1149.97</td><td>31</td><td>Premium Component</td><td>31</td></tr><tr><td>122</td><td>RockShox Lyric Ult RC2 160</td><td>968</td><td>30</td><td>Premium Component</td><td>30</td></tr><tr><td>123</td><td>Fox 38 Factory Grip2 170 Air</td><td>1249</td><td>28</td><td>Premium Component</td><td>28</td></tr><tr><td>124</td><td>Fox 36 Float Perf 140 Air</td><td>949</td><td>28</td><td>Premium Component</td><td>28</td></tr><tr><td>125</td><td>Fox 36 Perf 170 Air</td><td>798</td><td>28</td><td>Premium Component</td><td>28</td></tr><tr><td>126</td><td>Marzocchi Bomber Z2 130 Air</td><td>610</td><td>32</td><td>Premium Component</td><td>32</td></tr><tr><td>127</td><td>RockShox Recon RL 130</td><td>275</td><td>30</td><td>Standard Component</td><td>30</td></tr><tr><td>128</td><td>Fox 34 Float Perf 120</td><td>429</td><td>28</td><td>Standard Component</td><td>28</td></tr><tr><td>129</td><td>RockShox Recon RL 130 Air</td><td>270</td><td>30</td><td>Standard Component</td><td>30</td></tr><tr><td>130</td><td>RockShox Lyric Ult 150 Air</td><td>968</td><td>30</td><td>Premium Component</td><td>30</td></tr><tr><td>131</td><td>RockShox Pike Sel RC 140</td><td>713</td><td>30</td><td>Premium Component</td><td>30</td></tr><tr><td>132</td><td>Fox 38 Float Perf 170 Air</td><td>1020</td><td>28</td><td>Premium Component</td><td>28</td></tr><tr><td>133</td><td>RockShox Recon RL 120 Air</td><td>255</td><td>30</td><td>Standard Component</td><td>30</td></tr><tr><td>134</td><td>Fox 36 Factory 160 Air</td><td>1069</td><td>28</td><td>Premium Component</td><td>28</td></tr><tr><td>135</td><td>Fox 36 Factory 150 Air</td><td>1069</td><td>28</td><td>Premium Component</td><td>28</td></tr><tr><td>136</td><td>Fox 32 Factory 100</td><td>489</td><td>28</td><td>Standard Component</td><td>28</td></tr><tr><td>137</td><td>Lefty Ocho 100 Air</td><td>999</td><td>33</td><td>Premium Component</td><td>33</td></tr><tr><td>138</td><td>DVO Onyx D2 170 Air</td><td>790</td><td>29</td><td>Premium Component</td><td>29</td></tr><tr><td>139</td><td>RockShox 35 Gold RL 140 Air</td><td>458</td><td>30</td><td>Standard Component</td><td>30</td></tr><tr><td>140</td><td>Fox 34 Float Factory Grip 2 140 Air</td><td>1039</td><td>28</td><td>Premium Component</td><td>28</td></tr><tr><td>141</td><td>Fox 34 Perf 130</td><td>429</td><td>28</td><td>Standard Component</td><td>28</td></tr></table>"
                    },
                    "metadata": {}
                }
            ],
            "execution_count": 121
        },
        {
            "cell_type": "markdown",
            "source": [
                "**Now that we have re-named the component name column, we need to make sure the component cost and supplier columns have been updated as well. Update both columns to show $0.00 and 'No Part' respectively. To ensure no null values in the table, you may need to create a supplier entry in the supplier table to point the component supplier column to.**"
            ],
            "metadata": {
                "language": "sql",
                "azdata_cell_guid": "4b9b2760-006e-45d5-aeff-4782ebe14253"
            },
            "attachments": {}
        },
        {
            "cell_type": "code",
            "source": [
                "INSERT INTO suppliers (sup_id, sup_name, sup_ctry)\r\n",
                "VALUES (9999, 'No Part', 'Unknown');\r\n",
                ""
            ],
            "metadata": {
                "language": "sql",
                "azdata_cell_guid": "c32492ea-fc04-428c-8654-50e55b83122b"
            },
            "outputs": [
                {
                    "output_type": "error",
                    "ename": "",
                    "evalue": "duplicate key value violates unique constraint \"suppliers_pkey\"",
                    "traceback": []
                },
                {
                    "output_type": "display_data",
                    "data": {
                        "text/html": "Total execution time: 00:00:00"
                    },
                    "metadata": {}
                }
            ],
            "execution_count": 122
        },
        {
            "cell_type": "code",
            "source": [
                "UPDATE components\r\n",
                "SET comp_cost = COALESCE(comp_cost, 0.00), \r\n",
                "    comp_supplier = COALESCE(comp_supplier, 9999)\r\n",
                "WHERE comp_cost IS NULL OR comp_supplier IS NULL;\r\n",
                ""
            ],
            "metadata": {
                "language": "sql",
                "azdata_cell_guid": "dbefa4f7-d421-4008-8469-977e8f0b28cc"
            },
            "outputs": [
                {
                    "output_type": "display_data",
                    "data": {
                        "text/html": "UPDATE 1"
                    },
                    "metadata": {}
                },
                {
                    "output_type": "display_data",
                    "data": {
                        "text/html": "Total execution time: 00:00:00.009"
                    },
                    "metadata": {}
                }
            ],
            "execution_count": 10
        },
        {
            "cell_type": "code",
            "source": [
                "SELECT * FROM components\r\n",
                "LIMIT 100;\r\n",
                ""
            ],
            "metadata": {
                "language": "sql",
                "azdata_cell_guid": "78098b63-7212-43f4-a1e6-51c3760133e1"
            },
            "outputs": [
                {
                    "output_type": "display_data",
                    "data": {
                        "text/html": "(100 row(s) affected)"
                    },
                    "metadata": {}
                },
                {
                    "output_type": "display_data",
                    "data": {
                        "text/html": "Total execution time: 00:00:00.004"
                    },
                    "metadata": {}
                },
                {
                    "output_type": "execute_result",
                    "execution_count": 11,
                    "data": {
                        "application/vnd.dataresource+json": {
                            "schema": {
                                "fields": [
                                    {
                                        "name": "comp_id"
                                    },
                                    {
                                        "name": "comp_name"
                                    },
                                    {
                                        "name": "comp_cost"
                                    },
                                    {
                                        "name": "comp_supplier"
                                    },
                                    {
                                        "name": "comp_cat"
                                    },
                                    {
                                        "name": "sup_id"
                                    }
                                ]
                            },
                            "data": [
                                {
                                    "comp_id": "172",
                                    "comp_name": " ",
                                    "comp_cost": "0.00",
                                    "comp_supplier": "9999",
                                    "comp_cat": "Budget Component",
                                    "sup_id": "NULL"
                                },
                                {
                                    "comp_id": "1",
                                    "comp_name": "Giant Contact SLR",
                                    "comp_cost": "143",
                                    "comp_supplier": "1",
                                    "comp_cat": "Standard Component",
                                    "sup_id": "NULL"
                                },
                                {
                                    "comp_id": "2",
                                    "comp_name": "Rida Alpha R27",
                                    "comp_cost": "136",
                                    "comp_supplier": "2",
                                    "comp_cat": "Standard Component",
                                    "sup_id": "NULL"
                                },
                                {
                                    "comp_id": "3",
                                    "comp_name": "Niner Flat Top",
                                    "comp_cost": "118",
                                    "comp_supplier": "3",
                                    "comp_cat": "Standard Component",
                                    "sup_id": "NULL"
                                },
                                {
                                    "comp_id": "4",
                                    "comp_name": "Enve M7 Carb",
                                    "comp_cost": "69",
                                    "comp_supplier": "4",
                                    "comp_cat": "Budget Component",
                                    "sup_id": "NULL"
                                },
                                {
                                    "comp_id": "5",
                                    "comp_name": "e13 base",
                                    "comp_cost": "91",
                                    "comp_supplier": "5",
                                    "comp_cat": "Budget Component",
                                    "sup_id": "NULL"
                                },
                                {
                                    "comp_id": "6",
                                    "comp_name": "RaceFace NextR Carbon",
                                    "comp_cost": "129",
                                    "comp_supplier": "6",
                                    "comp_cat": "Standard Component",
                                    "sup_id": "NULL"
                                },
                                {
                                    "comp_id": "7",
                                    "comp_name": "OC1",
                                    "comp_cost": "51",
                                    "comp_supplier": "61",
                                    "comp_cat": "Budget Component",
                                    "sup_id": "NULL"
                                },
                                {
                                    "comp_id": "8",
                                    "comp_name": "Kona XC",
                                    "comp_cost": "76",
                                    "comp_supplier": "8",
                                    "comp_cat": "Budget Component",
                                    "sup_id": "NULL"
                                },
                                {
                                    "comp_id": "11",
                                    "comp_name": "Newman Evo",
                                    "comp_cost": "143",
                                    "comp_supplier": "11",
                                    "comp_cat": "Standard Component",
                                    "sup_id": "NULL"
                                },
                                {
                                    "comp_id": "12",
                                    "comp_name": "OC3 Carbon",
                                    "comp_cost": "82",
                                    "comp_supplier": "61",
                                    "comp_cat": "Budget Component",
                                    "sup_id": "NULL"
                                },
                                {
                                    "comp_id": "13",
                                    "comp_name": "TranzX Burtted 6061",
                                    "comp_cost": "85",
                                    "comp_supplier": "13",
                                    "comp_cat": "Budget Component",
                                    "sup_id": "NULL"
                                },
                                {
                                    "comp_id": "14",
                                    "comp_name": "E13 TRS Base",
                                    "comp_cost": "85",
                                    "comp_supplier": "5",
                                    "comp_cat": "Budget Component",
                                    "sup_id": "NULL"
                                },
                                {
                                    "comp_id": "15",
                                    "comp_name": "Rocky Mountain AM",
                                    "comp_cost": "115",
                                    "comp_supplier": "14",
                                    "comp_cat": "Standard Component",
                                    "sup_id": "NULL"
                                },
                                {
                                    "comp_id": "16",
                                    "comp_name": "Evil Boomstick Carbon",
                                    "comp_cost": "117",
                                    "comp_supplier": "15",
                                    "comp_cat": "Standard Component",
                                    "sup_id": "NULL"
                                },
                                {
                                    "comp_id": "17",
                                    "comp_name": "ProTaper Carb",
                                    "comp_cost": "117",
                                    "comp_supplier": "16",
                                    "comp_cat": "Standard Component",
                                    "sup_id": "NULL"
                                },
                                {
                                    "comp_id": "18",
                                    "comp_name": "Cannondale 3 Riser",
                                    "comp_cost": "128",
                                    "comp_supplier": "17",
                                    "comp_cat": "Standard Component",
                                    "sup_id": "NULL"
                                },
                                {
                                    "comp_id": "20",
                                    "comp_name": "Nukeproof Neutron V2",
                                    "comp_cost": "133",
                                    "comp_supplier": "18",
                                    "comp_cat": "Standard Component",
                                    "sup_id": "NULL"
                                },
                                {
                                    "comp_id": "21",
                                    "comp_name": "Whyte 6061 Alloy",
                                    "comp_cost": "140",
                                    "comp_supplier": "10",
                                    "comp_cat": "Standard Component",
                                    "sup_id": "NULL"
                                },
                                {
                                    "comp_id": "22",
                                    "comp_name": "Deity Ridgeline",
                                    "comp_cost": "74",
                                    "comp_supplier": "9",
                                    "comp_cat": "Budget Component",
                                    "sup_id": "NULL"
                                },
                                {
                                    "comp_id": "23",
                                    "comp_name": "Tenet Bodam AL",
                                    "comp_cost": "147",
                                    "comp_supplier": "19",
                                    "comp_cat": "Standard Component",
                                    "sup_id": "NULL"
                                },
                                {
                                    "comp_id": "24",
                                    "comp_name": "NS Bar",
                                    "comp_cost": "69",
                                    "comp_supplier": "71",
                                    "comp_cat": "Budget Component",
                                    "sup_id": "NULL"
                                },
                                {
                                    "comp_id": "25",
                                    "comp_name": "Intense Recon Carb Elite",
                                    "comp_cost": "117",
                                    "comp_supplier": "20",
                                    "comp_cat": "Standard Component",
                                    "sup_id": "NULL"
                                },
                                {
                                    "comp_id": "26",
                                    "comp_name": "Phoenix Team LowRise",
                                    "comp_cost": "63",
                                    "comp_supplier": "21",
                                    "comp_cat": "Budget Component",
                                    "sup_id": "NULL"
                                },
                                {
                                    "comp_id": "28",
                                    "comp_name": "Intense Recon Alloy",
                                    "comp_cost": "82",
                                    "comp_supplier": "20",
                                    "comp_cat": "Budget Component",
                                    "sup_id": "NULL"
                                },
                                {
                                    "comp_id": "30",
                                    "comp_name": "Nukeproof Horizon V2",
                                    "comp_cost": "103",
                                    "comp_supplier": "18",
                                    "comp_cat": "Standard Component",
                                    "sup_id": "NULL"
                                },
                                {
                                    "comp_id": "31",
                                    "comp_name": "ProTaper AL",
                                    "comp_cost": "114",
                                    "comp_supplier": "16",
                                    "comp_cat": "Standard Component",
                                    "sup_id": "NULL"
                                },
                                {
                                    "comp_id": "32",
                                    "comp_name": "Ibis Carbon",
                                    "comp_cost": "133",
                                    "comp_supplier": "22",
                                    "comp_cat": "Standard Component",
                                    "sup_id": "NULL"
                                },
                                {
                                    "comp_id": "33",
                                    "comp_name": "OnOff Sulpher 1.0",
                                    "comp_cost": "72",
                                    "comp_supplier": "23",
                                    "comp_cat": "Budget Component",
                                    "sup_id": "NULL"
                                },
                                {
                                    "comp_id": "34",
                                    "comp_name": "NS License Carb",
                                    "comp_cost": "69",
                                    "comp_supplier": "71",
                                    "comp_cat": "Budget Component",
                                    "sup_id": "NULL"
                                },
                                {
                                    "comp_id": "35",
                                    "comp_name": "GT Alloy",
                                    "comp_cost": "70",
                                    "comp_supplier": "25",
                                    "comp_cat": "Budget Component",
                                    "sup_id": "NULL"
                                },
                                {
                                    "comp_id": "36",
                                    "comp_name": "Yeti Carbon",
                                    "comp_cost": "113",
                                    "comp_supplier": "6",
                                    "comp_cat": "Standard Component",
                                    "sup_id": "NULL"
                                },
                                {
                                    "comp_id": "37",
                                    "comp_name": "RaceFace Aeffect R",
                                    "comp_cost": "94",
                                    "comp_supplier": "6",
                                    "comp_cat": "Budget Component",
                                    "sup_id": "NULL"
                                },
                                {
                                    "comp_id": "38",
                                    "comp_name": "Specialized Trail 7050 Alloy",
                                    "comp_cost": "103",
                                    "comp_supplier": "26",
                                    "comp_cat": "Standard Component",
                                    "sup_id": "NULL"
                                },
                                {
                                    "comp_id": "39",
                                    "comp_name": "Giant Connect R",
                                    "comp_cost": "114",
                                    "comp_supplier": "1",
                                    "comp_cat": "Standard Component",
                                    "sup_id": "NULL"
                                },
                                {
                                    "comp_id": "40",
                                    "comp_name": "Ibis Aluminum",
                                    "comp_cost": "76",
                                    "comp_supplier": "22",
                                    "comp_cat": "Budget Component",
                                    "sup_id": "NULL"
                                },
                                {
                                    "comp_id": "41",
                                    "comp_name": "Evil Boomstick 7075 Alloy",
                                    "comp_cost": "121",
                                    "comp_supplier": "15",
                                    "comp_cat": "Standard Component",
                                    "sup_id": "NULL"
                                },
                                {
                                    "comp_id": "42",
                                    "comp_name": "Cannondale 2 Flat",
                                    "comp_cost": "50",
                                    "comp_supplier": "17",
                                    "comp_cat": "Budget Component",
                                    "sup_id": "NULL"
                                },
                                {
                                    "comp_id": "44",
                                    "comp_name": "RaceFace Turbine R",
                                    "comp_cost": "96",
                                    "comp_supplier": "6",
                                    "comp_cat": "Budget Component",
                                    "sup_id": "NULL"
                                },
                                {
                                    "comp_id": "45",
                                    "comp_name": "Burgtec Alloy",
                                    "comp_cost": "106",
                                    "comp_supplier": "27",
                                    "comp_cat": "Standard Component",
                                    "sup_id": "NULL"
                                },
                                {
                                    "comp_id": "46",
                                    "comp_name": "Shimano Deore M6100 2",
                                    "comp_cost": "114.99",
                                    "comp_supplier": "44",
                                    "comp_cat": "Standard Component",
                                    "sup_id": "NULL"
                                },
                                {
                                    "comp_id": "47",
                                    "comp_name": "Sram Guide RE",
                                    "comp_cost": "138",
                                    "comp_supplier": "45",
                                    "comp_cat": "Standard Component",
                                    "sup_id": "NULL"
                                },
                                {
                                    "comp_id": "49",
                                    "comp_name": "Magura MT7",
                                    "comp_cost": "299.99",
                                    "comp_supplier": "56",
                                    "comp_cat": "Standard Component",
                                    "sup_id": "NULL"
                                },
                                {
                                    "comp_id": "50",
                                    "comp_name": "TRP Gspec Trail S",
                                    "comp_cost": "259.99",
                                    "comp_supplier": "57",
                                    "comp_cat": "Standard Component",
                                    "sup_id": "NULL"
                                },
                                {
                                    "comp_id": "51",
                                    "comp_name": "Sram Code R",
                                    "comp_cost": "158",
                                    "comp_supplier": "45",
                                    "comp_cat": "Standard Component",
                                    "sup_id": "NULL"
                                },
                                {
                                    "comp_id": "52",
                                    "comp_name": "Shimano M6120",
                                    "comp_cost": "140.9",
                                    "comp_supplier": "44",
                                    "comp_cat": "Standard Component",
                                    "sup_id": "NULL"
                                },
                                {
                                    "comp_id": "53",
                                    "comp_name": "Tektro HDM 735",
                                    "comp_cost": "119.95",
                                    "comp_supplier": "72",
                                    "comp_cat": "Standard Component",
                                    "sup_id": "NULL"
                                },
                                {
                                    "comp_id": "54",
                                    "comp_name": "Shimano MT500",
                                    "comp_cost": "47.99",
                                    "comp_supplier": "44",
                                    "comp_cat": "Budget Component",
                                    "sup_id": "NULL"
                                },
                                {
                                    "comp_id": "55",
                                    "comp_name": "Sram G2 ULT",
                                    "comp_cost": "286",
                                    "comp_supplier": "45",
                                    "comp_cat": "Standard Component",
                                    "sup_id": "NULL"
                                },
                                {
                                    "comp_id": "56",
                                    "comp_name": "Sram Code RSC",
                                    "comp_cost": "200",
                                    "comp_supplier": "45",
                                    "comp_cat": "Standard Component",
                                    "sup_id": "NULL"
                                },
                                {
                                    "comp_id": "57",
                                    "comp_name": "Sram G2 RSC",
                                    "comp_cost": "160",
                                    "comp_supplier": "45",
                                    "comp_cat": "Standard Component",
                                    "sup_id": "NULL"
                                },
                                {
                                    "comp_id": "58",
                                    "comp_name": "Shimano Deore M6120 4",
                                    "comp_cost": "189",
                                    "comp_supplier": "44",
                                    "comp_cat": "Standard Component",
                                    "sup_id": "NULL"
                                },
                                {
                                    "comp_id": "59",
                                    "comp_name": "Shimano SLX M7100",
                                    "comp_cost": "187",
                                    "comp_supplier": "44",
                                    "comp_cat": "Standard Component",
                                    "sup_id": "NULL"
                                },
                                {
                                    "comp_id": "60",
                                    "comp_name": "Sram Code RS",
                                    "comp_cost": "172",
                                    "comp_supplier": "45",
                                    "comp_cat": "Standard Component",
                                    "sup_id": "NULL"
                                },
                                {
                                    "comp_id": "61",
                                    "comp_name": "Shimano XT M8100",
                                    "comp_cost": "169.99",
                                    "comp_supplier": "44",
                                    "comp_cat": "Standard Component",
                                    "sup_id": "NULL"
                                },
                                {
                                    "comp_id": "62",
                                    "comp_name": "Sram Guide T",
                                    "comp_cost": "129",
                                    "comp_supplier": "45",
                                    "comp_cat": "Standard Component",
                                    "sup_id": "NULL"
                                },
                                {
                                    "comp_id": "64",
                                    "comp_name": "Sram Level",
                                    "comp_cost": "66",
                                    "comp_supplier": "45",
                                    "comp_cat": "Budget Component",
                                    "sup_id": "NULL"
                                },
                                {
                                    "comp_id": "65",
                                    "comp_name": "Sram Guide R",
                                    "comp_cost": "120",
                                    "comp_supplier": "45",
                                    "comp_cat": "Standard Component",
                                    "sup_id": "NULL"
                                },
                                {
                                    "comp_id": "66",
                                    "comp_name": "Shimano XTR Trail",
                                    "comp_cost": "275",
                                    "comp_supplier": "44",
                                    "comp_cat": "Standard Component",
                                    "sup_id": "NULL"
                                },
                                {
                                    "comp_id": "67",
                                    "comp_name": "Shimano XT M8120",
                                    "comp_cost": "181",
                                    "comp_supplier": "44",
                                    "comp_cat": "Standard Component",
                                    "sup_id": "NULL"
                                },
                                {
                                    "comp_id": "68",
                                    "comp_name": "Sram G2 R",
                                    "comp_cost": "138",
                                    "comp_supplier": "45",
                                    "comp_cat": "Standard Component",
                                    "sup_id": "NULL"
                                },
                                {
                                    "comp_id": "69",
                                    "comp_name": "Shimnano Deore M6100 4",
                                    "comp_cost": "178",
                                    "comp_supplier": "44",
                                    "comp_cat": "Standard Component",
                                    "sup_id": "NULL"
                                },
                                {
                                    "comp_id": "70",
                                    "comp_name": "Whyte 30mm Carbon",
                                    "comp_cost": "240",
                                    "comp_supplier": "10",
                                    "comp_cat": "Standard Component",
                                    "sup_id": "NULL"
                                },
                                {
                                    "comp_id": "71",
                                    "comp_name": "Stand NoTubes MK3",
                                    "comp_cost": "299",
                                    "comp_supplier": "47",
                                    "comp_cat": "Standard Component",
                                    "sup_id": "NULL"
                                },
                                {
                                    "comp_id": "244",
                                    "comp_name": "OC2",
                                    "comp_cost": "78",
                                    "comp_supplier": "61",
                                    "comp_cat": "Budget Component",
                                    "sup_id": "NULL"
                                },
                                {
                                    "comp_id": "73",
                                    "comp_name": "Octane One Solar",
                                    "comp_cost": "280.99",
                                    "comp_supplier": "49",
                                    "comp_cat": "Standard Component",
                                    "sup_id": "NULL"
                                },
                                {
                                    "comp_id": "74",
                                    "comp_name": "Giant TRX-2",
                                    "comp_cost": "550",
                                    "comp_supplier": "1",
                                    "comp_cat": "Premium Component",
                                    "sup_id": "NULL"
                                },
                                {
                                    "comp_id": "76",
                                    "comp_name": "Stans Flow MK3",
                                    "comp_cost": "200",
                                    "comp_supplier": "47",
                                    "comp_cat": "Standard Component",
                                    "sup_id": "NULL"
                                },
                                {
                                    "comp_id": "77",
                                    "comp_name": "DT Swiss M1700",
                                    "comp_cost": "502",
                                    "comp_supplier": "48",
                                    "comp_cat": "Premium Component",
                                    "sup_id": "NULL"
                                },
                                {
                                    "comp_id": "78",
                                    "comp_name": "DT Swiss XR-1650",
                                    "comp_cost": "1007",
                                    "comp_supplier": "48",
                                    "comp_cat": "Premium Component",
                                    "sup_id": "NULL"
                                },
                                {
                                    "comp_id": "79",
                                    "comp_name": "DT Swiss EX1900",
                                    "comp_cost": "380",
                                    "comp_supplier": "48",
                                    "comp_cat": "Standard Component",
                                    "sup_id": "NULL"
                                },
                                {
                                    "comp_id": "80",
                                    "comp_name": "Crankbrothers Synth EN",
                                    "comp_cost": "599.98",
                                    "comp_supplier": "50",
                                    "comp_cat": "Premium Component",
                                    "sup_id": "NULL"
                                },
                                {
                                    "comp_id": "81",
                                    "comp_name": "WTB ST i29",
                                    "comp_cost": "185",
                                    "comp_supplier": "51",
                                    "comp_cat": "Standard Component",
                                    "sup_id": "NULL"
                                },
                                {
                                    "comp_id": "82",
                                    "comp_name": "E13 LG1 EN Race",
                                    "comp_cost": "390",
                                    "comp_supplier": "5",
                                    "comp_cat": "Standard Component",
                                    "sup_id": "NULL"
                                },
                                {
                                    "comp_id": "83",
                                    "comp_name": "E13 XCX XC",
                                    "comp_cost": "250",
                                    "comp_supplier": "5",
                                    "comp_cat": "Standard Component",
                                    "sup_id": "NULL"
                                },
                                {
                                    "comp_id": "84",
                                    "comp_name": "i9 Hydra Enduro S",
                                    "comp_cost": "995",
                                    "comp_supplier": "52",
                                    "comp_cat": "Premium Component",
                                    "sup_id": "NULL"
                                },
                                {
                                    "comp_id": "85",
                                    "comp_name": "i9 Enduro 305",
                                    "comp_cost": "765",
                                    "comp_supplier": "52",
                                    "comp_cat": "Premium Component",
                                    "sup_id": "NULL"
                                },
                                {
                                    "comp_id": "86",
                                    "comp_name": "Ibis S35 AL",
                                    "comp_cost": "529",
                                    "comp_supplier": "22",
                                    "comp_cat": "Premium Component",
                                    "sup_id": "NULL"
                                },
                                {
                                    "comp_id": "87",
                                    "comp_name": "NS Enigma Roll",
                                    "comp_cost": "333.99",
                                    "comp_supplier": "71",
                                    "comp_cat": "Standard Component",
                                    "sup_id": "NULL"
                                },
                                {
                                    "comp_id": "88",
                                    "comp_name": "DT Swixx Custom EX1700",
                                    "comp_cost": "390",
                                    "comp_supplier": "48",
                                    "comp_cat": "Standard Component",
                                    "sup_id": "NULL"
                                },
                                {
                                    "comp_id": "89",
                                    "comp_name": "Stans Floiw S1",
                                    "comp_cost": "375",
                                    "comp_supplier": "47",
                                    "comp_cat": "Standard Component",
                                    "sup_id": "NULL"
                                },
                                {
                                    "comp_id": "90",
                                    "comp_name": "DT Swiss XMC1200",
                                    "comp_cost": "1721.9",
                                    "comp_supplier": "48",
                                    "comp_cat": "Premium Component",
                                    "sup_id": "NULL"
                                },
                                {
                                    "comp_id": "91",
                                    "comp_name": "DT Swiss Custom EX-1700",
                                    "comp_cost": "1450",
                                    "comp_supplier": "48",
                                    "comp_cat": "Premium Component",
                                    "sup_id": "NULL"
                                },
                                {
                                    "comp_id": "92",
                                    "comp_name": "DT Swiss M-1900",
                                    "comp_cost": "265.9",
                                    "comp_supplier": "48",
                                    "comp_cat": "Standard Component",
                                    "sup_id": "NULL"
                                },
                                {
                                    "comp_id": "93",
                                    "comp_name": "Roval Traverse Alloy",
                                    "comp_cost": "1350",
                                    "comp_supplier": "53",
                                    "comp_cat": "Premium Component",
                                    "sup_id": "NULL"
                                },
                                {
                                    "comp_id": "94",
                                    "comp_name": "E13 LG1 DH Base",
                                    "comp_cost": "420",
                                    "comp_supplier": "5",
                                    "comp_cat": "Standard Component",
                                    "sup_id": "NULL"
                                },
                                {
                                    "comp_id": "95",
                                    "comp_name": "Niner Alloy",
                                    "comp_cost": "180",
                                    "comp_supplier": "3",
                                    "comp_cat": "Standard Component",
                                    "sup_id": "NULL"
                                },
                                {
                                    "comp_id": "96",
                                    "comp_name": "WTB ST Light i30",
                                    "comp_cost": "195",
                                    "comp_supplier": "51",
                                    "comp_cat": "Standard Component",
                                    "sup_id": "NULL"
                                },
                                {
                                    "comp_id": "97",
                                    "comp_name": "E13 LG1",
                                    "comp_cost": "203.15",
                                    "comp_supplier": "5",
                                    "comp_cat": "Standard Component",
                                    "sup_id": "NULL"
                                },
                                {
                                    "comp_id": "98",
                                    "comp_name": "WTB KOM Trail i30",
                                    "comp_cost": "269",
                                    "comp_supplier": "51",
                                    "comp_cat": "Standard Component",
                                    "sup_id": "NULL"
                                },
                                {
                                    "comp_id": "99",
                                    "comp_name": "i9 RW30",
                                    "comp_cost": "2199",
                                    "comp_supplier": "52",
                                    "comp_cat": "Premium Component",
                                    "sup_id": "NULL"
                                },
                                {
                                    "comp_id": "100",
                                    "comp_name": "WTB ST i30",
                                    "comp_cost": "210",
                                    "comp_supplier": "51",
                                    "comp_cat": "Standard Component",
                                    "sup_id": "NULL"
                                },
                                {
                                    "comp_id": "101",
                                    "comp_name": "WTB KOM Light i30",
                                    "comp_cost": "227",
                                    "comp_supplier": "51",
                                    "comp_cat": "Standard Component",
                                    "sup_id": "NULL"
                                },
                                {
                                    "comp_id": "102",
                                    "comp_name": "WTM KOM i27",
                                    "comp_cost": "235",
                                    "comp_supplier": "51",
                                    "comp_cat": "Standard Component",
                                    "sup_id": "NULL"
                                },
                                {
                                    "comp_id": "103",
                                    "comp_name": "RaceFace AR Offset 30",
                                    "comp_cost": "275",
                                    "comp_supplier": "6",
                                    "comp_cat": "Standard Component",
                                    "sup_id": "NULL"
                                },
                                {
                                    "comp_id": "104",
                                    "comp_name": "Stand Arch MK3",
                                    "comp_cost": "425",
                                    "comp_supplier": "47",
                                    "comp_cat": "Standard Component",
                                    "sup_id": "NULL"
                                },
                                {
                                    "comp_id": "105",
                                    "comp_name": "Giant AM",
                                    "comp_cost": "175",
                                    "comp_supplier": "1",
                                    "comp_cat": "Standard Component",
                                    "sup_id": "NULL"
                                },
                                {
                                    "comp_id": "106",
                                    "comp_name": "DT Swiss XT1501",
                                    "comp_cost": "605",
                                    "comp_supplier": "48",
                                    "comp_cat": "Premium Component",
                                    "sup_id": "NULL"
                                },
                                {
                                    "comp_id": "107",
                                    "comp_name": "DT Swiss XR1700",
                                    "comp_cost": "564.9",
                                    "comp_supplier": "48",
                                    "comp_cat": "Premium Component",
                                    "sup_id": "NULL"
                                },
                                {
                                    "comp_id": "108",
                                    "comp_name": "WTB ST i25",
                                    "comp_cost": "175",
                                    "comp_supplier": "51",
                                    "comp_cat": "Standard Component",
                                    "sup_id": "NULL"
                                }
                            ]
                        },
                        "text/html": "<table><tr><th>comp_id</th><th>comp_name</th><th>comp_cost</th><th>comp_supplier</th><th>comp_cat</th><th>sup_id</th></tr><tr><td>172</td><td> </td><td>0.00</td><td>9999</td><td>Budget Component</td><td>NULL</td></tr><tr><td>1</td><td>Giant Contact SLR</td><td>143</td><td>1</td><td>Standard Component</td><td>NULL</td></tr><tr><td>2</td><td>Rida Alpha R27</td><td>136</td><td>2</td><td>Standard Component</td><td>NULL</td></tr><tr><td>3</td><td>Niner Flat Top</td><td>118</td><td>3</td><td>Standard Component</td><td>NULL</td></tr><tr><td>4</td><td>Enve M7 Carb</td><td>69</td><td>4</td><td>Budget Component</td><td>NULL</td></tr><tr><td>5</td><td>e13 base</td><td>91</td><td>5</td><td>Budget Component</td><td>NULL</td></tr><tr><td>6</td><td>RaceFace NextR Carbon</td><td>129</td><td>6</td><td>Standard Component</td><td>NULL</td></tr><tr><td>7</td><td>OC1</td><td>51</td><td>61</td><td>Budget Component</td><td>NULL</td></tr><tr><td>8</td><td>Kona XC</td><td>76</td><td>8</td><td>Budget Component</td><td>NULL</td></tr><tr><td>11</td><td>Newman Evo</td><td>143</td><td>11</td><td>Standard Component</td><td>NULL</td></tr><tr><td>12</td><td>OC3 Carbon</td><td>82</td><td>61</td><td>Budget Component</td><td>NULL</td></tr><tr><td>13</td><td>TranzX Burtted 6061</td><td>85</td><td>13</td><td>Budget Component</td><td>NULL</td></tr><tr><td>14</td><td>E13 TRS Base</td><td>85</td><td>5</td><td>Budget Component</td><td>NULL</td></tr><tr><td>15</td><td>Rocky Mountain AM</td><td>115</td><td>14</td><td>Standard Component</td><td>NULL</td></tr><tr><td>16</td><td>Evil Boomstick Carbon</td><td>117</td><td>15</td><td>Standard Component</td><td>NULL</td></tr><tr><td>17</td><td>ProTaper Carb</td><td>117</td><td>16</td><td>Standard Component</td><td>NULL</td></tr><tr><td>18</td><td>Cannondale 3 Riser</td><td>128</td><td>17</td><td>Standard Component</td><td>NULL</td></tr><tr><td>20</td><td>Nukeproof Neutron V2</td><td>133</td><td>18</td><td>Standard Component</td><td>NULL</td></tr><tr><td>21</td><td>Whyte 6061 Alloy</td><td>140</td><td>10</td><td>Standard Component</td><td>NULL</td></tr><tr><td>22</td><td>Deity Ridgeline</td><td>74</td><td>9</td><td>Budget Component</td><td>NULL</td></tr><tr><td>23</td><td>Tenet Bodam AL</td><td>147</td><td>19</td><td>Standard Component</td><td>NULL</td></tr><tr><td>24</td><td>NS Bar</td><td>69</td><td>71</td><td>Budget Component</td><td>NULL</td></tr><tr><td>25</td><td>Intense Recon Carb Elite</td><td>117</td><td>20</td><td>Standard Component</td><td>NULL</td></tr><tr><td>26</td><td>Phoenix Team LowRise</td><td>63</td><td>21</td><td>Budget Component</td><td>NULL</td></tr><tr><td>28</td><td>Intense Recon Alloy</td><td>82</td><td>20</td><td>Budget Component</td><td>NULL</td></tr><tr><td>30</td><td>Nukeproof Horizon V2</td><td>103</td><td>18</td><td>Standard Component</td><td>NULL</td></tr><tr><td>31</td><td>ProTaper AL</td><td>114</td><td>16</td><td>Standard Component</td><td>NULL</td></tr><tr><td>32</td><td>Ibis Carbon</td><td>133</td><td>22</td><td>Standard Component</td><td>NULL</td></tr><tr><td>33</td><td>OnOff Sulpher 1.0</td><td>72</td><td>23</td><td>Budget Component</td><td>NULL</td></tr><tr><td>34</td><td>NS License Carb</td><td>69</td><td>71</td><td>Budget Component</td><td>NULL</td></tr><tr><td>35</td><td>GT Alloy</td><td>70</td><td>25</td><td>Budget Component</td><td>NULL</td></tr><tr><td>36</td><td>Yeti Carbon</td><td>113</td><td>6</td><td>Standard Component</td><td>NULL</td></tr><tr><td>37</td><td>RaceFace Aeffect R</td><td>94</td><td>6</td><td>Budget Component</td><td>NULL</td></tr><tr><td>38</td><td>Specialized Trail 7050 Alloy</td><td>103</td><td>26</td><td>Standard Component</td><td>NULL</td></tr><tr><td>39</td><td>Giant Connect R</td><td>114</td><td>1</td><td>Standard Component</td><td>NULL</td></tr><tr><td>40</td><td>Ibis Aluminum</td><td>76</td><td>22</td><td>Budget Component</td><td>NULL</td></tr><tr><td>41</td><td>Evil Boomstick 7075 Alloy</td><td>121</td><td>15</td><td>Standard Component</td><td>NULL</td></tr><tr><td>42</td><td>Cannondale 2 Flat</td><td>50</td><td>17</td><td>Budget Component</td><td>NULL</td></tr><tr><td>44</td><td>RaceFace Turbine R</td><td>96</td><td>6</td><td>Budget Component</td><td>NULL</td></tr><tr><td>45</td><td>Burgtec Alloy</td><td>106</td><td>27</td><td>Standard Component</td><td>NULL</td></tr><tr><td>46</td><td>Shimano Deore M6100 2</td><td>114.99</td><td>44</td><td>Standard Component</td><td>NULL</td></tr><tr><td>47</td><td>Sram Guide RE</td><td>138</td><td>45</td><td>Standard Component</td><td>NULL</td></tr><tr><td>49</td><td>Magura MT7</td><td>299.99</td><td>56</td><td>Standard Component</td><td>NULL</td></tr><tr><td>50</td><td>TRP Gspec Trail S</td><td>259.99</td><td>57</td><td>Standard Component</td><td>NULL</td></tr><tr><td>51</td><td>Sram Code R</td><td>158</td><td>45</td><td>Standard Component</td><td>NULL</td></tr><tr><td>52</td><td>Shimano M6120</td><td>140.9</td><td>44</td><td>Standard Component</td><td>NULL</td></tr><tr><td>53</td><td>Tektro HDM 735</td><td>119.95</td><td>72</td><td>Standard Component</td><td>NULL</td></tr><tr><td>54</td><td>Shimano MT500</td><td>47.99</td><td>44</td><td>Budget Component</td><td>NULL</td></tr><tr><td>55</td><td>Sram G2 ULT</td><td>286</td><td>45</td><td>Standard Component</td><td>NULL</td></tr><tr><td>56</td><td>Sram Code RSC</td><td>200</td><td>45</td><td>Standard Component</td><td>NULL</td></tr><tr><td>57</td><td>Sram G2 RSC</td><td>160</td><td>45</td><td>Standard Component</td><td>NULL</td></tr><tr><td>58</td><td>Shimano Deore M6120 4</td><td>189</td><td>44</td><td>Standard Component</td><td>NULL</td></tr><tr><td>59</td><td>Shimano SLX M7100</td><td>187</td><td>44</td><td>Standard Component</td><td>NULL</td></tr><tr><td>60</td><td>Sram Code RS</td><td>172</td><td>45</td><td>Standard Component</td><td>NULL</td></tr><tr><td>61</td><td>Shimano XT M8100</td><td>169.99</td><td>44</td><td>Standard Component</td><td>NULL</td></tr><tr><td>62</td><td>Sram Guide T</td><td>129</td><td>45</td><td>Standard Component</td><td>NULL</td></tr><tr><td>64</td><td>Sram Level</td><td>66</td><td>45</td><td>Budget Component</td><td>NULL</td></tr><tr><td>65</td><td>Sram Guide R</td><td>120</td><td>45</td><td>Standard Component</td><td>NULL</td></tr><tr><td>66</td><td>Shimano XTR Trail</td><td>275</td><td>44</td><td>Standard Component</td><td>NULL</td></tr><tr><td>67</td><td>Shimano XT M8120</td><td>181</td><td>44</td><td>Standard Component</td><td>NULL</td></tr><tr><td>68</td><td>Sram G2 R</td><td>138</td><td>45</td><td>Standard Component</td><td>NULL</td></tr><tr><td>69</td><td>Shimnano Deore M6100 4</td><td>178</td><td>44</td><td>Standard Component</td><td>NULL</td></tr><tr><td>70</td><td>Whyte 30mm Carbon</td><td>240</td><td>10</td><td>Standard Component</td><td>NULL</td></tr><tr><td>71</td><td>Stand NoTubes MK3</td><td>299</td><td>47</td><td>Standard Component</td><td>NULL</td></tr><tr><td>244</td><td>OC2</td><td>78</td><td>61</td><td>Budget Component</td><td>NULL</td></tr><tr><td>73</td><td>Octane One Solar</td><td>280.99</td><td>49</td><td>Standard Component</td><td>NULL</td></tr><tr><td>74</td><td>Giant TRX-2</td><td>550</td><td>1</td><td>Premium Component</td><td>NULL</td></tr><tr><td>76</td><td>Stans Flow MK3</td><td>200</td><td>47</td><td>Standard Component</td><td>NULL</td></tr><tr><td>77</td><td>DT Swiss M1700</td><td>502</td><td>48</td><td>Premium Component</td><td>NULL</td></tr><tr><td>78</td><td>DT Swiss XR-1650</td><td>1007</td><td>48</td><td>Premium Component</td><td>NULL</td></tr><tr><td>79</td><td>DT Swiss EX1900</td><td>380</td><td>48</td><td>Standard Component</td><td>NULL</td></tr><tr><td>80</td><td>Crankbrothers Synth EN</td><td>599.98</td><td>50</td><td>Premium Component</td><td>NULL</td></tr><tr><td>81</td><td>WTB ST i29</td><td>185</td><td>51</td><td>Standard Component</td><td>NULL</td></tr><tr><td>82</td><td>E13 LG1 EN Race</td><td>390</td><td>5</td><td>Standard Component</td><td>NULL</td></tr><tr><td>83</td><td>E13 XCX XC</td><td>250</td><td>5</td><td>Standard Component</td><td>NULL</td></tr><tr><td>84</td><td>i9 Hydra Enduro S</td><td>995</td><td>52</td><td>Premium Component</td><td>NULL</td></tr><tr><td>85</td><td>i9 Enduro 305</td><td>765</td><td>52</td><td>Premium Component</td><td>NULL</td></tr><tr><td>86</td><td>Ibis S35 AL</td><td>529</td><td>22</td><td>Premium Component</td><td>NULL</td></tr><tr><td>87</td><td>NS Enigma Roll</td><td>333.99</td><td>71</td><td>Standard Component</td><td>NULL</td></tr><tr><td>88</td><td>DT Swixx Custom EX1700</td><td>390</td><td>48</td><td>Standard Component</td><td>NULL</td></tr><tr><td>89</td><td>Stans Floiw S1</td><td>375</td><td>47</td><td>Standard Component</td><td>NULL</td></tr><tr><td>90</td><td>DT Swiss XMC1200</td><td>1721.9</td><td>48</td><td>Premium Component</td><td>NULL</td></tr><tr><td>91</td><td>DT Swiss Custom EX-1700</td><td>1450</td><td>48</td><td>Premium Component</td><td>NULL</td></tr><tr><td>92</td><td>DT Swiss M-1900</td><td>265.9</td><td>48</td><td>Standard Component</td><td>NULL</td></tr><tr><td>93</td><td>Roval Traverse Alloy</td><td>1350</td><td>53</td><td>Premium Component</td><td>NULL</td></tr><tr><td>94</td><td>E13 LG1 DH Base</td><td>420</td><td>5</td><td>Standard Component</td><td>NULL</td></tr><tr><td>95</td><td>Niner Alloy</td><td>180</td><td>3</td><td>Standard Component</td><td>NULL</td></tr><tr><td>96</td><td>WTB ST Light i30</td><td>195</td><td>51</td><td>Standard Component</td><td>NULL</td></tr><tr><td>97</td><td>E13 LG1</td><td>203.15</td><td>5</td><td>Standard Component</td><td>NULL</td></tr><tr><td>98</td><td>WTB KOM Trail i30</td><td>269</td><td>51</td><td>Standard Component</td><td>NULL</td></tr><tr><td>99</td><td>i9 RW30</td><td>2199</td><td>52</td><td>Premium Component</td><td>NULL</td></tr><tr><td>100</td><td>WTB ST i30</td><td>210</td><td>51</td><td>Standard Component</td><td>NULL</td></tr><tr><td>101</td><td>WTB KOM Light i30</td><td>227</td><td>51</td><td>Standard Component</td><td>NULL</td></tr><tr><td>102</td><td>WTM KOM i27</td><td>235</td><td>51</td><td>Standard Component</td><td>NULL</td></tr><tr><td>103</td><td>RaceFace AR Offset 30</td><td>275</td><td>6</td><td>Standard Component</td><td>NULL</td></tr><tr><td>104</td><td>Stand Arch MK3</td><td>425</td><td>47</td><td>Standard Component</td><td>NULL</td></tr><tr><td>105</td><td>Giant AM</td><td>175</td><td>1</td><td>Standard Component</td><td>NULL</td></tr><tr><td>106</td><td>DT Swiss XT1501</td><td>605</td><td>48</td><td>Premium Component</td><td>NULL</td></tr><tr><td>107</td><td>DT Swiss XR1700</td><td>564.9</td><td>48</td><td>Premium Component</td><td>NULL</td></tr><tr><td>108</td><td>WTB ST i25</td><td>175</td><td>51</td><td>Standard Component</td><td>NULL</td></tr></table>"
                    },
                    "metadata": {}
                }
            ],
            "execution_count": 11
        },
        {
            "cell_type": "code",
            "source": [
                "UPDATE components\r\n",
                "SET sup_id = comp_supplier\r\n",
                "WHERE sup_id IS NULL;\r\n",
                ""
            ],
            "metadata": {
                "azdata_cell_guid": "0705bdc3-20a2-4711-b271-0d57bdfebc95",
                "language": "sql"
            },
            "outputs": [
                {
                    "output_type": "display_data",
                    "data": {
                        "text/html": "UPDATE 270"
                    },
                    "metadata": {}
                },
                {
                    "output_type": "display_data",
                    "data": {
                        "text/html": "Total execution time: 00:00:00.012"
                    },
                    "metadata": {}
                }
            ],
            "execution_count": 14
        },
        {
            "cell_type": "code",
            "source": [
                "SELECT * FROM components\r\n",
                "LIMIT 100;\r\n",
                ""
            ],
            "metadata": {
                "azdata_cell_guid": "2d96e26a-95be-4398-9be5-2d8cd6408a86",
                "language": "sql"
            },
            "outputs": [
                {
                    "output_type": "display_data",
                    "data": {
                        "text/html": "(100 row(s) affected)"
                    },
                    "metadata": {}
                },
                {
                    "output_type": "display_data",
                    "data": {
                        "text/html": "Total execution time: 00:00:00.004"
                    },
                    "metadata": {}
                },
                {
                    "output_type": "execute_result",
                    "execution_count": 15,
                    "data": {
                        "application/vnd.dataresource+json": {
                            "schema": {
                                "fields": [
                                    {
                                        "name": "comp_id"
                                    },
                                    {
                                        "name": "comp_name"
                                    },
                                    {
                                        "name": "comp_cost"
                                    },
                                    {
                                        "name": "comp_supplier"
                                    },
                                    {
                                        "name": "comp_cat"
                                    },
                                    {
                                        "name": "sup_id"
                                    }
                                ]
                            },
                            "data": [
                                {
                                    "comp_id": "41",
                                    "comp_name": "Evil Boomstick 7075 Alloy",
                                    "comp_cost": "121",
                                    "comp_supplier": "15",
                                    "comp_cat": "Standard Component",
                                    "sup_id": "15"
                                },
                                {
                                    "comp_id": "42",
                                    "comp_name": "Cannondale 2 Flat",
                                    "comp_cost": "50",
                                    "comp_supplier": "17",
                                    "comp_cat": "Budget Component",
                                    "sup_id": "17"
                                },
                                {
                                    "comp_id": "44",
                                    "comp_name": "RaceFace Turbine R",
                                    "comp_cost": "96",
                                    "comp_supplier": "6",
                                    "comp_cat": "Budget Component",
                                    "sup_id": "6"
                                },
                                {
                                    "comp_id": "45",
                                    "comp_name": "Burgtec Alloy",
                                    "comp_cost": "106",
                                    "comp_supplier": "27",
                                    "comp_cat": "Standard Component",
                                    "sup_id": "27"
                                },
                                {
                                    "comp_id": "46",
                                    "comp_name": "Shimano Deore M6100 2",
                                    "comp_cost": "114.99",
                                    "comp_supplier": "44",
                                    "comp_cat": "Standard Component",
                                    "sup_id": "44"
                                },
                                {
                                    "comp_id": "47",
                                    "comp_name": "Sram Guide RE",
                                    "comp_cost": "138",
                                    "comp_supplier": "45",
                                    "comp_cat": "Standard Component",
                                    "sup_id": "45"
                                },
                                {
                                    "comp_id": "49",
                                    "comp_name": "Magura MT7",
                                    "comp_cost": "299.99",
                                    "comp_supplier": "56",
                                    "comp_cat": "Standard Component",
                                    "sup_id": "56"
                                },
                                {
                                    "comp_id": "50",
                                    "comp_name": "TRP Gspec Trail S",
                                    "comp_cost": "259.99",
                                    "comp_supplier": "57",
                                    "comp_cat": "Standard Component",
                                    "sup_id": "57"
                                },
                                {
                                    "comp_id": "51",
                                    "comp_name": "Sram Code R",
                                    "comp_cost": "158",
                                    "comp_supplier": "45",
                                    "comp_cat": "Standard Component",
                                    "sup_id": "45"
                                },
                                {
                                    "comp_id": "52",
                                    "comp_name": "Shimano M6120",
                                    "comp_cost": "140.9",
                                    "comp_supplier": "44",
                                    "comp_cat": "Standard Component",
                                    "sup_id": "44"
                                },
                                {
                                    "comp_id": "53",
                                    "comp_name": "Tektro HDM 735",
                                    "comp_cost": "119.95",
                                    "comp_supplier": "72",
                                    "comp_cat": "Standard Component",
                                    "sup_id": "72"
                                },
                                {
                                    "comp_id": "54",
                                    "comp_name": "Shimano MT500",
                                    "comp_cost": "47.99",
                                    "comp_supplier": "44",
                                    "comp_cat": "Budget Component",
                                    "sup_id": "44"
                                },
                                {
                                    "comp_id": "55",
                                    "comp_name": "Sram G2 ULT",
                                    "comp_cost": "286",
                                    "comp_supplier": "45",
                                    "comp_cat": "Standard Component",
                                    "sup_id": "45"
                                },
                                {
                                    "comp_id": "56",
                                    "comp_name": "Sram Code RSC",
                                    "comp_cost": "200",
                                    "comp_supplier": "45",
                                    "comp_cat": "Standard Component",
                                    "sup_id": "45"
                                },
                                {
                                    "comp_id": "57",
                                    "comp_name": "Sram G2 RSC",
                                    "comp_cost": "160",
                                    "comp_supplier": "45",
                                    "comp_cat": "Standard Component",
                                    "sup_id": "45"
                                },
                                {
                                    "comp_id": "58",
                                    "comp_name": "Shimano Deore M6120 4",
                                    "comp_cost": "189",
                                    "comp_supplier": "44",
                                    "comp_cat": "Standard Component",
                                    "sup_id": "44"
                                },
                                {
                                    "comp_id": "59",
                                    "comp_name": "Shimano SLX M7100",
                                    "comp_cost": "187",
                                    "comp_supplier": "44",
                                    "comp_cat": "Standard Component",
                                    "sup_id": "44"
                                },
                                {
                                    "comp_id": "60",
                                    "comp_name": "Sram Code RS",
                                    "comp_cost": "172",
                                    "comp_supplier": "45",
                                    "comp_cat": "Standard Component",
                                    "sup_id": "45"
                                },
                                {
                                    "comp_id": "61",
                                    "comp_name": "Shimano XT M8100",
                                    "comp_cost": "169.99",
                                    "comp_supplier": "44",
                                    "comp_cat": "Standard Component",
                                    "sup_id": "44"
                                },
                                {
                                    "comp_id": "62",
                                    "comp_name": "Sram Guide T",
                                    "comp_cost": "129",
                                    "comp_supplier": "45",
                                    "comp_cat": "Standard Component",
                                    "sup_id": "45"
                                },
                                {
                                    "comp_id": "64",
                                    "comp_name": "Sram Level",
                                    "comp_cost": "66",
                                    "comp_supplier": "45",
                                    "comp_cat": "Budget Component",
                                    "sup_id": "45"
                                },
                                {
                                    "comp_id": "65",
                                    "comp_name": "Sram Guide R",
                                    "comp_cost": "120",
                                    "comp_supplier": "45",
                                    "comp_cat": "Standard Component",
                                    "sup_id": "45"
                                },
                                {
                                    "comp_id": "66",
                                    "comp_name": "Shimano XTR Trail",
                                    "comp_cost": "275",
                                    "comp_supplier": "44",
                                    "comp_cat": "Standard Component",
                                    "sup_id": "44"
                                },
                                {
                                    "comp_id": "67",
                                    "comp_name": "Shimano XT M8120",
                                    "comp_cost": "181",
                                    "comp_supplier": "44",
                                    "comp_cat": "Standard Component",
                                    "sup_id": "44"
                                },
                                {
                                    "comp_id": "68",
                                    "comp_name": "Sram G2 R",
                                    "comp_cost": "138",
                                    "comp_supplier": "45",
                                    "comp_cat": "Standard Component",
                                    "sup_id": "45"
                                },
                                {
                                    "comp_id": "69",
                                    "comp_name": "Shimnano Deore M6100 4",
                                    "comp_cost": "178",
                                    "comp_supplier": "44",
                                    "comp_cat": "Standard Component",
                                    "sup_id": "44"
                                },
                                {
                                    "comp_id": "70",
                                    "comp_name": "Whyte 30mm Carbon",
                                    "comp_cost": "240",
                                    "comp_supplier": "10",
                                    "comp_cat": "Standard Component",
                                    "sup_id": "10"
                                },
                                {
                                    "comp_id": "71",
                                    "comp_name": "Stand NoTubes MK3",
                                    "comp_cost": "299",
                                    "comp_supplier": "47",
                                    "comp_cat": "Standard Component",
                                    "sup_id": "47"
                                },
                                {
                                    "comp_id": "244",
                                    "comp_name": "OC2",
                                    "comp_cost": "78",
                                    "comp_supplier": "61",
                                    "comp_cat": "Budget Component",
                                    "sup_id": "61"
                                },
                                {
                                    "comp_id": "73",
                                    "comp_name": "Octane One Solar",
                                    "comp_cost": "280.99",
                                    "comp_supplier": "49",
                                    "comp_cat": "Standard Component",
                                    "sup_id": "49"
                                },
                                {
                                    "comp_id": "74",
                                    "comp_name": "Giant TRX-2",
                                    "comp_cost": "550",
                                    "comp_supplier": "1",
                                    "comp_cat": "Premium Component",
                                    "sup_id": "1"
                                },
                                {
                                    "comp_id": "76",
                                    "comp_name": "Stans Flow MK3",
                                    "comp_cost": "200",
                                    "comp_supplier": "47",
                                    "comp_cat": "Standard Component",
                                    "sup_id": "47"
                                },
                                {
                                    "comp_id": "77",
                                    "comp_name": "DT Swiss M1700",
                                    "comp_cost": "502",
                                    "comp_supplier": "48",
                                    "comp_cat": "Premium Component",
                                    "sup_id": "48"
                                },
                                {
                                    "comp_id": "78",
                                    "comp_name": "DT Swiss XR-1650",
                                    "comp_cost": "1007",
                                    "comp_supplier": "48",
                                    "comp_cat": "Premium Component",
                                    "sup_id": "48"
                                },
                                {
                                    "comp_id": "79",
                                    "comp_name": "DT Swiss EX1900",
                                    "comp_cost": "380",
                                    "comp_supplier": "48",
                                    "comp_cat": "Standard Component",
                                    "sup_id": "48"
                                },
                                {
                                    "comp_id": "80",
                                    "comp_name": "Crankbrothers Synth EN",
                                    "comp_cost": "599.98",
                                    "comp_supplier": "50",
                                    "comp_cat": "Premium Component",
                                    "sup_id": "50"
                                },
                                {
                                    "comp_id": "81",
                                    "comp_name": "WTB ST i29",
                                    "comp_cost": "185",
                                    "comp_supplier": "51",
                                    "comp_cat": "Standard Component",
                                    "sup_id": "51"
                                },
                                {
                                    "comp_id": "82",
                                    "comp_name": "E13 LG1 EN Race",
                                    "comp_cost": "390",
                                    "comp_supplier": "5",
                                    "comp_cat": "Standard Component",
                                    "sup_id": "5"
                                },
                                {
                                    "comp_id": "83",
                                    "comp_name": "E13 XCX XC",
                                    "comp_cost": "250",
                                    "comp_supplier": "5",
                                    "comp_cat": "Standard Component",
                                    "sup_id": "5"
                                },
                                {
                                    "comp_id": "84",
                                    "comp_name": "i9 Hydra Enduro S",
                                    "comp_cost": "995",
                                    "comp_supplier": "52",
                                    "comp_cat": "Premium Component",
                                    "sup_id": "52"
                                },
                                {
                                    "comp_id": "85",
                                    "comp_name": "i9 Enduro 305",
                                    "comp_cost": "765",
                                    "comp_supplier": "52",
                                    "comp_cat": "Premium Component",
                                    "sup_id": "52"
                                },
                                {
                                    "comp_id": "86",
                                    "comp_name": "Ibis S35 AL",
                                    "comp_cost": "529",
                                    "comp_supplier": "22",
                                    "comp_cat": "Premium Component",
                                    "sup_id": "22"
                                },
                                {
                                    "comp_id": "87",
                                    "comp_name": "NS Enigma Roll",
                                    "comp_cost": "333.99",
                                    "comp_supplier": "71",
                                    "comp_cat": "Standard Component",
                                    "sup_id": "71"
                                },
                                {
                                    "comp_id": "88",
                                    "comp_name": "DT Swixx Custom EX1700",
                                    "comp_cost": "390",
                                    "comp_supplier": "48",
                                    "comp_cat": "Standard Component",
                                    "sup_id": "48"
                                },
                                {
                                    "comp_id": "89",
                                    "comp_name": "Stans Floiw S1",
                                    "comp_cost": "375",
                                    "comp_supplier": "47",
                                    "comp_cat": "Standard Component",
                                    "sup_id": "47"
                                },
                                {
                                    "comp_id": "90",
                                    "comp_name": "DT Swiss XMC1200",
                                    "comp_cost": "1721.9",
                                    "comp_supplier": "48",
                                    "comp_cat": "Premium Component",
                                    "sup_id": "48"
                                },
                                {
                                    "comp_id": "91",
                                    "comp_name": "DT Swiss Custom EX-1700",
                                    "comp_cost": "1450",
                                    "comp_supplier": "48",
                                    "comp_cat": "Premium Component",
                                    "sup_id": "48"
                                },
                                {
                                    "comp_id": "92",
                                    "comp_name": "DT Swiss M-1900",
                                    "comp_cost": "265.9",
                                    "comp_supplier": "48",
                                    "comp_cat": "Standard Component",
                                    "sup_id": "48"
                                },
                                {
                                    "comp_id": "93",
                                    "comp_name": "Roval Traverse Alloy",
                                    "comp_cost": "1350",
                                    "comp_supplier": "53",
                                    "comp_cat": "Premium Component",
                                    "sup_id": "53"
                                },
                                {
                                    "comp_id": "94",
                                    "comp_name": "E13 LG1 DH Base",
                                    "comp_cost": "420",
                                    "comp_supplier": "5",
                                    "comp_cat": "Standard Component",
                                    "sup_id": "5"
                                },
                                {
                                    "comp_id": "95",
                                    "comp_name": "Niner Alloy",
                                    "comp_cost": "180",
                                    "comp_supplier": "3",
                                    "comp_cat": "Standard Component",
                                    "sup_id": "3"
                                },
                                {
                                    "comp_id": "96",
                                    "comp_name": "WTB ST Light i30",
                                    "comp_cost": "195",
                                    "comp_supplier": "51",
                                    "comp_cat": "Standard Component",
                                    "sup_id": "51"
                                },
                                {
                                    "comp_id": "97",
                                    "comp_name": "E13 LG1",
                                    "comp_cost": "203.15",
                                    "comp_supplier": "5",
                                    "comp_cat": "Standard Component",
                                    "sup_id": "5"
                                },
                                {
                                    "comp_id": "98",
                                    "comp_name": "WTB KOM Trail i30",
                                    "comp_cost": "269",
                                    "comp_supplier": "51",
                                    "comp_cat": "Standard Component",
                                    "sup_id": "51"
                                },
                                {
                                    "comp_id": "99",
                                    "comp_name": "i9 RW30",
                                    "comp_cost": "2199",
                                    "comp_supplier": "52",
                                    "comp_cat": "Premium Component",
                                    "sup_id": "52"
                                },
                                {
                                    "comp_id": "100",
                                    "comp_name": "WTB ST i30",
                                    "comp_cost": "210",
                                    "comp_supplier": "51",
                                    "comp_cat": "Standard Component",
                                    "sup_id": "51"
                                },
                                {
                                    "comp_id": "101",
                                    "comp_name": "WTB KOM Light i30",
                                    "comp_cost": "227",
                                    "comp_supplier": "51",
                                    "comp_cat": "Standard Component",
                                    "sup_id": "51"
                                },
                                {
                                    "comp_id": "102",
                                    "comp_name": "WTM KOM i27",
                                    "comp_cost": "235",
                                    "comp_supplier": "51",
                                    "comp_cat": "Standard Component",
                                    "sup_id": "51"
                                },
                                {
                                    "comp_id": "103",
                                    "comp_name": "RaceFace AR Offset 30",
                                    "comp_cost": "275",
                                    "comp_supplier": "6",
                                    "comp_cat": "Standard Component",
                                    "sup_id": "6"
                                },
                                {
                                    "comp_id": "104",
                                    "comp_name": "Stand Arch MK3",
                                    "comp_cost": "425",
                                    "comp_supplier": "47",
                                    "comp_cat": "Standard Component",
                                    "sup_id": "47"
                                },
                                {
                                    "comp_id": "105",
                                    "comp_name": "Giant AM",
                                    "comp_cost": "175",
                                    "comp_supplier": "1",
                                    "comp_cat": "Standard Component",
                                    "sup_id": "1"
                                },
                                {
                                    "comp_id": "106",
                                    "comp_name": "DT Swiss XT1501",
                                    "comp_cost": "605",
                                    "comp_supplier": "48",
                                    "comp_cat": "Premium Component",
                                    "sup_id": "48"
                                },
                                {
                                    "comp_id": "107",
                                    "comp_name": "DT Swiss XR1700",
                                    "comp_cost": "564.9",
                                    "comp_supplier": "48",
                                    "comp_cat": "Premium Component",
                                    "sup_id": "48"
                                },
                                {
                                    "comp_id": "108",
                                    "comp_name": "WTB ST i25",
                                    "comp_cost": "175",
                                    "comp_supplier": "51",
                                    "comp_cat": "Standard Component",
                                    "sup_id": "51"
                                },
                                {
                                    "comp_id": "109",
                                    "comp_name": "Stans Crest S1",
                                    "comp_cost": "370",
                                    "comp_supplier": "47",
                                    "comp_cat": "Standard Component",
                                    "sup_id": "47"
                                },
                                {
                                    "comp_id": "110",
                                    "comp_name": "DT Swiss EX-511",
                                    "comp_cost": "457.99",
                                    "comp_supplier": "48",
                                    "comp_cat": "Standard Component",
                                    "sup_id": "48"
                                },
                                {
                                    "comp_id": "111",
                                    "comp_name": "MDK DP1",
                                    "comp_cost": "379",
                                    "comp_supplier": "54",
                                    "comp_cat": "Standard Component",
                                    "sup_id": "54"
                                },
                                {
                                    "comp_id": "112",
                                    "comp_name": "Sun Ringle Duroc 35",
                                    "comp_cost": "179.99",
                                    "comp_supplier": "55",
                                    "comp_cat": "Standard Component",
                                    "sup_id": "55"
                                },
                                {
                                    "comp_id": "113",
                                    "comp_name": "Fox 34 Rhythm 120",
                                    "comp_cost": "429",
                                    "comp_supplier": "28",
                                    "comp_cat": "Standard Component",
                                    "sup_id": "28"
                                },
                                {
                                    "comp_id": "114",
                                    "comp_name": "Fox 38 Factory Grip 2 180 Air",
                                    "comp_cost": "1249",
                                    "comp_supplier": "28",
                                    "comp_cat": "Premium Component",
                                    "sup_id": "28"
                                },
                                {
                                    "comp_id": "115",
                                    "comp_name": "DVO Onyx D1 160",
                                    "comp_cost": "785",
                                    "comp_supplier": "29",
                                    "comp_cat": "Premium Component",
                                    "sup_id": "29"
                                },
                                {
                                    "comp_id": "116",
                                    "comp_name": "Fox 36 Rhythm Fit 3 150",
                                    "comp_cost": "849",
                                    "comp_supplier": "28",
                                    "comp_cat": "Premium Component",
                                    "sup_id": "28"
                                },
                                {
                                    "comp_id": "117",
                                    "comp_name": "RockShox Recon RL 120",
                                    "comp_cost": "274",
                                    "comp_supplier": "30",
                                    "comp_cat": "Standard Component",
                                    "sup_id": "30"
                                },
                                {
                                    "comp_id": "27",
                                    "comp_name": "RaceFace Ride",
                                    "comp_cost": "99",
                                    "comp_supplier": "6",
                                    "comp_cat": "Budget Component",
                                    "sup_id": "6"
                                },
                                {
                                    "comp_id": "48",
                                    "comp_name": "Sram G2 RS",
                                    "comp_cost": "158",
                                    "comp_supplier": "45",
                                    "comp_cat": "Standard Component",
                                    "sup_id": "45"
                                },
                                {
                                    "comp_id": "118",
                                    "comp_name": "Fox 36 Float Perf 160 Air",
                                    "comp_cost": "849",
                                    "comp_supplier": "28",
                                    "comp_cat": "Premium Component",
                                    "sup_id": "28"
                                },
                                {
                                    "comp_id": "119",
                                    "comp_name": "Fox 38 Grip 2 170 Air",
                                    "comp_cost": "989",
                                    "comp_supplier": "28",
                                    "comp_cat": "Premium Component",
                                    "sup_id": "28"
                                },
                                {
                                    "comp_id": "120",
                                    "comp_name": "RockShox Lyric Ult RC2 160 Air",
                                    "comp_cost": "968",
                                    "comp_supplier": "30",
                                    "comp_cat": "Premium Component",
                                    "sup_id": "30"
                                },
                                {
                                    "comp_id": "121",
                                    "comp_name": "Ohlins RXF36 M.2 170 Air",
                                    "comp_cost": "1149.97",
                                    "comp_supplier": "31",
                                    "comp_cat": "Premium Component",
                                    "sup_id": "31"
                                },
                                {
                                    "comp_id": "122",
                                    "comp_name": "RockShox Lyric Ult RC2 160",
                                    "comp_cost": "968",
                                    "comp_supplier": "30",
                                    "comp_cat": "Premium Component",
                                    "sup_id": "30"
                                },
                                {
                                    "comp_id": "123",
                                    "comp_name": "Fox 38 Factory Grip2 170 Air",
                                    "comp_cost": "1249",
                                    "comp_supplier": "28",
                                    "comp_cat": "Premium Component",
                                    "sup_id": "28"
                                },
                                {
                                    "comp_id": "124",
                                    "comp_name": "Fox 36 Float Perf 140 Air",
                                    "comp_cost": "949",
                                    "comp_supplier": "28",
                                    "comp_cat": "Premium Component",
                                    "sup_id": "28"
                                },
                                {
                                    "comp_id": "125",
                                    "comp_name": "Fox 36 Perf 170 Air",
                                    "comp_cost": "798",
                                    "comp_supplier": "28",
                                    "comp_cat": "Premium Component",
                                    "sup_id": "28"
                                },
                                {
                                    "comp_id": "126",
                                    "comp_name": "Marzocchi Bomber Z2 130 Air",
                                    "comp_cost": "610",
                                    "comp_supplier": "32",
                                    "comp_cat": "Premium Component",
                                    "sup_id": "32"
                                },
                                {
                                    "comp_id": "127",
                                    "comp_name": "RockShox Recon RL 130",
                                    "comp_cost": "275",
                                    "comp_supplier": "30",
                                    "comp_cat": "Standard Component",
                                    "sup_id": "30"
                                },
                                {
                                    "comp_id": "128",
                                    "comp_name": "Fox 34 Float Perf 120",
                                    "comp_cost": "429",
                                    "comp_supplier": "28",
                                    "comp_cat": "Standard Component",
                                    "sup_id": "28"
                                },
                                {
                                    "comp_id": "129",
                                    "comp_name": "RockShox Recon RL 130 Air",
                                    "comp_cost": "270",
                                    "comp_supplier": "30",
                                    "comp_cat": "Standard Component",
                                    "sup_id": "30"
                                },
                                {
                                    "comp_id": "130",
                                    "comp_name": "RockShox Lyric Ult 150 Air",
                                    "comp_cost": "968",
                                    "comp_supplier": "30",
                                    "comp_cat": "Premium Component",
                                    "sup_id": "30"
                                },
                                {
                                    "comp_id": "131",
                                    "comp_name": "RockShox Pike Sel RC 140",
                                    "comp_cost": "713",
                                    "comp_supplier": "30",
                                    "comp_cat": "Premium Component",
                                    "sup_id": "30"
                                },
                                {
                                    "comp_id": "132",
                                    "comp_name": "Fox 38 Float Perf 170 Air",
                                    "comp_cost": "1020",
                                    "comp_supplier": "28",
                                    "comp_cat": "Premium Component",
                                    "sup_id": "28"
                                },
                                {
                                    "comp_id": "133",
                                    "comp_name": "RockShox Recon RL 120 Air",
                                    "comp_cost": "255",
                                    "comp_supplier": "30",
                                    "comp_cat": "Standard Component",
                                    "sup_id": "30"
                                },
                                {
                                    "comp_id": "134",
                                    "comp_name": "Fox 36 Factory 160 Air",
                                    "comp_cost": "1069",
                                    "comp_supplier": "28",
                                    "comp_cat": "Premium Component",
                                    "sup_id": "28"
                                },
                                {
                                    "comp_id": "135",
                                    "comp_name": "Fox 36 Factory 150 Air",
                                    "comp_cost": "1069",
                                    "comp_supplier": "28",
                                    "comp_cat": "Premium Component",
                                    "sup_id": "28"
                                },
                                {
                                    "comp_id": "136",
                                    "comp_name": "Fox 32 Factory 100",
                                    "comp_cost": "489",
                                    "comp_supplier": "28",
                                    "comp_cat": "Standard Component",
                                    "sup_id": "28"
                                },
                                {
                                    "comp_id": "172",
                                    "comp_name": " ",
                                    "comp_cost": "0.00",
                                    "comp_supplier": "9999",
                                    "comp_cat": "Budget Component",
                                    "sup_id": "9999"
                                },
                                {
                                    "comp_id": "137",
                                    "comp_name": "Lefty Ocho 100 Air",
                                    "comp_cost": "999",
                                    "comp_supplier": "33",
                                    "comp_cat": "Premium Component",
                                    "sup_id": "33"
                                },
                                {
                                    "comp_id": "138",
                                    "comp_name": "DVO Onyx D2 170 Air",
                                    "comp_cost": "790",
                                    "comp_supplier": "29",
                                    "comp_cat": "Premium Component",
                                    "sup_id": "29"
                                },
                                {
                                    "comp_id": "139",
                                    "comp_name": "RockShox 35 Gold RL 140 Air",
                                    "comp_cost": "458",
                                    "comp_supplier": "30",
                                    "comp_cat": "Standard Component",
                                    "sup_id": "30"
                                },
                                {
                                    "comp_id": "140",
                                    "comp_name": "Fox 34 Float Factory Grip 2 140 Air",
                                    "comp_cost": "1039",
                                    "comp_supplier": "28",
                                    "comp_cat": "Premium Component",
                                    "sup_id": "28"
                                },
                                {
                                    "comp_id": "141",
                                    "comp_name": "Fox 34 Perf 130",
                                    "comp_cost": "429",
                                    "comp_supplier": "28",
                                    "comp_cat": "Standard Component",
                                    "sup_id": "28"
                                }
                            ]
                        },
                        "text/html": "<table><tr><th>comp_id</th><th>comp_name</th><th>comp_cost</th><th>comp_supplier</th><th>comp_cat</th><th>sup_id</th></tr><tr><td>41</td><td>Evil Boomstick 7075 Alloy</td><td>121</td><td>15</td><td>Standard Component</td><td>15</td></tr><tr><td>42</td><td>Cannondale 2 Flat</td><td>50</td><td>17</td><td>Budget Component</td><td>17</td></tr><tr><td>44</td><td>RaceFace Turbine R</td><td>96</td><td>6</td><td>Budget Component</td><td>6</td></tr><tr><td>45</td><td>Burgtec Alloy</td><td>106</td><td>27</td><td>Standard Component</td><td>27</td></tr><tr><td>46</td><td>Shimano Deore M6100 2</td><td>114.99</td><td>44</td><td>Standard Component</td><td>44</td></tr><tr><td>47</td><td>Sram Guide RE</td><td>138</td><td>45</td><td>Standard Component</td><td>45</td></tr><tr><td>49</td><td>Magura MT7</td><td>299.99</td><td>56</td><td>Standard Component</td><td>56</td></tr><tr><td>50</td><td>TRP Gspec Trail S</td><td>259.99</td><td>57</td><td>Standard Component</td><td>57</td></tr><tr><td>51</td><td>Sram Code R</td><td>158</td><td>45</td><td>Standard Component</td><td>45</td></tr><tr><td>52</td><td>Shimano M6120</td><td>140.9</td><td>44</td><td>Standard Component</td><td>44</td></tr><tr><td>53</td><td>Tektro HDM 735</td><td>119.95</td><td>72</td><td>Standard Component</td><td>72</td></tr><tr><td>54</td><td>Shimano MT500</td><td>47.99</td><td>44</td><td>Budget Component</td><td>44</td></tr><tr><td>55</td><td>Sram G2 ULT</td><td>286</td><td>45</td><td>Standard Component</td><td>45</td></tr><tr><td>56</td><td>Sram Code RSC</td><td>200</td><td>45</td><td>Standard Component</td><td>45</td></tr><tr><td>57</td><td>Sram G2 RSC</td><td>160</td><td>45</td><td>Standard Component</td><td>45</td></tr><tr><td>58</td><td>Shimano Deore M6120 4</td><td>189</td><td>44</td><td>Standard Component</td><td>44</td></tr><tr><td>59</td><td>Shimano SLX M7100</td><td>187</td><td>44</td><td>Standard Component</td><td>44</td></tr><tr><td>60</td><td>Sram Code RS</td><td>172</td><td>45</td><td>Standard Component</td><td>45</td></tr><tr><td>61</td><td>Shimano XT M8100</td><td>169.99</td><td>44</td><td>Standard Component</td><td>44</td></tr><tr><td>62</td><td>Sram Guide T</td><td>129</td><td>45</td><td>Standard Component</td><td>45</td></tr><tr><td>64</td><td>Sram Level</td><td>66</td><td>45</td><td>Budget Component</td><td>45</td></tr><tr><td>65</td><td>Sram Guide R</td><td>120</td><td>45</td><td>Standard Component</td><td>45</td></tr><tr><td>66</td><td>Shimano XTR Trail</td><td>275</td><td>44</td><td>Standard Component</td><td>44</td></tr><tr><td>67</td><td>Shimano XT M8120</td><td>181</td><td>44</td><td>Standard Component</td><td>44</td></tr><tr><td>68</td><td>Sram G2 R</td><td>138</td><td>45</td><td>Standard Component</td><td>45</td></tr><tr><td>69</td><td>Shimnano Deore M6100 4</td><td>178</td><td>44</td><td>Standard Component</td><td>44</td></tr><tr><td>70</td><td>Whyte 30mm Carbon</td><td>240</td><td>10</td><td>Standard Component</td><td>10</td></tr><tr><td>71</td><td>Stand NoTubes MK3</td><td>299</td><td>47</td><td>Standard Component</td><td>47</td></tr><tr><td>244</td><td>OC2</td><td>78</td><td>61</td><td>Budget Component</td><td>61</td></tr><tr><td>73</td><td>Octane One Solar</td><td>280.99</td><td>49</td><td>Standard Component</td><td>49</td></tr><tr><td>74</td><td>Giant TRX-2</td><td>550</td><td>1</td><td>Premium Component</td><td>1</td></tr><tr><td>76</td><td>Stans Flow MK3</td><td>200</td><td>47</td><td>Standard Component</td><td>47</td></tr><tr><td>77</td><td>DT Swiss M1700</td><td>502</td><td>48</td><td>Premium Component</td><td>48</td></tr><tr><td>78</td><td>DT Swiss XR-1650</td><td>1007</td><td>48</td><td>Premium Component</td><td>48</td></tr><tr><td>79</td><td>DT Swiss EX1900</td><td>380</td><td>48</td><td>Standard Component</td><td>48</td></tr><tr><td>80</td><td>Crankbrothers Synth EN</td><td>599.98</td><td>50</td><td>Premium Component</td><td>50</td></tr><tr><td>81</td><td>WTB ST i29</td><td>185</td><td>51</td><td>Standard Component</td><td>51</td></tr><tr><td>82</td><td>E13 LG1 EN Race</td><td>390</td><td>5</td><td>Standard Component</td><td>5</td></tr><tr><td>83</td><td>E13 XCX XC</td><td>250</td><td>5</td><td>Standard Component</td><td>5</td></tr><tr><td>84</td><td>i9 Hydra Enduro S</td><td>995</td><td>52</td><td>Premium Component</td><td>52</td></tr><tr><td>85</td><td>i9 Enduro 305</td><td>765</td><td>52</td><td>Premium Component</td><td>52</td></tr><tr><td>86</td><td>Ibis S35 AL</td><td>529</td><td>22</td><td>Premium Component</td><td>22</td></tr><tr><td>87</td><td>NS Enigma Roll</td><td>333.99</td><td>71</td><td>Standard Component</td><td>71</td></tr><tr><td>88</td><td>DT Swixx Custom EX1700</td><td>390</td><td>48</td><td>Standard Component</td><td>48</td></tr><tr><td>89</td><td>Stans Floiw S1</td><td>375</td><td>47</td><td>Standard Component</td><td>47</td></tr><tr><td>90</td><td>DT Swiss XMC1200</td><td>1721.9</td><td>48</td><td>Premium Component</td><td>48</td></tr><tr><td>91</td><td>DT Swiss Custom EX-1700</td><td>1450</td><td>48</td><td>Premium Component</td><td>48</td></tr><tr><td>92</td><td>DT Swiss M-1900</td><td>265.9</td><td>48</td><td>Standard Component</td><td>48</td></tr><tr><td>93</td><td>Roval Traverse Alloy</td><td>1350</td><td>53</td><td>Premium Component</td><td>53</td></tr><tr><td>94</td><td>E13 LG1 DH Base</td><td>420</td><td>5</td><td>Standard Component</td><td>5</td></tr><tr><td>95</td><td>Niner Alloy</td><td>180</td><td>3</td><td>Standard Component</td><td>3</td></tr><tr><td>96</td><td>WTB ST Light i30</td><td>195</td><td>51</td><td>Standard Component</td><td>51</td></tr><tr><td>97</td><td>E13 LG1</td><td>203.15</td><td>5</td><td>Standard Component</td><td>5</td></tr><tr><td>98</td><td>WTB KOM Trail i30</td><td>269</td><td>51</td><td>Standard Component</td><td>51</td></tr><tr><td>99</td><td>i9 RW30</td><td>2199</td><td>52</td><td>Premium Component</td><td>52</td></tr><tr><td>100</td><td>WTB ST i30</td><td>210</td><td>51</td><td>Standard Component</td><td>51</td></tr><tr><td>101</td><td>WTB KOM Light i30</td><td>227</td><td>51</td><td>Standard Component</td><td>51</td></tr><tr><td>102</td><td>WTM KOM i27</td><td>235</td><td>51</td><td>Standard Component</td><td>51</td></tr><tr><td>103</td><td>RaceFace AR Offset 30</td><td>275</td><td>6</td><td>Standard Component</td><td>6</td></tr><tr><td>104</td><td>Stand Arch MK3</td><td>425</td><td>47</td><td>Standard Component</td><td>47</td></tr><tr><td>105</td><td>Giant AM</td><td>175</td><td>1</td><td>Standard Component</td><td>1</td></tr><tr><td>106</td><td>DT Swiss XT1501</td><td>605</td><td>48</td><td>Premium Component</td><td>48</td></tr><tr><td>107</td><td>DT Swiss XR1700</td><td>564.9</td><td>48</td><td>Premium Component</td><td>48</td></tr><tr><td>108</td><td>WTB ST i25</td><td>175</td><td>51</td><td>Standard Component</td><td>51</td></tr><tr><td>109</td><td>Stans Crest S1</td><td>370</td><td>47</td><td>Standard Component</td><td>47</td></tr><tr><td>110</td><td>DT Swiss EX-511</td><td>457.99</td><td>48</td><td>Standard Component</td><td>48</td></tr><tr><td>111</td><td>MDK DP1</td><td>379</td><td>54</td><td>Standard Component</td><td>54</td></tr><tr><td>112</td><td>Sun Ringle Duroc 35</td><td>179.99</td><td>55</td><td>Standard Component</td><td>55</td></tr><tr><td>113</td><td>Fox 34 Rhythm 120</td><td>429</td><td>28</td><td>Standard Component</td><td>28</td></tr><tr><td>114</td><td>Fox 38 Factory Grip 2 180 Air</td><td>1249</td><td>28</td><td>Premium Component</td><td>28</td></tr><tr><td>115</td><td>DVO Onyx D1 160</td><td>785</td><td>29</td><td>Premium Component</td><td>29</td></tr><tr><td>116</td><td>Fox 36 Rhythm Fit 3 150</td><td>849</td><td>28</td><td>Premium Component</td><td>28</td></tr><tr><td>117</td><td>RockShox Recon RL 120</td><td>274</td><td>30</td><td>Standard Component</td><td>30</td></tr><tr><td>27</td><td>RaceFace Ride</td><td>99</td><td>6</td><td>Budget Component</td><td>6</td></tr><tr><td>48</td><td>Sram G2 RS</td><td>158</td><td>45</td><td>Standard Component</td><td>45</td></tr><tr><td>118</td><td>Fox 36 Float Perf 160 Air</td><td>849</td><td>28</td><td>Premium Component</td><td>28</td></tr><tr><td>119</td><td>Fox 38 Grip 2 170 Air</td><td>989</td><td>28</td><td>Premium Component</td><td>28</td></tr><tr><td>120</td><td>RockShox Lyric Ult RC2 160 Air</td><td>968</td><td>30</td><td>Premium Component</td><td>30</td></tr><tr><td>121</td><td>Ohlins RXF36 M.2 170 Air</td><td>1149.97</td><td>31</td><td>Premium Component</td><td>31</td></tr><tr><td>122</td><td>RockShox Lyric Ult RC2 160</td><td>968</td><td>30</td><td>Premium Component</td><td>30</td></tr><tr><td>123</td><td>Fox 38 Factory Grip2 170 Air</td><td>1249</td><td>28</td><td>Premium Component</td><td>28</td></tr><tr><td>124</td><td>Fox 36 Float Perf 140 Air</td><td>949</td><td>28</td><td>Premium Component</td><td>28</td></tr><tr><td>125</td><td>Fox 36 Perf 170 Air</td><td>798</td><td>28</td><td>Premium Component</td><td>28</td></tr><tr><td>126</td><td>Marzocchi Bomber Z2 130 Air</td><td>610</td><td>32</td><td>Premium Component</td><td>32</td></tr><tr><td>127</td><td>RockShox Recon RL 130</td><td>275</td><td>30</td><td>Standard Component</td><td>30</td></tr><tr><td>128</td><td>Fox 34 Float Perf 120</td><td>429</td><td>28</td><td>Standard Component</td><td>28</td></tr><tr><td>129</td><td>RockShox Recon RL 130 Air</td><td>270</td><td>30</td><td>Standard Component</td><td>30</td></tr><tr><td>130</td><td>RockShox Lyric Ult 150 Air</td><td>968</td><td>30</td><td>Premium Component</td><td>30</td></tr><tr><td>131</td><td>RockShox Pike Sel RC 140</td><td>713</td><td>30</td><td>Premium Component</td><td>30</td></tr><tr><td>132</td><td>Fox 38 Float Perf 170 Air</td><td>1020</td><td>28</td><td>Premium Component</td><td>28</td></tr><tr><td>133</td><td>RockShox Recon RL 120 Air</td><td>255</td><td>30</td><td>Standard Component</td><td>30</td></tr><tr><td>134</td><td>Fox 36 Factory 160 Air</td><td>1069</td><td>28</td><td>Premium Component</td><td>28</td></tr><tr><td>135</td><td>Fox 36 Factory 150 Air</td><td>1069</td><td>28</td><td>Premium Component</td><td>28</td></tr><tr><td>136</td><td>Fox 32 Factory 100</td><td>489</td><td>28</td><td>Standard Component</td><td>28</td></tr><tr><td>172</td><td> </td><td>0.00</td><td>9999</td><td>Budget Component</td><td>9999</td></tr><tr><td>137</td><td>Lefty Ocho 100 Air</td><td>999</td><td>33</td><td>Premium Component</td><td>33</td></tr><tr><td>138</td><td>DVO Onyx D2 170 Air</td><td>790</td><td>29</td><td>Premium Component</td><td>29</td></tr><tr><td>139</td><td>RockShox 35 Gold RL 140 Air</td><td>458</td><td>30</td><td>Standard Component</td><td>30</td></tr><tr><td>140</td><td>Fox 34 Float Factory Grip 2 140 Air</td><td>1039</td><td>28</td><td>Premium Component</td><td>28</td></tr><tr><td>141</td><td>Fox 34 Perf 130</td><td>429</td><td>28</td><td>Standard Component</td><td>28</td></tr></table>"
                    },
                    "metadata": {}
                }
            ],
            "execution_count": 15
        },
        {
            "cell_type": "markdown",
            "source": [
                "**Part 2: Now that you have fixed the component and supplier tables, find all sales for hardtail bikes. Include the following columns in your output:**\n",
                "\n",
                "- **Product Name**\n",
                "- **Build Name**\n",
                "- **Sum of the Order Total**\n",
                "\n",
                "**Be sure to create a rollup of the results by product name and build name**"
            ],
            "metadata": {
                "language": "",
                "azdata_cell_guid": "06cba9ba-cc91-4a44-a644-a7d3ee4ef900"
            },
            "attachments": {}
        },
        {
            "cell_type": "code",
            "source": [
                "SELECT \r\n",
                "    p.prod_name AS \"Product Name\", \r\n",
                "    b.build_name AS \"Build Name\", \r\n",
                "    SUM(o.order_tot) AS \"Sum of the Order Total\"\r\n",
                "FROM \r\n",
                "    products p\r\n",
                "JOIN \r\n",
                "    productbuilds pb ON p.prod_id = pb.prod_id\r\n",
                "JOIN \r\n",
                "    builds b ON pb.build_id = b.build_id\r\n",
                "JOIN \r\n",
                "    orders o ON p.prod_id = o.prod_id\r\n",
                "WHERE \r\n",
                "    p.prod_description = 'Hardtail Mountain Bike'\r\n",
                "GROUP BY \r\n",
                "    ROLLUP(p.prod_name, b.build_name);\r\n",
                "\r\n",
                "\r\n",
                "\r\n",
                ""
            ],
            "metadata": {
                "azdata_cell_guid": "7ddee51c-6a69-4e07-b612-c715d61e2373",
                "language": "sql"
            },
            "outputs": [
                {
                    "output_type": "display_data",
                    "data": {
                        "text/html": "(1 row(s) affected)"
                    },
                    "metadata": {}
                },
                {
                    "output_type": "display_data",
                    "data": {
                        "text/html": "Total execution time: 00:00:00.027"
                    },
                    "metadata": {}
                },
                {
                    "output_type": "execute_result",
                    "execution_count": 18,
                    "data": {
                        "application/vnd.dataresource+json": {
                            "schema": {
                                "fields": [
                                    {
                                        "name": "Product Name"
                                    },
                                    {
                                        "name": "Build Name"
                                    },
                                    {
                                        "name": "Sum of the Order Total"
                                    }
                                ]
                            },
                            "data": [
                                {
                                    "Product Name": "NULL",
                                    "Build Name": "NULL",
                                    "Sum of the Order Total": "NULL"
                                }
                            ]
                        },
                        "text/html": "<table><tr><th>Product Name</th><th>Build Name</th><th>Sum of the Order Total</th></tr><tr><td>NULL</td><td>NULL</td><td>NULL</td></tr></table>"
                    },
                    "metadata": {}
                }
            ],
            "execution_count": 18
        },
        {
            "cell_type": "code",
            "source": [
                "SELECT \r\n",
                "    p.prod_name AS \"Product Name\", \r\n",
                "    SUM(o.order_tot) AS \"Sum of the Order Total\"\r\n",
                "FROM \r\n",
                "    products p\r\n",
                "JOIN \r\n",
                "    orders o ON p.prod_id = o.prod_id\r\n",
                "WHERE \r\n",
                "    p.prod_description = 'Hardtail Mountain Bike'\r\n",
                "GROUP BY \r\n",
                "    p.prod_name;\r\n",
                "\r\n",
                ""
            ],
            "metadata": {
                "language": "sql",
                "azdata_cell_guid": "111458b0-ab7a-49bb-a8a1-a9e8172bb25a"
            },
            "outputs": [
                {
                    "output_type": "display_data",
                    "data": {
                        "text/html": "(4 row(s) affected)"
                    },
                    "metadata": {}
                },
                {
                    "output_type": "display_data",
                    "data": {
                        "text/html": "Total execution time: 00:00:00.016"
                    },
                    "metadata": {}
                },
                {
                    "output_type": "execute_result",
                    "execution_count": 25,
                    "data": {
                        "application/vnd.dataresource+json": {
                            "schema": {
                                "fields": [
                                    {
                                        "name": "Product Name"
                                    },
                                    {
                                        "name": "Sum of the Order Total"
                                    }
                                ]
                            },
                            "data": [
                                {
                                    "Product Name": "Scout",
                                    "Sum of the Order Total": "99342.09"
                                },
                                {
                                    "Product Name": "DV9",
                                    "Sum of the Order Total": "113877.15"
                                },
                                {
                                    "Product Name": "Air9",
                                    "Sum of the Order Total": "81477.28"
                                },
                                {
                                    "Product Name": "Chameleon",
                                    "Sum of the Order Total": "71412.49"
                                }
                            ]
                        },
                        "text/html": "<table><tr><th>Product Name</th><th>Sum of the Order Total</th></tr><tr><td>Scout</td><td>99342.09</td></tr><tr><td>DV9</td><td>113877.15</td></tr><tr><td>Air9</td><td>81477.28</td></tr><tr><td>Chameleon</td><td>71412.49</td></tr></table>"
                    },
                    "metadata": {}
                }
            ],
            "execution_count": 25
        },
        {
            "cell_type": "markdown",
            "source": [
                "**Q: What is the total of sales for all hardtail mountain bikes?**\n",
                "\n",
                "```\n",
                "A: $366,109.01\n",
                "\n",
                "```\n",
                "\n",
                "**Q: What was the highest selling bike and build combination?**\n",
                "\n",
                "```\n",
                "A: DV9 Bike and the total sale was $113,877.15\n",
                "```\n",
                "\n",
                "**Q: Explain the significance of the NULL values lines in the output**\n",
                "\n",
                "```\n",
                "A: The Null lines are effectivelly acting as a placeholder for potential subtotal or grand totals. \n",
                "```"
            ],
            "metadata": {
                "language": "sql",
                "azdata_cell_guid": "c6fa9e51-61b5-44c5-9ecd-e74a115c53fa"
            },
            "attachments": {}
        },
        {
            "cell_type": "markdown",
            "source": [
                "**Part 3: You have been asked to provide some data for a side project. Due to privacy reasons, you have been asked to remove certain customer join dates. Create a new table named opc\\_export in the public schema with the following requested fields:**\n",
                "\n",
                "```\n",
                "Customer ID* // Customer Last Name // Customer First Name // Customer Join Date // Customer Appreciation Code // Total Order Quantity // Total Order Value\n",
                "\n",
                "```\n",
                "\n",
                "**You can name the columns whatever you want**"
            ],
            "metadata": {
                "azdata_cell_guid": "007c3089-47d0-4cd2-823d-3deddc05e2f8"
            },
            "attachments": {}
        },
        {
            "cell_type": "code",
            "source": [
                "CREATE TABLE public.opc_export (\r\n",
                "    customer_id INT, \r\n",
                "    last_name VARCHAR(100), \r\n",
                "    first_name VARCHAR(100), \r\n",
                "    join_date DATE, \r\n",
                "    appreciation_code VARCHAR(50), \r\n",
                "    total_order_qty INT, \r\n",
                "    total_order_value DECIMAL(10, 2)\r\n",
                ");\r\n",
                ""
            ],
            "metadata": {
                "azdata_cell_guid": "f795e8a8-7968-47d2-be35-fba8b4df59b8",
                "language": "sql"
            },
            "outputs": [
                {
                    "output_type": "error",
                    "ename": "",
                    "evalue": "relation \"opc_export\" already exists",
                    "traceback": []
                },
                {
                    "output_type": "display_data",
                    "data": {
                        "text/html": "Total execution time: 00:00:00.001"
                    },
                    "metadata": {}
                }
            ],
            "execution_count": 41
        },
        {
            "cell_type": "code",
            "source": [
                "INSERT INTO public.opc_export (customer_id, last_name, first_name, join_date, appreciation_code, total_order_qty, total_order_value)\r\n",
                "SELECT \r\n",
                "    c.cus_id AS customer_id, \r\n",
                "    c.cus_last_name AS last_name, \r\n",
                "    c.cus_first_name AS first_name, \r\n",
                "    CASE \r\n",
                "        WHEN c.cus_join_date = '2020-12-12' THEN NULL  -- Mask specific date for privacy\r\n",
                "        ELSE c.cus_join_date\r\n",
                "    END AS join_date, \r\n",
                "    c.cus_app_cd AS appreciation_code, \r\n",
                "    COUNT(o.ord_id) AS total_order_qty,  -- Changed to ord_id\r\n",
                "    SUM(o.order_tot) AS total_order_value  -- Changed to order_tot\r\n",
                "FROM \r\n",
                "    customers c\r\n",
                "JOIN \r\n",
                "    orders o ON c.cus_id = o.cus_id\r\n",
                "GROUP BY \r\n",
                "    c.cus_id, c.cus_last_name, c.cus_first_name, c.cus_join_date, c.cus_app_cd;\r\n",
                "\r\n",
                "\r\n",
                "\r\n",
                ""
            ],
            "metadata": {
                "azdata_cell_guid": "1eb024ad-3cc0-4f62-aff9-26d787dffcf1",
                "language": "sql"
            },
            "outputs": [
                {
                    "output_type": "display_data",
                    "data": {
                        "text/html": "INSERT 0 2597"
                    },
                    "metadata": {}
                },
                {
                    "output_type": "display_data",
                    "data": {
                        "text/html": "Total execution time: 00:00:00.014"
                    },
                    "metadata": {}
                }
            ],
            "execution_count": 46
        },
        {
            "cell_type": "code",
            "source": [
                "SELECT * FROM public.opc_export LIMIT 100;\r\n",
                ""
            ],
            "metadata": {
                "azdata_cell_guid": "b727a737-7421-4266-b7b9-0a029a028e13",
                "language": "sql"
            },
            "outputs": [
                {
                    "output_type": "display_data",
                    "data": {
                        "text/html": "(100 row(s) affected)"
                    },
                    "metadata": {}
                },
                {
                    "output_type": "display_data",
                    "data": {
                        "text/html": "Total execution time: 00:00:00.005"
                    },
                    "metadata": {}
                },
                {
                    "output_type": "execute_result",
                    "execution_count": 47,
                    "data": {
                        "application/vnd.dataresource+json": {
                            "schema": {
                                "fields": [
                                    {
                                        "name": "customer_id"
                                    },
                                    {
                                        "name": "last_name"
                                    },
                                    {
                                        "name": "first_name"
                                    },
                                    {
                                        "name": "join_date"
                                    },
                                    {
                                        "name": "appreciation_code"
                                    },
                                    {
                                        "name": "total_order_qty"
                                    },
                                    {
                                        "name": "total_order_value"
                                    }
                                ]
                            },
                            "data": [
                                {
                                    "customer_id": "1798",
                                    "last_name": "Shelton",
                                    "first_name": "Erin",
                                    "join_date": "2009-03-30",
                                    "appreciation_code": "5",
                                    "total_order_qty": "1",
                                    "total_order_value": "4831.83"
                                },
                                {
                                    "customer_id": "1489",
                                    "last_name": "Delacruz",
                                    "first_name": "Brice",
                                    "join_date": "2016-04-22",
                                    "appreciation_code": "7",
                                    "total_order_qty": "1",
                                    "total_order_value": "3999.00"
                                },
                                {
                                    "customer_id": "2335",
                                    "last_name": "Booker",
                                    "first_name": "Taylor",
                                    "join_date": "2004-10-16",
                                    "appreciation_code": "1",
                                    "total_order_qty": "1",
                                    "total_order_value": "4179.75"
                                },
                                {
                                    "customer_id": "1269",
                                    "last_name": "Dawson",
                                    "first_name": "Miguel",
                                    "join_date": "2005-03-13",
                                    "appreciation_code": "5",
                                    "total_order_qty": "1",
                                    "total_order_value": "3950.96"
                                },
                                {
                                    "customer_id": "652",
                                    "last_name": "Peters",
                                    "first_name": "Reginald",
                                    "join_date": "2009-06-29",
                                    "appreciation_code": "3",
                                    "total_order_qty": "1",
                                    "total_order_value": "4971.21"
                                },
                                {
                                    "customer_id": "273",
                                    "last_name": "Harper",
                                    "first_name": "Farris",
                                    "join_date": "2002-05-03",
                                    "appreciation_code": "2",
                                    "total_order_qty": "1",
                                    "total_order_value": "4449.90"
                                },
                                {
                                    "customer_id": "1560",
                                    "last_name": "Delacruz",
                                    "first_name": "Piper",
                                    "join_date": "2006-12-01",
                                    "appreciation_code": "6",
                                    "total_order_qty": "1",
                                    "total_order_value": "4432.75"
                                },
                                {
                                    "customer_id": "51",
                                    "last_name": "Willis",
                                    "first_name": "Eric",
                                    "join_date": "2007-08-15",
                                    "appreciation_code": "4",
                                    "total_order_qty": "1",
                                    "total_order_value": "5498.69"
                                },
                                {
                                    "customer_id": "2574",
                                    "last_name": "Conley",
                                    "first_name": "Erin",
                                    "join_date": "2019-03-09",
                                    "appreciation_code": "5",
                                    "total_order_qty": "1",
                                    "total_order_value": "5036.05"
                                },
                                {
                                    "customer_id": "951",
                                    "last_name": "Robinson",
                                    "first_name": "Chris",
                                    "join_date": "2007-01-31",
                                    "appreciation_code": "2",
                                    "total_order_qty": "1",
                                    "total_order_value": "4350.00"
                                },
                                {
                                    "customer_id": "1898",
                                    "last_name": "Garth",
                                    "first_name": "Summer",
                                    "join_date": "2009-06-19",
                                    "appreciation_code": "3",
                                    "total_order_qty": "1",
                                    "total_order_value": "3286.14"
                                },
                                {
                                    "customer_id": "70",
                                    "last_name": "Sanchez",
                                    "first_name": "Harper",
                                    "join_date": "2017-06-07",
                                    "appreciation_code": "3",
                                    "total_order_qty": "1",
                                    "total_order_value": "6794.27"
                                },
                                {
                                    "customer_id": "350",
                                    "last_name": "Deleon",
                                    "first_name": "Noel",
                                    "join_date": "2018-10-01",
                                    "appreciation_code": "5",
                                    "total_order_qty": "1",
                                    "total_order_value": "5451.15"
                                },
                                {
                                    "customer_id": "758",
                                    "last_name": "Manchester",
                                    "first_name": "Brandt",
                                    "join_date": "2007-05-21",
                                    "appreciation_code": "7",
                                    "total_order_qty": "1",
                                    "total_order_value": "5317.50"
                                },
                                {
                                    "customer_id": "2425",
                                    "last_name": "Saylor",
                                    "first_name": "Abigail",
                                    "join_date": "2012-11-29",
                                    "appreciation_code": "1",
                                    "total_order_qty": "1",
                                    "total_order_value": "5406.96"
                                },
                                {
                                    "customer_id": "2080",
                                    "last_name": "Saylor",
                                    "first_name": "Mike",
                                    "join_date": "2012-06-20",
                                    "appreciation_code": "2",
                                    "total_order_qty": "1",
                                    "total_order_value": "7717.16"
                                },
                                {
                                    "customer_id": "2520",
                                    "last_name": "French",
                                    "first_name": "Reginald",
                                    "join_date": "2003-06-28",
                                    "appreciation_code": "7",
                                    "total_order_qty": "1",
                                    "total_order_value": "3834.00"
                                },
                                {
                                    "customer_id": "2128",
                                    "last_name": "Ellis",
                                    "first_name": "Zachary",
                                    "join_date": "2003-11-12",
                                    "appreciation_code": "2",
                                    "total_order_qty": "1",
                                    "total_order_value": "4599.93"
                                },
                                {
                                    "customer_id": "2466",
                                    "last_name": "Hart",
                                    "first_name": "Jonathon",
                                    "join_date": "2006-08-15",
                                    "appreciation_code": "2",
                                    "total_order_qty": "1",
                                    "total_order_value": "3640.00"
                                },
                                {
                                    "customer_id": "2196",
                                    "last_name": "Ramirez",
                                    "first_name": "Samuel",
                                    "join_date": "2005-05-26",
                                    "appreciation_code": "7",
                                    "total_order_qty": "1",
                                    "total_order_value": "4452.00"
                                },
                                {
                                    "customer_id": "1750",
                                    "last_name": "Gorman",
                                    "first_name": "Tristan",
                                    "join_date": "2017-12-22",
                                    "appreciation_code": "5",
                                    "total_order_qty": "1",
                                    "total_order_value": "3189.54"
                                },
                                {
                                    "customer_id": "1136",
                                    "last_name": "Booker",
                                    "first_name": "Mads",
                                    "join_date": "2016-10-27",
                                    "appreciation_code": "5",
                                    "total_order_qty": "1",
                                    "total_order_value": "4199.00"
                                },
                                {
                                    "customer_id": "176",
                                    "last_name": "Tompsen",
                                    "first_name": "Corey",
                                    "join_date": "2003-03-08",
                                    "appreciation_code": "4",
                                    "total_order_qty": "1",
                                    "total_order_value": "5659.99"
                                },
                                {
                                    "customer_id": "576",
                                    "last_name": "Sherman",
                                    "first_name": "Eric",
                                    "join_date": "2015-11-01",
                                    "appreciation_code": "4",
                                    "total_order_qty": "1",
                                    "total_order_value": "8085.80"
                                },
                                {
                                    "customer_id": "1831",
                                    "last_name": "Calahan",
                                    "first_name": "Carl",
                                    "join_date": "2019-07-14",
                                    "appreciation_code": "6",
                                    "total_order_qty": "1",
                                    "total_order_value": "8095.26"
                                },
                                {
                                    "customer_id": "1003",
                                    "last_name": "Jiminez",
                                    "first_name": "Farris",
                                    "join_date": "2001-04-02",
                                    "appreciation_code": "4",
                                    "total_order_qty": "1",
                                    "total_order_value": "4026.94"
                                },
                                {
                                    "customer_id": "292",
                                    "last_name": "Peters",
                                    "first_name": "Abigail",
                                    "join_date": "2002-09-21",
                                    "appreciation_code": "1",
                                    "total_order_qty": "1",
                                    "total_order_value": "4450.94"
                                },
                                {
                                    "customer_id": "1331",
                                    "last_name": "Jamieson",
                                    "first_name": "Robert",
                                    "join_date": "2003-01-13",
                                    "appreciation_code": "7",
                                    "total_order_qty": "1",
                                    "total_order_value": "6016.71"
                                },
                                {
                                    "customer_id": "929",
                                    "last_name": "Presten",
                                    "first_name": "Eric",
                                    "join_date": "2016-08-17",
                                    "appreciation_code": "3",
                                    "total_order_qty": "1",
                                    "total_order_value": "3944.65"
                                },
                                {
                                    "customer_id": "663",
                                    "last_name": "Riochardson",
                                    "first_name": "Margo",
                                    "join_date": "2017-06-20",
                                    "appreciation_code": "5",
                                    "total_order_qty": "1",
                                    "total_order_value": "4678.96"
                                },
                                {
                                    "customer_id": "1552",
                                    "last_name": "Presley",
                                    "first_name": "Joshua",
                                    "join_date": "2005-07-18",
                                    "appreciation_code": "4",
                                    "total_order_qty": "1",
                                    "total_order_value": "5200.00"
                                },
                                {
                                    "customer_id": "1589",
                                    "last_name": "Rowley",
                                    "first_name": "Summer",
                                    "join_date": "2017-12-25",
                                    "appreciation_code": "7",
                                    "total_order_qty": "1",
                                    "total_order_value": "4213.91"
                                },
                                {
                                    "customer_id": "1493",
                                    "last_name": "Jordan",
                                    "first_name": "Kenadi",
                                    "join_date": "2008-01-07",
                                    "appreciation_code": "5",
                                    "total_order_qty": "1",
                                    "total_order_value": "4941.03"
                                },
                                {
                                    "customer_id": "1811",
                                    "last_name": "Conley",
                                    "first_name": "Albert",
                                    "join_date": "2002-03-30",
                                    "appreciation_code": "1",
                                    "total_order_qty": "1",
                                    "total_order_value": "3337.44"
                                },
                                {
                                    "customer_id": "2125",
                                    "last_name": "Harper",
                                    "first_name": "Erin",
                                    "join_date": "2007-08-02",
                                    "appreciation_code": "6",
                                    "total_order_qty": "1",
                                    "total_order_value": "4470.96"
                                },
                                {
                                    "customer_id": "2038",
                                    "last_name": "Smith-Warren",
                                    "first_name": "Mads",
                                    "join_date": "2017-08-01",
                                    "appreciation_code": "5",
                                    "total_order_qty": "1",
                                    "total_order_value": "1951.75"
                                },
                                {
                                    "customer_id": "2204",
                                    "last_name": "Moore",
                                    "first_name": "Brandt",
                                    "join_date": "2006-11-10",
                                    "appreciation_code": "1",
                                    "total_order_qty": "1",
                                    "total_order_value": "4450.94"
                                },
                                {
                                    "customer_id": "1373",
                                    "last_name": "Smith",
                                    "first_name": "Timothy",
                                    "join_date": "2019-09-23",
                                    "appreciation_code": "4",
                                    "total_order_qty": "1",
                                    "total_order_value": "3274.65"
                                },
                                {
                                    "customer_id": "764",
                                    "last_name": "Willis",
                                    "first_name": "George",
                                    "join_date": "2015-08-10",
                                    "appreciation_code": "5",
                                    "total_order_qty": "1",
                                    "total_order_value": "4250.00"
                                },
                                {
                                    "customer_id": "556",
                                    "last_name": "Riochardson",
                                    "first_name": "Taylor",
                                    "join_date": "2013-03-25",
                                    "appreciation_code": "7",
                                    "total_order_qty": "1",
                                    "total_order_value": "8161.99"
                                },
                                {
                                    "customer_id": "2469",
                                    "last_name": "Smith",
                                    "first_name": "Moritz",
                                    "join_date": "2004-11-06",
                                    "appreciation_code": "2",
                                    "total_order_qty": "1",
                                    "total_order_value": "4471.99"
                                },
                                {
                                    "customer_id": "1268",
                                    "last_name": "Dickerson",
                                    "first_name": "Harper",
                                    "join_date": "2014-11-08",
                                    "appreciation_code": "6",
                                    "total_order_qty": "1",
                                    "total_order_value": "3999.00"
                                },
                                {
                                    "customer_id": "638",
                                    "last_name": "Conley",
                                    "first_name": "Abigail",
                                    "join_date": "2012-06-14",
                                    "appreciation_code": "2",
                                    "total_order_qty": "1",
                                    "total_order_value": "4627.90"
                                },
                                {
                                    "customer_id": "940",
                                    "last_name": "Jackson",
                                    "first_name": "George",
                                    "join_date": "2006-08-17",
                                    "appreciation_code": "2",
                                    "total_order_qty": "1",
                                    "total_order_value": "6646.65"
                                },
                                {
                                    "customer_id": "173",
                                    "last_name": "Peters",
                                    "first_name": "Sarah",
                                    "join_date": "2005-07-20",
                                    "appreciation_code": "3",
                                    "total_order_qty": "1",
                                    "total_order_value": "4176.96"
                                },
                                {
                                    "customer_id": "1963",
                                    "last_name": "Jones",
                                    "first_name": "Moritz",
                                    "join_date": "2008-07-11",
                                    "appreciation_code": "3",
                                    "total_order_qty": "1",
                                    "total_order_value": "4924.75"
                                },
                                {
                                    "customer_id": "2276",
                                    "last_name": "Barrister",
                                    "first_name": "Reginald",
                                    "join_date": "2015-09-10",
                                    "appreciation_code": "7",
                                    "total_order_qty": "1",
                                    "total_order_value": "3689.85"
                                },
                                {
                                    "customer_id": "42",
                                    "last_name": "MacBain",
                                    "first_name": "Eric",
                                    "join_date": "2017-07-06",
                                    "appreciation_code": "5",
                                    "total_order_qty": "1",
                                    "total_order_value": "4976.66"
                                },
                                {
                                    "customer_id": "876",
                                    "last_name": "Aaronson",
                                    "first_name": "Harper",
                                    "join_date": "2019-10-30",
                                    "appreciation_code": "7",
                                    "total_order_qty": "1",
                                    "total_order_value": "3209.08"
                                },
                                {
                                    "customer_id": "161",
                                    "last_name": "Brooks",
                                    "first_name": "Blain",
                                    "join_date": "2008-02-16",
                                    "appreciation_code": "3",
                                    "total_order_qty": "1",
                                    "total_order_value": "5300.00"
                                },
                                {
                                    "customer_id": "113",
                                    "last_name": "Williamson",
                                    "first_name": "Nadine",
                                    "join_date": "2001-12-19",
                                    "appreciation_code": "3",
                                    "total_order_qty": "1",
                                    "total_order_value": "3744.00"
                                },
                                {
                                    "customer_id": "1742",
                                    "last_name": "Delacruz",
                                    "first_name": "Kristoff",
                                    "join_date": "2007-08-04",
                                    "appreciation_code": "5",
                                    "total_order_qty": "1",
                                    "total_order_value": "4685.19"
                                },
                                {
                                    "customer_id": "2420",
                                    "last_name": "Smith",
                                    "first_name": "Abigail",
                                    "join_date": "2017-08-13",
                                    "appreciation_code": "2",
                                    "total_order_qty": "1",
                                    "total_order_value": "4238.94"
                                },
                                {
                                    "customer_id": "2172",
                                    "last_name": "Jordan",
                                    "first_name": "Abigail",
                                    "join_date": "2014-07-30",
                                    "appreciation_code": "5",
                                    "total_order_qty": "1",
                                    "total_order_value": "4662.94"
                                },
                                {
                                    "customer_id": "1595",
                                    "last_name": "Smith",
                                    "first_name": "Harper",
                                    "join_date": "2007-01-29",
                                    "appreciation_code": "6",
                                    "total_order_qty": "1",
                                    "total_order_value": "4627.90"
                                },
                                {
                                    "customer_id": "1372",
                                    "last_name": "Cooper",
                                    "first_name": "Cooper",
                                    "join_date": "2009-03-31",
                                    "appreciation_code": "4",
                                    "total_order_qty": "1",
                                    "total_order_value": "4496.47"
                                },
                                {
                                    "customer_id": "632",
                                    "last_name": "Ellis",
                                    "first_name": "Tristan",
                                    "join_date": "2011-01-10",
                                    "appreciation_code": "1",
                                    "total_order_qty": "1",
                                    "total_order_value": "4706.93"
                                },
                                {
                                    "customer_id": "658",
                                    "last_name": "Thomason",
                                    "first_name": "Harper",
                                    "join_date": "2015-08-14",
                                    "appreciation_code": "5",
                                    "total_order_qty": "1",
                                    "total_order_value": "5800.00"
                                },
                                {
                                    "customer_id": "815",
                                    "last_name": "Saylor",
                                    "first_name": "Jack",
                                    "join_date": "2018-08-02",
                                    "appreciation_code": "4",
                                    "total_order_qty": "1",
                                    "total_order_value": "3009.00"
                                },
                                {
                                    "customer_id": "1422",
                                    "last_name": "Bangeson",
                                    "first_name": "Albert",
                                    "join_date": "2011-08-24",
                                    "appreciation_code": "1",
                                    "total_order_qty": "1",
                                    "total_order_value": "5899.00"
                                },
                                {
                                    "customer_id": "440",
                                    "last_name": "Seiler",
                                    "first_name": "Mike",
                                    "join_date": "2005-08-02",
                                    "appreciation_code": "2",
                                    "total_order_qty": "1",
                                    "total_order_value": "8480.00"
                                },
                                {
                                    "customer_id": "2054",
                                    "last_name": "Reynolds",
                                    "first_name": "Tristan",
                                    "join_date": "2009-10-28",
                                    "appreciation_code": "7",
                                    "total_order_qty": "1",
                                    "total_order_value": "5552.75"
                                },
                                {
                                    "customer_id": "1004",
                                    "last_name": "Jackson",
                                    "first_name": "Chris",
                                    "join_date": "2011-10-31",
                                    "appreciation_code": "4",
                                    "total_order_qty": "1",
                                    "total_order_value": "4218.95"
                                },
                                {
                                    "customer_id": "2404",
                                    "last_name": "Reynolds",
                                    "first_name": "Summer",
                                    "join_date": "2019-10-20",
                                    "appreciation_code": "3",
                                    "total_order_qty": "1",
                                    "total_order_value": "4280.22"
                                },
                                {
                                    "customer_id": "57",
                                    "last_name": "Rowley",
                                    "first_name": "Timothy",
                                    "join_date": "2007-08-19",
                                    "appreciation_code": "4",
                                    "total_order_qty": "1",
                                    "total_order_value": "4199.00"
                                },
                                {
                                    "customer_id": "1313",
                                    "last_name": "Booker",
                                    "first_name": "Valerie",
                                    "join_date": "2003-12-23",
                                    "appreciation_code": "1",
                                    "total_order_qty": "1",
                                    "total_order_value": "5677.05"
                                },
                                {
                                    "customer_id": "19",
                                    "last_name": "Barrister",
                                    "first_name": "Brandt",
                                    "join_date": "2010-07-04",
                                    "appreciation_code": "3",
                                    "total_order_qty": "1",
                                    "total_order_value": "3195.75"
                                },
                                {
                                    "customer_id": "160",
                                    "last_name": "Dewey",
                                    "first_name": "Taylor",
                                    "join_date": "2016-11-27",
                                    "appreciation_code": "1",
                                    "total_order_qty": "1",
                                    "total_order_value": "1932.33"
                                },
                                {
                                    "customer_id": "644",
                                    "last_name": "Banks",
                                    "first_name": "Manuel",
                                    "join_date": "2010-09-05",
                                    "appreciation_code": "5",
                                    "total_order_qty": "1",
                                    "total_order_value": "4238.94"
                                },
                                {
                                    "customer_id": "824",
                                    "last_name": "Williamson",
                                    "first_name": "Reginald",
                                    "join_date": "2014-09-17",
                                    "appreciation_code": "1",
                                    "total_order_qty": "1",
                                    "total_order_value": "4708.00"
                                },
                                {
                                    "customer_id": "1857",
                                    "last_name": "Ramirez",
                                    "first_name": "Robert",
                                    "join_date": "2014-06-09",
                                    "appreciation_code": "6",
                                    "total_order_qty": "1",
                                    "total_order_value": "4403.70"
                                },
                                {
                                    "customer_id": "1262",
                                    "last_name": "Deleon",
                                    "first_name": "Jack",
                                    "join_date": "2014-11-07",
                                    "appreciation_code": "6",
                                    "total_order_qty": "1",
                                    "total_order_value": "6753.12"
                                },
                                {
                                    "customer_id": "357",
                                    "last_name": "Jamieson",
                                    "first_name": "Taylor",
                                    "join_date": "2010-06-20",
                                    "appreciation_code": "3",
                                    "total_order_qty": "1",
                                    "total_order_value": "4007.95"
                                },
                                {
                                    "customer_id": "2366",
                                    "last_name": "Smith-Warren",
                                    "first_name": "Miguel",
                                    "join_date": "2010-08-18",
                                    "appreciation_code": "3",
                                    "total_order_qty": "1",
                                    "total_order_value": "3390.94"
                                },
                                {
                                    "customer_id": "1143",
                                    "last_name": "Delacruz",
                                    "first_name": "Taylor",
                                    "join_date": "2013-11-11",
                                    "appreciation_code": "5",
                                    "total_order_qty": "1",
                                    "total_order_value": "4260.13"
                                },
                                {
                                    "customer_id": "1782",
                                    "last_name": "Dawson",
                                    "first_name": "Mindy",
                                    "join_date": "2008-04-23",
                                    "appreciation_code": "7",
                                    "total_order_qty": "1",
                                    "total_order_value": "4026.94"
                                },
                                {
                                    "customer_id": "769",
                                    "last_name": "Rowley",
                                    "first_name": "Lee",
                                    "join_date": "2003-12-02",
                                    "appreciation_code": "6",
                                    "total_order_qty": "1",
                                    "total_order_value": "3820.95"
                                },
                                {
                                    "customer_id": "266",
                                    "last_name": "Goode",
                                    "first_name": "Eric",
                                    "join_date": "2015-01-13",
                                    "appreciation_code": "2",
                                    "total_order_qty": "1",
                                    "total_order_value": "6057.06"
                                },
                                {
                                    "customer_id": "2543",
                                    "last_name": "Ridgley",
                                    "first_name": "Adam",
                                    "join_date": "2016-08-30",
                                    "appreciation_code": "1",
                                    "total_order_qty": "1",
                                    "total_order_value": "4481.67"
                                },
                                {
                                    "customer_id": "1550",
                                    "last_name": "French",
                                    "first_name": "Maggs",
                                    "join_date": "2010-04-12",
                                    "appreciation_code": "6",
                                    "total_order_qty": "1",
                                    "total_order_value": "4955.28"
                                },
                                {
                                    "customer_id": "1287",
                                    "last_name": "Jiminez",
                                    "first_name": "Airn",
                                    "join_date": "2012-07-13",
                                    "appreciation_code": "3",
                                    "total_order_qty": "1",
                                    "total_order_value": "3894.43"
                                },
                                {
                                    "customer_id": "366",
                                    "last_name": "Reynolds",
                                    "first_name": "Moritz",
                                    "join_date": "2005-10-21",
                                    "appreciation_code": "1",
                                    "total_order_qty": "1",
                                    "total_order_value": "6179.20"
                                },
                                {
                                    "customer_id": "307",
                                    "last_name": "Williamson",
                                    "first_name": "Mike",
                                    "join_date": "2015-08-03",
                                    "appreciation_code": "2",
                                    "total_order_qty": "1",
                                    "total_order_value": "4470.96"
                                },
                                {
                                    "customer_id": "2352",
                                    "last_name": "Bangeson",
                                    "first_name": "Maggs",
                                    "join_date": "2010-01-12",
                                    "appreciation_code": "6",
                                    "total_order_qty": "1",
                                    "total_order_value": "4239.99"
                                },
                                {
                                    "customer_id": "1644",
                                    "last_name": "Jones",
                                    "first_name": "George",
                                    "join_date": "2005-01-27",
                                    "appreciation_code": "3",
                                    "total_order_qty": "1",
                                    "total_order_value": "4503.20"
                                },
                                {
                                    "customer_id": "91",
                                    "last_name": "Delacruz",
                                    "first_name": "Adam",
                                    "join_date": "2006-04-15",
                                    "appreciation_code": "6",
                                    "total_order_qty": "1",
                                    "total_order_value": "6146.94"
                                },
                                {
                                    "customer_id": "305",
                                    "last_name": "Johnasen",
                                    "first_name": "Margo",
                                    "join_date": "2017-07-18",
                                    "appreciation_code": "7",
                                    "total_order_qty": "1",
                                    "total_order_value": "3739.00"
                                },
                                {
                                    "customer_id": "1606",
                                    "last_name": "Ellis",
                                    "first_name": "Leah",
                                    "join_date": "2010-06-25",
                                    "appreciation_code": "3",
                                    "total_order_qty": "1",
                                    "total_order_value": "5059.80"
                                },
                                {
                                    "customer_id": "1312",
                                    "last_name": "Moore",
                                    "first_name": "Margo",
                                    "join_date": "2004-08-01",
                                    "appreciation_code": "2",
                                    "total_order_qty": "1",
                                    "total_order_value": "2044.56"
                                },
                                {
                                    "customer_id": "743",
                                    "last_name": "Conley",
                                    "first_name": "Sarah",
                                    "join_date": "2013-09-06",
                                    "appreciation_code": "7",
                                    "total_order_qty": "1",
                                    "total_order_value": "4678.96"
                                },
                                {
                                    "customer_id": "1484",
                                    "last_name": "Gonzales",
                                    "first_name": "Manuel",
                                    "join_date": "2003-09-29",
                                    "appreciation_code": "2",
                                    "total_order_qty": "1",
                                    "total_order_value": "3861.00"
                                },
                                {
                                    "customer_id": "10",
                                    "last_name": "Roberts",
                                    "first_name": "Sarah",
                                    "join_date": "2019-06-14",
                                    "appreciation_code": "5",
                                    "total_order_qty": "1",
                                    "total_order_value": "5967.51"
                                },
                                {
                                    "customer_id": "1940",
                                    "last_name": "Presley",
                                    "first_name": "Joshua",
                                    "join_date": "2015-06-19",
                                    "appreciation_code": "1",
                                    "total_order_qty": "1",
                                    "total_order_value": "4449.90"
                                },
                                {
                                    "customer_id": "1984",
                                    "last_name": "Acosta",
                                    "first_name": "Corey",
                                    "join_date": "2001-07-05",
                                    "appreciation_code": "6",
                                    "total_order_qty": "1",
                                    "total_order_value": "4429.95"
                                },
                                {
                                    "customer_id": "2168",
                                    "last_name": "Presley",
                                    "first_name": "Samuel",
                                    "join_date": "2012-03-20",
                                    "appreciation_code": "5",
                                    "total_order_qty": "1",
                                    "total_order_value": "4719.00"
                                },
                                {
                                    "customer_id": "1602",
                                    "last_name": "Rice",
                                    "first_name": "Brice",
                                    "join_date": "2001-11-21",
                                    "appreciation_code": "3",
                                    "total_order_qty": "1",
                                    "total_order_value": "4797.81"
                                },
                                {
                                    "customer_id": "2544",
                                    "last_name": "Applewood",
                                    "first_name": "Blain",
                                    "join_date": "2019-02-16",
                                    "appreciation_code": "2",
                                    "total_order_qty": "1",
                                    "total_order_value": "8031.09"
                                },
                                {
                                    "customer_id": "1662",
                                    "last_name": "Garth",
                                    "first_name": "Jasmine",
                                    "join_date": "2003-11-05",
                                    "appreciation_code": "5",
                                    "total_order_qty": "1",
                                    "total_order_value": "4192.95"
                                },
                                {
                                    "customer_id": "823",
                                    "last_name": "Maurer",
                                    "first_name": "Brian",
                                    "join_date": "2001-03-14",
                                    "appreciation_code": "4",
                                    "total_order_qty": "1",
                                    "total_order_value": "6282.44"
                                },
                                {
                                    "customer_id": "822",
                                    "last_name": "Conley",
                                    "first_name": "Valerie",
                                    "join_date": "2011-04-29",
                                    "appreciation_code": "7",
                                    "total_order_qty": "1",
                                    "total_order_value": "3174.50"
                                }
                            ]
                        },
                        "text/html": "<table><tr><th>customer_id</th><th>last_name</th><th>first_name</th><th>join_date</th><th>appreciation_code</th><th>total_order_qty</th><th>total_order_value</th></tr><tr><td>1798</td><td>Shelton</td><td>Erin</td><td>2009-03-30</td><td>5</td><td>1</td><td>4831.83</td></tr><tr><td>1489</td><td>Delacruz</td><td>Brice</td><td>2016-04-22</td><td>7</td><td>1</td><td>3999.00</td></tr><tr><td>2335</td><td>Booker</td><td>Taylor</td><td>2004-10-16</td><td>1</td><td>1</td><td>4179.75</td></tr><tr><td>1269</td><td>Dawson</td><td>Miguel</td><td>2005-03-13</td><td>5</td><td>1</td><td>3950.96</td></tr><tr><td>652</td><td>Peters</td><td>Reginald</td><td>2009-06-29</td><td>3</td><td>1</td><td>4971.21</td></tr><tr><td>273</td><td>Harper</td><td>Farris</td><td>2002-05-03</td><td>2</td><td>1</td><td>4449.90</td></tr><tr><td>1560</td><td>Delacruz</td><td>Piper</td><td>2006-12-01</td><td>6</td><td>1</td><td>4432.75</td></tr><tr><td>51</td><td>Willis</td><td>Eric</td><td>2007-08-15</td><td>4</td><td>1</td><td>5498.69</td></tr><tr><td>2574</td><td>Conley</td><td>Erin</td><td>2019-03-09</td><td>5</td><td>1</td><td>5036.05</td></tr><tr><td>951</td><td>Robinson</td><td>Chris</td><td>2007-01-31</td><td>2</td><td>1</td><td>4350.00</td></tr><tr><td>1898</td><td>Garth</td><td>Summer</td><td>2009-06-19</td><td>3</td><td>1</td><td>3286.14</td></tr><tr><td>70</td><td>Sanchez</td><td>Harper</td><td>2017-06-07</td><td>3</td><td>1</td><td>6794.27</td></tr><tr><td>350</td><td>Deleon</td><td>Noel</td><td>2018-10-01</td><td>5</td><td>1</td><td>5451.15</td></tr><tr><td>758</td><td>Manchester</td><td>Brandt</td><td>2007-05-21</td><td>7</td><td>1</td><td>5317.50</td></tr><tr><td>2425</td><td>Saylor</td><td>Abigail</td><td>2012-11-29</td><td>1</td><td>1</td><td>5406.96</td></tr><tr><td>2080</td><td>Saylor</td><td>Mike</td><td>2012-06-20</td><td>2</td><td>1</td><td>7717.16</td></tr><tr><td>2520</td><td>French</td><td>Reginald</td><td>2003-06-28</td><td>7</td><td>1</td><td>3834.00</td></tr><tr><td>2128</td><td>Ellis</td><td>Zachary</td><td>2003-11-12</td><td>2</td><td>1</td><td>4599.93</td></tr><tr><td>2466</td><td>Hart</td><td>Jonathon</td><td>2006-08-15</td><td>2</td><td>1</td><td>3640.00</td></tr><tr><td>2196</td><td>Ramirez</td><td>Samuel</td><td>2005-05-26</td><td>7</td><td>1</td><td>4452.00</td></tr><tr><td>1750</td><td>Gorman</td><td>Tristan</td><td>2017-12-22</td><td>5</td><td>1</td><td>3189.54</td></tr><tr><td>1136</td><td>Booker</td><td>Mads</td><td>2016-10-27</td><td>5</td><td>1</td><td>4199.00</td></tr><tr><td>176</td><td>Tompsen</td><td>Corey</td><td>2003-03-08</td><td>4</td><td>1</td><td>5659.99</td></tr><tr><td>576</td><td>Sherman</td><td>Eric</td><td>2015-11-01</td><td>4</td><td>1</td><td>8085.80</td></tr><tr><td>1831</td><td>Calahan</td><td>Carl</td><td>2019-07-14</td><td>6</td><td>1</td><td>8095.26</td></tr><tr><td>1003</td><td>Jiminez</td><td>Farris</td><td>2001-04-02</td><td>4</td><td>1</td><td>4026.94</td></tr><tr><td>292</td><td>Peters</td><td>Abigail</td><td>2002-09-21</td><td>1</td><td>1</td><td>4450.94</td></tr><tr><td>1331</td><td>Jamieson</td><td>Robert</td><td>2003-01-13</td><td>7</td><td>1</td><td>6016.71</td></tr><tr><td>929</td><td>Presten</td><td>Eric</td><td>2016-08-17</td><td>3</td><td>1</td><td>3944.65</td></tr><tr><td>663</td><td>Riochardson</td><td>Margo</td><td>2017-06-20</td><td>5</td><td>1</td><td>4678.96</td></tr><tr><td>1552</td><td>Presley</td><td>Joshua</td><td>2005-07-18</td><td>4</td><td>1</td><td>5200.00</td></tr><tr><td>1589</td><td>Rowley</td><td>Summer</td><td>2017-12-25</td><td>7</td><td>1</td><td>4213.91</td></tr><tr><td>1493</td><td>Jordan</td><td>Kenadi</td><td>2008-01-07</td><td>5</td><td>1</td><td>4941.03</td></tr><tr><td>1811</td><td>Conley</td><td>Albert</td><td>2002-03-30</td><td>1</td><td>1</td><td>3337.44</td></tr><tr><td>2125</td><td>Harper</td><td>Erin</td><td>2007-08-02</td><td>6</td><td>1</td><td>4470.96</td></tr><tr><td>2038</td><td>Smith-Warren</td><td>Mads</td><td>2017-08-01</td><td>5</td><td>1</td><td>1951.75</td></tr><tr><td>2204</td><td>Moore</td><td>Brandt</td><td>2006-11-10</td><td>1</td><td>1</td><td>4450.94</td></tr><tr><td>1373</td><td>Smith</td><td>Timothy</td><td>2019-09-23</td><td>4</td><td>1</td><td>3274.65</td></tr><tr><td>764</td><td>Willis</td><td>George</td><td>2015-08-10</td><td>5</td><td>1</td><td>4250.00</td></tr><tr><td>556</td><td>Riochardson</td><td>Taylor</td><td>2013-03-25</td><td>7</td><td>1</td><td>8161.99</td></tr><tr><td>2469</td><td>Smith</td><td>Moritz</td><td>2004-11-06</td><td>2</td><td>1</td><td>4471.99</td></tr><tr><td>1268</td><td>Dickerson</td><td>Harper</td><td>2014-11-08</td><td>6</td><td>1</td><td>3999.00</td></tr><tr><td>638</td><td>Conley</td><td>Abigail</td><td>2012-06-14</td><td>2</td><td>1</td><td>4627.90</td></tr><tr><td>940</td><td>Jackson</td><td>George</td><td>2006-08-17</td><td>2</td><td>1</td><td>6646.65</td></tr><tr><td>173</td><td>Peters</td><td>Sarah</td><td>2005-07-20</td><td>3</td><td>1</td><td>4176.96</td></tr><tr><td>1963</td><td>Jones</td><td>Moritz</td><td>2008-07-11</td><td>3</td><td>1</td><td>4924.75</td></tr><tr><td>2276</td><td>Barrister</td><td>Reginald</td><td>2015-09-10</td><td>7</td><td>1</td><td>3689.85</td></tr><tr><td>42</td><td>MacBain</td><td>Eric</td><td>2017-07-06</td><td>5</td><td>1</td><td>4976.66</td></tr><tr><td>876</td><td>Aaronson</td><td>Harper</td><td>2019-10-30</td><td>7</td><td>1</td><td>3209.08</td></tr><tr><td>161</td><td>Brooks</td><td>Blain</td><td>2008-02-16</td><td>3</td><td>1</td><td>5300.00</td></tr><tr><td>113</td><td>Williamson</td><td>Nadine</td><td>2001-12-19</td><td>3</td><td>1</td><td>3744.00</td></tr><tr><td>1742</td><td>Delacruz</td><td>Kristoff</td><td>2007-08-04</td><td>5</td><td>1</td><td>4685.19</td></tr><tr><td>2420</td><td>Smith</td><td>Abigail</td><td>2017-08-13</td><td>2</td><td>1</td><td>4238.94</td></tr><tr><td>2172</td><td>Jordan</td><td>Abigail</td><td>2014-07-30</td><td>5</td><td>1</td><td>4662.94</td></tr><tr><td>1595</td><td>Smith</td><td>Harper</td><td>2007-01-29</td><td>6</td><td>1</td><td>4627.90</td></tr><tr><td>1372</td><td>Cooper</td><td>Cooper</td><td>2009-03-31</td><td>4</td><td>1</td><td>4496.47</td></tr><tr><td>632</td><td>Ellis</td><td>Tristan</td><td>2011-01-10</td><td>1</td><td>1</td><td>4706.93</td></tr><tr><td>658</td><td>Thomason</td><td>Harper</td><td>2015-08-14</td><td>5</td><td>1</td><td>5800.00</td></tr><tr><td>815</td><td>Saylor</td><td>Jack</td><td>2018-08-02</td><td>4</td><td>1</td><td>3009.00</td></tr><tr><td>1422</td><td>Bangeson</td><td>Albert</td><td>2011-08-24</td><td>1</td><td>1</td><td>5899.00</td></tr><tr><td>440</td><td>Seiler</td><td>Mike</td><td>2005-08-02</td><td>2</td><td>1</td><td>8480.00</td></tr><tr><td>2054</td><td>Reynolds</td><td>Tristan</td><td>2009-10-28</td><td>7</td><td>1</td><td>5552.75</td></tr><tr><td>1004</td><td>Jackson</td><td>Chris</td><td>2011-10-31</td><td>4</td><td>1</td><td>4218.95</td></tr><tr><td>2404</td><td>Reynolds</td><td>Summer</td><td>2019-10-20</td><td>3</td><td>1</td><td>4280.22</td></tr><tr><td>57</td><td>Rowley</td><td>Timothy</td><td>2007-08-19</td><td>4</td><td>1</td><td>4199.00</td></tr><tr><td>1313</td><td>Booker</td><td>Valerie</td><td>2003-12-23</td><td>1</td><td>1</td><td>5677.05</td></tr><tr><td>19</td><td>Barrister</td><td>Brandt</td><td>2010-07-04</td><td>3</td><td>1</td><td>3195.75</td></tr><tr><td>160</td><td>Dewey</td><td>Taylor</td><td>2016-11-27</td><td>1</td><td>1</td><td>1932.33</td></tr><tr><td>644</td><td>Banks</td><td>Manuel</td><td>2010-09-05</td><td>5</td><td>1</td><td>4238.94</td></tr><tr><td>824</td><td>Williamson</td><td>Reginald</td><td>2014-09-17</td><td>1</td><td>1</td><td>4708.00</td></tr><tr><td>1857</td><td>Ramirez</td><td>Robert</td><td>2014-06-09</td><td>6</td><td>1</td><td>4403.70</td></tr><tr><td>1262</td><td>Deleon</td><td>Jack</td><td>2014-11-07</td><td>6</td><td>1</td><td>6753.12</td></tr><tr><td>357</td><td>Jamieson</td><td>Taylor</td><td>2010-06-20</td><td>3</td><td>1</td><td>4007.95</td></tr><tr><td>2366</td><td>Smith-Warren</td><td>Miguel</td><td>2010-08-18</td><td>3</td><td>1</td><td>3390.94</td></tr><tr><td>1143</td><td>Delacruz</td><td>Taylor</td><td>2013-11-11</td><td>5</td><td>1</td><td>4260.13</td></tr><tr><td>1782</td><td>Dawson</td><td>Mindy</td><td>2008-04-23</td><td>7</td><td>1</td><td>4026.94</td></tr><tr><td>769</td><td>Rowley</td><td>Lee</td><td>2003-12-02</td><td>6</td><td>1</td><td>3820.95</td></tr><tr><td>266</td><td>Goode</td><td>Eric</td><td>2015-01-13</td><td>2</td><td>1</td><td>6057.06</td></tr><tr><td>2543</td><td>Ridgley</td><td>Adam</td><td>2016-08-30</td><td>1</td><td>1</td><td>4481.67</td></tr><tr><td>1550</td><td>French</td><td>Maggs</td><td>2010-04-12</td><td>6</td><td>1</td><td>4955.28</td></tr><tr><td>1287</td><td>Jiminez</td><td>Airn</td><td>2012-07-13</td><td>3</td><td>1</td><td>3894.43</td></tr><tr><td>366</td><td>Reynolds</td><td>Moritz</td><td>2005-10-21</td><td>1</td><td>1</td><td>6179.20</td></tr><tr><td>307</td><td>Williamson</td><td>Mike</td><td>2015-08-03</td><td>2</td><td>1</td><td>4470.96</td></tr><tr><td>2352</td><td>Bangeson</td><td>Maggs</td><td>2010-01-12</td><td>6</td><td>1</td><td>4239.99</td></tr><tr><td>1644</td><td>Jones</td><td>George</td><td>2005-01-27</td><td>3</td><td>1</td><td>4503.20</td></tr><tr><td>91</td><td>Delacruz</td><td>Adam</td><td>2006-04-15</td><td>6</td><td>1</td><td>6146.94</td></tr><tr><td>305</td><td>Johnasen</td><td>Margo</td><td>2017-07-18</td><td>7</td><td>1</td><td>3739.00</td></tr><tr><td>1606</td><td>Ellis</td><td>Leah</td><td>2010-06-25</td><td>3</td><td>1</td><td>5059.80</td></tr><tr><td>1312</td><td>Moore</td><td>Margo</td><td>2004-08-01</td><td>2</td><td>1</td><td>2044.56</td></tr><tr><td>743</td><td>Conley</td><td>Sarah</td><td>2013-09-06</td><td>7</td><td>1</td><td>4678.96</td></tr><tr><td>1484</td><td>Gonzales</td><td>Manuel</td><td>2003-09-29</td><td>2</td><td>1</td><td>3861.00</td></tr><tr><td>10</td><td>Roberts</td><td>Sarah</td><td>2019-06-14</td><td>5</td><td>1</td><td>5967.51</td></tr><tr><td>1940</td><td>Presley</td><td>Joshua</td><td>2015-06-19</td><td>1</td><td>1</td><td>4449.90</td></tr><tr><td>1984</td><td>Acosta</td><td>Corey</td><td>2001-07-05</td><td>6</td><td>1</td><td>4429.95</td></tr><tr><td>2168</td><td>Presley</td><td>Samuel</td><td>2012-03-20</td><td>5</td><td>1</td><td>4719.00</td></tr><tr><td>1602</td><td>Rice</td><td>Brice</td><td>2001-11-21</td><td>3</td><td>1</td><td>4797.81</td></tr><tr><td>2544</td><td>Applewood</td><td>Blain</td><td>2019-02-16</td><td>2</td><td>1</td><td>8031.09</td></tr><tr><td>1662</td><td>Garth</td><td>Jasmine</td><td>2003-11-05</td><td>5</td><td>1</td><td>4192.95</td></tr><tr><td>823</td><td>Maurer</td><td>Brian</td><td>2001-03-14</td><td>4</td><td>1</td><td>6282.44</td></tr><tr><td>822</td><td>Conley</td><td>Valerie</td><td>2011-04-29</td><td>7</td><td>1</td><td>3174.50</td></tr></table>"
                    },
                    "metadata": {}
                }
            ],
            "execution_count": 47
        },
        {
            "cell_type": "markdown",
            "source": [
                "**Transfer the requested data from the customer table in the DSCI\\_504 schema to the opc\\_export table in the public schema. Only provide data AFTER January 1, 2020. Mask the following dates with NULL values:**\n",
                "\n",
                "```\n",
                "2020-12-12\n",
                "\n",
                "```\n",
                "\n",
                "**You may want to run a query prior to transfering the data to quality check your work.**"
            ],
            "metadata": {
                "azdata_cell_guid": "ced2d572-c22c-4093-9e74-aace29369e66"
            },
            "attachments": {}
        },
        {
            "cell_type": "code",
            "source": [
                "SELECT \r\n",
                "    c.cus_id AS customer_id, \r\n",
                "    c.cus_last_name AS last_name, \r\n",
                "    c.cus_first_name AS first_name, \r\n",
                "    CASE \r\n",
                "        WHEN c.cus_join_date = '2020-12-12' THEN NULL\r\n",
                "        ELSE c.cus_join_date\r\n",
                "    END AS join_date, \r\n",
                "    c.cus_app_cd AS appreciation_code, \r\n",
                "    c.tot_ord_qty AS total_order_qty, \r\n",
                "    c.tot_ord_value AS total_order_value\r\n",
                "FROM \r\n",
                "    customers c\r\n",
                "WHERE \r\n",
                "    c.cus_join_date > '2020-01-01';\r\n",
                ""
            ],
            "metadata": {
                "azdata_cell_guid": "27b64871-f598-4b5e-a2d5-acdc1b9d67b0",
                "language": "sql"
            },
            "outputs": [
                {
                    "output_type": "display_data",
                    "data": {
                        "text/html": "(20 row(s) affected)"
                    },
                    "metadata": {}
                },
                {
                    "output_type": "display_data",
                    "data": {
                        "text/html": "Total execution time: 00:00:00.002"
                    },
                    "metadata": {}
                },
                {
                    "output_type": "execute_result",
                    "execution_count": 32,
                    "data": {
                        "application/vnd.dataresource+json": {
                            "schema": {
                                "fields": [
                                    {
                                        "name": "customer_id"
                                    },
                                    {
                                        "name": "last_name"
                                    },
                                    {
                                        "name": "first_name"
                                    },
                                    {
                                        "name": "join_date"
                                    },
                                    {
                                        "name": "appreciation_code"
                                    },
                                    {
                                        "name": "total_order_qty"
                                    },
                                    {
                                        "name": "total_order_value"
                                    }
                                ]
                            },
                            "data": [
                                {
                                    "customer_id": "2600",
                                    "last_name": "Holzer",
                                    "first_name": "Yeni",
                                    "join_date": "2020-11-22",
                                    "appreciation_code": "5",
                                    "total_order_qty": "60",
                                    "total_order_value": "10641.48"
                                },
                                {
                                    "customer_id": "2601",
                                    "last_name": "Hull",
                                    "first_name": "Tancredo",
                                    "join_date": "2020-04-19",
                                    "appreciation_code": "9",
                                    "total_order_qty": "49",
                                    "total_order_value": "24585.61"
                                },
                                {
                                    "customer_id": "2602",
                                    "last_name": "Sokol",
                                    "first_name": "Teodor",
                                    "join_date": "2020-04-15",
                                    "appreciation_code": "14",
                                    "total_order_qty": "48",
                                    "total_order_value": "8514.29"
                                },
                                {
                                    "customer_id": "2603",
                                    "last_name": "Barnes",
                                    "first_name": "Theo",
                                    "join_date": "2020-09-14",
                                    "appreciation_code": "18",
                                    "total_order_qty": "76",
                                    "total_order_value": "19173.06"
                                },
                                {
                                    "customer_id": "2604",
                                    "last_name": "Tempest",
                                    "first_name": "Simone",
                                    "join_date": "2020-06-24",
                                    "appreciation_code": "11",
                                    "total_order_qty": "45",
                                    "total_order_value": "27325.72"
                                },
                                {
                                    "customer_id": "2605",
                                    "last_name": "Bullock",
                                    "first_name": "Pankaj",
                                    "join_date": "2020-03-20",
                                    "appreciation_code": "3",
                                    "total_order_qty": "11",
                                    "total_order_value": "1214.88"
                                },
                                {
                                    "customer_id": "2606",
                                    "last_name": "Ware",
                                    "first_name": "Reina",
                                    "join_date": "2020-09-21",
                                    "appreciation_code": "6",
                                    "total_order_qty": "64",
                                    "total_order_value": "6718.85"
                                },
                                {
                                    "customer_id": "2607",
                                    "last_name": "Ray",
                                    "first_name": "Rosalin",
                                    "join_date": "2020-06-06",
                                    "appreciation_code": "9",
                                    "total_order_qty": "43",
                                    "total_order_value": "14012.58"
                                },
                                {
                                    "customer_id": "2608",
                                    "last_name": "Stark",
                                    "first_name": "Herb",
                                    "join_date": "2020-06-27",
                                    "appreciation_code": "5",
                                    "total_order_qty": "28",
                                    "total_order_value": "4054.52"
                                },
                                {
                                    "customer_id": "2609",
                                    "last_name": "Bohme",
                                    "first_name": "Bohuslav",
                                    "join_date": "NULL",
                                    "appreciation_code": "19",
                                    "total_order_qty": "96",
                                    "total_order_value": "15178.38"
                                },
                                {
                                    "customer_id": "2610",
                                    "last_name": "Atkins",
                                    "first_name": "Wilkie",
                                    "join_date": "2020-03-23",
                                    "appreciation_code": "5",
                                    "total_order_qty": "2",
                                    "total_order_value": "5189.42"
                                },
                                {
                                    "customer_id": "2611",
                                    "last_name": "Ranutt",
                                    "first_name": "Judd",
                                    "join_date": "2020-04-11",
                                    "appreciation_code": "23",
                                    "total_order_qty": "60",
                                    "total_order_value": "24852.66"
                                },
                                {
                                    "customer_id": "2612",
                                    "last_name": "Smith",
                                    "first_name": "Franklin",
                                    "join_date": "2020-09-05",
                                    "appreciation_code": "12",
                                    "total_order_qty": "82",
                                    "total_order_value": "19302.48"
                                },
                                {
                                    "customer_id": "2613",
                                    "last_name": "Biermann",
                                    "first_name": "Ingomar",
                                    "join_date": "2020-03-27",
                                    "appreciation_code": "17",
                                    "total_order_qty": "16",
                                    "total_order_value": "10061.57"
                                },
                                {
                                    "customer_id": "2614",
                                    "last_name": "Floro",
                                    "first_name": "Black",
                                    "join_date": "2020-06-08",
                                    "appreciation_code": "5",
                                    "total_order_qty": "73",
                                    "total_order_value": "12770.87"
                                },
                                {
                                    "customer_id": "2615",
                                    "last_name": "Okafor",
                                    "first_name": "Bendict",
                                    "join_date": "2020-03-31",
                                    "appreciation_code": "23",
                                    "total_order_qty": "43",
                                    "total_order_value": "4772.3"
                                },
                                {
                                    "customer_id": "2616",
                                    "last_name": "Chandrakat",
                                    "first_name": "Masters",
                                    "join_date": "2020-08-21",
                                    "appreciation_code": "15",
                                    "total_order_qty": "55",
                                    "total_order_value": "15871.12"
                                },
                                {
                                    "customer_id": "2617",
                                    "last_name": "Mathiasen",
                                    "first_name": "Ulrich",
                                    "join_date": "2020-01-27",
                                    "appreciation_code": "18",
                                    "total_order_qty": "45",
                                    "total_order_value": "27099.12"
                                },
                                {
                                    "customer_id": "2618",
                                    "last_name": "Kemp",
                                    "first_name": "Susanne",
                                    "join_date": "2020-12-11",
                                    "appreciation_code": "23",
                                    "total_order_qty": "13",
                                    "total_order_value": "3074.41"
                                },
                                {
                                    "customer_id": "2619",
                                    "last_name": "Daniel",
                                    "first_name": "Ellie",
                                    "join_date": "2020-06-16",
                                    "appreciation_code": "9",
                                    "total_order_qty": "2",
                                    "total_order_value": "17557.2"
                                }
                            ]
                        },
                        "text/html": "<table><tr><th>customer_id</th><th>last_name</th><th>first_name</th><th>join_date</th><th>appreciation_code</th><th>total_order_qty</th><th>total_order_value</th></tr><tr><td>2600</td><td>Holzer</td><td>Yeni</td><td>2020-11-22</td><td>5</td><td>60</td><td>10641.48</td></tr><tr><td>2601</td><td>Hull</td><td>Tancredo</td><td>2020-04-19</td><td>9</td><td>49</td><td>24585.61</td></tr><tr><td>2602</td><td>Sokol</td><td>Teodor</td><td>2020-04-15</td><td>14</td><td>48</td><td>8514.29</td></tr><tr><td>2603</td><td>Barnes</td><td>Theo</td><td>2020-09-14</td><td>18</td><td>76</td><td>19173.06</td></tr><tr><td>2604</td><td>Tempest</td><td>Simone</td><td>2020-06-24</td><td>11</td><td>45</td><td>27325.72</td></tr><tr><td>2605</td><td>Bullock</td><td>Pankaj</td><td>2020-03-20</td><td>3</td><td>11</td><td>1214.88</td></tr><tr><td>2606</td><td>Ware</td><td>Reina</td><td>2020-09-21</td><td>6</td><td>64</td><td>6718.85</td></tr><tr><td>2607</td><td>Ray</td><td>Rosalin</td><td>2020-06-06</td><td>9</td><td>43</td><td>14012.58</td></tr><tr><td>2608</td><td>Stark</td><td>Herb</td><td>2020-06-27</td><td>5</td><td>28</td><td>4054.52</td></tr><tr><td>2609</td><td>Bohme</td><td>Bohuslav</td><td>NULL</td><td>19</td><td>96</td><td>15178.38</td></tr><tr><td>2610</td><td>Atkins</td><td>Wilkie</td><td>2020-03-23</td><td>5</td><td>2</td><td>5189.42</td></tr><tr><td>2611</td><td>Ranutt</td><td>Judd</td><td>2020-04-11</td><td>23</td><td>60</td><td>24852.66</td></tr><tr><td>2612</td><td>Smith</td><td>Franklin</td><td>2020-09-05</td><td>12</td><td>82</td><td>19302.48</td></tr><tr><td>2613</td><td>Biermann</td><td>Ingomar</td><td>2020-03-27</td><td>17</td><td>16</td><td>10061.57</td></tr><tr><td>2614</td><td>Floro</td><td>Black</td><td>2020-06-08</td><td>5</td><td>73</td><td>12770.87</td></tr><tr><td>2615</td><td>Okafor</td><td>Bendict</td><td>2020-03-31</td><td>23</td><td>43</td><td>4772.3</td></tr><tr><td>2616</td><td>Chandrakat</td><td>Masters</td><td>2020-08-21</td><td>15</td><td>55</td><td>15871.12</td></tr><tr><td>2617</td><td>Mathiasen</td><td>Ulrich</td><td>2020-01-27</td><td>18</td><td>45</td><td>27099.12</td></tr><tr><td>2618</td><td>Kemp</td><td>Susanne</td><td>2020-12-11</td><td>23</td><td>13</td><td>3074.41</td></tr><tr><td>2619</td><td>Daniel</td><td>Ellie</td><td>2020-06-16</td><td>9</td><td>2</td><td>17557.2</td></tr></table>"
                    },
                    "metadata": {}
                }
            ],
            "execution_count": 32
        },
        {
            "cell_type": "code",
            "source": [
                "SELECT \r\n",
                "    c.cus_id AS customer_id, \r\n",
                "    c.cus_last_name AS last_name, \r\n",
                "    c.cus_first_name AS first_name, \r\n",
                "    CASE \r\n",
                "        WHEN c.cus_join_date = '2020-12-12' THEN NULL  -- Mask this specific date\r\n",
                "        ELSE c.cus_join_date\r\n",
                "    END AS join_date, \r\n",
                "    c.cus_app_cd AS appreciation_code, \r\n",
                "    COUNT(o.ord_id) AS total_order_qty,  -- Count the number of orders\r\n",
                "    SUM(o.order_tot) AS total_order_value  -- Sum the order totals\r\n",
                "FROM \r\n",
                "    customers c\r\n",
                "JOIN \r\n",
                "    orders o ON c.cus_id = o.cus_id\r\n",
                "WHERE \r\n",
                "    c.cus_join_date > '2020-01-01'  -- Filter for dates after January 1, 2020\r\n",
                "GROUP BY \r\n",
                "    c.cus_id, c.cus_last_name, c.cus_first_name, c.cus_join_date, c.cus_app_cd;\r\n",
                "\r\n",
                ""
            ],
            "metadata": {
                "language": "sql",
                "azdata_cell_guid": "0eb8358d-222a-4adc-9095-410c6542d3a9"
            },
            "outputs": [
                {
                    "output_type": "display_data",
                    "data": {
                        "text/html": "(0 row(s) affected)"
                    },
                    "metadata": {}
                },
                {
                    "output_type": "display_data",
                    "data": {
                        "text/html": "Total execution time: 00:00:00.002"
                    },
                    "metadata": {}
                },
                {
                    "output_type": "execute_result",
                    "execution_count": 53,
                    "data": {
                        "application/vnd.dataresource+json": {
                            "schema": {
                                "fields": [
                                    {
                                        "name": "customer_id"
                                    },
                                    {
                                        "name": "last_name"
                                    },
                                    {
                                        "name": "first_name"
                                    },
                                    {
                                        "name": "join_date"
                                    },
                                    {
                                        "name": "appreciation_code"
                                    },
                                    {
                                        "name": "total_order_qty"
                                    },
                                    {
                                        "name": "total_order_value"
                                    }
                                ]
                            },
                            "data": []
                        },
                        "text/html": "<table><tr><th>customer_id</th><th>last_name</th><th>first_name</th><th>join_date</th><th>appreciation_code</th><th>total_order_qty</th><th>total_order_value</th></tr></table>"
                    },
                    "metadata": {}
                }
            ],
            "execution_count": 53
        },
        {
            "cell_type": "code",
            "source": [
                "INSERT INTO public.opc_export (customer_id, last_name, first_name, join_date, appreciation_code, total_order_qty, total_order_value)\r\n",
                "SELECT \r\n",
                "    c.cus_id AS customer_id, \r\n",
                "    c.cus_last_name AS last_name, \r\n",
                "    c.cus_first_name AS first_name, \r\n",
                "    CASE \r\n",
                "        WHEN c.cus_join_date = '2020-12-12' THEN NULL  -- Mask specific date\r\n",
                "        ELSE c.cus_join_date\r\n",
                "    END AS join_date, \r\n",
                "    c.cus_app_cd AS appreciation_code, \r\n",
                "    COUNT(o.ord_id) AS total_order_qty,  -- Count orders per customer\r\n",
                "    SUM(o.order_tot) AS total_order_value  -- Sum the order totals\r\n",
                "FROM \r\n",
                "    customers c\r\n",
                "JOIN \r\n",
                "    orders o ON c.cus_id = o.cus_id\r\n",
                "WHERE \r\n",
                "    c.cus_join_date > '2020-01-01'  -- Only include data after January 1, 2020\r\n",
                "GROUP BY \r\n",
                "    c.cus_id, c.cus_last_name, c.cus_first_name, c.cus_join_date, c.cus_app_cd;\r\n",
                "\r\n",
                "\r\n",
                ""
            ],
            "metadata": {
                "azdata_cell_guid": "fd9c6db6-dce0-481a-897b-25cbfa1884f4",
                "language": "sql"
            },
            "outputs": [
                {
                    "output_type": "display_data",
                    "data": {
                        "text/html": "INSERT 0 0"
                    },
                    "metadata": {}
                },
                {
                    "output_type": "display_data",
                    "data": {
                        "text/html": "Total execution time: 00:00:00"
                    },
                    "metadata": {}
                }
            ],
            "execution_count": 55
        },
        {
            "cell_type": "code",
            "source": [
                "SELECT * FROM public.opc_export LIMIT 100;\r\n",
                ""
            ],
            "metadata": {
                "azdata_cell_guid": "919449bb-30fc-4634-987f-9aed076448fd",
                "language": "sql"
            },
            "outputs": [
                {
                    "output_type": "display_data",
                    "data": {
                        "text/html": "(100 row(s) affected)"
                    },
                    "metadata": {}
                },
                {
                    "output_type": "display_data",
                    "data": {
                        "text/html": "Total execution time: 00:00:00.006"
                    },
                    "metadata": {}
                },
                {
                    "output_type": "execute_result",
                    "execution_count": 56,
                    "data": {
                        "application/vnd.dataresource+json": {
                            "schema": {
                                "fields": [
                                    {
                                        "name": "customer_id"
                                    },
                                    {
                                        "name": "last_name"
                                    },
                                    {
                                        "name": "first_name"
                                    },
                                    {
                                        "name": "join_date"
                                    },
                                    {
                                        "name": "appreciation_code"
                                    },
                                    {
                                        "name": "total_order_qty"
                                    },
                                    {
                                        "name": "total_order_value"
                                    }
                                ]
                            },
                            "data": [
                                {
                                    "customer_id": "1798",
                                    "last_name": "Shelton",
                                    "first_name": "Erin",
                                    "join_date": "2009-03-30",
                                    "appreciation_code": "5",
                                    "total_order_qty": "1",
                                    "total_order_value": "4831.83"
                                },
                                {
                                    "customer_id": "1489",
                                    "last_name": "Delacruz",
                                    "first_name": "Brice",
                                    "join_date": "2016-04-22",
                                    "appreciation_code": "7",
                                    "total_order_qty": "1",
                                    "total_order_value": "3999.00"
                                },
                                {
                                    "customer_id": "2335",
                                    "last_name": "Booker",
                                    "first_name": "Taylor",
                                    "join_date": "2004-10-16",
                                    "appreciation_code": "1",
                                    "total_order_qty": "1",
                                    "total_order_value": "4179.75"
                                },
                                {
                                    "customer_id": "1269",
                                    "last_name": "Dawson",
                                    "first_name": "Miguel",
                                    "join_date": "2005-03-13",
                                    "appreciation_code": "5",
                                    "total_order_qty": "1",
                                    "total_order_value": "3950.96"
                                },
                                {
                                    "customer_id": "652",
                                    "last_name": "Peters",
                                    "first_name": "Reginald",
                                    "join_date": "2009-06-29",
                                    "appreciation_code": "3",
                                    "total_order_qty": "1",
                                    "total_order_value": "4971.21"
                                },
                                {
                                    "customer_id": "273",
                                    "last_name": "Harper",
                                    "first_name": "Farris",
                                    "join_date": "2002-05-03",
                                    "appreciation_code": "2",
                                    "total_order_qty": "1",
                                    "total_order_value": "4449.90"
                                },
                                {
                                    "customer_id": "1560",
                                    "last_name": "Delacruz",
                                    "first_name": "Piper",
                                    "join_date": "2006-12-01",
                                    "appreciation_code": "6",
                                    "total_order_qty": "1",
                                    "total_order_value": "4432.75"
                                },
                                {
                                    "customer_id": "51",
                                    "last_name": "Willis",
                                    "first_name": "Eric",
                                    "join_date": "2007-08-15",
                                    "appreciation_code": "4",
                                    "total_order_qty": "1",
                                    "total_order_value": "5498.69"
                                },
                                {
                                    "customer_id": "2574",
                                    "last_name": "Conley",
                                    "first_name": "Erin",
                                    "join_date": "2019-03-09",
                                    "appreciation_code": "5",
                                    "total_order_qty": "1",
                                    "total_order_value": "5036.05"
                                },
                                {
                                    "customer_id": "951",
                                    "last_name": "Robinson",
                                    "first_name": "Chris",
                                    "join_date": "2007-01-31",
                                    "appreciation_code": "2",
                                    "total_order_qty": "1",
                                    "total_order_value": "4350.00"
                                },
                                {
                                    "customer_id": "1898",
                                    "last_name": "Garth",
                                    "first_name": "Summer",
                                    "join_date": "2009-06-19",
                                    "appreciation_code": "3",
                                    "total_order_qty": "1",
                                    "total_order_value": "3286.14"
                                },
                                {
                                    "customer_id": "70",
                                    "last_name": "Sanchez",
                                    "first_name": "Harper",
                                    "join_date": "2017-06-07",
                                    "appreciation_code": "3",
                                    "total_order_qty": "1",
                                    "total_order_value": "6794.27"
                                },
                                {
                                    "customer_id": "350",
                                    "last_name": "Deleon",
                                    "first_name": "Noel",
                                    "join_date": "2018-10-01",
                                    "appreciation_code": "5",
                                    "total_order_qty": "1",
                                    "total_order_value": "5451.15"
                                },
                                {
                                    "customer_id": "758",
                                    "last_name": "Manchester",
                                    "first_name": "Brandt",
                                    "join_date": "2007-05-21",
                                    "appreciation_code": "7",
                                    "total_order_qty": "1",
                                    "total_order_value": "5317.50"
                                },
                                {
                                    "customer_id": "2425",
                                    "last_name": "Saylor",
                                    "first_name": "Abigail",
                                    "join_date": "2012-11-29",
                                    "appreciation_code": "1",
                                    "total_order_qty": "1",
                                    "total_order_value": "5406.96"
                                },
                                {
                                    "customer_id": "2080",
                                    "last_name": "Saylor",
                                    "first_name": "Mike",
                                    "join_date": "2012-06-20",
                                    "appreciation_code": "2",
                                    "total_order_qty": "1",
                                    "total_order_value": "7717.16"
                                },
                                {
                                    "customer_id": "2520",
                                    "last_name": "French",
                                    "first_name": "Reginald",
                                    "join_date": "2003-06-28",
                                    "appreciation_code": "7",
                                    "total_order_qty": "1",
                                    "total_order_value": "3834.00"
                                },
                                {
                                    "customer_id": "2128",
                                    "last_name": "Ellis",
                                    "first_name": "Zachary",
                                    "join_date": "2003-11-12",
                                    "appreciation_code": "2",
                                    "total_order_qty": "1",
                                    "total_order_value": "4599.93"
                                },
                                {
                                    "customer_id": "2466",
                                    "last_name": "Hart",
                                    "first_name": "Jonathon",
                                    "join_date": "2006-08-15",
                                    "appreciation_code": "2",
                                    "total_order_qty": "1",
                                    "total_order_value": "3640.00"
                                },
                                {
                                    "customer_id": "2196",
                                    "last_name": "Ramirez",
                                    "first_name": "Samuel",
                                    "join_date": "2005-05-26",
                                    "appreciation_code": "7",
                                    "total_order_qty": "1",
                                    "total_order_value": "4452.00"
                                },
                                {
                                    "customer_id": "1750",
                                    "last_name": "Gorman",
                                    "first_name": "Tristan",
                                    "join_date": "2017-12-22",
                                    "appreciation_code": "5",
                                    "total_order_qty": "1",
                                    "total_order_value": "3189.54"
                                },
                                {
                                    "customer_id": "1136",
                                    "last_name": "Booker",
                                    "first_name": "Mads",
                                    "join_date": "2016-10-27",
                                    "appreciation_code": "5",
                                    "total_order_qty": "1",
                                    "total_order_value": "4199.00"
                                },
                                {
                                    "customer_id": "176",
                                    "last_name": "Tompsen",
                                    "first_name": "Corey",
                                    "join_date": "2003-03-08",
                                    "appreciation_code": "4",
                                    "total_order_qty": "1",
                                    "total_order_value": "5659.99"
                                },
                                {
                                    "customer_id": "576",
                                    "last_name": "Sherman",
                                    "first_name": "Eric",
                                    "join_date": "2015-11-01",
                                    "appreciation_code": "4",
                                    "total_order_qty": "1",
                                    "total_order_value": "8085.80"
                                },
                                {
                                    "customer_id": "1831",
                                    "last_name": "Calahan",
                                    "first_name": "Carl",
                                    "join_date": "2019-07-14",
                                    "appreciation_code": "6",
                                    "total_order_qty": "1",
                                    "total_order_value": "8095.26"
                                },
                                {
                                    "customer_id": "1003",
                                    "last_name": "Jiminez",
                                    "first_name": "Farris",
                                    "join_date": "2001-04-02",
                                    "appreciation_code": "4",
                                    "total_order_qty": "1",
                                    "total_order_value": "4026.94"
                                },
                                {
                                    "customer_id": "292",
                                    "last_name": "Peters",
                                    "first_name": "Abigail",
                                    "join_date": "2002-09-21",
                                    "appreciation_code": "1",
                                    "total_order_qty": "1",
                                    "total_order_value": "4450.94"
                                },
                                {
                                    "customer_id": "1331",
                                    "last_name": "Jamieson",
                                    "first_name": "Robert",
                                    "join_date": "2003-01-13",
                                    "appreciation_code": "7",
                                    "total_order_qty": "1",
                                    "total_order_value": "6016.71"
                                },
                                {
                                    "customer_id": "929",
                                    "last_name": "Presten",
                                    "first_name": "Eric",
                                    "join_date": "2016-08-17",
                                    "appreciation_code": "3",
                                    "total_order_qty": "1",
                                    "total_order_value": "3944.65"
                                },
                                {
                                    "customer_id": "663",
                                    "last_name": "Riochardson",
                                    "first_name": "Margo",
                                    "join_date": "2017-06-20",
                                    "appreciation_code": "5",
                                    "total_order_qty": "1",
                                    "total_order_value": "4678.96"
                                },
                                {
                                    "customer_id": "1552",
                                    "last_name": "Presley",
                                    "first_name": "Joshua",
                                    "join_date": "2005-07-18",
                                    "appreciation_code": "4",
                                    "total_order_qty": "1",
                                    "total_order_value": "5200.00"
                                },
                                {
                                    "customer_id": "1589",
                                    "last_name": "Rowley",
                                    "first_name": "Summer",
                                    "join_date": "2017-12-25",
                                    "appreciation_code": "7",
                                    "total_order_qty": "1",
                                    "total_order_value": "4213.91"
                                },
                                {
                                    "customer_id": "1493",
                                    "last_name": "Jordan",
                                    "first_name": "Kenadi",
                                    "join_date": "2008-01-07",
                                    "appreciation_code": "5",
                                    "total_order_qty": "1",
                                    "total_order_value": "4941.03"
                                },
                                {
                                    "customer_id": "1811",
                                    "last_name": "Conley",
                                    "first_name": "Albert",
                                    "join_date": "2002-03-30",
                                    "appreciation_code": "1",
                                    "total_order_qty": "1",
                                    "total_order_value": "3337.44"
                                },
                                {
                                    "customer_id": "2125",
                                    "last_name": "Harper",
                                    "first_name": "Erin",
                                    "join_date": "2007-08-02",
                                    "appreciation_code": "6",
                                    "total_order_qty": "1",
                                    "total_order_value": "4470.96"
                                },
                                {
                                    "customer_id": "2038",
                                    "last_name": "Smith-Warren",
                                    "first_name": "Mads",
                                    "join_date": "2017-08-01",
                                    "appreciation_code": "5",
                                    "total_order_qty": "1",
                                    "total_order_value": "1951.75"
                                },
                                {
                                    "customer_id": "2204",
                                    "last_name": "Moore",
                                    "first_name": "Brandt",
                                    "join_date": "2006-11-10",
                                    "appreciation_code": "1",
                                    "total_order_qty": "1",
                                    "total_order_value": "4450.94"
                                },
                                {
                                    "customer_id": "1373",
                                    "last_name": "Smith",
                                    "first_name": "Timothy",
                                    "join_date": "2019-09-23",
                                    "appreciation_code": "4",
                                    "total_order_qty": "1",
                                    "total_order_value": "3274.65"
                                },
                                {
                                    "customer_id": "764",
                                    "last_name": "Willis",
                                    "first_name": "George",
                                    "join_date": "2015-08-10",
                                    "appreciation_code": "5",
                                    "total_order_qty": "1",
                                    "total_order_value": "4250.00"
                                },
                                {
                                    "customer_id": "556",
                                    "last_name": "Riochardson",
                                    "first_name": "Taylor",
                                    "join_date": "2013-03-25",
                                    "appreciation_code": "7",
                                    "total_order_qty": "1",
                                    "total_order_value": "8161.99"
                                },
                                {
                                    "customer_id": "2469",
                                    "last_name": "Smith",
                                    "first_name": "Moritz",
                                    "join_date": "2004-11-06",
                                    "appreciation_code": "2",
                                    "total_order_qty": "1",
                                    "total_order_value": "4471.99"
                                },
                                {
                                    "customer_id": "1268",
                                    "last_name": "Dickerson",
                                    "first_name": "Harper",
                                    "join_date": "2014-11-08",
                                    "appreciation_code": "6",
                                    "total_order_qty": "1",
                                    "total_order_value": "3999.00"
                                },
                                {
                                    "customer_id": "638",
                                    "last_name": "Conley",
                                    "first_name": "Abigail",
                                    "join_date": "2012-06-14",
                                    "appreciation_code": "2",
                                    "total_order_qty": "1",
                                    "total_order_value": "4627.90"
                                },
                                {
                                    "customer_id": "940",
                                    "last_name": "Jackson",
                                    "first_name": "George",
                                    "join_date": "2006-08-17",
                                    "appreciation_code": "2",
                                    "total_order_qty": "1",
                                    "total_order_value": "6646.65"
                                },
                                {
                                    "customer_id": "173",
                                    "last_name": "Peters",
                                    "first_name": "Sarah",
                                    "join_date": "2005-07-20",
                                    "appreciation_code": "3",
                                    "total_order_qty": "1",
                                    "total_order_value": "4176.96"
                                },
                                {
                                    "customer_id": "1963",
                                    "last_name": "Jones",
                                    "first_name": "Moritz",
                                    "join_date": "2008-07-11",
                                    "appreciation_code": "3",
                                    "total_order_qty": "1",
                                    "total_order_value": "4924.75"
                                },
                                {
                                    "customer_id": "2276",
                                    "last_name": "Barrister",
                                    "first_name": "Reginald",
                                    "join_date": "2015-09-10",
                                    "appreciation_code": "7",
                                    "total_order_qty": "1",
                                    "total_order_value": "3689.85"
                                },
                                {
                                    "customer_id": "42",
                                    "last_name": "MacBain",
                                    "first_name": "Eric",
                                    "join_date": "2017-07-06",
                                    "appreciation_code": "5",
                                    "total_order_qty": "1",
                                    "total_order_value": "4976.66"
                                },
                                {
                                    "customer_id": "876",
                                    "last_name": "Aaronson",
                                    "first_name": "Harper",
                                    "join_date": "2019-10-30",
                                    "appreciation_code": "7",
                                    "total_order_qty": "1",
                                    "total_order_value": "3209.08"
                                },
                                {
                                    "customer_id": "161",
                                    "last_name": "Brooks",
                                    "first_name": "Blain",
                                    "join_date": "2008-02-16",
                                    "appreciation_code": "3",
                                    "total_order_qty": "1",
                                    "total_order_value": "5300.00"
                                },
                                {
                                    "customer_id": "113",
                                    "last_name": "Williamson",
                                    "first_name": "Nadine",
                                    "join_date": "2001-12-19",
                                    "appreciation_code": "3",
                                    "total_order_qty": "1",
                                    "total_order_value": "3744.00"
                                },
                                {
                                    "customer_id": "1742",
                                    "last_name": "Delacruz",
                                    "first_name": "Kristoff",
                                    "join_date": "2007-08-04",
                                    "appreciation_code": "5",
                                    "total_order_qty": "1",
                                    "total_order_value": "4685.19"
                                },
                                {
                                    "customer_id": "2420",
                                    "last_name": "Smith",
                                    "first_name": "Abigail",
                                    "join_date": "2017-08-13",
                                    "appreciation_code": "2",
                                    "total_order_qty": "1",
                                    "total_order_value": "4238.94"
                                },
                                {
                                    "customer_id": "2172",
                                    "last_name": "Jordan",
                                    "first_name": "Abigail",
                                    "join_date": "2014-07-30",
                                    "appreciation_code": "5",
                                    "total_order_qty": "1",
                                    "total_order_value": "4662.94"
                                },
                                {
                                    "customer_id": "1595",
                                    "last_name": "Smith",
                                    "first_name": "Harper",
                                    "join_date": "2007-01-29",
                                    "appreciation_code": "6",
                                    "total_order_qty": "1",
                                    "total_order_value": "4627.90"
                                },
                                {
                                    "customer_id": "1372",
                                    "last_name": "Cooper",
                                    "first_name": "Cooper",
                                    "join_date": "2009-03-31",
                                    "appreciation_code": "4",
                                    "total_order_qty": "1",
                                    "total_order_value": "4496.47"
                                },
                                {
                                    "customer_id": "632",
                                    "last_name": "Ellis",
                                    "first_name": "Tristan",
                                    "join_date": "2011-01-10",
                                    "appreciation_code": "1",
                                    "total_order_qty": "1",
                                    "total_order_value": "4706.93"
                                },
                                {
                                    "customer_id": "658",
                                    "last_name": "Thomason",
                                    "first_name": "Harper",
                                    "join_date": "2015-08-14",
                                    "appreciation_code": "5",
                                    "total_order_qty": "1",
                                    "total_order_value": "5800.00"
                                },
                                {
                                    "customer_id": "815",
                                    "last_name": "Saylor",
                                    "first_name": "Jack",
                                    "join_date": "2018-08-02",
                                    "appreciation_code": "4",
                                    "total_order_qty": "1",
                                    "total_order_value": "3009.00"
                                },
                                {
                                    "customer_id": "1422",
                                    "last_name": "Bangeson",
                                    "first_name": "Albert",
                                    "join_date": "2011-08-24",
                                    "appreciation_code": "1",
                                    "total_order_qty": "1",
                                    "total_order_value": "5899.00"
                                },
                                {
                                    "customer_id": "440",
                                    "last_name": "Seiler",
                                    "first_name": "Mike",
                                    "join_date": "2005-08-02",
                                    "appreciation_code": "2",
                                    "total_order_qty": "1",
                                    "total_order_value": "8480.00"
                                },
                                {
                                    "customer_id": "2054",
                                    "last_name": "Reynolds",
                                    "first_name": "Tristan",
                                    "join_date": "2009-10-28",
                                    "appreciation_code": "7",
                                    "total_order_qty": "1",
                                    "total_order_value": "5552.75"
                                },
                                {
                                    "customer_id": "1004",
                                    "last_name": "Jackson",
                                    "first_name": "Chris",
                                    "join_date": "2011-10-31",
                                    "appreciation_code": "4",
                                    "total_order_qty": "1",
                                    "total_order_value": "4218.95"
                                },
                                {
                                    "customer_id": "2404",
                                    "last_name": "Reynolds",
                                    "first_name": "Summer",
                                    "join_date": "2019-10-20",
                                    "appreciation_code": "3",
                                    "total_order_qty": "1",
                                    "total_order_value": "4280.22"
                                },
                                {
                                    "customer_id": "57",
                                    "last_name": "Rowley",
                                    "first_name": "Timothy",
                                    "join_date": "2007-08-19",
                                    "appreciation_code": "4",
                                    "total_order_qty": "1",
                                    "total_order_value": "4199.00"
                                },
                                {
                                    "customer_id": "1313",
                                    "last_name": "Booker",
                                    "first_name": "Valerie",
                                    "join_date": "2003-12-23",
                                    "appreciation_code": "1",
                                    "total_order_qty": "1",
                                    "total_order_value": "5677.05"
                                },
                                {
                                    "customer_id": "19",
                                    "last_name": "Barrister",
                                    "first_name": "Brandt",
                                    "join_date": "2010-07-04",
                                    "appreciation_code": "3",
                                    "total_order_qty": "1",
                                    "total_order_value": "3195.75"
                                },
                                {
                                    "customer_id": "160",
                                    "last_name": "Dewey",
                                    "first_name": "Taylor",
                                    "join_date": "2016-11-27",
                                    "appreciation_code": "1",
                                    "total_order_qty": "1",
                                    "total_order_value": "1932.33"
                                },
                                {
                                    "customer_id": "644",
                                    "last_name": "Banks",
                                    "first_name": "Manuel",
                                    "join_date": "2010-09-05",
                                    "appreciation_code": "5",
                                    "total_order_qty": "1",
                                    "total_order_value": "4238.94"
                                },
                                {
                                    "customer_id": "824",
                                    "last_name": "Williamson",
                                    "first_name": "Reginald",
                                    "join_date": "2014-09-17",
                                    "appreciation_code": "1",
                                    "total_order_qty": "1",
                                    "total_order_value": "4708.00"
                                },
                                {
                                    "customer_id": "1857",
                                    "last_name": "Ramirez",
                                    "first_name": "Robert",
                                    "join_date": "2014-06-09",
                                    "appreciation_code": "6",
                                    "total_order_qty": "1",
                                    "total_order_value": "4403.70"
                                },
                                {
                                    "customer_id": "1262",
                                    "last_name": "Deleon",
                                    "first_name": "Jack",
                                    "join_date": "2014-11-07",
                                    "appreciation_code": "6",
                                    "total_order_qty": "1",
                                    "total_order_value": "6753.12"
                                },
                                {
                                    "customer_id": "357",
                                    "last_name": "Jamieson",
                                    "first_name": "Taylor",
                                    "join_date": "2010-06-20",
                                    "appreciation_code": "3",
                                    "total_order_qty": "1",
                                    "total_order_value": "4007.95"
                                },
                                {
                                    "customer_id": "2366",
                                    "last_name": "Smith-Warren",
                                    "first_name": "Miguel",
                                    "join_date": "2010-08-18",
                                    "appreciation_code": "3",
                                    "total_order_qty": "1",
                                    "total_order_value": "3390.94"
                                },
                                {
                                    "customer_id": "1143",
                                    "last_name": "Delacruz",
                                    "first_name": "Taylor",
                                    "join_date": "2013-11-11",
                                    "appreciation_code": "5",
                                    "total_order_qty": "1",
                                    "total_order_value": "4260.13"
                                },
                                {
                                    "customer_id": "1782",
                                    "last_name": "Dawson",
                                    "first_name": "Mindy",
                                    "join_date": "2008-04-23",
                                    "appreciation_code": "7",
                                    "total_order_qty": "1",
                                    "total_order_value": "4026.94"
                                },
                                {
                                    "customer_id": "769",
                                    "last_name": "Rowley",
                                    "first_name": "Lee",
                                    "join_date": "2003-12-02",
                                    "appreciation_code": "6",
                                    "total_order_qty": "1",
                                    "total_order_value": "3820.95"
                                },
                                {
                                    "customer_id": "266",
                                    "last_name": "Goode",
                                    "first_name": "Eric",
                                    "join_date": "2015-01-13",
                                    "appreciation_code": "2",
                                    "total_order_qty": "1",
                                    "total_order_value": "6057.06"
                                },
                                {
                                    "customer_id": "2543",
                                    "last_name": "Ridgley",
                                    "first_name": "Adam",
                                    "join_date": "2016-08-30",
                                    "appreciation_code": "1",
                                    "total_order_qty": "1",
                                    "total_order_value": "4481.67"
                                },
                                {
                                    "customer_id": "1550",
                                    "last_name": "French",
                                    "first_name": "Maggs",
                                    "join_date": "2010-04-12",
                                    "appreciation_code": "6",
                                    "total_order_qty": "1",
                                    "total_order_value": "4955.28"
                                },
                                {
                                    "customer_id": "1287",
                                    "last_name": "Jiminez",
                                    "first_name": "Airn",
                                    "join_date": "2012-07-13",
                                    "appreciation_code": "3",
                                    "total_order_qty": "1",
                                    "total_order_value": "3894.43"
                                },
                                {
                                    "customer_id": "366",
                                    "last_name": "Reynolds",
                                    "first_name": "Moritz",
                                    "join_date": "2005-10-21",
                                    "appreciation_code": "1",
                                    "total_order_qty": "1",
                                    "total_order_value": "6179.20"
                                },
                                {
                                    "customer_id": "307",
                                    "last_name": "Williamson",
                                    "first_name": "Mike",
                                    "join_date": "2015-08-03",
                                    "appreciation_code": "2",
                                    "total_order_qty": "1",
                                    "total_order_value": "4470.96"
                                },
                                {
                                    "customer_id": "2352",
                                    "last_name": "Bangeson",
                                    "first_name": "Maggs",
                                    "join_date": "2010-01-12",
                                    "appreciation_code": "6",
                                    "total_order_qty": "1",
                                    "total_order_value": "4239.99"
                                },
                                {
                                    "customer_id": "1644",
                                    "last_name": "Jones",
                                    "first_name": "George",
                                    "join_date": "2005-01-27",
                                    "appreciation_code": "3",
                                    "total_order_qty": "1",
                                    "total_order_value": "4503.20"
                                },
                                {
                                    "customer_id": "91",
                                    "last_name": "Delacruz",
                                    "first_name": "Adam",
                                    "join_date": "2006-04-15",
                                    "appreciation_code": "6",
                                    "total_order_qty": "1",
                                    "total_order_value": "6146.94"
                                },
                                {
                                    "customer_id": "305",
                                    "last_name": "Johnasen",
                                    "first_name": "Margo",
                                    "join_date": "2017-07-18",
                                    "appreciation_code": "7",
                                    "total_order_qty": "1",
                                    "total_order_value": "3739.00"
                                },
                                {
                                    "customer_id": "1606",
                                    "last_name": "Ellis",
                                    "first_name": "Leah",
                                    "join_date": "2010-06-25",
                                    "appreciation_code": "3",
                                    "total_order_qty": "1",
                                    "total_order_value": "5059.80"
                                },
                                {
                                    "customer_id": "1312",
                                    "last_name": "Moore",
                                    "first_name": "Margo",
                                    "join_date": "2004-08-01",
                                    "appreciation_code": "2",
                                    "total_order_qty": "1",
                                    "total_order_value": "2044.56"
                                },
                                {
                                    "customer_id": "743",
                                    "last_name": "Conley",
                                    "first_name": "Sarah",
                                    "join_date": "2013-09-06",
                                    "appreciation_code": "7",
                                    "total_order_qty": "1",
                                    "total_order_value": "4678.96"
                                },
                                {
                                    "customer_id": "1484",
                                    "last_name": "Gonzales",
                                    "first_name": "Manuel",
                                    "join_date": "2003-09-29",
                                    "appreciation_code": "2",
                                    "total_order_qty": "1",
                                    "total_order_value": "3861.00"
                                },
                                {
                                    "customer_id": "10",
                                    "last_name": "Roberts",
                                    "first_name": "Sarah",
                                    "join_date": "2019-06-14",
                                    "appreciation_code": "5",
                                    "total_order_qty": "1",
                                    "total_order_value": "5967.51"
                                },
                                {
                                    "customer_id": "1940",
                                    "last_name": "Presley",
                                    "first_name": "Joshua",
                                    "join_date": "2015-06-19",
                                    "appreciation_code": "1",
                                    "total_order_qty": "1",
                                    "total_order_value": "4449.90"
                                },
                                {
                                    "customer_id": "1984",
                                    "last_name": "Acosta",
                                    "first_name": "Corey",
                                    "join_date": "2001-07-05",
                                    "appreciation_code": "6",
                                    "total_order_qty": "1",
                                    "total_order_value": "4429.95"
                                },
                                {
                                    "customer_id": "2168",
                                    "last_name": "Presley",
                                    "first_name": "Samuel",
                                    "join_date": "2012-03-20",
                                    "appreciation_code": "5",
                                    "total_order_qty": "1",
                                    "total_order_value": "4719.00"
                                },
                                {
                                    "customer_id": "1602",
                                    "last_name": "Rice",
                                    "first_name": "Brice",
                                    "join_date": "2001-11-21",
                                    "appreciation_code": "3",
                                    "total_order_qty": "1",
                                    "total_order_value": "4797.81"
                                },
                                {
                                    "customer_id": "2544",
                                    "last_name": "Applewood",
                                    "first_name": "Blain",
                                    "join_date": "2019-02-16",
                                    "appreciation_code": "2",
                                    "total_order_qty": "1",
                                    "total_order_value": "8031.09"
                                },
                                {
                                    "customer_id": "1662",
                                    "last_name": "Garth",
                                    "first_name": "Jasmine",
                                    "join_date": "2003-11-05",
                                    "appreciation_code": "5",
                                    "total_order_qty": "1",
                                    "total_order_value": "4192.95"
                                },
                                {
                                    "customer_id": "823",
                                    "last_name": "Maurer",
                                    "first_name": "Brian",
                                    "join_date": "2001-03-14",
                                    "appreciation_code": "4",
                                    "total_order_qty": "1",
                                    "total_order_value": "6282.44"
                                },
                                {
                                    "customer_id": "822",
                                    "last_name": "Conley",
                                    "first_name": "Valerie",
                                    "join_date": "2011-04-29",
                                    "appreciation_code": "7",
                                    "total_order_qty": "1",
                                    "total_order_value": "3174.50"
                                }
                            ]
                        },
                        "text/html": "<table><tr><th>customer_id</th><th>last_name</th><th>first_name</th><th>join_date</th><th>appreciation_code</th><th>total_order_qty</th><th>total_order_value</th></tr><tr><td>1798</td><td>Shelton</td><td>Erin</td><td>2009-03-30</td><td>5</td><td>1</td><td>4831.83</td></tr><tr><td>1489</td><td>Delacruz</td><td>Brice</td><td>2016-04-22</td><td>7</td><td>1</td><td>3999.00</td></tr><tr><td>2335</td><td>Booker</td><td>Taylor</td><td>2004-10-16</td><td>1</td><td>1</td><td>4179.75</td></tr><tr><td>1269</td><td>Dawson</td><td>Miguel</td><td>2005-03-13</td><td>5</td><td>1</td><td>3950.96</td></tr><tr><td>652</td><td>Peters</td><td>Reginald</td><td>2009-06-29</td><td>3</td><td>1</td><td>4971.21</td></tr><tr><td>273</td><td>Harper</td><td>Farris</td><td>2002-05-03</td><td>2</td><td>1</td><td>4449.90</td></tr><tr><td>1560</td><td>Delacruz</td><td>Piper</td><td>2006-12-01</td><td>6</td><td>1</td><td>4432.75</td></tr><tr><td>51</td><td>Willis</td><td>Eric</td><td>2007-08-15</td><td>4</td><td>1</td><td>5498.69</td></tr><tr><td>2574</td><td>Conley</td><td>Erin</td><td>2019-03-09</td><td>5</td><td>1</td><td>5036.05</td></tr><tr><td>951</td><td>Robinson</td><td>Chris</td><td>2007-01-31</td><td>2</td><td>1</td><td>4350.00</td></tr><tr><td>1898</td><td>Garth</td><td>Summer</td><td>2009-06-19</td><td>3</td><td>1</td><td>3286.14</td></tr><tr><td>70</td><td>Sanchez</td><td>Harper</td><td>2017-06-07</td><td>3</td><td>1</td><td>6794.27</td></tr><tr><td>350</td><td>Deleon</td><td>Noel</td><td>2018-10-01</td><td>5</td><td>1</td><td>5451.15</td></tr><tr><td>758</td><td>Manchester</td><td>Brandt</td><td>2007-05-21</td><td>7</td><td>1</td><td>5317.50</td></tr><tr><td>2425</td><td>Saylor</td><td>Abigail</td><td>2012-11-29</td><td>1</td><td>1</td><td>5406.96</td></tr><tr><td>2080</td><td>Saylor</td><td>Mike</td><td>2012-06-20</td><td>2</td><td>1</td><td>7717.16</td></tr><tr><td>2520</td><td>French</td><td>Reginald</td><td>2003-06-28</td><td>7</td><td>1</td><td>3834.00</td></tr><tr><td>2128</td><td>Ellis</td><td>Zachary</td><td>2003-11-12</td><td>2</td><td>1</td><td>4599.93</td></tr><tr><td>2466</td><td>Hart</td><td>Jonathon</td><td>2006-08-15</td><td>2</td><td>1</td><td>3640.00</td></tr><tr><td>2196</td><td>Ramirez</td><td>Samuel</td><td>2005-05-26</td><td>7</td><td>1</td><td>4452.00</td></tr><tr><td>1750</td><td>Gorman</td><td>Tristan</td><td>2017-12-22</td><td>5</td><td>1</td><td>3189.54</td></tr><tr><td>1136</td><td>Booker</td><td>Mads</td><td>2016-10-27</td><td>5</td><td>1</td><td>4199.00</td></tr><tr><td>176</td><td>Tompsen</td><td>Corey</td><td>2003-03-08</td><td>4</td><td>1</td><td>5659.99</td></tr><tr><td>576</td><td>Sherman</td><td>Eric</td><td>2015-11-01</td><td>4</td><td>1</td><td>8085.80</td></tr><tr><td>1831</td><td>Calahan</td><td>Carl</td><td>2019-07-14</td><td>6</td><td>1</td><td>8095.26</td></tr><tr><td>1003</td><td>Jiminez</td><td>Farris</td><td>2001-04-02</td><td>4</td><td>1</td><td>4026.94</td></tr><tr><td>292</td><td>Peters</td><td>Abigail</td><td>2002-09-21</td><td>1</td><td>1</td><td>4450.94</td></tr><tr><td>1331</td><td>Jamieson</td><td>Robert</td><td>2003-01-13</td><td>7</td><td>1</td><td>6016.71</td></tr><tr><td>929</td><td>Presten</td><td>Eric</td><td>2016-08-17</td><td>3</td><td>1</td><td>3944.65</td></tr><tr><td>663</td><td>Riochardson</td><td>Margo</td><td>2017-06-20</td><td>5</td><td>1</td><td>4678.96</td></tr><tr><td>1552</td><td>Presley</td><td>Joshua</td><td>2005-07-18</td><td>4</td><td>1</td><td>5200.00</td></tr><tr><td>1589</td><td>Rowley</td><td>Summer</td><td>2017-12-25</td><td>7</td><td>1</td><td>4213.91</td></tr><tr><td>1493</td><td>Jordan</td><td>Kenadi</td><td>2008-01-07</td><td>5</td><td>1</td><td>4941.03</td></tr><tr><td>1811</td><td>Conley</td><td>Albert</td><td>2002-03-30</td><td>1</td><td>1</td><td>3337.44</td></tr><tr><td>2125</td><td>Harper</td><td>Erin</td><td>2007-08-02</td><td>6</td><td>1</td><td>4470.96</td></tr><tr><td>2038</td><td>Smith-Warren</td><td>Mads</td><td>2017-08-01</td><td>5</td><td>1</td><td>1951.75</td></tr><tr><td>2204</td><td>Moore</td><td>Brandt</td><td>2006-11-10</td><td>1</td><td>1</td><td>4450.94</td></tr><tr><td>1373</td><td>Smith</td><td>Timothy</td><td>2019-09-23</td><td>4</td><td>1</td><td>3274.65</td></tr><tr><td>764</td><td>Willis</td><td>George</td><td>2015-08-10</td><td>5</td><td>1</td><td>4250.00</td></tr><tr><td>556</td><td>Riochardson</td><td>Taylor</td><td>2013-03-25</td><td>7</td><td>1</td><td>8161.99</td></tr><tr><td>2469</td><td>Smith</td><td>Moritz</td><td>2004-11-06</td><td>2</td><td>1</td><td>4471.99</td></tr><tr><td>1268</td><td>Dickerson</td><td>Harper</td><td>2014-11-08</td><td>6</td><td>1</td><td>3999.00</td></tr><tr><td>638</td><td>Conley</td><td>Abigail</td><td>2012-06-14</td><td>2</td><td>1</td><td>4627.90</td></tr><tr><td>940</td><td>Jackson</td><td>George</td><td>2006-08-17</td><td>2</td><td>1</td><td>6646.65</td></tr><tr><td>173</td><td>Peters</td><td>Sarah</td><td>2005-07-20</td><td>3</td><td>1</td><td>4176.96</td></tr><tr><td>1963</td><td>Jones</td><td>Moritz</td><td>2008-07-11</td><td>3</td><td>1</td><td>4924.75</td></tr><tr><td>2276</td><td>Barrister</td><td>Reginald</td><td>2015-09-10</td><td>7</td><td>1</td><td>3689.85</td></tr><tr><td>42</td><td>MacBain</td><td>Eric</td><td>2017-07-06</td><td>5</td><td>1</td><td>4976.66</td></tr><tr><td>876</td><td>Aaronson</td><td>Harper</td><td>2019-10-30</td><td>7</td><td>1</td><td>3209.08</td></tr><tr><td>161</td><td>Brooks</td><td>Blain</td><td>2008-02-16</td><td>3</td><td>1</td><td>5300.00</td></tr><tr><td>113</td><td>Williamson</td><td>Nadine</td><td>2001-12-19</td><td>3</td><td>1</td><td>3744.00</td></tr><tr><td>1742</td><td>Delacruz</td><td>Kristoff</td><td>2007-08-04</td><td>5</td><td>1</td><td>4685.19</td></tr><tr><td>2420</td><td>Smith</td><td>Abigail</td><td>2017-08-13</td><td>2</td><td>1</td><td>4238.94</td></tr><tr><td>2172</td><td>Jordan</td><td>Abigail</td><td>2014-07-30</td><td>5</td><td>1</td><td>4662.94</td></tr><tr><td>1595</td><td>Smith</td><td>Harper</td><td>2007-01-29</td><td>6</td><td>1</td><td>4627.90</td></tr><tr><td>1372</td><td>Cooper</td><td>Cooper</td><td>2009-03-31</td><td>4</td><td>1</td><td>4496.47</td></tr><tr><td>632</td><td>Ellis</td><td>Tristan</td><td>2011-01-10</td><td>1</td><td>1</td><td>4706.93</td></tr><tr><td>658</td><td>Thomason</td><td>Harper</td><td>2015-08-14</td><td>5</td><td>1</td><td>5800.00</td></tr><tr><td>815</td><td>Saylor</td><td>Jack</td><td>2018-08-02</td><td>4</td><td>1</td><td>3009.00</td></tr><tr><td>1422</td><td>Bangeson</td><td>Albert</td><td>2011-08-24</td><td>1</td><td>1</td><td>5899.00</td></tr><tr><td>440</td><td>Seiler</td><td>Mike</td><td>2005-08-02</td><td>2</td><td>1</td><td>8480.00</td></tr><tr><td>2054</td><td>Reynolds</td><td>Tristan</td><td>2009-10-28</td><td>7</td><td>1</td><td>5552.75</td></tr><tr><td>1004</td><td>Jackson</td><td>Chris</td><td>2011-10-31</td><td>4</td><td>1</td><td>4218.95</td></tr><tr><td>2404</td><td>Reynolds</td><td>Summer</td><td>2019-10-20</td><td>3</td><td>1</td><td>4280.22</td></tr><tr><td>57</td><td>Rowley</td><td>Timothy</td><td>2007-08-19</td><td>4</td><td>1</td><td>4199.00</td></tr><tr><td>1313</td><td>Booker</td><td>Valerie</td><td>2003-12-23</td><td>1</td><td>1</td><td>5677.05</td></tr><tr><td>19</td><td>Barrister</td><td>Brandt</td><td>2010-07-04</td><td>3</td><td>1</td><td>3195.75</td></tr><tr><td>160</td><td>Dewey</td><td>Taylor</td><td>2016-11-27</td><td>1</td><td>1</td><td>1932.33</td></tr><tr><td>644</td><td>Banks</td><td>Manuel</td><td>2010-09-05</td><td>5</td><td>1</td><td>4238.94</td></tr><tr><td>824</td><td>Williamson</td><td>Reginald</td><td>2014-09-17</td><td>1</td><td>1</td><td>4708.00</td></tr><tr><td>1857</td><td>Ramirez</td><td>Robert</td><td>2014-06-09</td><td>6</td><td>1</td><td>4403.70</td></tr><tr><td>1262</td><td>Deleon</td><td>Jack</td><td>2014-11-07</td><td>6</td><td>1</td><td>6753.12</td></tr><tr><td>357</td><td>Jamieson</td><td>Taylor</td><td>2010-06-20</td><td>3</td><td>1</td><td>4007.95</td></tr><tr><td>2366</td><td>Smith-Warren</td><td>Miguel</td><td>2010-08-18</td><td>3</td><td>1</td><td>3390.94</td></tr><tr><td>1143</td><td>Delacruz</td><td>Taylor</td><td>2013-11-11</td><td>5</td><td>1</td><td>4260.13</td></tr><tr><td>1782</td><td>Dawson</td><td>Mindy</td><td>2008-04-23</td><td>7</td><td>1</td><td>4026.94</td></tr><tr><td>769</td><td>Rowley</td><td>Lee</td><td>2003-12-02</td><td>6</td><td>1</td><td>3820.95</td></tr><tr><td>266</td><td>Goode</td><td>Eric</td><td>2015-01-13</td><td>2</td><td>1</td><td>6057.06</td></tr><tr><td>2543</td><td>Ridgley</td><td>Adam</td><td>2016-08-30</td><td>1</td><td>1</td><td>4481.67</td></tr><tr><td>1550</td><td>French</td><td>Maggs</td><td>2010-04-12</td><td>6</td><td>1</td><td>4955.28</td></tr><tr><td>1287</td><td>Jiminez</td><td>Airn</td><td>2012-07-13</td><td>3</td><td>1</td><td>3894.43</td></tr><tr><td>366</td><td>Reynolds</td><td>Moritz</td><td>2005-10-21</td><td>1</td><td>1</td><td>6179.20</td></tr><tr><td>307</td><td>Williamson</td><td>Mike</td><td>2015-08-03</td><td>2</td><td>1</td><td>4470.96</td></tr><tr><td>2352</td><td>Bangeson</td><td>Maggs</td><td>2010-01-12</td><td>6</td><td>1</td><td>4239.99</td></tr><tr><td>1644</td><td>Jones</td><td>George</td><td>2005-01-27</td><td>3</td><td>1</td><td>4503.20</td></tr><tr><td>91</td><td>Delacruz</td><td>Adam</td><td>2006-04-15</td><td>6</td><td>1</td><td>6146.94</td></tr><tr><td>305</td><td>Johnasen</td><td>Margo</td><td>2017-07-18</td><td>7</td><td>1</td><td>3739.00</td></tr><tr><td>1606</td><td>Ellis</td><td>Leah</td><td>2010-06-25</td><td>3</td><td>1</td><td>5059.80</td></tr><tr><td>1312</td><td>Moore</td><td>Margo</td><td>2004-08-01</td><td>2</td><td>1</td><td>2044.56</td></tr><tr><td>743</td><td>Conley</td><td>Sarah</td><td>2013-09-06</td><td>7</td><td>1</td><td>4678.96</td></tr><tr><td>1484</td><td>Gonzales</td><td>Manuel</td><td>2003-09-29</td><td>2</td><td>1</td><td>3861.00</td></tr><tr><td>10</td><td>Roberts</td><td>Sarah</td><td>2019-06-14</td><td>5</td><td>1</td><td>5967.51</td></tr><tr><td>1940</td><td>Presley</td><td>Joshua</td><td>2015-06-19</td><td>1</td><td>1</td><td>4449.90</td></tr><tr><td>1984</td><td>Acosta</td><td>Corey</td><td>2001-07-05</td><td>6</td><td>1</td><td>4429.95</td></tr><tr><td>2168</td><td>Presley</td><td>Samuel</td><td>2012-03-20</td><td>5</td><td>1</td><td>4719.00</td></tr><tr><td>1602</td><td>Rice</td><td>Brice</td><td>2001-11-21</td><td>3</td><td>1</td><td>4797.81</td></tr><tr><td>2544</td><td>Applewood</td><td>Blain</td><td>2019-02-16</td><td>2</td><td>1</td><td>8031.09</td></tr><tr><td>1662</td><td>Garth</td><td>Jasmine</td><td>2003-11-05</td><td>5</td><td>1</td><td>4192.95</td></tr><tr><td>823</td><td>Maurer</td><td>Brian</td><td>2001-03-14</td><td>4</td><td>1</td><td>6282.44</td></tr><tr><td>822</td><td>Conley</td><td>Valerie</td><td>2011-04-29</td><td>7</td><td>1</td><td>3174.50</td></tr></table>"
                    },
                    "metadata": {}
                }
            ],
            "execution_count": 56
        },
        {
            "cell_type": "markdown",
            "source": [
                "**Run a query to return all records with a customer join date of December 12, 2020**"
            ],
            "metadata": {
                "azdata_cell_guid": "56225dea-4c30-4435-83bd-560846d73738"
            },
            "attachments": {}
        },
        {
            "cell_type": "code",
            "source": [
                "SELECT *\r\n",
                "FROM customers\r\n",
                "WHERE cus_join_date = '2020-12-12';\r\n",
                ""
            ],
            "metadata": {
                "azdata_cell_guid": "cfa5a332-6911-4cc9-a6db-25a5a2ad51d4",
                "language": "sql"
            },
            "outputs": [
                {
                    "output_type": "display_data",
                    "data": {
                        "text/html": "(1 row(s) affected)"
                    },
                    "metadata": {}
                },
                {
                    "output_type": "display_data",
                    "data": {
                        "text/html": "Total execution time: 00:00:00.004"
                    },
                    "metadata": {}
                },
                {
                    "output_type": "execute_result",
                    "execution_count": 60,
                    "data": {
                        "application/vnd.dataresource+json": {
                            "schema": {
                                "fields": [
                                    {
                                        "name": "cus_id"
                                    },
                                    {
                                        "name": "cus_num"
                                    },
                                    {
                                        "name": "cus_last_name"
                                    },
                                    {
                                        "name": "cus_first_name"
                                    },
                                    {
                                        "name": "cus_add_num"
                                    },
                                    {
                                        "name": "cus_address"
                                    },
                                    {
                                        "name": "cus_city"
                                    },
                                    {
                                        "name": "cus_state"
                                    },
                                    {
                                        "name": "cus_zip"
                                    },
                                    {
                                        "name": "cus_phone"
                                    },
                                    {
                                        "name": "cus_join_date"
                                    },
                                    {
                                        "name": "cus_app_cd"
                                    },
                                    {
                                        "name": "cus_app_num"
                                    },
                                    {
                                        "name": "tot_ord_qty"
                                    },
                                    {
                                        "name": "tot_ord_value"
                                    },
                                    {
                                        "name": "cus_app_lvl"
                                    }
                                ]
                            },
                            "data": [
                                {
                                    "cus_id": "2609",
                                    "cus_num": "NULL",
                                    "cus_last_name": "Bohme",
                                    "cus_first_name": "Bohuslav",
                                    "cus_add_num": "135",
                                    "cus_address": "Homewood Ln",
                                    "cus_city": "Merrimack",
                                    "cus_state": "19",
                                    "cus_zip": "3054",
                                    "cus_phone": "3147113467",
                                    "cus_join_date": "2020-12-12",
                                    "cus_app_cd": "19",
                                    "cus_app_num": "OPC86853764",
                                    "tot_ord_qty": "96",
                                    "tot_ord_value": "15178.38",
                                    "cus_app_lvl": "high"
                                }
                            ]
                        },
                        "text/html": "<table><tr><th>cus_id</th><th>cus_num</th><th>cus_last_name</th><th>cus_first_name</th><th>cus_add_num</th><th>cus_address</th><th>cus_city</th><th>cus_state</th><th>cus_zip</th><th>cus_phone</th><th>cus_join_date</th><th>cus_app_cd</th><th>cus_app_num</th><th>tot_ord_qty</th><th>tot_ord_value</th><th>cus_app_lvl</th></tr><tr><td>2609</td><td>NULL</td><td>Bohme</td><td>Bohuslav</td><td>135</td><td>Homewood Ln</td><td>Merrimack</td><td>19</td><td>3054</td><td>3147113467</td><td>2020-12-12</td><td>19</td><td>OPC86853764</td><td>96</td><td>15178.38</td><td>high</td></tr></table>"
                    },
                    "metadata": {}
                }
            ],
            "execution_count": 60
        },
        {
            "cell_type": "markdown",
            "source": [
                "**Q: What happened to the records of the individuals who joined on 2020-12-12? Were they masked? Why do youthink the SELECT and INSERT statements behaved differently? Provide your best explanation for what happened.**\n",
                "\n",
                "```\n",
                "A: No They were not masked. The reason\n",
                "the SELECT and INSERT INTO statements behaved differently could be due to\n",
                "differences in how dates are stored and formatted in the database, and how the\n",
                "CASE statement is processing them.\n",
                "\n",
                "```"
            ],
            "metadata": {
                "azdata_cell_guid": "155fd6ad-e021-4d78-9db5-313fc1fb5607"
            },
            "attachments": {}
        },
        {
            "cell_type": "markdown",
            "source": [
                "**Part 4: Tax laws update each year. While previous orders typically will keep the last tax rate for audit purposes, OPC utilizes the previous order structure to copy into the new order when placed. This happens in middleware so there is no additional tax on the database. Modify the tax rate column in the tax table to reflect the new tax rates for the 2022 tax year for each state.**\n",
                "\n",
                "**You may need to do some summary analysis on the table to identify the most appropriate action to take. Be sure to test all queries where you will be overwriting table data before executing. Show all queries.**\n",
                "\n",
                "**Use this resource for all of your tax rates:**\n",
                "\n",
                "[2022 Sales Tax Rates](https://taxfoundation.org/2022-sales-taxes/)"
            ],
            "metadata": {
                "azdata_cell_guid": "3e2c56bc-0c4f-4d1d-92b9-10bd817d98cc"
            },
            "attachments": {}
        },
        {
            "cell_type": "code",
            "source": [
                "SELECT *\r\n",
                "FROM ordertaxes\r\n",
                "WHERE ord_date >= '2022-01-01'\r\n",
                "LIMIT 100;\r\n",
                "\r\n",
                ""
            ],
            "metadata": {
                "azdata_cell_guid": "ffb24ef7-10aa-4d2c-b45f-f3d56ee22909",
                "language": "sql"
            },
            "outputs": [
                {
                    "output_type": "display_data",
                    "data": {
                        "text/html": "(0 row(s) affected)"
                    },
                    "metadata": {}
                },
                {
                    "output_type": "display_data",
                    "data": {
                        "text/html": "Total execution time: 00:00:00.003"
                    },
                    "metadata": {}
                },
                {
                    "output_type": "execute_result",
                    "execution_count": 64,
                    "data": {
                        "application/vnd.dataresource+json": {
                            "schema": {
                                "fields": [
                                    {
                                        "name": "ord_id"
                                    },
                                    {
                                        "name": "ord_date"
                                    },
                                    {
                                        "name": "tax_rate"
                                    }
                                ]
                            },
                            "data": []
                        },
                        "text/html": "<table><tr><th>ord_id</th><th>ord_date</th><th>tax_rate</th></tr></table>"
                    },
                    "metadata": {}
                }
            ],
            "execution_count": 64
        },
        {
            "cell_type": "code",
            "source": [
                "INSERT INTO ordertaxes (ord_id, ord_date, tax_rate)\r\n",
                "VALUES\r\n",
                "    (5920416, '2018-08-08', 6.35),\r\n",
                "    (4825298, '2017-03-28', 5.50),\r\n",
                "    (7009183, '2010-10-14', 4.75),\r\n",
                "    (5186311, '2001-05-12', 4.85),\r\n",
                "    (4274782, '2002-03-19', 6.00),\r\n",
                "    (2579402, '2012-11-10', 4.00),\r\n",
                "    (5974882, '2000-07-07', 7.25),\r\n",
                "    (6080581, '2003-05-22', 5.99),\r\n",
                "    (6507619, '2010-02-25', 7.00),\r\n",
                "    (6921547, '2012-02-26', 5.75),\r\n",
                "    (6707258, '2008-07-03', 7.25),\r\n",
                "    (5068100, '2005-01-06', 4.45),\r\n",
                "    (2523554, '2002-03-05', 6.35),\r\n",
                "    (2553970, '2003-12-17', 4.00),\r\n",
                "    (5892769, '2009-09-06', 6.00),\r\n",
                "    (3904450, '2006-11-15', 4.75),\r\n",
                "    (4160529, '2007-10-10', 4.45),\r\n",
                "    (5140837, '2009-09-06', 0.00),\r\n",
                "    (2715724, '2013-09-05', 8.52),\r\n",
                "    (2436329, '2002-03-25', 0.00),\r\n",
                "    (6808759, '2016-12-15', 5.75),\r\n",
                "    (4066723, '2014-07-18', 0.00);\r\n",
                "\r\n",
                "\r\n",
                "\r\n",
                ""
            ],
            "metadata": {
                "azdata_cell_guid": "f3e9e154-340f-4a62-8483-8dc98f8e39c5",
                "language": "sql"
            },
            "outputs": [
                {
                    "output_type": "display_data",
                    "data": {
                        "text/html": "INSERT 0 22"
                    },
                    "metadata": {}
                },
                {
                    "output_type": "display_data",
                    "data": {
                        "text/html": "Total execution time: 00:00:00.020"
                    },
                    "metadata": {}
                }
            ],
            "execution_count": 68
        },
        {
            "cell_type": "code",
            "source": [
                "SELECT * FROM ordertaxes LIMIT 100;\r\n",
                ""
            ],
            "metadata": {
                "azdata_cell_guid": "a622c172-70cb-4b0d-b255-e16f7ce117ac",
                "language": "sql"
            },
            "outputs": [
                {
                    "output_type": "display_data",
                    "data": {
                        "text/html": "(22 row(s) affected)"
                    },
                    "metadata": {}
                },
                {
                    "output_type": "display_data",
                    "data": {
                        "text/html": "Total execution time: 00:00:00.003"
                    },
                    "metadata": {}
                },
                {
                    "output_type": "execute_result",
                    "execution_count": 69,
                    "data": {
                        "application/vnd.dataresource+json": {
                            "schema": {
                                "fields": [
                                    {
                                        "name": "ord_id"
                                    },
                                    {
                                        "name": "ord_date"
                                    },
                                    {
                                        "name": "tax_rate"
                                    }
                                ]
                            },
                            "data": [
                                {
                                    "ord_id": "5920416",
                                    "ord_date": "2018-08-08",
                                    "tax_rate": "6.35"
                                },
                                {
                                    "ord_id": "4825298",
                                    "ord_date": "2017-03-28",
                                    "tax_rate": "5.50"
                                },
                                {
                                    "ord_id": "7009183",
                                    "ord_date": "2010-10-14",
                                    "tax_rate": "4.75"
                                },
                                {
                                    "ord_id": "5186311",
                                    "ord_date": "2001-05-12",
                                    "tax_rate": "4.85"
                                },
                                {
                                    "ord_id": "4274782",
                                    "ord_date": "2002-03-19",
                                    "tax_rate": "6.00"
                                },
                                {
                                    "ord_id": "2579402",
                                    "ord_date": "2012-11-10",
                                    "tax_rate": "4.00"
                                },
                                {
                                    "ord_id": "5974882",
                                    "ord_date": "2000-07-07",
                                    "tax_rate": "7.25"
                                },
                                {
                                    "ord_id": "6080581",
                                    "ord_date": "2003-05-22",
                                    "tax_rate": "5.99"
                                },
                                {
                                    "ord_id": "6507619",
                                    "ord_date": "2010-02-25",
                                    "tax_rate": "7.00"
                                },
                                {
                                    "ord_id": "6921547",
                                    "ord_date": "2012-02-26",
                                    "tax_rate": "5.75"
                                },
                                {
                                    "ord_id": "6707258",
                                    "ord_date": "2008-07-03",
                                    "tax_rate": "7.25"
                                },
                                {
                                    "ord_id": "5068100",
                                    "ord_date": "2005-01-06",
                                    "tax_rate": "4.45"
                                },
                                {
                                    "ord_id": "2523554",
                                    "ord_date": "2002-03-05",
                                    "tax_rate": "6.35"
                                },
                                {
                                    "ord_id": "2553970",
                                    "ord_date": "2003-12-17",
                                    "tax_rate": "4.00"
                                },
                                {
                                    "ord_id": "5892769",
                                    "ord_date": "2009-09-06",
                                    "tax_rate": "6.00"
                                },
                                {
                                    "ord_id": "3904450",
                                    "ord_date": "2006-11-15",
                                    "tax_rate": "4.75"
                                },
                                {
                                    "ord_id": "4160529",
                                    "ord_date": "2007-10-10",
                                    "tax_rate": "4.45"
                                },
                                {
                                    "ord_id": "5140837",
                                    "ord_date": "2009-09-06",
                                    "tax_rate": "0.00"
                                },
                                {
                                    "ord_id": "2715724",
                                    "ord_date": "2013-09-05",
                                    "tax_rate": "8.52"
                                },
                                {
                                    "ord_id": "2436329",
                                    "ord_date": "2002-03-25",
                                    "tax_rate": "0.00"
                                },
                                {
                                    "ord_id": "6808759",
                                    "ord_date": "2016-12-15",
                                    "tax_rate": "5.75"
                                },
                                {
                                    "ord_id": "4066723",
                                    "ord_date": "2014-07-18",
                                    "tax_rate": "0.00"
                                }
                            ]
                        },
                        "text/html": "<table><tr><th>ord_id</th><th>ord_date</th><th>tax_rate</th></tr><tr><td>5920416</td><td>2018-08-08</td><td>6.35</td></tr><tr><td>4825298</td><td>2017-03-28</td><td>5.50</td></tr><tr><td>7009183</td><td>2010-10-14</td><td>4.75</td></tr><tr><td>5186311</td><td>2001-05-12</td><td>4.85</td></tr><tr><td>4274782</td><td>2002-03-19</td><td>6.00</td></tr><tr><td>2579402</td><td>2012-11-10</td><td>4.00</td></tr><tr><td>5974882</td><td>2000-07-07</td><td>7.25</td></tr><tr><td>6080581</td><td>2003-05-22</td><td>5.99</td></tr><tr><td>6507619</td><td>2010-02-25</td><td>7.00</td></tr><tr><td>6921547</td><td>2012-02-26</td><td>5.75</td></tr><tr><td>6707258</td><td>2008-07-03</td><td>7.25</td></tr><tr><td>5068100</td><td>2005-01-06</td><td>4.45</td></tr><tr><td>2523554</td><td>2002-03-05</td><td>6.35</td></tr><tr><td>2553970</td><td>2003-12-17</td><td>4.00</td></tr><tr><td>5892769</td><td>2009-09-06</td><td>6.00</td></tr><tr><td>3904450</td><td>2006-11-15</td><td>4.75</td></tr><tr><td>4160529</td><td>2007-10-10</td><td>4.45</td></tr><tr><td>5140837</td><td>2009-09-06</td><td>0.00</td></tr><tr><td>2715724</td><td>2013-09-05</td><td>8.52</td></tr><tr><td>2436329</td><td>2002-03-25</td><td>0.00</td></tr><tr><td>6808759</td><td>2016-12-15</td><td>5.75</td></tr><tr><td>4066723</td><td>2014-07-18</td><td>0.00</td></tr></table>"
                    },
                    "metadata": {}
                }
            ],
            "execution_count": 69
        },
        {
            "cell_type": "markdown",
            "source": [
                "**Now that you have the taxes table updated, run a query to find all orders in the order table placed after January 1, 2019 from Ohio. Include a column that calculates the 2022 order total based on the current 2022 tax rate in the taxes table.**"
            ],
            "metadata": {
                "language": "sql",
                "azdata_cell_guid": "a1898a22-d1c9-415a-b650-604e6e78f133"
            },
            "attachments": {}
        },
        {
            "cell_type": "code",
            "source": [
                "SELECT \r\n",
                "    o.ord_id AS \"Order ID\",\r\n",
                "    o.ord_date AS \"Order Date\",\r\n",
                "    o.order_tot AS \"Original Order Total\",\r\n",
                "    t.tax_rate AS \"2022 Tax Rate\",\r\n",
                "    (o.order_tot * (1 + (t.tax_rate / 100))) AS \"2022 Order Total\"\r\n",
                "FROM \r\n",
                "    orders o\r\n",
                "JOIN \r\n",
                "    taxes t ON o.ord_tax_loc = t.tax_location\r\n",
                "WHERE \r\n",
                "    o.ord_date > '2019-01-01'\r\n",
                "    AND o.ord_tax_loc = 'OH';  -- Ohio filter\r\n",
                "\r\n",
                ""
            ],
            "metadata": {
                "language": "sql",
                "azdata_cell_guid": "ecc32e2a-148a-4058-afac-c509fae9611a"
            },
            "outputs": [
                {
                    "output_type": "display_data",
                    "data": {
                        "text/html": "(0 row(s) affected)"
                    },
                    "metadata": {}
                },
                {
                    "output_type": "display_data",
                    "data": {
                        "text/html": "Total execution time: 00:00:00.018"
                    },
                    "metadata": {}
                },
                {
                    "output_type": "execute_result",
                    "execution_count": 83,
                    "data": {
                        "application/vnd.dataresource+json": {
                            "schema": {
                                "fields": [
                                    {
                                        "name": "Order ID"
                                    },
                                    {
                                        "name": "Order Date"
                                    },
                                    {
                                        "name": "Original Order Total"
                                    },
                                    {
                                        "name": "2022 Tax Rate"
                                    },
                                    {
                                        "name": "2022 Order Total"
                                    }
                                ]
                            },
                            "data": []
                        },
                        "text/html": "<table><tr><th>Order ID</th><th>Order Date</th><th>Original Order Total</th><th>2022 Tax Rate</th><th>2022 Order Total</th></tr></table>"
                    },
                    "metadata": {}
                }
            ],
            "execution_count": 83
        },
        {
            "cell_type": "markdown",
            "source": [
                "**Part 5: Calculate the sum of phone numbers in the customer table for the state of California. Output only the sum of the phone numbes as phone\\_sum.**"
            ],
            "metadata": {
                "azdata_cell_guid": "086d909b-e0d4-42de-bd49-dc34498f1b54"
            },
            "attachments": {}
        },
        {
            "cell_type": "code",
            "source": [
                "SELECT \r\n",
                "    SUM(c.cus_phone::BIGINT) AS phone_sum\r\n",
                "FROM \r\n",
                "    customers c\r\n",
                "JOIN \r\n",
                "    states s ON c.cus_state = s.state_id\r\n",
                "WHERE \r\n",
                "    s.state = 'CA';\r\n",
                ""
            ],
            "metadata": {
                "azdata_cell_guid": "9b85476a-d457-4da3-ad08-3a189c773040",
                "language": "sql"
            },
            "outputs": [
                {
                    "output_type": "display_data",
                    "data": {
                        "text/html": "(1 row(s) affected)"
                    },
                    "metadata": {}
                },
                {
                    "output_type": "display_data",
                    "data": {
                        "text/html": "Total execution time: 00:00:00.019"
                    },
                    "metadata": {}
                },
                {
                    "output_type": "execute_result",
                    "execution_count": 85,
                    "data": {
                        "application/vnd.dataresource+json": {
                            "schema": {
                                "fields": [
                                    {
                                        "name": "phone_sum"
                                    }
                                ]
                            },
                            "data": [
                                {
                                    "phone_sum": "395577183626"
                                }
                            ]
                        },
                        "text/html": "<table><tr><th>phone_sum</th></tr><tr><td>395577183626</td></tr></table>"
                    },
                    "metadata": {}
                }
            ],
            "execution_count": 85
        },
        {
            "cell_type": "markdown",
            "source": [
                "**Q: What is the sum of all phone numbers in California?**\n",
                "\n",
                "```\n",
                "A: 395,577,183,626.\n",
                "```"
            ],
            "metadata": {
                "azdata_cell_guid": "6122712f-0ece-4967-9079-d07f9e633814"
            },
            "attachments": {}
        },
        {
            "cell_type": "markdown",
            "source": [
                "**Part 6: Calculate the sum of all zip codes for customers who have orders with a shipping tax location of West Virginia**"
            ],
            "metadata": {
                "azdata_cell_guid": "eecca218-ad0f-4dd9-abab-dce4569b5d1f"
            },
            "attachments": {}
        },
        {
            "cell_type": "code",
            "source": [
                "SELECT SUM(c.cus_zip) AS zip_code_sum\r\n",
                "FROM customers c\r\n",
                "JOIN orders o ON c.cus_id = o.cus_id\r\n",
                "JOIN taxes t ON CAST(o.ord_tax_loc AS VARCHAR) = t.tax_location\r\n",
                "WHERE t.tax_location = 'WV';\r\n",
                "\r\n",
                "\r\n",
                ""
            ],
            "metadata": {
                "azdata_cell_guid": "c20d77d9-6613-47ee-a4e5-a991f29b37d6",
                "language": "sql"
            },
            "outputs": [
                {
                    "output_type": "display_data",
                    "data": {
                        "text/html": "(1 row(s) affected)"
                    },
                    "metadata": {}
                },
                {
                    "output_type": "display_data",
                    "data": {
                        "text/html": "Total execution time: 00:00:00.013"
                    },
                    "metadata": {}
                },
                {
                    "output_type": "execute_result",
                    "execution_count": 89,
                    "data": {
                        "application/vnd.dataresource+json": {
                            "schema": {
                                "fields": [
                                    {
                                        "name": "zip_code_sum"
                                    }
                                ]
                            },
                            "data": [
                                {
                                    "zip_code_sum": "NULL"
                                }
                            ]
                        },
                        "text/html": "<table><tr><th>zip_code_sum</th></tr><tr><td>NULL</td></tr></table>"
                    },
                    "metadata": {}
                }
            ],
            "execution_count": 89
        },
        {
            "cell_type": "markdown",
            "source": [
                "**NQ: What is the sum of zip codes from all customers with orders from West Virginia?**\n",
                "\n",
                "```\n",
                "A: Null\n",
                "\n",
                "```"
            ],
            "metadata": {
                "azdata_cell_guid": "46262ccf-3636-476c-bca0-54708164924b"
            },
            "attachments": {}
        },
        {
            "cell_type": "markdown",
            "source": [
                "**Part 5: Write a query to select the distinct count of all orders from each state. Be sure to display ONLY the state digraph (two-letter code) and the count. Order by state.**"
            ],
            "metadata": {
                "azdata_cell_guid": "d01c9341-8c51-45c6-a95d-35a9e5ce13a5"
            },
            "attachments": {}
        },
        {
            "cell_type": "code",
            "source": [
                "SELECT \r\n",
                "    s.state AS state_digraph,\r\n",
                "    COUNT(DISTINCT o.ord_id) AS order_count\r\n",
                "FROM \r\n",
                "    orders o\r\n",
                "JOIN \r\n",
                "    states s ON CAST(o.ord_tax_loc AS VARCHAR) = CAST(s.state_id AS VARCHAR)\r\n",
                "GROUP BY \r\n",
                "    s.state\r\n",
                "ORDER BY \r\n",
                "    s.state;\r\n",
                "\r\n",
                "\r\n",
                ""
            ],
            "metadata": {
                "azdata_cell_guid": "543ce1c8-7347-4dd7-9d14-502340b009d7",
                "language": "sql"
            },
            "outputs": [
                {
                    "output_type": "display_data",
                    "data": {
                        "text/html": "(30 row(s) affected)"
                    },
                    "metadata": {}
                },
                {
                    "output_type": "display_data",
                    "data": {
                        "text/html": "Total execution time: 00:00:00.007"
                    },
                    "metadata": {}
                },
                {
                    "output_type": "execute_result",
                    "execution_count": 99,
                    "data": {
                        "application/vnd.dataresource+json": {
                            "schema": {
                                "fields": [
                                    {
                                        "name": "state_digraph"
                                    },
                                    {
                                        "name": "order_count"
                                    }
                                ]
                            },
                            "data": [
                                {
                                    "state_digraph": "AK",
                                    "order_count": "83"
                                },
                                {
                                    "state_digraph": "AL",
                                    "order_count": "73"
                                },
                                {
                                    "state_digraph": "AZ",
                                    "order_count": "87"
                                },
                                {
                                    "state_digraph": "CA",
                                    "order_count": "72"
                                },
                                {
                                    "state_digraph": "CO",
                                    "order_count": "81"
                                },
                                {
                                    "state_digraph": "CT",
                                    "order_count": "91"
                                },
                                {
                                    "state_digraph": "DE",
                                    "order_count": "93"
                                },
                                {
                                    "state_digraph": "FL",
                                    "order_count": "80"
                                },
                                {
                                    "state_digraph": "GA",
                                    "order_count": "87"
                                },
                                {
                                    "state_digraph": "HI",
                                    "order_count": "93"
                                },
                                {
                                    "state_digraph": "IA",
                                    "order_count": "76"
                                },
                                {
                                    "state_digraph": "IN",
                                    "order_count": "87"
                                },
                                {
                                    "state_digraph": "KS",
                                    "order_count": "87"
                                },
                                {
                                    "state_digraph": "KY",
                                    "order_count": "97"
                                },
                                {
                                    "state_digraph": "LA",
                                    "order_count": "89"
                                },
                                {
                                    "state_digraph": "ME",
                                    "order_count": "98"
                                },
                                {
                                    "state_digraph": "MN",
                                    "order_count": "87"
                                },
                                {
                                    "state_digraph": "NC",
                                    "order_count": "75"
                                },
                                {
                                    "state_digraph": "NE",
                                    "order_count": "85"
                                },
                                {
                                    "state_digraph": "OH",
                                    "order_count": "87"
                                },
                                {
                                    "state_digraph": "OR",
                                    "order_count": "90"
                                },
                                {
                                    "state_digraph": "PA",
                                    "order_count": "90"
                                },
                                {
                                    "state_digraph": "RI",
                                    "order_count": "90"
                                },
                                {
                                    "state_digraph": "SC",
                                    "order_count": "91"
                                },
                                {
                                    "state_digraph": "TN",
                                    "order_count": "71"
                                },
                                {
                                    "state_digraph": "UT",
                                    "order_count": "102"
                                },
                                {
                                    "state_digraph": "VA",
                                    "order_count": "87"
                                },
                                {
                                    "state_digraph": "WA",
                                    "order_count": "92"
                                },
                                {
                                    "state_digraph": "WV",
                                    "order_count": "95"
                                },
                                {
                                    "state_digraph": "WY",
                                    "order_count": "83"
                                }
                            ]
                        },
                        "text/html": "<table><tr><th>state_digraph</th><th>order_count</th></tr><tr><td>AK</td><td>83</td></tr><tr><td>AL</td><td>73</td></tr><tr><td>AZ</td><td>87</td></tr><tr><td>CA</td><td>72</td></tr><tr><td>CO</td><td>81</td></tr><tr><td>CT</td><td>91</td></tr><tr><td>DE</td><td>93</td></tr><tr><td>FL</td><td>80</td></tr><tr><td>GA</td><td>87</td></tr><tr><td>HI</td><td>93</td></tr><tr><td>IA</td><td>76</td></tr><tr><td>IN</td><td>87</td></tr><tr><td>KS</td><td>87</td></tr><tr><td>KY</td><td>97</td></tr><tr><td>LA</td><td>89</td></tr><tr><td>ME</td><td>98</td></tr><tr><td>MN</td><td>87</td></tr><tr><td>NC</td><td>75</td></tr><tr><td>NE</td><td>85</td></tr><tr><td>OH</td><td>87</td></tr><tr><td>OR</td><td>90</td></tr><tr><td>PA</td><td>90</td></tr><tr><td>RI</td><td>90</td></tr><tr><td>SC</td><td>91</td></tr><tr><td>TN</td><td>71</td></tr><tr><td>UT</td><td>102</td></tr><tr><td>VA</td><td>87</td></tr><tr><td>WA</td><td>92</td></tr><tr><td>WV</td><td>95</td></tr><tr><td>WY</td><td>83</td></tr></table>"
                    },
                    "metadata": {}
                }
            ],
            "execution_count": 99
        },
        {
            "cell_type": "markdown",
            "source": [
                "**Q: What would happen if you altered the location of the DISTINCT clause in your query between the SELECT and column locations? Explain what would happen and why you think this is an important aspect to know.**\n",
                "\n",
                "```\n",
                "A: The placement of DISTINCT is crucial in queries. Applying it to specific columns ensures unique values for that column, while placing it after SELECT affects entire rows. Correct placement prevents duplicate counts and ensures accurate data, especially when using grouping or counting in multi-column queries.\n",
                "\n",
                "```"
            ],
            "metadata": {
                "azdata_cell_guid": "bec75d0a-69fb-4cf1-9b5b-b0d03ab89dcc"
            },
            "attachments": {}
        },
        {
            "cell_type": "markdown",
            "source": [
                "**Part 7: Generate a series of numbers to be entered as the OPC customer appreciation number.**\n",
                "\n",
                "**The template for the number will be 'OPC' followed by a random number multipled by 10,000,000. Add 10 to the random number output and multiply that by 195185. Divide the total number by .25. The output should be OPC+an integer of 8 digits.**\n",
                "\n",
                "**Limit your generated series to 10 iterations for this attempt.**"
            ],
            "metadata": {
                "azdata_cell_guid": "cf3c9ce8-a92a-42a1-b7ad-feb2c2f074e8"
            },
            "attachments": {}
        },
        {
            "cell_type": "code",
            "source": [
                "WITH generated_series AS (\r\n",
                "    SELECT 'OPC' || CAST(((random() * 10000000) + 10) * 195185 / 0.25 AS BIGINT) AS appreciation_number\r\n",
                "    FROM generate_series(1, 10)\r\n",
                ")\r\n",
                "SELECT appreciation_number\r\n",
                "FROM generated_series;\r\n",
                "\r\n",
                ""
            ],
            "metadata": {
                "azdata_cell_guid": "9ef9d7b5-04e4-4493-8c23-8fda1f3f4e32",
                "language": "sql"
            },
            "outputs": [
                {
                    "output_type": "display_data",
                    "data": {
                        "text/html": "(10 row(s) affected)"
                    },
                    "metadata": {}
                },
                {
                    "output_type": "display_data",
                    "data": {
                        "text/html": "Total execution time: 00:00:00.011"
                    },
                    "metadata": {}
                },
                {
                    "output_type": "execute_result",
                    "execution_count": 100,
                    "data": {
                        "application/vnd.dataresource+json": {
                            "schema": {
                                "fields": [
                                    {
                                        "name": "appreciation_number"
                                    }
                                ]
                            },
                            "data": [
                                {
                                    "appreciation_number": "OPC2300432392639"
                                },
                                {
                                    "appreciation_number": "OPC6573194051593"
                                },
                                {
                                    "appreciation_number": "OPC7347923400690"
                                },
                                {
                                    "appreciation_number": "OPC5928587927063"
                                },
                                {
                                    "appreciation_number": "OPC941805716867"
                                },
                                {
                                    "appreciation_number": "OPC2269908676295"
                                },
                                {
                                    "appreciation_number": "OPC2725638590394"
                                },
                                {
                                    "appreciation_number": "OPC1170181399477"
                                },
                                {
                                    "appreciation_number": "OPC3873551347713"
                                },
                                {
                                    "appreciation_number": "OPC7685936391647"
                                }
                            ]
                        },
                        "text/html": "<table><tr><th>appreciation_number</th></tr><tr><td>OPC2300432392639</td></tr><tr><td>OPC6573194051593</td></tr><tr><td>OPC7347923400690</td></tr><tr><td>OPC5928587927063</td></tr><tr><td>OPC941805716867</td></tr><tr><td>OPC2269908676295</td></tr><tr><td>OPC2725638590394</td></tr><tr><td>OPC1170181399477</td></tr><tr><td>OPC3873551347713</td></tr><tr><td>OPC7685936391647</td></tr></table>"
                    },
                    "metadata": {}
                }
            ],
            "execution_count": 100
        },
        {
            "cell_type": "markdown",
            "source": [
                "**Create a new table in the public schema and insert the generated data in the table. The number of enteries should total the number of records in the customers table. This will be used as a holding table for future use.**"
            ],
            "metadata": {
                "azdata_cell_guid": "37be1c62-5c58-49ed-91f8-ac44f5129030"
            },
            "attachments": {}
        },
        {
            "cell_type": "code",
            "source": [
                "--  Drop the existing table if it already exists\r\n",
                "DROP TABLE IF EXISTS public.opc_appreciation_holding;\r\n",
                "\r\n",
                "--  Create the new table with VARCHAR(12)\r\n",
                "CREATE TABLE public.opc_appreciation_holding (\r\n",
                "    appreciation_number VARCHAR(12)\r\n",
                ");\r\n",
                "\r\n",
                "--  Insert generated appreciation numbers\r\n",
                "WITH generated_series AS (\r\n",
                "    -- Reduce the generated number to fit within the 12-character limit\r\n",
                "    SELECT 'OPC' || LPAD(CAST(FLOOR(((random() * 1000000) + 10) * 195 / 0.25) AS TEXT), 8, '0') AS appreciation_number\r\n",
                "    FROM generate_series(1, (SELECT COUNT(*) FROM customers))\r\n",
                ")\r\n",
                "INSERT INTO public.opc_appreciation_holding (appreciation_number)\r\n",
                "SELECT appreciation_number\r\n",
                "FROM generated_series;\r\n",
                "\r\n",
                "\r\n",
                "\r\n",
                "\r\n",
                ""
            ],
            "metadata": {
                "azdata_cell_guid": "58db3fc3-eaac-47ef-a732-6bc5bd1455d4",
                "language": "sql"
            },
            "outputs": [
                {
                    "output_type": "display_data",
                    "data": {
                        "text/html": "DROP TABLE"
                    },
                    "metadata": {}
                },
                {
                    "output_type": "display_data",
                    "data": {
                        "text/html": "CREATE TABLE"
                    },
                    "metadata": {}
                },
                {
                    "output_type": "display_data",
                    "data": {
                        "text/html": "INSERT 0 2619"
                    },
                    "metadata": {}
                },
                {
                    "output_type": "display_data",
                    "data": {
                        "text/html": "Total execution time: 00:00:00.031"
                    },
                    "metadata": {}
                }
            ],
            "execution_count": 108
        },
        {
            "cell_type": "code",
            "source": [
                "SELECT * FROM public.opc_appreciation_holding LIMIT 10;\r\n",
                ""
            ],
            "metadata": {
                "azdata_cell_guid": "f183ab80-8776-4d9e-ac5c-f4953b74387e",
                "language": "sql"
            },
            "outputs": [
                {
                    "output_type": "display_data",
                    "data": {
                        "text/html": "(10 row(s) affected)"
                    },
                    "metadata": {}
                },
                {
                    "output_type": "display_data",
                    "data": {
                        "text/html": "Total execution time: 00:00:00"
                    },
                    "metadata": {}
                },
                {
                    "output_type": "execute_result",
                    "execution_count": 109,
                    "data": {
                        "application/vnd.dataresource+json": {
                            "schema": {
                                "fields": [
                                    {
                                        "name": "appreciation_number"
                                    }
                                ]
                            },
                            "data": [
                                {
                                    "appreciation_number": "OPC29328532"
                                },
                                {
                                    "appreciation_number": "OPC34041014"
                                },
                                {
                                    "appreciation_number": "OPC49978989"
                                },
                                {
                                    "appreciation_number": "OPC34953558"
                                },
                                {
                                    "appreciation_number": "OPC67128919"
                                },
                                {
                                    "appreciation_number": "OPC76363004"
                                },
                                {
                                    "appreciation_number": "OPC51382594"
                                },
                                {
                                    "appreciation_number": "OPC28580884"
                                },
                                {
                                    "appreciation_number": "OPC11064166"
                                },
                                {
                                    "appreciation_number": "OPC65894383"
                                }
                            ]
                        },
                        "text/html": "<table><tr><th>appreciation_number</th></tr><tr><td>OPC29328532</td></tr><tr><td>OPC34041014</td></tr><tr><td>OPC49978989</td></tr><tr><td>OPC34953558</td></tr><tr><td>OPC67128919</td></tr><tr><td>OPC76363004</td></tr><tr><td>OPC51382594</td></tr><tr><td>OPC28580884</td></tr><tr><td>OPC11064166</td></tr><tr><td>OPC65894383</td></tr></table>"
                    },
                    "metadata": {}
                }
            ],
            "execution_count": 109
        },
        {
            "cell_type": "markdown",
            "source": [
                "**Insert the appropriate number of customer appreciation number based on the size of the customer table.**"
            ],
            "metadata": {
                "azdata_cell_guid": "2ba0ab4d-40a2-41f2-8aed-b4efc4cb10cc"
            },
            "attachments": {}
        },
        {
            "cell_type": "code",
            "source": [
                "INSERT INTO public.opc_appreciation_holding (appreciation_number)\r\n",
                "SELECT 'OPC' || CAST((FLOOR(RANDOM() * 100000000) + 1) AS VARCHAR)\r\n",
                "FROM generate_series(1, 2619);\r\n",
                "\r\n",
                ""
            ],
            "metadata": {
                "azdata_cell_guid": "a567a8dc-fef6-4aae-92ac-4da3ef9f3e87",
                "language": "sql"
            },
            "outputs": [
                {
                    "output_type": "display_data",
                    "data": {
                        "text/html": "INSERT 0 2619"
                    },
                    "metadata": {}
                },
                {
                    "output_type": "display_data",
                    "data": {
                        "text/html": "Total execution time: 00:00:00.016"
                    },
                    "metadata": {}
                }
            ],
            "execution_count": 111
        },
        {
            "cell_type": "markdown",
            "source": [
                "**Q: What is the 500th Customer Appreciation Number?**\n",
                "\n",
                "```\n",
                "A: OPC17639781\n",
                "\n",
                "```"
            ],
            "metadata": {
                "azdata_cell_guid": "e498730a-9148-431c-a4dd-2338d6ded0ff"
            },
            "attachments": {}
        },
        {
            "cell_type": "code",
            "source": [
                "SELECT appreciation_number \r\n",
                "FROM public.opc_appreciation_holding\r\n",
                "ORDER BY appreciation_number\r\n",
                "OFFSET 499 LIMIT 1;\r\n",
                ""
            ],
            "metadata": {
                "azdata_cell_guid": "102a3d3c-2526-4e17-b5dd-cba3d425588e",
                "language": "sql"
            },
            "outputs": [
                {
                    "output_type": "display_data",
                    "data": {
                        "text/html": "(1 row(s) affected)"
                    },
                    "metadata": {}
                },
                {
                    "output_type": "display_data",
                    "data": {
                        "text/html": "Total execution time: 00:00:00.008"
                    },
                    "metadata": {}
                },
                {
                    "output_type": "execute_result",
                    "execution_count": 112,
                    "data": {
                        "application/vnd.dataresource+json": {
                            "schema": {
                                "fields": [
                                    {
                                        "name": "appreciation_number"
                                    }
                                ]
                            },
                            "data": [
                                {
                                    "appreciation_number": "OPC17639781"
                                }
                            ]
                        },
                        "text/html": "<table><tr><th>appreciation_number</th></tr><tr><td>OPC17639781</td></tr></table>"
                    },
                    "metadata": {}
                }
            ],
            "execution_count": 112
        },
        {
            "cell_type": "markdown",
            "source": [
                "**Set the values in the cus\\_app\\_num column in the customers table in teh dsci\\_504 schema to NULL.**\n",
                "\n",
                "**Insert the customer appreciation numbers held in the cus\\_apprec\\_num table to the customer table in the DSCI504 schema. You may need to alter the table to accept the differnet data type.**"
            ],
            "metadata": {
                "azdata_cell_guid": "9cc2f85a-afe3-4952-96fe-3f6b8e48152f"
            },
            "attachments": {}
        },
        {
            "cell_type": "code",
            "source": [
                "UPDATE customers\r\n",
                "SET cus_app_num = NULL;\r\n",
                ""
            ],
            "metadata": {
                "azdata_cell_guid": "3997c791-e1be-45bd-9930-bb7b357421c9",
                "language": "sql"
            },
            "outputs": [
                {
                    "output_type": "display_data",
                    "data": {
                        "text/html": "UPDATE 2619"
                    },
                    "metadata": {}
                },
                {
                    "output_type": "display_data",
                    "data": {
                        "text/html": "Total execution time: 00:00:00.008"
                    },
                    "metadata": {}
                }
            ],
            "execution_count": 114
        },
        {
            "cell_type": "code",
            "source": [
                "--- Alter the customers table to accept the new data\r\n",
                "ALTER TABLE customers\r\n",
                "ALTER COLUMN cus_app_num TYPE VARCHAR(20); \r\n",
                ""
            ],
            "metadata": {
                "azdata_cell_guid": "f3d8daa2-bb84-4759-8252-a6f15de16172",
                "language": "sql"
            },
            "outputs": [
                {
                    "output_type": "display_data",
                    "data": {
                        "text/html": "ALTER TABLE"
                    },
                    "metadata": {}
                },
                {
                    "output_type": "display_data",
                    "data": {
                        "text/html": "Total execution time: 00:00:00.039"
                    },
                    "metadata": {}
                }
            ],
            "execution_count": 115
        },
        {
            "cell_type": "code",
            "source": [
                "--- Update the customers table with the customer appreciation numbers from the opc_appreciation_holding table.\r\n",
                "WITH appreciation_numbers AS (\r\n",
                "    SELECT appreciation_number, ROW_NUMBER() OVER () AS row_num\r\n",
                "    FROM public.opc_appreciation_holding\r\n",
                "),\r\n",
                "customers_data AS (\r\n",
                "    SELECT cus_id, ROW_NUMBER() OVER () AS row_num\r\n",
                "    FROM customers\r\n",
                ")\r\n",
                "UPDATE customers\r\n",
                "SET cus_app_num = appreciation_numbers.appreciation_number\r\n",
                "FROM appreciation_numbers\r\n",
                "JOIN customers_data\r\n",
                "ON appreciation_numbers.row_num = customers_data.row_num\r\n",
                "WHERE customers.cus_id = customers_data.cus_id;\r\n",
                ""
            ],
            "metadata": {
                "azdata_cell_guid": "b8ac656e-f280-4fac-8d8d-0610ef11f8db",
                "language": "sql"
            },
            "outputs": [
                {
                    "output_type": "display_data",
                    "data": {
                        "text/html": "UPDATE 2619"
                    },
                    "metadata": {}
                },
                {
                    "output_type": "display_data",
                    "data": {
                        "text/html": "Total execution time: 00:00:00.039"
                    },
                    "metadata": {}
                }
            ],
            "execution_count": 116
        },
        {
            "cell_type": "markdown",
            "source": [
                "**Q: What is the street of the customer with customer appreciation number OPC80448799. If your numbers did not generate this cutomer number, simply pick the address of customer 429.**\n",
                "\n",
                "```\n",
                "A: Madison\n",
                "\n",
                "```"
            ],
            "metadata": {
                "azdata_cell_guid": "d4684eb4-2a1f-4f90-b8c7-afbf13d7e713"
            },
            "attachments": {}
        },
        {
            "cell_type": "code",
            "source": [
                "SELECT cus_address\r\n",
                "FROM customers\r\n",
                "WHERE cus_id = 429;\r\n",
                "\r\n",
                ""
            ],
            "metadata": {
                "azdata_cell_guid": "72abc791-1ddc-4fa7-aaca-6743eeb88ad6",
                "language": "sql"
            },
            "outputs": [
                {
                    "output_type": "display_data",
                    "data": {
                        "text/html": "(1 row(s) affected)"
                    },
                    "metadata": {}
                },
                {
                    "output_type": "display_data",
                    "data": {
                        "text/html": "Total execution time: 00:00:00"
                    },
                    "metadata": {}
                },
                {
                    "output_type": "execute_result",
                    "execution_count": 118,
                    "data": {
                        "application/vnd.dataresource+json": {
                            "schema": {
                                "fields": [
                                    {
                                        "name": "cus_address"
                                    }
                                ]
                            },
                            "data": [
                                {
                                    "cus_address": "Madison"
                                }
                            ]
                        },
                        "text/html": "<table><tr><th>cus_address</th></tr><tr><td>Madison</td></tr></table>"
                    },
                    "metadata": {}
                }
            ],
            "execution_count": 118
        },
        {
            "cell_type": "markdown",
            "source": [
                "**Part 8: Provide an explanation of how you can use the skills in this assignment in your everyday life as a professional. Explain some use cases where this informatiuon may have been invaluable prior to you learning SQL.**\n",
                "\n",
                "```\n",
                "A: SQL enables professionals to efficiently analyze, manipulate, and automate large datasets, aiding in data-driven decision-making, reporting, and data integration. Before learning SQL, tasks like data extraction and merging were time-consuming and prone to errors, but now SQL streamlines these processes, improving accuracy and productivity in everyday work.\n",
                "\n",
                "```"
            ],
            "metadata": {
                "azdata_cell_guid": "11823125-ad9f-494d-85c3-bbc025f2eee3"
            },
            "attachments": {}
        }
    ]
}